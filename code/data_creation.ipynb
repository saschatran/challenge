{
 "cells": [
  {
   "cell_type": "markdown",
   "metadata": {},
   "source": [
    "# Data Preparation Notebook\n",
    "\n",
    "<div class=\"alert alert-block alert-warning\">\n",
    "The objective of this notebook is to create the dataset, used subsequenially in the analysis & data visualizaion\n",
    "</div>\n",
    "\n",
    "\n",
    "1. Data standardisation\n",
    "    1. text\n",
    "        - lowercase\n",
    "        - ltrim\n",
    "2. Data cleaning\n",
    "    1. encoding as missing values\n",
    "    2. outlier detection\n",
    "3. Feature creation\n",
    "    1. conversion rate\n",
    "    2. competition in the market\n",
    "    3. miscellaneous\n",
    "4. Data enhancement\n",
    "    1. stock prices\n",
    "    2. country value"
   ]
  },
  {
   "cell_type": "code",
   "execution_count": 2,
   "metadata": {},
   "outputs": [],
   "source": [
    "import pandas as pd\n",
    "import numpy as np\n",
    "import matplotlib.pyplot as plt\n",
    "from importlib import reload\n",
    "import os\n",
    "\n",
    "import process_gini as pg\n",
    "import plots"
   ]
  },
  {
   "cell_type": "code",
   "execution_count": 10,
   "metadata": {},
   "outputs": [],
   "source": [
    "path = \"../individualNotebooks/skylab_instagram_datathon_dataset.csv\"  # ASY local path\n",
    "# path = \"../data/skylab_instagram_datathon_dataset.csv\" # gen\n",
    "df = pd.read_csv(path, sep=\";\")\n",
    "# df = pd.read_csv(path.replace(\"/\", os.sep), sep=\";\") # for Windows"
   ]
  },
  {
   "cell_type": "markdown",
   "metadata": {},
   "source": [
    "# Process data"
   ]
  },
  {
   "cell_type": "markdown",
   "metadata": {},
   "source": [
    "## Data standardisation"
   ]
  },
  {
   "cell_type": "code",
   "execution_count": 11,
   "metadata": {},
   "outputs": [
    {
     "ename": "AttributeError",
     "evalue": "'DataFrame' object has no attribute 'map'",
     "output_type": "error",
     "traceback": [
      "\u001b[0;31m---------------------------------------------------------------------------\u001b[0m",
      "\u001b[0;31mAttributeError\u001b[0m                            Traceback (most recent call last)",
      "\u001b[0;32m/var/folders/xx/6tz780r13t57q640kxzkc46w0000gn/T/ipykernel_55948/3363869115.py\u001b[0m in \u001b[0;36m<module>\u001b[0;34m\u001b[0m\n\u001b[1;32m      2\u001b[0m \u001b[0;34m\u001b[0m\u001b[0m\n\u001b[1;32m      3\u001b[0m \u001b[0;31m# remove leading and trailing whitespaces and convert to lowercase\u001b[0m\u001b[0;34m\u001b[0m\u001b[0;34m\u001b[0m\u001b[0;34m\u001b[0m\u001b[0m\n\u001b[0;32m----> 4\u001b[0;31m \u001b[0mdf\u001b[0m \u001b[0;34m=\u001b[0m \u001b[0mdf\u001b[0m\u001b[0;34m.\u001b[0m\u001b[0mmap\u001b[0m\u001b[0;34m(\u001b[0m\u001b[0;32mlambda\u001b[0m \u001b[0mx\u001b[0m\u001b[0;34m:\u001b[0m \u001b[0mx\u001b[0m\u001b[0;34m.\u001b[0m\u001b[0mstrip\u001b[0m\u001b[0;34m(\u001b[0m\u001b[0;34m)\u001b[0m\u001b[0;34m.\u001b[0m\u001b[0mlower\u001b[0m\u001b[0;34m(\u001b[0m\u001b[0;34m)\u001b[0m \u001b[0;32mif\u001b[0m \u001b[0misinstance\u001b[0m\u001b[0;34m(\u001b[0m\u001b[0mx\u001b[0m\u001b[0;34m,\u001b[0m \u001b[0mstr\u001b[0m\u001b[0;34m)\u001b[0m \u001b[0;32melse\u001b[0m \u001b[0mx\u001b[0m\u001b[0;34m)\u001b[0m\u001b[0;34m\u001b[0m\u001b[0;34m\u001b[0m\u001b[0m\n\u001b[0m\u001b[1;32m      5\u001b[0m \u001b[0;34m\u001b[0m\u001b[0m\n\u001b[1;32m      6\u001b[0m \u001b[0;31m# replace all double whitespaces with single whitespaces\u001b[0m\u001b[0;34m\u001b[0m\u001b[0;34m\u001b[0m\u001b[0;34m\u001b[0m\u001b[0m\n",
      "\u001b[0;32m~/opt/anaconda3/lib/python3.8/site-packages/pandas/core/generic.py\u001b[0m in \u001b[0;36m__getattr__\u001b[0;34m(self, name)\u001b[0m\n\u001b[1;32m   5485\u001b[0m         ):\n\u001b[1;32m   5486\u001b[0m             \u001b[0;32mreturn\u001b[0m \u001b[0mself\u001b[0m\u001b[0;34m[\u001b[0m\u001b[0mname\u001b[0m\u001b[0;34m]\u001b[0m\u001b[0;34m\u001b[0m\u001b[0;34m\u001b[0m\u001b[0m\n\u001b[0;32m-> 5487\u001b[0;31m         \u001b[0;32mreturn\u001b[0m \u001b[0mobject\u001b[0m\u001b[0;34m.\u001b[0m\u001b[0m__getattribute__\u001b[0m\u001b[0;34m(\u001b[0m\u001b[0mself\u001b[0m\u001b[0;34m,\u001b[0m \u001b[0mname\u001b[0m\u001b[0;34m)\u001b[0m\u001b[0;34m\u001b[0m\u001b[0;34m\u001b[0m\u001b[0m\n\u001b[0m\u001b[1;32m   5488\u001b[0m \u001b[0;34m\u001b[0m\u001b[0m\n\u001b[1;32m   5489\u001b[0m     \u001b[0;32mdef\u001b[0m \u001b[0m__setattr__\u001b[0m\u001b[0;34m(\u001b[0m\u001b[0mself\u001b[0m\u001b[0;34m,\u001b[0m \u001b[0mname\u001b[0m\u001b[0;34m:\u001b[0m \u001b[0mstr\u001b[0m\u001b[0;34m,\u001b[0m \u001b[0mvalue\u001b[0m\u001b[0;34m)\u001b[0m \u001b[0;34m->\u001b[0m \u001b[0;32mNone\u001b[0m\u001b[0;34m:\u001b[0m\u001b[0;34m\u001b[0m\u001b[0;34m\u001b[0m\u001b[0m\n",
      "\u001b[0;31mAttributeError\u001b[0m: 'DataFrame' object has no attribute 'map'"
     ]
    }
   ],
   "source": [
    "# READJUST STRINGS\n",
    "\n",
    "# remove leading and trailing whitespaces and convert to lowercase\n",
    "df = df.map(lambda x: x.strip().lower() if isinstance(x, str) else x)\n",
    "\n",
    "# replace all double whitespaces with single whitespaces\n",
    "df = df.map(lambda x: x.replace(\"  \", \" \") if isinstance(x, str) else x)"
   ]
  },
  {
   "cell_type": "code",
   "execution_count": 12,
   "metadata": {},
   "outputs": [],
   "source": [
    "# Converting the 'period_end_of_week' column to datetime\n",
    "df['period_end_date'] = pd.to_datetime(df['period_end_date'])"
   ]
  },
  {
   "cell_type": "code",
   "execution_count": 13,
   "metadata": {},
   "outputs": [],
   "source": [
    "# REPLACE DOMICILE_COUNTRY_NAME\n",
    "\n",
    "# replace the china;hong kong with hong kong\n",
    "df['domicile_country_name'] = df['domicile_country_name'].replace('china;hong kong', 'hong kong')\n",
    "\n",
    "# remove the sign \";\" in column domicile_country_name\n",
    "df['domicile_country_name'] = df['domicile_country_name'].str.replace(';', '')\n",
    "\n",
    "# if empty, fill with nan\n",
    "df['domicile_country_name'] = df['domicile_country_name'].replace('', np.nan)"
   ]
  },
  {
   "cell_type": "code",
   "execution_count": 14,
   "metadata": {},
   "outputs": [],
   "source": [
    "# REPLACE PRIMARY_EXCHANGE_NAME\n",
    "\n",
    "# remove the sign \";\" in column domicile_country_name\n",
    "df['primary_exchange_name'] = df['primary_exchange_name'].str.replace(';', '')\n",
    "\n",
    "# if empty, fill with nan\n",
    "df['primary_exchange_name'] = df['primary_exchange_name'].replace('', np.nan)"
   ]
  },
  {
   "cell_type": "code",
   "execution_count": 15,
   "metadata": {},
   "outputs": [],
   "source": [
    "# REPLACE ULTIMATE_PARENT_LEGAL_ENTITY_NAME\n",
    "df['ultimate_parent_legal_entity_name'] = df['ultimate_parent_legal_entity_name'].replace('Anheuser-Busch;Anheuser-Busch', 'Anheuser-Busch')"
   ]
  },
  {
   "cell_type": "markdown",
   "metadata": {},
   "source": [
    "### Remove"
   ]
  },
  {
   "cell_type": "code",
   "execution_count": 9,
   "metadata": {},
   "outputs": [],
   "source": [
    "# Remove \"All_Brands\" and \"Don't Use it\"\n",
    "df = df[df[\"business_entity_doing_business_as_name\"] != \"all brands\"]\n",
    "# TODO: Remove \"Don't Use it\""
   ]
  },
  {
   "cell_type": "code",
   "execution_count": 10,
   "metadata": {},
   "outputs": [],
   "source": [
    "# remove unnecessary columns\n",
    "# Here: 'period', 'calculation_type'\n",
    "df = df.drop(columns=['period', 'calculation_type'])"
   ]
  },
  {
   "cell_type": "code",
   "execution_count": 11,
   "metadata": {},
   "outputs": [
    {
     "name": "stderr",
     "output_type": "stream",
     "text": [
      "/tmp/ipykernel_38560/591243391.py:6: FutureWarning: Setting an item of incompatible dtype is deprecated and will raise an error in a future version of pandas. Value 'Group_Null' has dtype incompatible with float64, please explicitly cast to a compatible dtype first.\n",
      "  df.fillna('Group_Null', inplace=True)\n",
      "/tmp/ipykernel_38560/591243391.py:9: FutureWarning: Downcasting behavior in `replace` is deprecated and will be removed in a future version. To retain the old behavior, explicitly call `result.infer_objects(copy=False)`. To opt-in to the future behavior, set `pd.set_option('future.no_silent_downcasting', True)`\n",
      "  df.replace('Group_Null', np.nan, inplace=True)\n"
     ]
    }
   ],
   "source": [
    "# certain entries have exact data except of \"compset\"\n",
    "# we want to take the union of all of them\n",
    "\n",
    "grouping_columns = [col for col in df.columns if col != 'compset']\n",
    "\n",
    "df.fillna('Group_Null', inplace=True)\n",
    "result = df.groupby(grouping_columns).agg({'compset': lambda x: set(x)}).reset_index()\n",
    "df = result\n",
    "df.replace('Group_Null', np.nan, inplace=True)\n",
    "\n",
    "\n",
    "# df.describe(include='all')\n",
    "\n",
    "# to test\n",
    "#result[(result[\"business_entity_doing_business_as_name\"] == \"24S\") & (result[\"period_end_date\"] == \"2017-05-13\")]\n",
    "#result[(result[\"business_entity_doing_business_as_name\"] == \"dd's Discounts\") & (result[\"period_end_date\"] == \"2023-09-09\")]\n",
    "#result[(result[\"business_entity_doing_business_as_name\"] == \"dd's Discounts\") & (result[\"period_end_date\"] == \"2023-09-16\")]"
   ]
  },
  {
   "cell_type": "code",
   "execution_count": 12,
   "metadata": {},
   "outputs": [
    {
     "data": {
      "text/plain": [
       "(298040, 13)"
      ]
     },
     "execution_count": 12,
     "metadata": {},
     "output_type": "execute_result"
    }
   ],
   "source": [
    "result.shape"
   ]
  },
  {
   "cell_type": "markdown",
   "metadata": {},
   "source": [
    "## Add features"
   ]
  },
  {
   "cell_type": "code",
   "execution_count": 13,
   "metadata": {},
   "outputs": [],
   "source": [
    "# split the date into year, month, day\n",
    "df['Year'] = df['period_end_date'].dt.year\n",
    "df['Month'] = df['period_end_date'].dt.month\n",
    "df['Day'] = df['period_end_date'].dt.day\n",
    "df['Weekday'] = df['date'].dt.dayofweek"
   ]
  },
  {
   "cell_type": "code",
   "execution_count": 14,
   "metadata": {},
   "outputs": [],
   "source": [
    "# get the difference between the current date and the previous date\n",
    "df = df.sort_values(by=['business_entity_doing_business_as_name', 'period_end_date'])\n",
    "df['date_diff_prev'] = df['period_end_date'].diff().dt.days\n",
    "df['date_diff_prev'] = df['date_diff_prev'].fillna(7)"
   ]
  },
  {
   "cell_type": "code",
   "execution_count": 15,
   "metadata": {},
   "outputs": [],
   "source": [
    "# total involvement\n",
    "df[\"total_involvement\"] = df[\"comments\"] + df[\"likes\"]\n",
    "df[\"total_company_activity\"] = df[\"pictures\"] + df[\"videos\"]\n",
    "\n",
    "df[\"conversion_rate_total\"] = df[\"total_involvement\"] / df[\"followers\"]\n",
    "\n",
    "# COntent type\n",
    "df[\"ratio_of_videos\"] = df[\"videos\"] / (df[\"pictures\"] + df[\"videos\"])\n",
    "df[\"ratio_of_pictures\"] = df[\"pictures\"] / (df[\"pictures\"] + df[\"videos\"])\n",
    "\n",
    "# ASSUMTION: we only like videos / photos from this week\n",
    "df[\"likes_per_picture\"] = df[\"likes\"] / df[\"pictures\"]\n",
    "df[\"likes_per_video\"] =   df[\"likes\"] / df[\"videos\"]\n",
    "df[\"comments_per_picture\"] =  df[\"comments\"] / df[\"pictures\"] \n",
    "df[\"comments_per_video\"] =   df[\"comments\"] / df[\"videos\"]\n",
    "\n",
    "# take care of zeros\n",
    "df.loc[df[\"pictures\"] + df[\"videos\"] == 0, \"ratio_of_videos\"] = np.nan\n",
    "df.loc[df[\"pictures\"] + df[\"videos\"] == 0, \"ratio_of_pictures\"] = np.nan\n",
    "\n",
    "df.loc[df[\"pictures\"] == 0, \"likes_per_picture\"] = np.nan\n",
    "df.loc[df[\"videos\"] == 0, \"likes_per_video\"] = np.nan\n",
    "df.loc[df[\"pictures\"] == 0, \"comments_per_picture\"] = np.nan\n",
    "df.loc[df[\"videos\"] == 0, \"comments_per_video\"] = np.nan"
   ]
  },
  {
   "cell_type": "code",
   "execution_count": 16,
   "metadata": {},
   "outputs": [],
   "source": [
    "# ADD GINI\n",
    "reload(pg)\n",
    "\n",
    "df_gini = pg.process_gini(df)\n",
    "df = pd.merge(df, df_gini, left_on=['domicile_country_name', 'Year'], right_on=['Country Name', 'Year'], how=\"left\")"
   ]
  },
  {
   "cell_type": "code",
   "execution_count": 17,
   "metadata": {},
   "outputs": [
    {
     "data": {
      "text/plain": [
       "Index(['period_end_date', 'compset_group',\n",
       "       'business_entity_doing_business_as_name', 'legal_entity_name',\n",
       "       'domicile_country_name', 'ultimate_parent_legal_entity_name',\n",
       "       'primary_exchange_name', 'followers', 'pictures', 'videos', 'comments',\n",
       "       'likes', 'compset', 'Year', 'Month', 'Day', 'date_diff_prev',\n",
       "       'total_involvement', 'total_company_activity', 'conversion_rate_total',\n",
       "       'ratio_of_videos', 'ratio_of_pictures', 'likes_per_picture',\n",
       "       'likes_per_video', 'comments_per_picture', 'comments_per_video',\n",
       "       'Country Name', 'Gene Index'],\n",
       "      dtype='object')"
      ]
     },
     "execution_count": 17,
     "metadata": {},
     "output_type": "execute_result"
    }
   ],
   "source": [
    "df.columns"
   ]
  }
 ],
 "metadata": {
  "kernelspec": {
   "display_name": "Python 3 (ipykernel)",
   "language": "python",
   "name": "python3"
  },
  "language_info": {
   "codemirror_mode": {
    "name": "ipython",
    "version": 3
   },
   "file_extension": ".py",
   "mimetype": "text/x-python",
   "name": "python",
   "nbconvert_exporter": "python",
   "pygments_lexer": "ipython3",
   "version": "3.8.12"
  }
 },
 "nbformat": 4,
 "nbformat_minor": 4
}
