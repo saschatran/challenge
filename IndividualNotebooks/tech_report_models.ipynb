{
 "cells": [
  {
   "cell_type": "markdown",
   "metadata": {},
   "source": [
    "## Modelling"
   ]
  },
  {
   "cell_type": "markdown",
   "metadata": {},
   "source": [
    "Here a quick overview what models we used:\n",
    "- IsolationForest\n",
    "- SVM\n",
    "- LOV\n",
    "- DBSCan\n",
    "- XGBoost\n",
    "\n",
    "The main question we want to solve using these models is:\n",
    "<div class=\"alert alert-block alert-success\">\n",
    "Can we find any anomalies based on data we were given?\n",
    "</div>"
   ]
  },
  {
   "cell_type": "markdown",
   "metadata": {},
   "source": [
    "### IsolationForest"
   ]
  },
  {
   "cell_type": "markdown",
   "metadata": {},
   "source": []
  }
 ],
 "metadata": {
  "language_info": {
   "name": "python"
  }
 },
 "nbformat": 4,
 "nbformat_minor": 2
}
