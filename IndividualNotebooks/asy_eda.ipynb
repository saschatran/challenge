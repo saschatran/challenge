{
 "cells": [
  {
   "cell_type": "markdown",
   "id": "3cf6b7a9-6b2b-4565-8fce-ace7906c8259",
   "metadata": {},
   "source": [
    "# UBS: Exploratory Data Analysis\n",
    "\n",
    "The <span style='color: #e74c3c; font-family: monospace; background-color: #F7F2F4;'>numpy.array</span> type provides a handy method, <span style='color: #e74c3c; font-family: monospace; background-color: #F7F2F4;'>item</span>,\n",
    "\n",
    "1. Number of competitors\n",
    "2. Number of competitors in the domicile\n",
    "3. Ranking withing the owner\n",
    "4. Conversion rate Followers to likes\n",
    "5. Dynamics: number of uploads"
   ]
  },
  {
   "cell_type": "code",
   "execution_count": 154,
   "id": "33883ef8-9741-491e-963f-94269ae2a6ef",
   "metadata": {},
   "outputs": [],
   "source": [
    "import pandas as pd\n",
    "import numpy as np\n",
    "import matplotlib.pylab as plt\n",
    "import seaborn as sns\n",
    "plt.style.use('ggplot')\n",
    "pd.set_option('max_columns', 200)"
   ]
  },
  {
   "cell_type": "code",
   "execution_count": 155,
   "id": "28d7af43-f9c8-4d3e-82a5-f7beba90ec03",
   "metadata": {},
   "outputs": [],
   "source": [
    "df = pd.read_csv('./skylab_instagram_datathon_dataset.csv', sep=';')"
   ]
  },
  {
   "cell_type": "markdown",
   "id": "ce398835-c16e-4ae9-9173-6871d79146b8",
   "metadata": {},
   "source": [
    "## Basic Info"
   ]
  },
  {
   "cell_type": "code",
   "execution_count": 10,
   "id": "4566b455-e5a6-4ea8-8a80-3010b499cd83",
   "metadata": {},
   "outputs": [
    {
     "data": {
      "text/plain": [
       "(704313, 15)"
      ]
     },
     "execution_count": 10,
     "metadata": {},
     "output_type": "execute_result"
    }
   ],
   "source": [
    "df.shape"
   ]
  },
  {
   "cell_type": "code",
   "execution_count": 11,
   "id": "c2a1e669-a380-4405-9cb2-2bfeabc5fd2b",
   "metadata": {},
   "outputs": [
    {
     "data": {
      "text/html": [
       "<div>\n",
       "<style scoped>\n",
       "    .dataframe tbody tr th:only-of-type {\n",
       "        vertical-align: middle;\n",
       "    }\n",
       "\n",
       "    .dataframe tbody tr th {\n",
       "        vertical-align: top;\n",
       "    }\n",
       "\n",
       "    .dataframe thead th {\n",
       "        text-align: right;\n",
       "    }\n",
       "</style>\n",
       "<table border=\"1\" class=\"dataframe\">\n",
       "  <thead>\n",
       "    <tr style=\"text-align: right;\">\n",
       "      <th></th>\n",
       "      <th>period</th>\n",
       "      <th>period_end_date</th>\n",
       "      <th>compset_group</th>\n",
       "      <th>compset</th>\n",
       "      <th>business_entity_doing_business_as_name</th>\n",
       "      <th>legal_entity_name</th>\n",
       "      <th>domicile_country_name</th>\n",
       "      <th>ultimate_parent_legal_entity_name</th>\n",
       "      <th>primary_exchange_name</th>\n",
       "      <th>calculation_type</th>\n",
       "      <th>followers</th>\n",
       "      <th>pictures</th>\n",
       "      <th>videos</th>\n",
       "      <th>comments</th>\n",
       "      <th>likes</th>\n",
       "    </tr>\n",
       "  </thead>\n",
       "  <tbody>\n",
       "    <tr>\n",
       "      <th>0</th>\n",
       "      <td>Weekly</td>\n",
       "      <td>2019-12-07</td>\n",
       "      <td>Luxury &amp; Premium &amp; Mainstream</td>\n",
       "      <td>Soft Luxury</td>\n",
       "      <td>Versace</td>\n",
       "      <td>Capri Holdings</td>\n",
       "      <td>United States of America</td>\n",
       "      <td>Capri Holdings</td>\n",
       "      <td>New York Stock Exchange</td>\n",
       "      <td>Metric Value</td>\n",
       "      <td>22066189.0</td>\n",
       "      <td>97.0</td>\n",
       "      <td>13.0</td>\n",
       "      <td>16239.0</td>\n",
       "      <td>6112205.0</td>\n",
       "    </tr>\n",
       "    <tr>\n",
       "      <th>1</th>\n",
       "      <td>Weekly</td>\n",
       "      <td>2021-01-30</td>\n",
       "      <td>Luxury &amp; Premium &amp; Mainstream</td>\n",
       "      <td>Luxury &amp; Premium &amp; Mainstream</td>\n",
       "      <td>Versace</td>\n",
       "      <td>Capri Holdings</td>\n",
       "      <td>United States of America</td>\n",
       "      <td>Capri Holdings</td>\n",
       "      <td>New York Stock Exchange</td>\n",
       "      <td>Metric Value</td>\n",
       "      <td>24289963.0</td>\n",
       "      <td>54.0</td>\n",
       "      <td>2.0</td>\n",
       "      <td>13358.0</td>\n",
       "      <td>3189144.0</td>\n",
       "    </tr>\n",
       "    <tr>\n",
       "      <th>2</th>\n",
       "      <td>Weekly</td>\n",
       "      <td>2016-05-14</td>\n",
       "      <td>Luxury &amp; Premium &amp; Mainstream</td>\n",
       "      <td>Soft Luxury</td>\n",
       "      <td>Versace</td>\n",
       "      <td>Capri Holdings</td>\n",
       "      <td>United States of America</td>\n",
       "      <td>Capri Holdings</td>\n",
       "      <td>New York Stock Exchange</td>\n",
       "      <td>Metric Value</td>\n",
       "      <td>7137442.0</td>\n",
       "      <td>42.0</td>\n",
       "      <td>8.0</td>\n",
       "      <td>15894.0</td>\n",
       "      <td>2152955.0</td>\n",
       "    </tr>\n",
       "    <tr>\n",
       "      <th>3</th>\n",
       "      <td>Weekly</td>\n",
       "      <td>2019-04-20</td>\n",
       "      <td>Luxury &amp; Premium &amp; Mainstream</td>\n",
       "      <td>Luxury &amp; Premium &amp; Mainstream</td>\n",
       "      <td>Versace</td>\n",
       "      <td>Capri Holdings</td>\n",
       "      <td>United States of America</td>\n",
       "      <td>Capri Holdings</td>\n",
       "      <td>New York Stock Exchange</td>\n",
       "      <td>Metric Value</td>\n",
       "      <td>18901125.0</td>\n",
       "      <td>73.0</td>\n",
       "      <td>9.0</td>\n",
       "      <td>26762.0</td>\n",
       "      <td>5224916.0</td>\n",
       "    </tr>\n",
       "    <tr>\n",
       "      <th>4</th>\n",
       "      <td>Weekly</td>\n",
       "      <td>2023-03-25</td>\n",
       "      <td>Luxury &amp; Premium &amp; Mainstream</td>\n",
       "      <td>US Softlines Analyst Interest List</td>\n",
       "      <td>Versace</td>\n",
       "      <td>Capri Holdings</td>\n",
       "      <td>United States of America</td>\n",
       "      <td>Capri Holdings</td>\n",
       "      <td>New York Stock Exchange</td>\n",
       "      <td>Metric Value</td>\n",
       "      <td>30251374.0</td>\n",
       "      <td>54.0</td>\n",
       "      <td>10.0</td>\n",
       "      <td>25681.0</td>\n",
       "      <td>5760987.0</td>\n",
       "    </tr>\n",
       "  </tbody>\n",
       "</table>\n",
       "</div>"
      ],
      "text/plain": [
       "   period period_end_date                  compset_group  \\\n",
       "0  Weekly      2019-12-07  Luxury & Premium & Mainstream   \n",
       "1  Weekly      2021-01-30  Luxury & Premium & Mainstream   \n",
       "2  Weekly      2016-05-14  Luxury & Premium & Mainstream   \n",
       "3  Weekly      2019-04-20  Luxury & Premium & Mainstream   \n",
       "4  Weekly      2023-03-25  Luxury & Premium & Mainstream   \n",
       "\n",
       "                              compset business_entity_doing_business_as_name  \\\n",
       "0                         Soft Luxury                                Versace   \n",
       "1       Luxury & Premium & Mainstream                                Versace   \n",
       "2                         Soft Luxury                                Versace   \n",
       "3       Luxury & Premium & Mainstream                                Versace   \n",
       "4  US Softlines Analyst Interest List                                Versace   \n",
       "\n",
       "  legal_entity_name     domicile_country_name  \\\n",
       "0    Capri Holdings  United States of America   \n",
       "1    Capri Holdings  United States of America   \n",
       "2    Capri Holdings  United States of America   \n",
       "3    Capri Holdings  United States of America   \n",
       "4    Capri Holdings  United States of America   \n",
       "\n",
       "  ultimate_parent_legal_entity_name    primary_exchange_name calculation_type  \\\n",
       "0                    Capri Holdings  New York Stock Exchange     Metric Value   \n",
       "1                    Capri Holdings  New York Stock Exchange     Metric Value   \n",
       "2                    Capri Holdings  New York Stock Exchange     Metric Value   \n",
       "3                    Capri Holdings  New York Stock Exchange     Metric Value   \n",
       "4                    Capri Holdings  New York Stock Exchange     Metric Value   \n",
       "\n",
       "    followers  pictures  videos  comments      likes  \n",
       "0  22066189.0      97.0    13.0   16239.0  6112205.0  \n",
       "1  24289963.0      54.0     2.0   13358.0  3189144.0  \n",
       "2   7137442.0      42.0     8.0   15894.0  2152955.0  \n",
       "3  18901125.0      73.0     9.0   26762.0  5224916.0  \n",
       "4  30251374.0      54.0    10.0   25681.0  5760987.0  "
      ]
     },
     "execution_count": 11,
     "metadata": {},
     "output_type": "execute_result"
    }
   ],
   "source": [
    "df.head()"
   ]
  },
  {
   "cell_type": "code",
   "execution_count": 12,
   "id": "0108c8de-e3fb-4617-b31c-11e240bfd7eb",
   "metadata": {},
   "outputs": [
    {
     "data": {
      "text/plain": [
       "Index(['period', 'period_end_date', 'compset_group', 'compset',\n",
       "       'business_entity_doing_business_as_name', 'legal_entity_name',\n",
       "       'domicile_country_name', 'ultimate_parent_legal_entity_name',\n",
       "       'primary_exchange_name', 'calculation_type', 'followers', 'pictures',\n",
       "       'videos', 'comments', 'likes'],\n",
       "      dtype='object')"
      ]
     },
     "execution_count": 12,
     "metadata": {},
     "output_type": "execute_result"
    }
   ],
   "source": [
    "df.columns"
   ]
  },
  {
   "cell_type": "code",
   "execution_count": 13,
   "id": "e8739f28-b39f-4591-814c-db7f21384c29",
   "metadata": {},
   "outputs": [
    {
     "data": {
      "text/plain": [
       "period                                     object\n",
       "period_end_date                            object\n",
       "compset_group                              object\n",
       "compset                                    object\n",
       "business_entity_doing_business_as_name     object\n",
       "legal_entity_name                          object\n",
       "domicile_country_name                      object\n",
       "ultimate_parent_legal_entity_name          object\n",
       "primary_exchange_name                      object\n",
       "calculation_type                           object\n",
       "followers                                 float64\n",
       "pictures                                  float64\n",
       "videos                                    float64\n",
       "comments                                  float64\n",
       "likes                                     float64\n",
       "dtype: object"
      ]
     },
     "execution_count": 13,
     "metadata": {},
     "output_type": "execute_result"
    }
   ],
   "source": [
    "df.dtypes"
   ]
  },
  {
   "cell_type": "code",
   "execution_count": 14,
   "id": "1e1270da-2afd-43d3-a0e6-1d64f0f09451",
   "metadata": {},
   "outputs": [
    {
     "data": {
      "text/html": [
       "<div>\n",
       "<style scoped>\n",
       "    .dataframe tbody tr th:only-of-type {\n",
       "        vertical-align: middle;\n",
       "    }\n",
       "\n",
       "    .dataframe tbody tr th {\n",
       "        vertical-align: top;\n",
       "    }\n",
       "\n",
       "    .dataframe thead th {\n",
       "        text-align: right;\n",
       "    }\n",
       "</style>\n",
       "<table border=\"1\" class=\"dataframe\">\n",
       "  <thead>\n",
       "    <tr style=\"text-align: right;\">\n",
       "      <th></th>\n",
       "      <th>followers</th>\n",
       "      <th>pictures</th>\n",
       "      <th>videos</th>\n",
       "      <th>comments</th>\n",
       "      <th>likes</th>\n",
       "    </tr>\n",
       "  </thead>\n",
       "  <tbody>\n",
       "    <tr>\n",
       "      <th>count</th>\n",
       "      <td>5.792580e+05</td>\n",
       "      <td>695803.000000</td>\n",
       "      <td>684349.000000</td>\n",
       "      <td>6.953430e+05</td>\n",
       "      <td>6.959770e+05</td>\n",
       "    </tr>\n",
       "    <tr>\n",
       "      <th>mean</th>\n",
       "      <td>1.342432e+07</td>\n",
       "      <td>344.272540</td>\n",
       "      <td>61.244426</td>\n",
       "      <td>3.043246e+04</td>\n",
       "      <td>2.163189e+06</td>\n",
       "    </tr>\n",
       "    <tr>\n",
       "      <th>std</th>\n",
       "      <td>1.106975e+08</td>\n",
       "      <td>2777.396873</td>\n",
       "      <td>564.468480</td>\n",
       "      <td>2.766459e+05</td>\n",
       "      <td>1.803193e+07</td>\n",
       "    </tr>\n",
       "    <tr>\n",
       "      <th>min</th>\n",
       "      <td>0.000000e+00</td>\n",
       "      <td>0.000000</td>\n",
       "      <td>0.000000</td>\n",
       "      <td>0.000000e+00</td>\n",
       "      <td>0.000000e+00</td>\n",
       "    </tr>\n",
       "    <tr>\n",
       "      <th>25%</th>\n",
       "      <td>3.013372e+05</td>\n",
       "      <td>19.000000</td>\n",
       "      <td>2.000000</td>\n",
       "      <td>3.710000e+02</td>\n",
       "      <td>1.727700e+04</td>\n",
       "    </tr>\n",
       "    <tr>\n",
       "      <th>50%</th>\n",
       "      <td>1.104144e+06</td>\n",
       "      <td>44.000000</td>\n",
       "      <td>7.000000</td>\n",
       "      <td>1.435000e+03</td>\n",
       "      <td>9.318400e+04</td>\n",
       "    </tr>\n",
       "    <tr>\n",
       "      <th>75%</th>\n",
       "      <td>4.479325e+06</td>\n",
       "      <td>122.000000</td>\n",
       "      <td>20.000000</td>\n",
       "      <td>5.872000e+03</td>\n",
       "      <td>4.577470e+05</td>\n",
       "    </tr>\n",
       "    <tr>\n",
       "      <th>max</th>\n",
       "      <td>3.502565e+09</td>\n",
       "      <td>141746.000000</td>\n",
       "      <td>35905.000000</td>\n",
       "      <td>1.732046e+07</td>\n",
       "      <td>7.120711e+08</td>\n",
       "    </tr>\n",
       "  </tbody>\n",
       "</table>\n",
       "</div>"
      ],
      "text/plain": [
       "          followers       pictures         videos      comments         likes\n",
       "count  5.792580e+05  695803.000000  684349.000000  6.953430e+05  6.959770e+05\n",
       "mean   1.342432e+07     344.272540      61.244426  3.043246e+04  2.163189e+06\n",
       "std    1.106975e+08    2777.396873     564.468480  2.766459e+05  1.803193e+07\n",
       "min    0.000000e+00       0.000000       0.000000  0.000000e+00  0.000000e+00\n",
       "25%    3.013372e+05      19.000000       2.000000  3.710000e+02  1.727700e+04\n",
       "50%    1.104144e+06      44.000000       7.000000  1.435000e+03  9.318400e+04\n",
       "75%    4.479325e+06     122.000000      20.000000  5.872000e+03  4.577470e+05\n",
       "max    3.502565e+09  141746.000000   35905.000000  1.732046e+07  7.120711e+08"
      ]
     },
     "execution_count": 14,
     "metadata": {},
     "output_type": "execute_result"
    }
   ],
   "source": [
    "df.describe()"
   ]
  },
  {
   "cell_type": "markdown",
   "id": "d8b09533-cbbd-4146-bb53-feb1e040c8c2",
   "metadata": {},
   "source": [
    "### Data Transformation\n",
    "\n",
    "**QUESTION:** do we have missing weeks?"
   ]
  },
  {
   "cell_type": "code",
   "execution_count": 111,
   "id": "acf29725-b088-4e94-b8b3-4b6dc9fa0c9f",
   "metadata": {},
   "outputs": [],
   "source": [
    "df['period_end_date'] = pd.to_datetime(df['period_end_date'])"
   ]
  },
  {
   "cell_type": "code",
   "execution_count": 112,
   "id": "aadad71e-5fdd-47f3-b40d-834b120e291b",
   "metadata": {},
   "outputs": [
    {
     "data": {
      "text/plain": [
       "compset\n",
       "Alcohol                                  13367\n",
       "Apparel Retail                           69341\n",
       "Athleisure                                7433\n",
       "Beauty & Boutique                        44266\n",
       "Beverages                                20053\n",
       "Building Products                         4376\n",
       "Casual Dining                             6751\n",
       "Coffee                                    2275\n",
       "Dermatology                               2824\n",
       "Dermatology and Orthodontics              3682\n",
       "Discount Retailers                        2100\n",
       "Ecommerce Apparel Retail                 19614\n",
       "Ecommerce Luxury Apparel Retail           5741\n",
       "Ecommerce Mainstream Apparel Retail       9463\n",
       "Energy drinks                             2678\n",
       "Entertainment                             1215\n",
       "Fast Casual                               3185\n",
       "Fast Fashion                             19281\n",
       "Fitness & Exercise                        8978\n",
       "Food Products                            20396\n",
       "Food Retail                               2574\n",
       "Footwear                                 11731\n",
       "Global Luxury Analysts Interest List     29233\n",
       "Hard Luxury                              14955\n",
       "Home Appliances                           3013\n",
       "Latam Apparel Retail                      3640\n",
       "Luxury & Premium & Mainstream            64541\n",
       "Mainstream Brands                         4350\n",
       "Mattress                                  5107\n",
       "Mid-Range Watch & Jewelry                 8924\n",
       "Omnichannel Apparel Retail               25049\n",
       "Orthodontics                              1313\n",
       "Outdoor Gear                              7716\n",
       "Pasta Sauce                               2495\n",
       "Petcare                                   4896\n",
       "Plant-Based Dairy                         4843\n",
       "Plant-Based Meat                          7618\n",
       "Premium Brands                           12125\n",
       "QSR                                       7271\n",
       "Restaurants                              18117\n",
       "Snack Bars                                4075\n",
       "Soda                                      3562\n",
       "Soft Luxury                              19170\n",
       "Sporting Goods                            3185\n",
       "Sports drinks                             1811\n",
       "Sportswear                               12711\n",
       "Sportswear & Athleisure                  20900\n",
       "Study (All Brands)                         455\n",
       "Toys & Collectibles                       2229\n",
       "US Department Store                       5005\n",
       "US Discount Store                         4849\n",
       "US Softlines Analyst Interest List      113744\n",
       "Workout Gear                              2902\n",
       "Yoghurt                                   3185\n",
       "Name: period_end_date, dtype: int64"
      ]
     },
     "execution_count": 112,
     "metadata": {},
     "output_type": "execute_result"
    }
   ],
   "source": [
    "df.groupby('compset').count()['period_end_date']"
   ]
  },
  {
   "cell_type": "markdown",
   "id": "75c25f15-97f4-4453-be05-4e4e9a1dc443",
   "metadata": {},
   "source": [
    "### Missing Values"
   ]
  },
  {
   "cell_type": "code",
   "execution_count": 113,
   "id": "fa07b84c-025e-42bc-a301-c18dc0feb5ec",
   "metadata": {},
   "outputs": [
    {
     "data": {
      "text/plain": [
       "period                                     0.000000\n",
       "period_end_date                            0.000000\n",
       "compset_group                              0.000000\n",
       "compset                                    0.000000\n",
       "business_entity_doing_business_as_name     0.000000\n",
       "legal_entity_name                          3.940720\n",
       "domicile_country_name                     34.888466\n",
       "ultimate_parent_legal_entity_name          3.940720\n",
       "primary_exchange_name                     34.888466\n",
       "calculation_type                           0.000000\n",
       "followers                                 17.755600\n",
       "pictures                                   1.208270\n",
       "videos                                     2.834535\n",
       "comments                                   1.273581\n",
       "likes                                      1.183565\n",
       "dtype: float64"
      ]
     },
     "execution_count": 113,
     "metadata": {},
     "output_type": "execute_result"
    }
   ],
   "source": [
    "df.isna().sum()* 100 / len(df)"
   ]
  },
  {
   "cell_type": "code",
   "execution_count": 18,
   "id": "74ce614c-e370-4fe6-be2d-bd37f2ad53e8",
   "metadata": {},
   "outputs": [
    {
     "data": {
      "text/plain": [
       "US Softlines Analyst Interest List      113744\n",
       "Apparel Retail                           69341\n",
       "Luxury & Premium & Mainstream            64541\n",
       "Beauty & Boutique                        44266\n",
       "Global Luxury Analysts Interest List     29233\n",
       "Omnichannel Apparel Retail               25049\n",
       "Sportswear & Athleisure                  20900\n",
       "Food Products                            20396\n",
       "Beverages                                20053\n",
       "Ecommerce Apparel Retail                 19614\n",
       "Fast Fashion                             19281\n",
       "Soft Luxury                              19170\n",
       "Restaurants                              18117\n",
       "Hard Luxury                              14955\n",
       "Alcohol                                  13367\n",
       "Sportswear                               12711\n",
       "Premium Brands                           12125\n",
       "Footwear                                 11731\n",
       "Ecommerce Mainstream Apparel Retail       9463\n",
       "Fitness & Exercise                        8978\n",
       "Mid-Range Watch & Jewelry                 8924\n",
       "Outdoor Gear                              7716\n",
       "Plant-Based Meat                          7618\n",
       "Athleisure                                7433\n",
       "QSR                                       7271\n",
       "Casual Dining                             6751\n",
       "Ecommerce Luxury Apparel Retail           5741\n",
       "Mattress                                  5107\n",
       "US Department Store                       5005\n",
       "Petcare                                   4896\n",
       "US Discount Store                         4849\n",
       "Plant-Based Dairy                         4843\n",
       "Building Products                         4376\n",
       "Mainstream Brands                         4350\n",
       "Snack Bars                                4075\n",
       "Dermatology and Orthodontics              3682\n",
       "Latam Apparel Retail                      3640\n",
       "Soda                                      3562\n",
       "Yoghurt                                   3185\n",
       "Fast Casual                               3185\n",
       "Sporting Goods                            3185\n",
       "Home Appliances                           3013\n",
       "Workout Gear                              2902\n",
       "Dermatology                               2824\n",
       "Energy drinks                             2678\n",
       "Food Retail                               2574\n",
       "Pasta Sauce                               2495\n",
       "Coffee                                    2275\n",
       "Toys & Collectibles                       2229\n",
       "Discount Retailers                        2100\n",
       "Sports drinks                             1811\n",
       "Orthodontics                              1313\n",
       "Entertainment                             1215\n",
       "Study (All Brands)                         455\n",
       "Name: compset, dtype: int64"
      ]
     },
     "execution_count": 18,
     "metadata": {},
     "output_type": "execute_result"
    }
   ],
   "source": [
    "df[\"compset\"].value_counts()"
   ]
  },
  {
   "cell_type": "code",
   "execution_count": 20,
   "id": "15d01f88-c80a-4677-a267-909363d2afee",
   "metadata": {},
   "outputs": [
    {
     "data": {
      "text/plain": [
       "Weekly    704313\n",
       "Name: period, dtype: int64"
      ]
     },
     "execution_count": 20,
     "metadata": {},
     "output_type": "execute_result"
    }
   ],
   "source": [
    "df[\"period\"].value_counts()"
   ]
  },
  {
   "cell_type": "markdown",
   "id": "7a89f1b6-fc05-4c1d-97f3-e84d2c9edf6b",
   "metadata": {},
   "source": [
    "# Relationshit between categorical variables"
   ]
  },
  {
   "cell_type": "code",
   "execution_count": 114,
   "id": "5e63c627-3843-43f7-bf6d-cd949e18ee3b",
   "metadata": {},
   "outputs": [],
   "source": [
    "cat_vars = [\"compset_group\", \"compset\", \"business_entity_doing_business_as_name\",\n",
    "\"legal_entity_name\", \"domicile_country_name\", \"ultimate_parent_legal_entity_name\",\n",
    "\"primary_exchange_name\"]"
   ]
  },
  {
   "cell_type": "markdown",
   "id": "0dc82e97-e53e-4209-8bf1-a8ea931b5732",
   "metadata": {},
   "source": [
    "### Cleaning\n",
    "\n",
    "1. \"domicile_country_name\": ;, ;France, Hong Kong\n",
    "2. business_entity_doing_business_as_name: get rid of all brands\n",
    "3. \"primary_exchange_name\": ; - NA, ;Euronext Paris \n",
    "    - what is 'Asx - All Markets',\n",
    "    - 'Nyse Euronext - Euronext Brussels' vs 'Nyse Euronext - Euronext Brussels;',\n",
    "4. \"ultimate_parent_legal_entity_name\":\n",
    "    - ' DO NOT USE': NA\n",
    "    - 'Anheuser-Busch' vs 'Anheuser-Busch;Anheuser-Busch',\n",
    "    \n",
    "sorted(list(df[\"domicile_country_name\"].value_counts().keys()))\n",
    "\n",
    "**Questions:** \n",
    "\n",
    "NEW VAR:\n",
    "1. sum(df[\"ultimate_parent_legal_entity_name\"] != df[\"legal_entity_name\"]) / len(df)\n",
    "2. sum(df[\"ultimate_parent_legal_entity_name\"] != df[\"business_entity_doing_business_as_name\"])\n",
    "3. sum(df[\"legal_entity_name\"] != df[\"business_entity_doing_business_as_name\"])"
   ]
  },
  {
   "cell_type": "markdown",
   "id": "846319e6-81b8-480f-bc77-6c0ba65c1b53",
   "metadata": {},
   "source": [
    "**New Variables: Ownership Structure**"
   ]
  },
  {
   "cell_type": "code",
   "execution_count": 298,
   "id": "f2099821-1e7d-468c-817a-7fbb3c390c5c",
   "metadata": {},
   "outputs": [],
   "source": [
    "df[\"ultimate_parent_vs_legal_entity\"] = df[\"ultimate_parent_legal_entity_name\"] != df[\"legal_entity_name\"]\n",
    "df[\"ultimate_parent_vs_business_entity\"] = df[\"ultimate_parent_legal_entity_name\"] != df[\"business_entity_doing_business_as_name\"]\n",
    "df[\"legal_entity_vs_business_entity\"] = df[\"legal_entity_name\"] != df[\"business_entity_doing_business_as_name\"]\n",
    "df[\"same_ownership\"] = (df[\"legal_entity_name\"] == df[\"ultimate_parent_legal_entity_name\"]) & (df[\"legal_entity_name\"] == df[\"business_entity_doing_business_as_name\"])"
   ]
  },
  {
   "cell_type": "code",
   "execution_count": 299,
   "id": "d2243e16-b9c4-4251-830c-227d35f4ae80",
   "metadata": {},
   "outputs": [
    {
     "data": {
      "text/plain": [
       "ultimate_parent_vs_legal_entity       0.209217\n",
       "ultimate_parent_vs_business_entity    0.849071\n",
       "legal_entity_vs_business_entity       0.789023\n",
       "same_ownership                        0.150929\n",
       "dtype: float64"
      ]
     },
     "execution_count": 299,
     "metadata": {},
     "output_type": "execute_result"
    }
   ],
   "source": [
    "df[[\"ultimate_parent_vs_legal_entity\",\n",
    "    \"ultimate_parent_vs_business_entity\",\n",
    "    \"legal_entity_vs_business_entity\",\n",
    "    \"same_ownership\"]].sum() / len(df)"
   ]
  },
  {
   "cell_type": "markdown",
   "id": "b43e2378-1afd-4600-9893-02dd9c103354",
   "metadata": {},
   "source": [
    "# df[\"compset_group\"].value_counts()"
   ]
  },
  {
   "cell_type": "code",
   "execution_count": 178,
   "id": "f2b345bf-aa88-41ec-9197-89f7e5ab6245",
   "metadata": {},
   "outputs": [
    {
     "data": {
      "text/plain": [
       "424"
      ]
     },
     "execution_count": 178,
     "metadata": {},
     "output_type": "execute_result"
    }
   ],
   "source": [
    "len(df.drop_duplicates(['legal_entity_name'])) "
   ]
  },
  {
   "cell_type": "code",
   "execution_count": 183,
   "id": "1c711dfc-ac9a-4113-ba57-48b4a530b911",
   "metadata": {},
   "outputs": [
    {
     "data": {
      "text/plain": [
       "1"
      ]
     },
     "execution_count": 183,
     "metadata": {},
     "output_type": "execute_result"
    }
   ],
   "source": [
    "df.drop_duplicates(['business_entity_doing_business_as_name', 'legal_entity_name']).groupby('business_entity_doing_business_as_name').count()['legal_entity_name'].max()"
   ]
  },
  {
   "cell_type": "code",
   "execution_count": 185,
   "id": "8c9fa269-a838-4774-982c-dcda92cc010d",
   "metadata": {},
   "outputs": [
    {
     "data": {
      "text/plain": [
       "legal_entity_name\n",
       "ACON Investments LLC                    1\n",
       "Ollie's Outlet                          1\n",
       "Olive Garden                            1\n",
       "Olaplex Holdings Inc                    1\n",
       "Oatly                                   1\n",
       "                                       ..\n",
       "Richemont                              13\n",
       "Estee Lauder                           15\n",
       "Anheuser-Busch                         18\n",
       "L'Oreal                                18\n",
       "LVMH Moet Hennessy Louis Vuitton SE    23\n",
       "Name: business_entity_doing_business_as_name, Length: 423, dtype: int64"
      ]
     },
     "execution_count": 185,
     "metadata": {},
     "output_type": "execute_result"
    }
   ],
   "source": [
    "df.drop_duplicates(['business_entity_doing_business_as_name', 'legal_entity_name']).groupby('legal_entity_name').count()['business_entity_doing_business_as_name'].sort_values()"
   ]
  },
  {
   "cell_type": "code",
   "execution_count": 121,
   "id": "f6230fe1-a96d-4d34-9176-5df094002e28",
   "metadata": {},
   "outputs": [
    {
     "data": {
      "text/plain": [
       "0.21097722177497788"
      ]
     },
     "execution_count": 121,
     "metadata": {},
     "output_type": "execute_result"
    }
   ],
   "source": [
    "#sorted(list(df[\"business_entity_doing_business_as_name\"].value_counts().keys()))\n",
    "sum(df[\"business_entity_doing_business_as_name\"] == df[\"legal_entity_name\"]) / len(df)"
   ]
  },
  {
   "cell_type": "code",
   "execution_count": 120,
   "id": "7dd6b9b5-7984-45d8-a415-33d50e8cb21e",
   "metadata": {},
   "outputs": [
    {
     "data": {
      "text/plain": [
       "0.15092863542203538"
      ]
     },
     "execution_count": 120,
     "metadata": {},
     "output_type": "execute_result"
    }
   ],
   "source": [
    "sum(df[\"business_entity_doing_business_as_name\"] == df[\"ultimate_parent_legal_entity_name\"])/ len(df)"
   ]
  },
  {
   "cell_type": "code",
   "execution_count": 119,
   "id": "efdbd101-5883-4190-9f4c-bf0bf797bc80",
   "metadata": {},
   "outputs": [
    {
     "data": {
      "text/plain": [
       "0.790783359103126"
      ]
     },
     "execution_count": 119,
     "metadata": {},
     "output_type": "execute_result"
    }
   ],
   "source": [
    "sum(df[\"legal_entity_name\"] == df[\"ultimate_parent_legal_entity_name\"])/ len(df)"
   ]
  },
  {
   "cell_type": "code",
   "execution_count": 140,
   "id": "df8956db-26f6-4c77-990b-2786d5736193",
   "metadata": {},
   "outputs": [
    {
     "data": {
      "text/plain": [
       "0.15092863542203538"
      ]
     },
     "execution_count": 140,
     "metadata": {},
     "output_type": "execute_result"
    }
   ],
   "source": [
    "sum((df[\"legal_entity_name\"] == df[\"ultimate_parent_legal_entity_name\"]) & (df[\"legal_entity_name\"] == df[\"business_entity_doing_business_as_name\"]))/ len(df)"
   ]
  },
  {
   "cell_type": "code",
   "execution_count": 177,
   "id": "24342760-4a69-4fd6-b57e-c9710fdbaa23",
   "metadata": {},
   "outputs": [],
   "source": [
    "#!pip install missingno"
   ]
  },
  {
   "cell_type": "code",
   "execution_count": 139,
   "id": "aa26fd87-2968-4053-91b3-f5ac7df2effe",
   "metadata": {},
   "outputs": [
    {
     "data": {
      "image/png": "[encoded data removed]",
      "text/plain": [
       "<Figure size 432x288 with 1 Axes>"
      ]
     },
     "metadata": {},
     "output_type": "display_data"
    }
   ],
   "source": [
    "from matplotlib_venn import venn3\n",
    " \n",
    "# Make the diagram\n",
    "venn3(subsets = (10, 8, 22, \n",
    "                 6, 9, 4, \n",
    "                 2))\n",
    "plt.show()"
   ]
  },
  {
   "cell_type": "code",
   "execution_count": 138,
   "id": "e73c8f53-f4f4-4bed-95a0-74228b6a9f8c",
   "metadata": {},
   "outputs": [
    {
     "data": {
      "text/plain": [
       "LVMH Moet Hennessy Louis Vuitton SE                 27576\n",
       "Richemont                                           21580\n",
       "Swatch                                              18860\n",
       "Anheuser-Busch                                      12644\n",
       "Kering                                              10660\n",
       "                                                    ...  \n",
       "Aga Marvel                                            216\n",
       "WhaleCo Inc                                            55\n",
       "Goodwill Industries of Orange County                   52\n",
       "Shenzhen Seulin Culture & Entertainment Co., Ltd       46\n",
       "Pop Mart International Group Ltd                       46\n",
       "Name: legal_entity_name, Length: 423, dtype: int64"
      ]
     },
     "execution_count": 138,
     "metadata": {},
     "output_type": "execute_result"
    }
   ],
   "source": [
    "df[\"legal_entity_name\"].value_counts()"
   ]
  },
  {
   "cell_type": "code",
   "execution_count": 141,
   "id": "e05bc606-4b10-4ae0-b511-2f4c6f7edc19",
   "metadata": {},
   "outputs": [
    {
     "data": {
      "text/plain": [
       "1.0"
      ]
     },
     "execution_count": 141,
     "metadata": {},
     "output_type": "execute_result"
    }
   ],
   "source": [
    "sum(df[\"ultimate_parent_legal_entity_name\"] != df[\"primary_exchange_name\"]) / len(df)"
   ]
  },
  {
   "cell_type": "code",
   "execution_count": 97,
   "id": "942c8a9d-45bc-4371-bc99-779947aeb572",
   "metadata": {},
   "outputs": [
    {
     "data": {
      "text/plain": [
       "LVMH Moet Hennessy Louis Vuitton SE                 27576\n",
       "Richemont                                           21580\n",
       "Swatch                                              18860\n",
       "Anheuser-Busch                                      12644\n",
       "Kering                                              10660\n",
       "                                                    ...  \n",
       "Aga Marvel                                            216\n",
       "Pinduoduo                                              55\n",
       "Goodwill Industries International Inc                  52\n",
       "Pop Mart International Group Ltd                       46\n",
       "Shenzhen Seulin Culture & Entertainment Co., Ltd       46\n",
       "Name: ultimate_parent_legal_entity_name, Length: 401, dtype: int64"
      ]
     },
     "execution_count": 97,
     "metadata": {},
     "output_type": "execute_result"
    }
   ],
   "source": [
    "df[\"ultimate_parent_legal_entity_name\"].value_counts()"
   ]
  },
  {
   "cell_type": "code",
   "execution_count": 142,
   "id": "7561517f-ab2c-45bf-bc78-e8b14fc94e3f",
   "metadata": {},
   "outputs": [],
   "source": [
    "#sorted(list(df[\"ultimate_parent_legal_entity_name\"].value_counts().keys()))"
   ]
  },
  {
   "cell_type": "code",
   "execution_count": 143,
   "id": "930b3d76-3324-47e6-b1c6-7917b18adc1f",
   "metadata": {},
   "outputs": [],
   "source": [
    "#sorted(list(df[\"primary_exchange_name\"].value_counts().keys()))"
   ]
  },
  {
   "cell_type": "code",
   "execution_count": 263,
   "id": "d548de7f-126f-460f-b3f1-e4771111038c",
   "metadata": {},
   "outputs": [
    {
     "data": {
      "text/plain": [
       "[';',\n",
       " ';France',\n",
       " 'Australia',\n",
       " 'Belgium',\n",
       " 'Belgium;',\n",
       " 'Brazil',\n",
       " 'Canada',\n",
       " 'China',\n",
       " 'China;Hong Kong',\n",
       " 'Denmark',\n",
       " 'France',\n",
       " 'Germany',\n",
       " 'Hong Kong',\n",
       " 'Italy',\n",
       " 'Japan',\n",
       " 'Mexico',\n",
       " 'Netherlands',\n",
       " 'New Zealand',\n",
       " 'Philippines',\n",
       " 'Poland',\n",
       " 'Singapore',\n",
       " 'Spain',\n",
       " 'Sweden',\n",
       " 'Switzerland',\n",
       " 'United Kingdom of Great Britain and Northern Ireland',\n",
       " 'United States of America']"
      ]
     },
     "execution_count": 263,
     "metadata": {},
     "output_type": "execute_result"
    }
   ],
   "source": [
    "sorted(list(df[\"domicile_country_name\"].value_counts().keys()))"
   ]
  },
  {
   "cell_type": "code",
   "execution_count": 261,
   "id": "8faa0632-208f-4b3b-b88f-5c7659e46ed1",
   "metadata": {},
   "outputs": [],
   "source": [
    "#df[\"primary_exchange_name\"].value_counts() "
   ]
  },
  {
   "cell_type": "code",
   "execution_count": 35,
   "id": "049b3439-7847-40b6-a40a-fb6e33a3b3d7",
   "metadata": {},
   "outputs": [
    {
     "data": {
      "text/html": [
       "<div>\n",
       "<style scoped>\n",
       "    .dataframe tbody tr th:only-of-type {\n",
       "        vertical-align: middle;\n",
       "    }\n",
       "\n",
       "    .dataframe tbody tr th {\n",
       "        vertical-align: top;\n",
       "    }\n",
       "\n",
       "    .dataframe thead th {\n",
       "        text-align: right;\n",
       "    }\n",
       "</style>\n",
       "<table border=\"1\" class=\"dataframe\">\n",
       "  <thead>\n",
       "    <tr style=\"text-align: right;\">\n",
       "      <th>compset</th>\n",
       "      <th>Alcohol</th>\n",
       "      <th>Apparel Retail</th>\n",
       "      <th>Athleisure</th>\n",
       "      <th>Beauty &amp; Boutique</th>\n",
       "      <th>Beverages</th>\n",
       "      <th>Building Products</th>\n",
       "      <th>Casual Dining</th>\n",
       "      <th>Coffee</th>\n",
       "      <th>Dermatology</th>\n",
       "      <th>Dermatology and Orthodontics</th>\n",
       "      <th>Discount Retailers</th>\n",
       "      <th>Ecommerce Apparel Retail</th>\n",
       "      <th>Ecommerce Luxury Apparel Retail</th>\n",
       "      <th>Ecommerce Mainstream Apparel Retail</th>\n",
       "      <th>Energy drinks</th>\n",
       "      <th>Entertainment</th>\n",
       "      <th>Fast Casual</th>\n",
       "      <th>Fast Fashion</th>\n",
       "      <th>Fitness &amp; Exercise</th>\n",
       "      <th>Food Products</th>\n",
       "      <th>Food Retail</th>\n",
       "      <th>Footwear</th>\n",
       "      <th>Global Luxury Analysts Interest List</th>\n",
       "      <th>Hard Luxury</th>\n",
       "      <th>Home Appliances</th>\n",
       "      <th>Latam Apparel Retail</th>\n",
       "      <th>Luxury &amp; Premium &amp; Mainstream</th>\n",
       "      <th>Mainstream Brands</th>\n",
       "      <th>Mattress</th>\n",
       "      <th>Mid-Range Watch &amp; Jewelry</th>\n",
       "      <th>Omnichannel Apparel Retail</th>\n",
       "      <th>Orthodontics</th>\n",
       "      <th>Outdoor Gear</th>\n",
       "      <th>Pasta Sauce</th>\n",
       "      <th>Petcare</th>\n",
       "      <th>Plant-Based Dairy</th>\n",
       "      <th>Plant-Based Meat</th>\n",
       "      <th>Premium Brands</th>\n",
       "      <th>QSR</th>\n",
       "      <th>Restaurants</th>\n",
       "      <th>Snack Bars</th>\n",
       "      <th>Soda</th>\n",
       "      <th>Soft Luxury</th>\n",
       "      <th>Sporting Goods</th>\n",
       "      <th>Sports drinks</th>\n",
       "      <th>Sportswear</th>\n",
       "      <th>Sportswear &amp; Athleisure</th>\n",
       "      <th>Study (All Brands)</th>\n",
       "      <th>Toys &amp; Collectibles</th>\n",
       "      <th>US Department Store</th>\n",
       "      <th>US Discount Store</th>\n",
       "      <th>US Softlines Analyst Interest List</th>\n",
       "      <th>Workout Gear</th>\n",
       "      <th>Yoghurt</th>\n",
       "    </tr>\n",
       "    <tr>\n",
       "      <th>compset_group</th>\n",
       "      <th></th>\n",
       "      <th></th>\n",
       "      <th></th>\n",
       "      <th></th>\n",
       "      <th></th>\n",
       "      <th></th>\n",
       "      <th></th>\n",
       "      <th></th>\n",
       "      <th></th>\n",
       "      <th></th>\n",
       "      <th></th>\n",
       "      <th></th>\n",
       "      <th></th>\n",
       "      <th></th>\n",
       "      <th></th>\n",
       "      <th></th>\n",
       "      <th></th>\n",
       "      <th></th>\n",
       "      <th></th>\n",
       "      <th></th>\n",
       "      <th></th>\n",
       "      <th></th>\n",
       "      <th></th>\n",
       "      <th></th>\n",
       "      <th></th>\n",
       "      <th></th>\n",
       "      <th></th>\n",
       "      <th></th>\n",
       "      <th></th>\n",
       "      <th></th>\n",
       "      <th></th>\n",
       "      <th></th>\n",
       "      <th></th>\n",
       "      <th></th>\n",
       "      <th></th>\n",
       "      <th></th>\n",
       "      <th></th>\n",
       "      <th></th>\n",
       "      <th></th>\n",
       "      <th></th>\n",
       "      <th></th>\n",
       "      <th></th>\n",
       "      <th></th>\n",
       "      <th></th>\n",
       "      <th></th>\n",
       "      <th></th>\n",
       "      <th></th>\n",
       "      <th></th>\n",
       "      <th></th>\n",
       "      <th></th>\n",
       "      <th></th>\n",
       "      <th></th>\n",
       "      <th></th>\n",
       "      <th></th>\n",
       "    </tr>\n",
       "  </thead>\n",
       "  <tbody>\n",
       "    <tr>\n",
       "      <th>Apparel Retail</th>\n",
       "      <td>0</td>\n",
       "      <td>69341</td>\n",
       "      <td>810</td>\n",
       "      <td>0</td>\n",
       "      <td>0</td>\n",
       "      <td>0</td>\n",
       "      <td>0</td>\n",
       "      <td>0</td>\n",
       "      <td>0</td>\n",
       "      <td>0</td>\n",
       "      <td>0</td>\n",
       "      <td>19614</td>\n",
       "      <td>5741</td>\n",
       "      <td>9463</td>\n",
       "      <td>0</td>\n",
       "      <td>0</td>\n",
       "      <td>0</td>\n",
       "      <td>19281</td>\n",
       "      <td>0</td>\n",
       "      <td>0</td>\n",
       "      <td>0</td>\n",
       "      <td>4059</td>\n",
       "      <td>0</td>\n",
       "      <td>0</td>\n",
       "      <td>0</td>\n",
       "      <td>3640</td>\n",
       "      <td>0</td>\n",
       "      <td>0</td>\n",
       "      <td>0</td>\n",
       "      <td>1529</td>\n",
       "      <td>25049</td>\n",
       "      <td>0</td>\n",
       "      <td>0</td>\n",
       "      <td>0</td>\n",
       "      <td>0</td>\n",
       "      <td>0</td>\n",
       "      <td>0</td>\n",
       "      <td>0</td>\n",
       "      <td>0</td>\n",
       "      <td>0</td>\n",
       "      <td>0</td>\n",
       "      <td>0</td>\n",
       "      <td>0</td>\n",
       "      <td>0</td>\n",
       "      <td>0</td>\n",
       "      <td>0</td>\n",
       "      <td>0</td>\n",
       "      <td>0</td>\n",
       "      <td>0</td>\n",
       "      <td>5005</td>\n",
       "      <td>4849</td>\n",
       "      <td>41192</td>\n",
       "      <td>0</td>\n",
       "      <td>0</td>\n",
       "    </tr>\n",
       "    <tr>\n",
       "      <th>Beauty &amp; Boutique</th>\n",
       "      <td>0</td>\n",
       "      <td>0</td>\n",
       "      <td>0</td>\n",
       "      <td>44266</td>\n",
       "      <td>0</td>\n",
       "      <td>0</td>\n",
       "      <td>0</td>\n",
       "      <td>0</td>\n",
       "      <td>0</td>\n",
       "      <td>0</td>\n",
       "      <td>0</td>\n",
       "      <td>0</td>\n",
       "      <td>0</td>\n",
       "      <td>0</td>\n",
       "      <td>0</td>\n",
       "      <td>0</td>\n",
       "      <td>0</td>\n",
       "      <td>0</td>\n",
       "      <td>0</td>\n",
       "      <td>0</td>\n",
       "      <td>0</td>\n",
       "      <td>0</td>\n",
       "      <td>0</td>\n",
       "      <td>0</td>\n",
       "      <td>0</td>\n",
       "      <td>0</td>\n",
       "      <td>0</td>\n",
       "      <td>0</td>\n",
       "      <td>0</td>\n",
       "      <td>0</td>\n",
       "      <td>0</td>\n",
       "      <td>0</td>\n",
       "      <td>0</td>\n",
       "      <td>0</td>\n",
       "      <td>0</td>\n",
       "      <td>0</td>\n",
       "      <td>0</td>\n",
       "      <td>0</td>\n",
       "      <td>0</td>\n",
       "      <td>0</td>\n",
       "      <td>0</td>\n",
       "      <td>0</td>\n",
       "      <td>0</td>\n",
       "      <td>0</td>\n",
       "      <td>0</td>\n",
       "      <td>0</td>\n",
       "      <td>0</td>\n",
       "      <td>0</td>\n",
       "      <td>0</td>\n",
       "      <td>0</td>\n",
       "      <td>0</td>\n",
       "      <td>0</td>\n",
       "      <td>0</td>\n",
       "      <td>0</td>\n",
       "    </tr>\n",
       "    <tr>\n",
       "      <th>Beverages</th>\n",
       "      <td>13367</td>\n",
       "      <td>0</td>\n",
       "      <td>0</td>\n",
       "      <td>0</td>\n",
       "      <td>20053</td>\n",
       "      <td>0</td>\n",
       "      <td>0</td>\n",
       "      <td>0</td>\n",
       "      <td>0</td>\n",
       "      <td>0</td>\n",
       "      <td>0</td>\n",
       "      <td>0</td>\n",
       "      <td>0</td>\n",
       "      <td>0</td>\n",
       "      <td>2678</td>\n",
       "      <td>0</td>\n",
       "      <td>0</td>\n",
       "      <td>0</td>\n",
       "      <td>0</td>\n",
       "      <td>0</td>\n",
       "      <td>0</td>\n",
       "      <td>0</td>\n",
       "      <td>0</td>\n",
       "      <td>0</td>\n",
       "      <td>0</td>\n",
       "      <td>0</td>\n",
       "      <td>0</td>\n",
       "      <td>0</td>\n",
       "      <td>0</td>\n",
       "      <td>0</td>\n",
       "      <td>0</td>\n",
       "      <td>0</td>\n",
       "      <td>0</td>\n",
       "      <td>0</td>\n",
       "      <td>0</td>\n",
       "      <td>0</td>\n",
       "      <td>0</td>\n",
       "      <td>0</td>\n",
       "      <td>0</td>\n",
       "      <td>0</td>\n",
       "      <td>0</td>\n",
       "      <td>3562</td>\n",
       "      <td>0</td>\n",
       "      <td>0</td>\n",
       "      <td>1811</td>\n",
       "      <td>0</td>\n",
       "      <td>0</td>\n",
       "      <td>0</td>\n",
       "      <td>0</td>\n",
       "      <td>0</td>\n",
       "      <td>0</td>\n",
       "      <td>0</td>\n",
       "      <td>0</td>\n",
       "      <td>0</td>\n",
       "    </tr>\n",
       "    <tr>\n",
       "      <th>Building Products</th>\n",
       "      <td>0</td>\n",
       "      <td>0</td>\n",
       "      <td>0</td>\n",
       "      <td>0</td>\n",
       "      <td>0</td>\n",
       "      <td>4376</td>\n",
       "      <td>0</td>\n",
       "      <td>0</td>\n",
       "      <td>0</td>\n",
       "      <td>0</td>\n",
       "      <td>0</td>\n",
       "      <td>0</td>\n",
       "      <td>0</td>\n",
       "      <td>0</td>\n",
       "      <td>0</td>\n",
       "      <td>0</td>\n",
       "      <td>0</td>\n",
       "      <td>0</td>\n",
       "      <td>0</td>\n",
       "      <td>0</td>\n",
       "      <td>0</td>\n",
       "      <td>0</td>\n",
       "      <td>0</td>\n",
       "      <td>0</td>\n",
       "      <td>0</td>\n",
       "      <td>0</td>\n",
       "      <td>0</td>\n",
       "      <td>0</td>\n",
       "      <td>0</td>\n",
       "      <td>0</td>\n",
       "      <td>0</td>\n",
       "      <td>0</td>\n",
       "      <td>0</td>\n",
       "      <td>0</td>\n",
       "      <td>0</td>\n",
       "      <td>0</td>\n",
       "      <td>0</td>\n",
       "      <td>0</td>\n",
       "      <td>0</td>\n",
       "      <td>0</td>\n",
       "      <td>0</td>\n",
       "      <td>0</td>\n",
       "      <td>0</td>\n",
       "      <td>0</td>\n",
       "      <td>0</td>\n",
       "      <td>0</td>\n",
       "      <td>0</td>\n",
       "      <td>0</td>\n",
       "      <td>0</td>\n",
       "      <td>0</td>\n",
       "      <td>0</td>\n",
       "      <td>0</td>\n",
       "      <td>0</td>\n",
       "      <td>0</td>\n",
       "    </tr>\n",
       "    <tr>\n",
       "      <th>Dermatology and Orthodontics</th>\n",
       "      <td>0</td>\n",
       "      <td>0</td>\n",
       "      <td>0</td>\n",
       "      <td>0</td>\n",
       "      <td>0</td>\n",
       "      <td>0</td>\n",
       "      <td>0</td>\n",
       "      <td>0</td>\n",
       "      <td>2824</td>\n",
       "      <td>3682</td>\n",
       "      <td>0</td>\n",
       "      <td>0</td>\n",
       "      <td>0</td>\n",
       "      <td>0</td>\n",
       "      <td>0</td>\n",
       "      <td>0</td>\n",
       "      <td>0</td>\n",
       "      <td>0</td>\n",
       "      <td>0</td>\n",
       "      <td>0</td>\n",
       "      <td>0</td>\n",
       "      <td>0</td>\n",
       "      <td>0</td>\n",
       "      <td>0</td>\n",
       "      <td>0</td>\n",
       "      <td>0</td>\n",
       "      <td>0</td>\n",
       "      <td>0</td>\n",
       "      <td>0</td>\n",
       "      <td>0</td>\n",
       "      <td>0</td>\n",
       "      <td>1313</td>\n",
       "      <td>0</td>\n",
       "      <td>0</td>\n",
       "      <td>0</td>\n",
       "      <td>0</td>\n",
       "      <td>0</td>\n",
       "      <td>0</td>\n",
       "      <td>0</td>\n",
       "      <td>0</td>\n",
       "      <td>0</td>\n",
       "      <td>0</td>\n",
       "      <td>0</td>\n",
       "      <td>0</td>\n",
       "      <td>0</td>\n",
       "      <td>0</td>\n",
       "      <td>0</td>\n",
       "      <td>0</td>\n",
       "      <td>0</td>\n",
       "      <td>0</td>\n",
       "      <td>0</td>\n",
       "      <td>0</td>\n",
       "      <td>0</td>\n",
       "      <td>0</td>\n",
       "    </tr>\n",
       "    <tr>\n",
       "      <th>Discount Retailers</th>\n",
       "      <td>0</td>\n",
       "      <td>0</td>\n",
       "      <td>0</td>\n",
       "      <td>0</td>\n",
       "      <td>0</td>\n",
       "      <td>0</td>\n",
       "      <td>0</td>\n",
       "      <td>0</td>\n",
       "      <td>0</td>\n",
       "      <td>0</td>\n",
       "      <td>2100</td>\n",
       "      <td>0</td>\n",
       "      <td>0</td>\n",
       "      <td>0</td>\n",
       "      <td>0</td>\n",
       "      <td>0</td>\n",
       "      <td>0</td>\n",
       "      <td>0</td>\n",
       "      <td>0</td>\n",
       "      <td>0</td>\n",
       "      <td>0</td>\n",
       "      <td>0</td>\n",
       "      <td>0</td>\n",
       "      <td>0</td>\n",
       "      <td>0</td>\n",
       "      <td>0</td>\n",
       "      <td>0</td>\n",
       "      <td>0</td>\n",
       "      <td>0</td>\n",
       "      <td>0</td>\n",
       "      <td>0</td>\n",
       "      <td>0</td>\n",
       "      <td>0</td>\n",
       "      <td>0</td>\n",
       "      <td>0</td>\n",
       "      <td>0</td>\n",
       "      <td>0</td>\n",
       "      <td>0</td>\n",
       "      <td>0</td>\n",
       "      <td>0</td>\n",
       "      <td>0</td>\n",
       "      <td>0</td>\n",
       "      <td>0</td>\n",
       "      <td>0</td>\n",
       "      <td>0</td>\n",
       "      <td>0</td>\n",
       "      <td>0</td>\n",
       "      <td>0</td>\n",
       "      <td>0</td>\n",
       "      <td>0</td>\n",
       "      <td>0</td>\n",
       "      <td>0</td>\n",
       "      <td>0</td>\n",
       "      <td>0</td>\n",
       "    </tr>\n",
       "    <tr>\n",
       "      <th>Entertainment</th>\n",
       "      <td>0</td>\n",
       "      <td>0</td>\n",
       "      <td>0</td>\n",
       "      <td>0</td>\n",
       "      <td>0</td>\n",
       "      <td>0</td>\n",
       "      <td>0</td>\n",
       "      <td>0</td>\n",
       "      <td>0</td>\n",
       "      <td>0</td>\n",
       "      <td>0</td>\n",
       "      <td>0</td>\n",
       "      <td>0</td>\n",
       "      <td>0</td>\n",
       "      <td>0</td>\n",
       "      <td>1215</td>\n",
       "      <td>0</td>\n",
       "      <td>0</td>\n",
       "      <td>0</td>\n",
       "      <td>0</td>\n",
       "      <td>0</td>\n",
       "      <td>0</td>\n",
       "      <td>0</td>\n",
       "      <td>0</td>\n",
       "      <td>0</td>\n",
       "      <td>0</td>\n",
       "      <td>0</td>\n",
       "      <td>0</td>\n",
       "      <td>0</td>\n",
       "      <td>0</td>\n",
       "      <td>0</td>\n",
       "      <td>0</td>\n",
       "      <td>0</td>\n",
       "      <td>0</td>\n",
       "      <td>0</td>\n",
       "      <td>0</td>\n",
       "      <td>0</td>\n",
       "      <td>0</td>\n",
       "      <td>0</td>\n",
       "      <td>0</td>\n",
       "      <td>0</td>\n",
       "      <td>0</td>\n",
       "      <td>0</td>\n",
       "      <td>0</td>\n",
       "      <td>0</td>\n",
       "      <td>0</td>\n",
       "      <td>0</td>\n",
       "      <td>0</td>\n",
       "      <td>0</td>\n",
       "      <td>0</td>\n",
       "      <td>0</td>\n",
       "      <td>0</td>\n",
       "      <td>0</td>\n",
       "      <td>0</td>\n",
       "    </tr>\n",
       "    <tr>\n",
       "      <th>Fitness &amp; Exercise</th>\n",
       "      <td>0</td>\n",
       "      <td>0</td>\n",
       "      <td>0</td>\n",
       "      <td>0</td>\n",
       "      <td>0</td>\n",
       "      <td>0</td>\n",
       "      <td>0</td>\n",
       "      <td>0</td>\n",
       "      <td>0</td>\n",
       "      <td>0</td>\n",
       "      <td>0</td>\n",
       "      <td>0</td>\n",
       "      <td>0</td>\n",
       "      <td>0</td>\n",
       "      <td>0</td>\n",
       "      <td>0</td>\n",
       "      <td>0</td>\n",
       "      <td>0</td>\n",
       "      <td>8978</td>\n",
       "      <td>0</td>\n",
       "      <td>0</td>\n",
       "      <td>0</td>\n",
       "      <td>0</td>\n",
       "      <td>0</td>\n",
       "      <td>0</td>\n",
       "      <td>0</td>\n",
       "      <td>0</td>\n",
       "      <td>0</td>\n",
       "      <td>0</td>\n",
       "      <td>0</td>\n",
       "      <td>0</td>\n",
       "      <td>0</td>\n",
       "      <td>0</td>\n",
       "      <td>0</td>\n",
       "      <td>0</td>\n",
       "      <td>0</td>\n",
       "      <td>0</td>\n",
       "      <td>0</td>\n",
       "      <td>0</td>\n",
       "      <td>0</td>\n",
       "      <td>0</td>\n",
       "      <td>0</td>\n",
       "      <td>0</td>\n",
       "      <td>0</td>\n",
       "      <td>0</td>\n",
       "      <td>0</td>\n",
       "      <td>0</td>\n",
       "      <td>0</td>\n",
       "      <td>0</td>\n",
       "      <td>0</td>\n",
       "      <td>0</td>\n",
       "      <td>0</td>\n",
       "      <td>0</td>\n",
       "      <td>0</td>\n",
       "    </tr>\n",
       "    <tr>\n",
       "      <th>Food Products</th>\n",
       "      <td>0</td>\n",
       "      <td>0</td>\n",
       "      <td>0</td>\n",
       "      <td>0</td>\n",
       "      <td>0</td>\n",
       "      <td>0</td>\n",
       "      <td>0</td>\n",
       "      <td>0</td>\n",
       "      <td>0</td>\n",
       "      <td>0</td>\n",
       "      <td>0</td>\n",
       "      <td>0</td>\n",
       "      <td>0</td>\n",
       "      <td>0</td>\n",
       "      <td>0</td>\n",
       "      <td>0</td>\n",
       "      <td>0</td>\n",
       "      <td>0</td>\n",
       "      <td>0</td>\n",
       "      <td>20396</td>\n",
       "      <td>0</td>\n",
       "      <td>0</td>\n",
       "      <td>0</td>\n",
       "      <td>0</td>\n",
       "      <td>0</td>\n",
       "      <td>0</td>\n",
       "      <td>0</td>\n",
       "      <td>0</td>\n",
       "      <td>0</td>\n",
       "      <td>0</td>\n",
       "      <td>0</td>\n",
       "      <td>0</td>\n",
       "      <td>0</td>\n",
       "      <td>2495</td>\n",
       "      <td>0</td>\n",
       "      <td>4843</td>\n",
       "      <td>7618</td>\n",
       "      <td>0</td>\n",
       "      <td>0</td>\n",
       "      <td>0</td>\n",
       "      <td>4075</td>\n",
       "      <td>0</td>\n",
       "      <td>0</td>\n",
       "      <td>0</td>\n",
       "      <td>0</td>\n",
       "      <td>0</td>\n",
       "      <td>0</td>\n",
       "      <td>0</td>\n",
       "      <td>0</td>\n",
       "      <td>0</td>\n",
       "      <td>0</td>\n",
       "      <td>0</td>\n",
       "      <td>0</td>\n",
       "      <td>3185</td>\n",
       "    </tr>\n",
       "    <tr>\n",
       "      <th>Food Retail</th>\n",
       "      <td>0</td>\n",
       "      <td>0</td>\n",
       "      <td>0</td>\n",
       "      <td>0</td>\n",
       "      <td>0</td>\n",
       "      <td>0</td>\n",
       "      <td>0</td>\n",
       "      <td>0</td>\n",
       "      <td>0</td>\n",
       "      <td>0</td>\n",
       "      <td>0</td>\n",
       "      <td>0</td>\n",
       "      <td>0</td>\n",
       "      <td>0</td>\n",
       "      <td>0</td>\n",
       "      <td>0</td>\n",
       "      <td>0</td>\n",
       "      <td>0</td>\n",
       "      <td>0</td>\n",
       "      <td>0</td>\n",
       "      <td>2574</td>\n",
       "      <td>0</td>\n",
       "      <td>0</td>\n",
       "      <td>0</td>\n",
       "      <td>0</td>\n",
       "      <td>0</td>\n",
       "      <td>0</td>\n",
       "      <td>0</td>\n",
       "      <td>0</td>\n",
       "      <td>0</td>\n",
       "      <td>0</td>\n",
       "      <td>0</td>\n",
       "      <td>0</td>\n",
       "      <td>0</td>\n",
       "      <td>0</td>\n",
       "      <td>0</td>\n",
       "      <td>0</td>\n",
       "      <td>0</td>\n",
       "      <td>0</td>\n",
       "      <td>0</td>\n",
       "      <td>0</td>\n",
       "      <td>0</td>\n",
       "      <td>0</td>\n",
       "      <td>0</td>\n",
       "      <td>0</td>\n",
       "      <td>0</td>\n",
       "      <td>0</td>\n",
       "      <td>0</td>\n",
       "      <td>0</td>\n",
       "      <td>0</td>\n",
       "      <td>0</td>\n",
       "      <td>0</td>\n",
       "      <td>0</td>\n",
       "      <td>0</td>\n",
       "    </tr>\n",
       "    <tr>\n",
       "      <th>Home Appliances</th>\n",
       "      <td>0</td>\n",
       "      <td>0</td>\n",
       "      <td>0</td>\n",
       "      <td>0</td>\n",
       "      <td>0</td>\n",
       "      <td>0</td>\n",
       "      <td>0</td>\n",
       "      <td>0</td>\n",
       "      <td>0</td>\n",
       "      <td>0</td>\n",
       "      <td>0</td>\n",
       "      <td>0</td>\n",
       "      <td>0</td>\n",
       "      <td>0</td>\n",
       "      <td>0</td>\n",
       "      <td>0</td>\n",
       "      <td>0</td>\n",
       "      <td>0</td>\n",
       "      <td>0</td>\n",
       "      <td>0</td>\n",
       "      <td>0</td>\n",
       "      <td>0</td>\n",
       "      <td>0</td>\n",
       "      <td>0</td>\n",
       "      <td>3013</td>\n",
       "      <td>0</td>\n",
       "      <td>0</td>\n",
       "      <td>0</td>\n",
       "      <td>0</td>\n",
       "      <td>0</td>\n",
       "      <td>0</td>\n",
       "      <td>0</td>\n",
       "      <td>0</td>\n",
       "      <td>0</td>\n",
       "      <td>0</td>\n",
       "      <td>0</td>\n",
       "      <td>0</td>\n",
       "      <td>0</td>\n",
       "      <td>0</td>\n",
       "      <td>0</td>\n",
       "      <td>0</td>\n",
       "      <td>0</td>\n",
       "      <td>0</td>\n",
       "      <td>0</td>\n",
       "      <td>0</td>\n",
       "      <td>0</td>\n",
       "      <td>0</td>\n",
       "      <td>0</td>\n",
       "      <td>0</td>\n",
       "      <td>0</td>\n",
       "      <td>0</td>\n",
       "      <td>0</td>\n",
       "      <td>0</td>\n",
       "      <td>0</td>\n",
       "    </tr>\n",
       "    <tr>\n",
       "      <th>Luxury &amp; Premium &amp; Mainstream</th>\n",
       "      <td>0</td>\n",
       "      <td>0</td>\n",
       "      <td>0</td>\n",
       "      <td>0</td>\n",
       "      <td>0</td>\n",
       "      <td>0</td>\n",
       "      <td>0</td>\n",
       "      <td>0</td>\n",
       "      <td>0</td>\n",
       "      <td>0</td>\n",
       "      <td>0</td>\n",
       "      <td>0</td>\n",
       "      <td>0</td>\n",
       "      <td>0</td>\n",
       "      <td>0</td>\n",
       "      <td>0</td>\n",
       "      <td>0</td>\n",
       "      <td>0</td>\n",
       "      <td>0</td>\n",
       "      <td>0</td>\n",
       "      <td>0</td>\n",
       "      <td>6308</td>\n",
       "      <td>29233</td>\n",
       "      <td>14955</td>\n",
       "      <td>0</td>\n",
       "      <td>0</td>\n",
       "      <td>64541</td>\n",
       "      <td>4350</td>\n",
       "      <td>0</td>\n",
       "      <td>7395</td>\n",
       "      <td>0</td>\n",
       "      <td>0</td>\n",
       "      <td>0</td>\n",
       "      <td>0</td>\n",
       "      <td>0</td>\n",
       "      <td>0</td>\n",
       "      <td>0</td>\n",
       "      <td>12125</td>\n",
       "      <td>0</td>\n",
       "      <td>0</td>\n",
       "      <td>0</td>\n",
       "      <td>0</td>\n",
       "      <td>19170</td>\n",
       "      <td>0</td>\n",
       "      <td>0</td>\n",
       "      <td>0</td>\n",
       "      <td>0</td>\n",
       "      <td>0</td>\n",
       "      <td>0</td>\n",
       "      <td>0</td>\n",
       "      <td>0</td>\n",
       "      <td>58164</td>\n",
       "      <td>0</td>\n",
       "      <td>0</td>\n",
       "    </tr>\n",
       "    <tr>\n",
       "      <th>Mattress</th>\n",
       "      <td>0</td>\n",
       "      <td>0</td>\n",
       "      <td>0</td>\n",
       "      <td>0</td>\n",
       "      <td>0</td>\n",
       "      <td>0</td>\n",
       "      <td>0</td>\n",
       "      <td>0</td>\n",
       "      <td>0</td>\n",
       "      <td>0</td>\n",
       "      <td>0</td>\n",
       "      <td>0</td>\n",
       "      <td>0</td>\n",
       "      <td>0</td>\n",
       "      <td>0</td>\n",
       "      <td>0</td>\n",
       "      <td>0</td>\n",
       "      <td>0</td>\n",
       "      <td>0</td>\n",
       "      <td>0</td>\n",
       "      <td>0</td>\n",
       "      <td>0</td>\n",
       "      <td>0</td>\n",
       "      <td>0</td>\n",
       "      <td>0</td>\n",
       "      <td>0</td>\n",
       "      <td>0</td>\n",
       "      <td>0</td>\n",
       "      <td>5107</td>\n",
       "      <td>0</td>\n",
       "      <td>0</td>\n",
       "      <td>0</td>\n",
       "      <td>0</td>\n",
       "      <td>0</td>\n",
       "      <td>0</td>\n",
       "      <td>0</td>\n",
       "      <td>0</td>\n",
       "      <td>0</td>\n",
       "      <td>0</td>\n",
       "      <td>0</td>\n",
       "      <td>0</td>\n",
       "      <td>0</td>\n",
       "      <td>0</td>\n",
       "      <td>0</td>\n",
       "      <td>0</td>\n",
       "      <td>0</td>\n",
       "      <td>0</td>\n",
       "      <td>0</td>\n",
       "      <td>0</td>\n",
       "      <td>0</td>\n",
       "      <td>0</td>\n",
       "      <td>0</td>\n",
       "      <td>0</td>\n",
       "      <td>0</td>\n",
       "    </tr>\n",
       "    <tr>\n",
       "      <th>Outdoor Gear</th>\n",
       "      <td>0</td>\n",
       "      <td>0</td>\n",
       "      <td>0</td>\n",
       "      <td>0</td>\n",
       "      <td>0</td>\n",
       "      <td>0</td>\n",
       "      <td>0</td>\n",
       "      <td>0</td>\n",
       "      <td>0</td>\n",
       "      <td>0</td>\n",
       "      <td>0</td>\n",
       "      <td>0</td>\n",
       "      <td>0</td>\n",
       "      <td>0</td>\n",
       "      <td>0</td>\n",
       "      <td>0</td>\n",
       "      <td>0</td>\n",
       "      <td>0</td>\n",
       "      <td>0</td>\n",
       "      <td>0</td>\n",
       "      <td>0</td>\n",
       "      <td>0</td>\n",
       "      <td>0</td>\n",
       "      <td>0</td>\n",
       "      <td>0</td>\n",
       "      <td>0</td>\n",
       "      <td>0</td>\n",
       "      <td>0</td>\n",
       "      <td>0</td>\n",
       "      <td>0</td>\n",
       "      <td>0</td>\n",
       "      <td>0</td>\n",
       "      <td>7716</td>\n",
       "      <td>0</td>\n",
       "      <td>0</td>\n",
       "      <td>0</td>\n",
       "      <td>0</td>\n",
       "      <td>0</td>\n",
       "      <td>0</td>\n",
       "      <td>0</td>\n",
       "      <td>0</td>\n",
       "      <td>0</td>\n",
       "      <td>0</td>\n",
       "      <td>0</td>\n",
       "      <td>0</td>\n",
       "      <td>0</td>\n",
       "      <td>0</td>\n",
       "      <td>0</td>\n",
       "      <td>0</td>\n",
       "      <td>0</td>\n",
       "      <td>0</td>\n",
       "      <td>1820</td>\n",
       "      <td>0</td>\n",
       "      <td>0</td>\n",
       "    </tr>\n",
       "    <tr>\n",
       "      <th>Petcare</th>\n",
       "      <td>0</td>\n",
       "      <td>0</td>\n",
       "      <td>0</td>\n",
       "      <td>0</td>\n",
       "      <td>0</td>\n",
       "      <td>0</td>\n",
       "      <td>0</td>\n",
       "      <td>0</td>\n",
       "      <td>0</td>\n",
       "      <td>0</td>\n",
       "      <td>0</td>\n",
       "      <td>0</td>\n",
       "      <td>0</td>\n",
       "      <td>0</td>\n",
       "      <td>0</td>\n",
       "      <td>0</td>\n",
       "      <td>0</td>\n",
       "      <td>0</td>\n",
       "      <td>0</td>\n",
       "      <td>0</td>\n",
       "      <td>0</td>\n",
       "      <td>0</td>\n",
       "      <td>0</td>\n",
       "      <td>0</td>\n",
       "      <td>0</td>\n",
       "      <td>0</td>\n",
       "      <td>0</td>\n",
       "      <td>0</td>\n",
       "      <td>0</td>\n",
       "      <td>0</td>\n",
       "      <td>0</td>\n",
       "      <td>0</td>\n",
       "      <td>0</td>\n",
       "      <td>0</td>\n",
       "      <td>4896</td>\n",
       "      <td>0</td>\n",
       "      <td>0</td>\n",
       "      <td>0</td>\n",
       "      <td>0</td>\n",
       "      <td>0</td>\n",
       "      <td>0</td>\n",
       "      <td>0</td>\n",
       "      <td>0</td>\n",
       "      <td>0</td>\n",
       "      <td>0</td>\n",
       "      <td>0</td>\n",
       "      <td>0</td>\n",
       "      <td>0</td>\n",
       "      <td>0</td>\n",
       "      <td>0</td>\n",
       "      <td>0</td>\n",
       "      <td>0</td>\n",
       "      <td>0</td>\n",
       "      <td>0</td>\n",
       "    </tr>\n",
       "    <tr>\n",
       "      <th>Restaurants</th>\n",
       "      <td>0</td>\n",
       "      <td>0</td>\n",
       "      <td>0</td>\n",
       "      <td>0</td>\n",
       "      <td>0</td>\n",
       "      <td>0</td>\n",
       "      <td>6751</td>\n",
       "      <td>2275</td>\n",
       "      <td>0</td>\n",
       "      <td>0</td>\n",
       "      <td>0</td>\n",
       "      <td>0</td>\n",
       "      <td>0</td>\n",
       "      <td>0</td>\n",
       "      <td>0</td>\n",
       "      <td>0</td>\n",
       "      <td>3185</td>\n",
       "      <td>0</td>\n",
       "      <td>0</td>\n",
       "      <td>0</td>\n",
       "      <td>0</td>\n",
       "      <td>0</td>\n",
       "      <td>0</td>\n",
       "      <td>0</td>\n",
       "      <td>0</td>\n",
       "      <td>0</td>\n",
       "      <td>0</td>\n",
       "      <td>0</td>\n",
       "      <td>0</td>\n",
       "      <td>0</td>\n",
       "      <td>0</td>\n",
       "      <td>0</td>\n",
       "      <td>0</td>\n",
       "      <td>0</td>\n",
       "      <td>0</td>\n",
       "      <td>0</td>\n",
       "      <td>0</td>\n",
       "      <td>0</td>\n",
       "      <td>7271</td>\n",
       "      <td>18117</td>\n",
       "      <td>0</td>\n",
       "      <td>0</td>\n",
       "      <td>0</td>\n",
       "      <td>0</td>\n",
       "      <td>0</td>\n",
       "      <td>0</td>\n",
       "      <td>0</td>\n",
       "      <td>0</td>\n",
       "      <td>0</td>\n",
       "      <td>0</td>\n",
       "      <td>0</td>\n",
       "      <td>0</td>\n",
       "      <td>0</td>\n",
       "      <td>0</td>\n",
       "    </tr>\n",
       "    <tr>\n",
       "      <th>Sporting Goods</th>\n",
       "      <td>0</td>\n",
       "      <td>0</td>\n",
       "      <td>0</td>\n",
       "      <td>0</td>\n",
       "      <td>0</td>\n",
       "      <td>0</td>\n",
       "      <td>0</td>\n",
       "      <td>0</td>\n",
       "      <td>0</td>\n",
       "      <td>0</td>\n",
       "      <td>0</td>\n",
       "      <td>0</td>\n",
       "      <td>0</td>\n",
       "      <td>0</td>\n",
       "      <td>0</td>\n",
       "      <td>0</td>\n",
       "      <td>0</td>\n",
       "      <td>0</td>\n",
       "      <td>0</td>\n",
       "      <td>0</td>\n",
       "      <td>0</td>\n",
       "      <td>0</td>\n",
       "      <td>0</td>\n",
       "      <td>0</td>\n",
       "      <td>0</td>\n",
       "      <td>0</td>\n",
       "      <td>0</td>\n",
       "      <td>0</td>\n",
       "      <td>0</td>\n",
       "      <td>0</td>\n",
       "      <td>0</td>\n",
       "      <td>0</td>\n",
       "      <td>0</td>\n",
       "      <td>0</td>\n",
       "      <td>0</td>\n",
       "      <td>0</td>\n",
       "      <td>0</td>\n",
       "      <td>0</td>\n",
       "      <td>0</td>\n",
       "      <td>0</td>\n",
       "      <td>0</td>\n",
       "      <td>0</td>\n",
       "      <td>0</td>\n",
       "      <td>3185</td>\n",
       "      <td>0</td>\n",
       "      <td>0</td>\n",
       "      <td>0</td>\n",
       "      <td>0</td>\n",
       "      <td>0</td>\n",
       "      <td>0</td>\n",
       "      <td>0</td>\n",
       "      <td>0</td>\n",
       "      <td>0</td>\n",
       "      <td>0</td>\n",
       "    </tr>\n",
       "    <tr>\n",
       "      <th>Sportswear &amp; Athleisure</th>\n",
       "      <td>0</td>\n",
       "      <td>0</td>\n",
       "      <td>6623</td>\n",
       "      <td>0</td>\n",
       "      <td>0</td>\n",
       "      <td>0</td>\n",
       "      <td>0</td>\n",
       "      <td>0</td>\n",
       "      <td>0</td>\n",
       "      <td>0</td>\n",
       "      <td>0</td>\n",
       "      <td>0</td>\n",
       "      <td>0</td>\n",
       "      <td>0</td>\n",
       "      <td>0</td>\n",
       "      <td>0</td>\n",
       "      <td>0</td>\n",
       "      <td>0</td>\n",
       "      <td>0</td>\n",
       "      <td>0</td>\n",
       "      <td>0</td>\n",
       "      <td>1364</td>\n",
       "      <td>0</td>\n",
       "      <td>0</td>\n",
       "      <td>0</td>\n",
       "      <td>0</td>\n",
       "      <td>0</td>\n",
       "      <td>0</td>\n",
       "      <td>0</td>\n",
       "      <td>0</td>\n",
       "      <td>0</td>\n",
       "      <td>0</td>\n",
       "      <td>0</td>\n",
       "      <td>0</td>\n",
       "      <td>0</td>\n",
       "      <td>0</td>\n",
       "      <td>0</td>\n",
       "      <td>0</td>\n",
       "      <td>0</td>\n",
       "      <td>0</td>\n",
       "      <td>0</td>\n",
       "      <td>0</td>\n",
       "      <td>0</td>\n",
       "      <td>0</td>\n",
       "      <td>0</td>\n",
       "      <td>12711</td>\n",
       "      <td>20900</td>\n",
       "      <td>0</td>\n",
       "      <td>0</td>\n",
       "      <td>0</td>\n",
       "      <td>0</td>\n",
       "      <td>12568</td>\n",
       "      <td>2902</td>\n",
       "      <td>0</td>\n",
       "    </tr>\n",
       "    <tr>\n",
       "      <th>Study (All Brands)</th>\n",
       "      <td>0</td>\n",
       "      <td>0</td>\n",
       "      <td>0</td>\n",
       "      <td>0</td>\n",
       "      <td>0</td>\n",
       "      <td>0</td>\n",
       "      <td>0</td>\n",
       "      <td>0</td>\n",
       "      <td>0</td>\n",
       "      <td>0</td>\n",
       "      <td>0</td>\n",
       "      <td>0</td>\n",
       "      <td>0</td>\n",
       "      <td>0</td>\n",
       "      <td>0</td>\n",
       "      <td>0</td>\n",
       "      <td>0</td>\n",
       "      <td>0</td>\n",
       "      <td>0</td>\n",
       "      <td>0</td>\n",
       "      <td>0</td>\n",
       "      <td>0</td>\n",
       "      <td>0</td>\n",
       "      <td>0</td>\n",
       "      <td>0</td>\n",
       "      <td>0</td>\n",
       "      <td>0</td>\n",
       "      <td>0</td>\n",
       "      <td>0</td>\n",
       "      <td>0</td>\n",
       "      <td>0</td>\n",
       "      <td>0</td>\n",
       "      <td>0</td>\n",
       "      <td>0</td>\n",
       "      <td>0</td>\n",
       "      <td>0</td>\n",
       "      <td>0</td>\n",
       "      <td>0</td>\n",
       "      <td>0</td>\n",
       "      <td>0</td>\n",
       "      <td>0</td>\n",
       "      <td>0</td>\n",
       "      <td>0</td>\n",
       "      <td>0</td>\n",
       "      <td>0</td>\n",
       "      <td>0</td>\n",
       "      <td>0</td>\n",
       "      <td>455</td>\n",
       "      <td>0</td>\n",
       "      <td>0</td>\n",
       "      <td>0</td>\n",
       "      <td>0</td>\n",
       "      <td>0</td>\n",
       "      <td>0</td>\n",
       "    </tr>\n",
       "    <tr>\n",
       "      <th>Toys &amp; Collectibles</th>\n",
       "      <td>0</td>\n",
       "      <td>0</td>\n",
       "      <td>0</td>\n",
       "      <td>0</td>\n",
       "      <td>0</td>\n",
       "      <td>0</td>\n",
       "      <td>0</td>\n",
       "      <td>0</td>\n",
       "      <td>0</td>\n",
       "      <td>0</td>\n",
       "      <td>0</td>\n",
       "      <td>0</td>\n",
       "      <td>0</td>\n",
       "      <td>0</td>\n",
       "      <td>0</td>\n",
       "      <td>0</td>\n",
       "      <td>0</td>\n",
       "      <td>0</td>\n",
       "      <td>0</td>\n",
       "      <td>0</td>\n",
       "      <td>0</td>\n",
       "      <td>0</td>\n",
       "      <td>0</td>\n",
       "      <td>0</td>\n",
       "      <td>0</td>\n",
       "      <td>0</td>\n",
       "      <td>0</td>\n",
       "      <td>0</td>\n",
       "      <td>0</td>\n",
       "      <td>0</td>\n",
       "      <td>0</td>\n",
       "      <td>0</td>\n",
       "      <td>0</td>\n",
       "      <td>0</td>\n",
       "      <td>0</td>\n",
       "      <td>0</td>\n",
       "      <td>0</td>\n",
       "      <td>0</td>\n",
       "      <td>0</td>\n",
       "      <td>0</td>\n",
       "      <td>0</td>\n",
       "      <td>0</td>\n",
       "      <td>0</td>\n",
       "      <td>0</td>\n",
       "      <td>0</td>\n",
       "      <td>0</td>\n",
       "      <td>0</td>\n",
       "      <td>0</td>\n",
       "      <td>2229</td>\n",
       "      <td>0</td>\n",
       "      <td>0</td>\n",
       "      <td>0</td>\n",
       "      <td>0</td>\n",
       "      <td>0</td>\n",
       "    </tr>\n",
       "  </tbody>\n",
       "</table>\n",
       "</div>"
      ],
      "text/plain": [
       "compset                        Alcohol  Apparel Retail  Athleisure  \\\n",
       "compset_group                                                        \n",
       "Apparel Retail                       0           69341         810   \n",
       "Beauty & Boutique                    0               0           0   \n",
       "Beverages                        13367               0           0   \n",
       "Building Products                    0               0           0   \n",
       "Dermatology and Orthodontics         0               0           0   \n",
       "Discount Retailers                   0               0           0   \n",
       "Entertainment                        0               0           0   \n",
       "Fitness & Exercise                   0               0           0   \n",
       "Food Products                        0               0           0   \n",
       "Food Retail                          0               0           0   \n",
       "Home Appliances                      0               0           0   \n",
       "Luxury & Premium & Mainstream        0               0           0   \n",
       "Mattress                             0               0           0   \n",
       "Outdoor Gear                         0               0           0   \n",
       "Petcare                              0               0           0   \n",
       "Restaurants                          0               0           0   \n",
       "Sporting Goods                       0               0           0   \n",
       "Sportswear & Athleisure              0               0        6623   \n",
       "Study (All Brands)                   0               0           0   \n",
       "Toys & Collectibles                  0               0           0   \n",
       "\n",
       "compset                        Beauty & Boutique  Beverages  \\\n",
       "compset_group                                                 \n",
       "Apparel Retail                                 0          0   \n",
       "Beauty & Boutique                          44266          0   \n",
       "Beverages                                      0      20053   \n",
       "Building Products                              0          0   \n",
       "Dermatology and Orthodontics                   0          0   \n",
       "Discount Retailers                             0          0   \n",
       "Entertainment                                  0          0   \n",
       "Fitness & Exercise                             0          0   \n",
       "Food Products                                  0          0   \n",
       "Food Retail                                    0          0   \n",
       "Home Appliances                                0          0   \n",
       "Luxury & Premium & Mainstream                  0          0   \n",
       "Mattress                                       0          0   \n",
       "Outdoor Gear                                   0          0   \n",
       "Petcare                                        0          0   \n",
       "Restaurants                                    0          0   \n",
       "Sporting Goods                                 0          0   \n",
       "Sportswear & Athleisure                        0          0   \n",
       "Study (All Brands)                             0          0   \n",
       "Toys & Collectibles                            0          0   \n",
       "\n",
       "compset                        Building Products  Casual Dining  Coffee  \\\n",
       "compset_group                                                             \n",
       "Apparel Retail                                 0              0       0   \n",
       "Beauty & Boutique                              0              0       0   \n",
       "Beverages                                      0              0       0   \n",
       "Building Products                           4376              0       0   \n",
       "Dermatology and Orthodontics                   0              0       0   \n",
       "Discount Retailers                             0              0       0   \n",
       "Entertainment                                  0              0       0   \n",
       "Fitness & Exercise                             0              0       0   \n",
       "Food Products                                  0              0       0   \n",
       "Food Retail                                    0              0       0   \n",
       "Home Appliances                                0              0       0   \n",
       "Luxury & Premium & Mainstream                  0              0       0   \n",
       "Mattress                                       0              0       0   \n",
       "Outdoor Gear                                   0              0       0   \n",
       "Petcare                                        0              0       0   \n",
       "Restaurants                                    0           6751    2275   \n",
       "Sporting Goods                                 0              0       0   \n",
       "Sportswear & Athleisure                        0              0       0   \n",
       "Study (All Brands)                             0              0       0   \n",
       "Toys & Collectibles                            0              0       0   \n",
       "\n",
       "compset                        Dermatology  Dermatology and Orthodontics  \\\n",
       "compset_group                                                              \n",
       "Apparel Retail                           0                             0   \n",
       "Beauty & Boutique                        0                             0   \n",
       "Beverages                                0                             0   \n",
       "Building Products                        0                             0   \n",
       "Dermatology and Orthodontics          2824                          3682   \n",
       "Discount Retailers                       0                             0   \n",
       "Entertainment                            0                             0   \n",
       "Fitness & Exercise                       0                             0   \n",
       "Food Products                            0                             0   \n",
       "Food Retail                              0                             0   \n",
       "Home Appliances                          0                             0   \n",
       "Luxury & Premium & Mainstream            0                             0   \n",
       "Mattress                                 0                             0   \n",
       "Outdoor Gear                             0                             0   \n",
       "Petcare                                  0                             0   \n",
       "Restaurants                              0                             0   \n",
       "Sporting Goods                           0                             0   \n",
       "Sportswear & Athleisure                  0                             0   \n",
       "Study (All Brands)                       0                             0   \n",
       "Toys & Collectibles                      0                             0   \n",
       "\n",
       "compset                        Discount Retailers   Ecommerce Apparel Retail  \\\n",
       "compset_group                                                                  \n",
       "Apparel Retail                                   0                     19614   \n",
       "Beauty & Boutique                                0                         0   \n",
       "Beverages                                        0                         0   \n",
       "Building Products                                0                         0   \n",
       "Dermatology and Orthodontics                     0                         0   \n",
       "Discount Retailers                            2100                         0   \n",
       "Entertainment                                    0                         0   \n",
       "Fitness & Exercise                               0                         0   \n",
       "Food Products                                    0                         0   \n",
       "Food Retail                                      0                         0   \n",
       "Home Appliances                                  0                         0   \n",
       "Luxury & Premium & Mainstream                    0                         0   \n",
       "Mattress                                         0                         0   \n",
       "Outdoor Gear                                     0                         0   \n",
       "Petcare                                          0                         0   \n",
       "Restaurants                                      0                         0   \n",
       "Sporting Goods                                   0                         0   \n",
       "Sportswear & Athleisure                          0                         0   \n",
       "Study (All Brands)                               0                         0   \n",
       "Toys & Collectibles                              0                         0   \n",
       "\n",
       "compset                        Ecommerce Luxury Apparel Retail  \\\n",
       "compset_group                                                    \n",
       "Apparel Retail                                            5741   \n",
       "Beauty & Boutique                                            0   \n",
       "Beverages                                                    0   \n",
       "Building Products                                            0   \n",
       "Dermatology and Orthodontics                                 0   \n",
       "Discount Retailers                                           0   \n",
       "Entertainment                                                0   \n",
       "Fitness & Exercise                                           0   \n",
       "Food Products                                                0   \n",
       "Food Retail                                                  0   \n",
       "Home Appliances                                              0   \n",
       "Luxury & Premium & Mainstream                                0   \n",
       "Mattress                                                     0   \n",
       "Outdoor Gear                                                 0   \n",
       "Petcare                                                      0   \n",
       "Restaurants                                                  0   \n",
       "Sporting Goods                                               0   \n",
       "Sportswear & Athleisure                                      0   \n",
       "Study (All Brands)                                           0   \n",
       "Toys & Collectibles                                          0   \n",
       "\n",
       "compset                        Ecommerce Mainstream Apparel Retail  \\\n",
       "compset_group                                                        \n",
       "Apparel Retail                                                9463   \n",
       "Beauty & Boutique                                                0   \n",
       "Beverages                                                        0   \n",
       "Building Products                                                0   \n",
       "Dermatology and Orthodontics                                     0   \n",
       "Discount Retailers                                               0   \n",
       "Entertainment                                                    0   \n",
       "Fitness & Exercise                                               0   \n",
       "Food Products                                                    0   \n",
       "Food Retail                                                      0   \n",
       "Home Appliances                                                  0   \n",
       "Luxury & Premium & Mainstream                                    0   \n",
       "Mattress                                                         0   \n",
       "Outdoor Gear                                                     0   \n",
       "Petcare                                                          0   \n",
       "Restaurants                                                      0   \n",
       "Sporting Goods                                                   0   \n",
       "Sportswear & Athleisure                                          0   \n",
       "Study (All Brands)                                               0   \n",
       "Toys & Collectibles                                              0   \n",
       "\n",
       "compset                        Energy drinks  Entertainment  Fast Casual  \\\n",
       "compset_group                                                              \n",
       "Apparel Retail                             0              0            0   \n",
       "Beauty & Boutique                          0              0            0   \n",
       "Beverages                               2678              0            0   \n",
       "Building Products                          0              0            0   \n",
       "Dermatology and Orthodontics               0              0            0   \n",
       "Discount Retailers                         0              0            0   \n",
       "Entertainment                              0           1215            0   \n",
       "Fitness & Exercise                         0              0            0   \n",
       "Food Products                              0              0            0   \n",
       "Food Retail                                0              0            0   \n",
       "Home Appliances                            0              0            0   \n",
       "Luxury & Premium & Mainstream              0              0            0   \n",
       "Mattress                                   0              0            0   \n",
       "Outdoor Gear                               0              0            0   \n",
       "Petcare                                    0              0            0   \n",
       "Restaurants                                0              0         3185   \n",
       "Sporting Goods                             0              0            0   \n",
       "Sportswear & Athleisure                    0              0            0   \n",
       "Study (All Brands)                         0              0            0   \n",
       "Toys & Collectibles                        0              0            0   \n",
       "\n",
       "compset                        Fast Fashion  Fitness & Exercise  \\\n",
       "compset_group                                                     \n",
       "Apparel Retail                        19281                   0   \n",
       "Beauty & Boutique                         0                   0   \n",
       "Beverages                                 0                   0   \n",
       "Building Products                         0                   0   \n",
       "Dermatology and Orthodontics              0                   0   \n",
       "Discount Retailers                        0                   0   \n",
       "Entertainment                             0                   0   \n",
       "Fitness & Exercise                        0                8978   \n",
       "Food Products                             0                   0   \n",
       "Food Retail                               0                   0   \n",
       "Home Appliances                           0                   0   \n",
       "Luxury & Premium & Mainstream             0                   0   \n",
       "Mattress                                  0                   0   \n",
       "Outdoor Gear                              0                   0   \n",
       "Petcare                                   0                   0   \n",
       "Restaurants                               0                   0   \n",
       "Sporting Goods                            0                   0   \n",
       "Sportswear & Athleisure                   0                   0   \n",
       "Study (All Brands)                        0                   0   \n",
       "Toys & Collectibles                       0                   0   \n",
       "\n",
       "compset                        Food Products  Food Retail  Footwear  \\\n",
       "compset_group                                                         \n",
       "Apparel Retail                             0            0      4059   \n",
       "Beauty & Boutique                          0            0         0   \n",
       "Beverages                                  0            0         0   \n",
       "Building Products                          0            0         0   \n",
       "Dermatology and Orthodontics               0            0         0   \n",
       "Discount Retailers                         0            0         0   \n",
       "Entertainment                              0            0         0   \n",
       "Fitness & Exercise                         0            0         0   \n",
       "Food Products                          20396            0         0   \n",
       "Food Retail                                0         2574         0   \n",
       "Home Appliances                            0            0         0   \n",
       "Luxury & Premium & Mainstream              0            0      6308   \n",
       "Mattress                                   0            0         0   \n",
       "Outdoor Gear                               0            0         0   \n",
       "Petcare                                    0            0         0   \n",
       "Restaurants                                0            0         0   \n",
       "Sporting Goods                             0            0         0   \n",
       "Sportswear & Athleisure                    0            0      1364   \n",
       "Study (All Brands)                         0            0         0   \n",
       "Toys & Collectibles                        0            0         0   \n",
       "\n",
       "compset                        Global Luxury Analysts Interest List  \\\n",
       "compset_group                                                         \n",
       "Apparel Retail                                                    0   \n",
       "Beauty & Boutique                                                 0   \n",
       "Beverages                                                         0   \n",
       "Building Products                                                 0   \n",
       "Dermatology and Orthodontics                                      0   \n",
       "Discount Retailers                                                0   \n",
       "Entertainment                                                     0   \n",
       "Fitness & Exercise                                                0   \n",
       "Food Products                                                     0   \n",
       "Food Retail                                                       0   \n",
       "Home Appliances                                                   0   \n",
       "Luxury & Premium & Mainstream                                 29233   \n",
       "Mattress                                                          0   \n",
       "Outdoor Gear                                                      0   \n",
       "Petcare                                                           0   \n",
       "Restaurants                                                       0   \n",
       "Sporting Goods                                                    0   \n",
       "Sportswear & Athleisure                                           0   \n",
       "Study (All Brands)                                                0   \n",
       "Toys & Collectibles                                               0   \n",
       "\n",
       "compset                        Hard Luxury  Home Appliances  \\\n",
       "compset_group                                                 \n",
       "Apparel Retail                           0                0   \n",
       "Beauty & Boutique                        0                0   \n",
       "Beverages                                0                0   \n",
       "Building Products                        0                0   \n",
       "Dermatology and Orthodontics             0                0   \n",
       "Discount Retailers                       0                0   \n",
       "Entertainment                            0                0   \n",
       "Fitness & Exercise                       0                0   \n",
       "Food Products                            0                0   \n",
       "Food Retail                              0                0   \n",
       "Home Appliances                          0             3013   \n",
       "Luxury & Premium & Mainstream        14955                0   \n",
       "Mattress                                 0                0   \n",
       "Outdoor Gear                             0                0   \n",
       "Petcare                                  0                0   \n",
       "Restaurants                              0                0   \n",
       "Sporting Goods                           0                0   \n",
       "Sportswear & Athleisure                  0                0   \n",
       "Study (All Brands)                       0                0   \n",
       "Toys & Collectibles                      0                0   \n",
       "\n",
       "compset                        Latam Apparel Retail  \\\n",
       "compset_group                                         \n",
       "Apparel Retail                                 3640   \n",
       "Beauty & Boutique                                 0   \n",
       "Beverages                                         0   \n",
       "Building Products                                 0   \n",
       "Dermatology and Orthodontics                      0   \n",
       "Discount Retailers                                0   \n",
       "Entertainment                                     0   \n",
       "Fitness & Exercise                                0   \n",
       "Food Products                                     0   \n",
       "Food Retail                                       0   \n",
       "Home Appliances                                   0   \n",
       "Luxury & Premium & Mainstream                     0   \n",
       "Mattress                                          0   \n",
       "Outdoor Gear                                      0   \n",
       "Petcare                                           0   \n",
       "Restaurants                                       0   \n",
       "Sporting Goods                                    0   \n",
       "Sportswear & Athleisure                           0   \n",
       "Study (All Brands)                                0   \n",
       "Toys & Collectibles                               0   \n",
       "\n",
       "compset                        Luxury & Premium & Mainstream  \\\n",
       "compset_group                                                  \n",
       "Apparel Retail                                             0   \n",
       "Beauty & Boutique                                          0   \n",
       "Beverages                                                  0   \n",
       "Building Products                                          0   \n",
       "Dermatology and Orthodontics                               0   \n",
       "Discount Retailers                                         0   \n",
       "Entertainment                                              0   \n",
       "Fitness & Exercise                                         0   \n",
       "Food Products                                              0   \n",
       "Food Retail                                                0   \n",
       "Home Appliances                                            0   \n",
       "Luxury & Premium & Mainstream                          64541   \n",
       "Mattress                                                   0   \n",
       "Outdoor Gear                                               0   \n",
       "Petcare                                                    0   \n",
       "Restaurants                                                0   \n",
       "Sporting Goods                                             0   \n",
       "Sportswear & Athleisure                                    0   \n",
       "Study (All Brands)                                         0   \n",
       "Toys & Collectibles                                        0   \n",
       "\n",
       "compset                        Mainstream Brands  Mattress  \\\n",
       "compset_group                                                \n",
       "Apparel Retail                                 0         0   \n",
       "Beauty & Boutique                              0         0   \n",
       "Beverages                                      0         0   \n",
       "Building Products                              0         0   \n",
       "Dermatology and Orthodontics                   0         0   \n",
       "Discount Retailers                             0         0   \n",
       "Entertainment                                  0         0   \n",
       "Fitness & Exercise                             0         0   \n",
       "Food Products                                  0         0   \n",
       "Food Retail                                    0         0   \n",
       "Home Appliances                                0         0   \n",
       "Luxury & Premium & Mainstream               4350         0   \n",
       "Mattress                                       0      5107   \n",
       "Outdoor Gear                                   0         0   \n",
       "Petcare                                        0         0   \n",
       "Restaurants                                    0         0   \n",
       "Sporting Goods                                 0         0   \n",
       "Sportswear & Athleisure                        0         0   \n",
       "Study (All Brands)                             0         0   \n",
       "Toys & Collectibles                            0         0   \n",
       "\n",
       "compset                        Mid-Range Watch & Jewelry  \\\n",
       "compset_group                                              \n",
       "Apparel Retail                                      1529   \n",
       "Beauty & Boutique                                      0   \n",
       "Beverages                                              0   \n",
       "Building Products                                      0   \n",
       "Dermatology and Orthodontics                           0   \n",
       "Discount Retailers                                     0   \n",
       "Entertainment                                          0   \n",
       "Fitness & Exercise                                     0   \n",
       "Food Products                                          0   \n",
       "Food Retail                                            0   \n",
       "Home Appliances                                        0   \n",
       "Luxury & Premium & Mainstream                       7395   \n",
       "Mattress                                               0   \n",
       "Outdoor Gear                                           0   \n",
       "Petcare                                                0   \n",
       "Restaurants                                            0   \n",
       "Sporting Goods                                         0   \n",
       "Sportswear & Athleisure                                0   \n",
       "Study (All Brands)                                     0   \n",
       "Toys & Collectibles                                    0   \n",
       "\n",
       "compset                        Omnichannel Apparel Retail  Orthodontics  \\\n",
       "compset_group                                                             \n",
       "Apparel Retail                                      25049             0   \n",
       "Beauty & Boutique                                       0             0   \n",
       "Beverages                                               0             0   \n",
       "Building Products                                       0             0   \n",
       "Dermatology and Orthodontics                            0          1313   \n",
       "Discount Retailers                                      0             0   \n",
       "Entertainment                                           0             0   \n",
       "Fitness & Exercise                                      0             0   \n",
       "Food Products                                           0             0   \n",
       "Food Retail                                             0             0   \n",
       "Home Appliances                                         0             0   \n",
       "Luxury & Premium & Mainstream                           0             0   \n",
       "Mattress                                                0             0   \n",
       "Outdoor Gear                                            0             0   \n",
       "Petcare                                                 0             0   \n",
       "Restaurants                                             0             0   \n",
       "Sporting Goods                                          0             0   \n",
       "Sportswear & Athleisure                                 0             0   \n",
       "Study (All Brands)                                      0             0   \n",
       "Toys & Collectibles                                     0             0   \n",
       "\n",
       "compset                        Outdoor Gear  Pasta Sauce  Petcare  \\\n",
       "compset_group                                                       \n",
       "Apparel Retail                            0            0        0   \n",
       "Beauty & Boutique                         0            0        0   \n",
       "Beverages                                 0            0        0   \n",
       "Building Products                         0            0        0   \n",
       "Dermatology and Orthodontics              0            0        0   \n",
       "Discount Retailers                        0            0        0   \n",
       "Entertainment                             0            0        0   \n",
       "Fitness & Exercise                        0            0        0   \n",
       "Food Products                             0         2495        0   \n",
       "Food Retail                               0            0        0   \n",
       "Home Appliances                           0            0        0   \n",
       "Luxury & Premium & Mainstream             0            0        0   \n",
       "Mattress                                  0            0        0   \n",
       "Outdoor Gear                           7716            0        0   \n",
       "Petcare                                   0            0     4896   \n",
       "Restaurants                               0            0        0   \n",
       "Sporting Goods                            0            0        0   \n",
       "Sportswear & Athleisure                   0            0        0   \n",
       "Study (All Brands)                        0            0        0   \n",
       "Toys & Collectibles                       0            0        0   \n",
       "\n",
       "compset                        Plant-Based Dairy  Plant-Based Meat  \\\n",
       "compset_group                                                        \n",
       "Apparel Retail                                 0                 0   \n",
       "Beauty & Boutique                              0                 0   \n",
       "Beverages                                      0                 0   \n",
       "Building Products                              0                 0   \n",
       "Dermatology and Orthodontics                   0                 0   \n",
       "Discount Retailers                             0                 0   \n",
       "Entertainment                                  0                 0   \n",
       "Fitness & Exercise                             0                 0   \n",
       "Food Products                               4843              7618   \n",
       "Food Retail                                    0                 0   \n",
       "Home Appliances                                0                 0   \n",
       "Luxury & Premium & Mainstream                  0                 0   \n",
       "Mattress                                       0                 0   \n",
       "Outdoor Gear                                   0                 0   \n",
       "Petcare                                        0                 0   \n",
       "Restaurants                                    0                 0   \n",
       "Sporting Goods                                 0                 0   \n",
       "Sportswear & Athleisure                        0                 0   \n",
       "Study (All Brands)                             0                 0   \n",
       "Toys & Collectibles                            0                 0   \n",
       "\n",
       "compset                        Premium Brands   QSR  Restaurants  Snack Bars  \\\n",
       "compset_group                                                                  \n",
       "Apparel Retail                              0     0            0           0   \n",
       "Beauty & Boutique                           0     0            0           0   \n",
       "Beverages                                   0     0            0           0   \n",
       "Building Products                           0     0            0           0   \n",
       "Dermatology and Orthodontics                0     0            0           0   \n",
       "Discount Retailers                          0     0            0           0   \n",
       "Entertainment                               0     0            0           0   \n",
       "Fitness & Exercise                          0     0            0           0   \n",
       "Food Products                               0     0            0        4075   \n",
       "Food Retail                                 0     0            0           0   \n",
       "Home Appliances                             0     0            0           0   \n",
       "Luxury & Premium & Mainstream           12125     0            0           0   \n",
       "Mattress                                    0     0            0           0   \n",
       "Outdoor Gear                                0     0            0           0   \n",
       "Petcare                                     0     0            0           0   \n",
       "Restaurants                                 0  7271        18117           0   \n",
       "Sporting Goods                              0     0            0           0   \n",
       "Sportswear & Athleisure                     0     0            0           0   \n",
       "Study (All Brands)                          0     0            0           0   \n",
       "Toys & Collectibles                         0     0            0           0   \n",
       "\n",
       "compset                        Soda  Soft Luxury  Sporting Goods  \\\n",
       "compset_group                                                      \n",
       "Apparel Retail                    0            0               0   \n",
       "Beauty & Boutique                 0            0               0   \n",
       "Beverages                      3562            0               0   \n",
       "Building Products                 0            0               0   \n",
       "Dermatology and Orthodontics      0            0               0   \n",
       "Discount Retailers                0            0               0   \n",
       "Entertainment                     0            0               0   \n",
       "Fitness & Exercise                0            0               0   \n",
       "Food Products                     0            0               0   \n",
       "Food Retail                       0            0               0   \n",
       "Home Appliances                   0            0               0   \n",
       "Luxury & Premium & Mainstream     0        19170               0   \n",
       "Mattress                          0            0               0   \n",
       "Outdoor Gear                      0            0               0   \n",
       "Petcare                           0            0               0   \n",
       "Restaurants                       0            0               0   \n",
       "Sporting Goods                    0            0            3185   \n",
       "Sportswear & Athleisure           0            0               0   \n",
       "Study (All Brands)                0            0               0   \n",
       "Toys & Collectibles               0            0               0   \n",
       "\n",
       "compset                        Sports drinks  Sportswear  \\\n",
       "compset_group                                              \n",
       "Apparel Retail                             0           0   \n",
       "Beauty & Boutique                          0           0   \n",
       "Beverages                               1811           0   \n",
       "Building Products                          0           0   \n",
       "Dermatology and Orthodontics               0           0   \n",
       "Discount Retailers                         0           0   \n",
       "Entertainment                              0           0   \n",
       "Fitness & Exercise                         0           0   \n",
       "Food Products                              0           0   \n",
       "Food Retail                                0           0   \n",
       "Home Appliances                            0           0   \n",
       "Luxury & Premium & Mainstream              0           0   \n",
       "Mattress                                   0           0   \n",
       "Outdoor Gear                               0           0   \n",
       "Petcare                                    0           0   \n",
       "Restaurants                                0           0   \n",
       "Sporting Goods                             0           0   \n",
       "Sportswear & Athleisure                    0       12711   \n",
       "Study (All Brands)                         0           0   \n",
       "Toys & Collectibles                        0           0   \n",
       "\n",
       "compset                        Sportswear & Athleisure  Study (All Brands)  \\\n",
       "compset_group                                                                \n",
       "Apparel Retail                                       0                   0   \n",
       "Beauty & Boutique                                    0                   0   \n",
       "Beverages                                            0                   0   \n",
       "Building Products                                    0                   0   \n",
       "Dermatology and Orthodontics                         0                   0   \n",
       "Discount Retailers                                   0                   0   \n",
       "Entertainment                                        0                   0   \n",
       "Fitness & Exercise                                   0                   0   \n",
       "Food Products                                        0                   0   \n",
       "Food Retail                                          0                   0   \n",
       "Home Appliances                                      0                   0   \n",
       "Luxury & Premium & Mainstream                        0                   0   \n",
       "Mattress                                             0                   0   \n",
       "Outdoor Gear                                         0                   0   \n",
       "Petcare                                              0                   0   \n",
       "Restaurants                                          0                   0   \n",
       "Sporting Goods                                       0                   0   \n",
       "Sportswear & Athleisure                          20900                   0   \n",
       "Study (All Brands)                                   0                 455   \n",
       "Toys & Collectibles                                  0                   0   \n",
       "\n",
       "compset                        Toys & Collectibles  US Department Store  \\\n",
       "compset_group                                                             \n",
       "Apparel Retail                                   0                 5005   \n",
       "Beauty & Boutique                                0                    0   \n",
       "Beverages                                        0                    0   \n",
       "Building Products                                0                    0   \n",
       "Dermatology and Orthodontics                     0                    0   \n",
       "Discount Retailers                               0                    0   \n",
       "Entertainment                                    0                    0   \n",
       "Fitness & Exercise                               0                    0   \n",
       "Food Products                                    0                    0   \n",
       "Food Retail                                      0                    0   \n",
       "Home Appliances                                  0                    0   \n",
       "Luxury & Premium & Mainstream                    0                    0   \n",
       "Mattress                                         0                    0   \n",
       "Outdoor Gear                                     0                    0   \n",
       "Petcare                                          0                    0   \n",
       "Restaurants                                      0                    0   \n",
       "Sporting Goods                                   0                    0   \n",
       "Sportswear & Athleisure                          0                    0   \n",
       "Study (All Brands)                               0                    0   \n",
       "Toys & Collectibles                           2229                    0   \n",
       "\n",
       "compset                        US Discount Store  \\\n",
       "compset_group                                      \n",
       "Apparel Retail                              4849   \n",
       "Beauty & Boutique                              0   \n",
       "Beverages                                      0   \n",
       "Building Products                              0   \n",
       "Dermatology and Orthodontics                   0   \n",
       "Discount Retailers                             0   \n",
       "Entertainment                                  0   \n",
       "Fitness & Exercise                             0   \n",
       "Food Products                                  0   \n",
       "Food Retail                                    0   \n",
       "Home Appliances                                0   \n",
       "Luxury & Premium & Mainstream                  0   \n",
       "Mattress                                       0   \n",
       "Outdoor Gear                                   0   \n",
       "Petcare                                        0   \n",
       "Restaurants                                    0   \n",
       "Sporting Goods                                 0   \n",
       "Sportswear & Athleisure                        0   \n",
       "Study (All Brands)                             0   \n",
       "Toys & Collectibles                            0   \n",
       "\n",
       "compset                        US Softlines Analyst Interest List  \\\n",
       "compset_group                                                       \n",
       "Apparel Retail                                              41192   \n",
       "Beauty & Boutique                                               0   \n",
       "Beverages                                                       0   \n",
       "Building Products                                               0   \n",
       "Dermatology and Orthodontics                                    0   \n",
       "Discount Retailers                                              0   \n",
       "Entertainment                                                   0   \n",
       "Fitness & Exercise                                              0   \n",
       "Food Products                                                   0   \n",
       "Food Retail                                                     0   \n",
       "Home Appliances                                                 0   \n",
       "Luxury & Premium & Mainstream                               58164   \n",
       "Mattress                                                        0   \n",
       "Outdoor Gear                                                 1820   \n",
       "Petcare                                                         0   \n",
       "Restaurants                                                     0   \n",
       "Sporting Goods                                                  0   \n",
       "Sportswear & Athleisure                                     12568   \n",
       "Study (All Brands)                                              0   \n",
       "Toys & Collectibles                                             0   \n",
       "\n",
       "compset                        Workout Gear  Yoghurt  \n",
       "compset_group                                         \n",
       "Apparel Retail                            0        0  \n",
       "Beauty & Boutique                         0        0  \n",
       "Beverages                                 0        0  \n",
       "Building Products                         0        0  \n",
       "Dermatology and Orthodontics              0        0  \n",
       "Discount Retailers                        0        0  \n",
       "Entertainment                             0        0  \n",
       "Fitness & Exercise                        0        0  \n",
       "Food Products                             0     3185  \n",
       "Food Retail                               0        0  \n",
       "Home Appliances                           0        0  \n",
       "Luxury & Premium & Mainstream             0        0  \n",
       "Mattress                                  0        0  \n",
       "Outdoor Gear                              0        0  \n",
       "Petcare                                   0        0  \n",
       "Restaurants                               0        0  \n",
       "Sporting Goods                            0        0  \n",
       "Sportswear & Athleisure                2902        0  \n",
       "Study (All Brands)                        0        0  \n",
       "Toys & Collectibles                       0        0  "
      ]
     },
     "execution_count": 35,
     "metadata": {},
     "output_type": "execute_result"
    }
   ],
   "source": [
    "pd.crosstab(df[\"compset_group\"], df[\"compset\"])."
   ]
  },
  {
   "cell_type": "markdown",
   "id": "197c8b49-8d73-4893-b8cd-96fac46633ea",
   "metadata": {},
   "source": [
    "**Question**: how many compsets can be in one compset_group?\n",
    "- Up to 13\n",
    "- on average 3.05\n",
    "- min "
   ]
  },
  {
   "cell_type": "code",
   "execution_count": 260,
   "id": "572cfb59-cecb-4859-809d-3b01dab3b7b3",
   "metadata": {},
   "outputs": [],
   "source": [
    "#df.drop_duplicates([\"compset_group\", \"compset\"]).groupby(\"compset_group\").count()[\"compset\"]"
   ]
  },
  {
   "cell_type": "code",
   "execution_count": 41,
   "id": "58eabf24-8715-47c8-97bf-61410cac8c32",
   "metadata": {},
   "outputs": [
    {
     "data": {
      "text/plain": [
       "1     12\n",
       "5      2\n",
       "6      2\n",
       "13     1\n",
       "3      1\n",
       "9      1\n",
       "2      1\n",
       "Name: compset, dtype: int64"
      ]
     },
     "execution_count": 41,
     "metadata": {},
     "output_type": "execute_result"
    }
   ],
   "source": [
    "df.drop_duplicates([\"compset_group\", \"compset\"]).groupby(\"compset_group\").count()[\"compset\"].value_counts()"
   ]
  },
  {
   "cell_type": "code",
   "execution_count": null,
   "id": "81e5fdb8-27b7-4fab-a2f6-82980494e1db",
   "metadata": {},
   "outputs": [],
   "source": []
  },
  {
   "cell_type": "markdown",
   "id": "5a6211e3-dc5c-4417-a82f-8824b4e7e7b7",
   "metadata": {},
   "source": [
    "**Question**: how many compset_groups can be in one compset_group?\n",
    "\n",
    "1. We have 4 insteresting cases where more than 1 compset group!"
   ]
  },
  {
   "cell_type": "code",
   "execution_count": 43,
   "id": "1b06da9f-54cf-4fb4-b928-cd84f0704665",
   "metadata": {},
   "outputs": [
    {
     "data": {
      "text/plain": [
       "1    50\n",
       "2     2\n",
       "3     1\n",
       "4     1\n",
       "Name: compset_group, dtype: int64"
      ]
     },
     "execution_count": 43,
     "metadata": {},
     "output_type": "execute_result"
    }
   ],
   "source": [
    "df.drop_duplicates([\"compset_group\", \"compset\"]).groupby(\"compset\").count()[\"compset_group\"].value_counts()"
   ]
  },
  {
   "cell_type": "code",
   "execution_count": 44,
   "id": "c906dc7c-3316-4e4e-876c-b46b9b23e341",
   "metadata": {},
   "outputs": [
    {
     "data": {
      "text/html": [
       "<div>\n",
       "<style scoped>\n",
       "    .dataframe tbody tr th:only-of-type {\n",
       "        vertical-align: middle;\n",
       "    }\n",
       "\n",
       "    .dataframe tbody tr th {\n",
       "        vertical-align: top;\n",
       "    }\n",
       "\n",
       "    .dataframe thead th {\n",
       "        text-align: right;\n",
       "    }\n",
       "</style>\n",
       "<table border=\"1\" class=\"dataframe\">\n",
       "  <thead>\n",
       "    <tr style=\"text-align: right;\">\n",
       "      <th></th>\n",
       "      <th>compset_group</th>\n",
       "      <th>compset</th>\n",
       "      <th>business_entity_doing_business_as_name</th>\n",
       "      <th>legal_entity_name</th>\n",
       "      <th>domicile_country_name</th>\n",
       "      <th>ultimate_parent_legal_entity_name</th>\n",
       "      <th>primary_exchange_name</th>\n",
       "    </tr>\n",
       "  </thead>\n",
       "  <tbody>\n",
       "    <tr>\n",
       "      <th>0</th>\n",
       "      <td>Luxury &amp; Premium &amp; Mainstream</td>\n",
       "      <td>Soft Luxury</td>\n",
       "      <td>Versace</td>\n",
       "      <td>Capri Holdings</td>\n",
       "      <td>United States of America</td>\n",
       "      <td>Capri Holdings</td>\n",
       "      <td>New York Stock Exchange</td>\n",
       "    </tr>\n",
       "    <tr>\n",
       "      <th>1</th>\n",
       "      <td>Luxury &amp; Premium &amp; Mainstream</td>\n",
       "      <td>Luxury &amp; Premium &amp; Mainstream</td>\n",
       "      <td>Versace</td>\n",
       "      <td>Capri Holdings</td>\n",
       "      <td>United States of America</td>\n",
       "      <td>Capri Holdings</td>\n",
       "      <td>New York Stock Exchange</td>\n",
       "    </tr>\n",
       "    <tr>\n",
       "      <th>2</th>\n",
       "      <td>Luxury &amp; Premium &amp; Mainstream</td>\n",
       "      <td>Soft Luxury</td>\n",
       "      <td>Versace</td>\n",
       "      <td>Capri Holdings</td>\n",
       "      <td>United States of America</td>\n",
       "      <td>Capri Holdings</td>\n",
       "      <td>New York Stock Exchange</td>\n",
       "    </tr>\n",
       "    <tr>\n",
       "      <th>3</th>\n",
       "      <td>Luxury &amp; Premium &amp; Mainstream</td>\n",
       "      <td>Luxury &amp; Premium &amp; Mainstream</td>\n",
       "      <td>Versace</td>\n",
       "      <td>Capri Holdings</td>\n",
       "      <td>United States of America</td>\n",
       "      <td>Capri Holdings</td>\n",
       "      <td>New York Stock Exchange</td>\n",
       "    </tr>\n",
       "    <tr>\n",
       "      <th>4</th>\n",
       "      <td>Luxury &amp; Premium &amp; Mainstream</td>\n",
       "      <td>US Softlines Analyst Interest List</td>\n",
       "      <td>Versace</td>\n",
       "      <td>Capri Holdings</td>\n",
       "      <td>United States of America</td>\n",
       "      <td>Capri Holdings</td>\n",
       "      <td>New York Stock Exchange</td>\n",
       "    </tr>\n",
       "  </tbody>\n",
       "</table>\n",
       "</div>"
      ],
      "text/plain": [
       "                   compset_group                             compset  \\\n",
       "0  Luxury & Premium & Mainstream                         Soft Luxury   \n",
       "1  Luxury & Premium & Mainstream       Luxury & Premium & Mainstream   \n",
       "2  Luxury & Premium & Mainstream                         Soft Luxury   \n",
       "3  Luxury & Premium & Mainstream       Luxury & Premium & Mainstream   \n",
       "4  Luxury & Premium & Mainstream  US Softlines Analyst Interest List   \n",
       "\n",
       "  business_entity_doing_business_as_name legal_entity_name  \\\n",
       "0                                Versace    Capri Holdings   \n",
       "1                                Versace    Capri Holdings   \n",
       "2                                Versace    Capri Holdings   \n",
       "3                                Versace    Capri Holdings   \n",
       "4                                Versace    Capri Holdings   \n",
       "\n",
       "      domicile_country_name ultimate_parent_legal_entity_name  \\\n",
       "0  United States of America                    Capri Holdings   \n",
       "1  United States of America                    Capri Holdings   \n",
       "2  United States of America                    Capri Holdings   \n",
       "3  United States of America                    Capri Holdings   \n",
       "4  United States of America                    Capri Holdings   \n",
       "\n",
       "     primary_exchange_name  \n",
       "0  New York Stock Exchange  \n",
       "1  New York Stock Exchange  \n",
       "2  New York Stock Exchange  \n",
       "3  New York Stock Exchange  \n",
       "4  New York Stock Exchange  "
      ]
     },
     "execution_count": 44,
     "metadata": {},
     "output_type": "execute_result"
    }
   ],
   "source": [
    "df[cat_vars].head()"
   ]
  },
  {
   "cell_type": "markdown",
   "id": "3d235c3c-602b-47bf-9c36-54f4ebf132e4",
   "metadata": {},
   "source": [
    "**Hypothesis**\n",
    "\n",
    "BE -> (1) Legal Entity\n",
    "BE -> (1) Domicile Country\n",
    "LegalE <-> Domicile Country\n",
    "\n",
    "PrimaryExchangeName = Ultimate Parent "
   ]
  },
  {
   "cell_type": "code",
   "execution_count": 64,
   "id": "d9a52f56-2e0f-4ada-8466-24feecad6f29",
   "metadata": {},
   "outputs": [
    {
     "name": "stdout",
     "output_type": "stream",
     "text": [
      "For each ultimate_parent_legal_entity_name there is up to 2 of primary_exchange_name\n",
      "For each primary_exchange_name there is up to 68 of ultimate_parent_legal_entity_name\n"
     ]
    },
    {
     "data": {
      "text/plain": [
       "{'ultimate_parent_legal_entity_name': 2, 'primary_exchange_name': 68}"
      ]
     },
     "execution_count": 64,
     "metadata": {},
     "output_type": "execute_result"
    }
   ],
   "source": [
    "#df[[\"ultimate_parent_legal_entity_name\", \"primary_exchange_name\"]].drop_duplicates()\n",
    "def check_max_correspondence(varname1, varname2, varname1Str=\"max1\", varname2Str = \"max2\", df=df):\n",
    "    max1=df.drop_duplicates([varname1, varname2]).groupby(varname1).count()[varname2].max()\n",
    "    max2=df.drop_duplicates([varname1, varname2]).groupby(varname2).count()[varname1].max()\n",
    "    print(f\"For each {varname1Str} there is up to {max1} of {varname2Str}\")\n",
    "    print(f\"For each {varname2Str} there is up to {max2} of {varname1Str}\")\n",
    "    return {varname1Str : max1, varname2Str: max2}\n",
    "    \n",
    "check_max_correspondence(\"ultimate_parent_legal_entity_name\", \"primary_exchange_name\",\n",
    "                         \"ultimate_parent_legal_entity_name\", \"primary_exchange_name\")"
   ]
  },
  {
   "cell_type": "code",
   "execution_count": null,
   "id": "9291c826-1cc6-492d-83e0-775f89cbb5e0",
   "metadata": {},
   "outputs": [],
   "source": [
    "df.drop_duplicates([varname1, varname2]).groupby(varname1).count()[varname2].max"
   ]
  },
  {
   "cell_type": "code",
   "execution_count": 170,
   "id": "b463657f-36ca-414e-a15c-2c186c996316",
   "metadata": {},
   "outputs": [
    {
     "name": "stdout",
     "output_type": "stream",
     "text": [
      "For each business_entity_doing_business_as_name there is up to 1 of domicile_country_name\n",
      "For each domicile_country_name there is up to 122 of business_entity_doing_business_as_name\n"
     ]
    },
    {
     "data": {
      "text/plain": [
       "{'business_entity_doing_business_as_name': 1, 'domicile_country_name': 122}"
      ]
     },
     "execution_count": 170,
     "metadata": {},
     "output_type": "execute_result"
    }
   ],
   "source": [
    "check_max_correspondence(\"business_entity_doing_business_as_name\", \"domicile_country_name\",\n",
    "                         \"business_entity_doing_business_as_name\", \"domicile_country_name\")"
   ]
  },
  {
   "cell_type": "code",
   "execution_count": 169,
   "id": "9cb50c9d-55d2-43ff-b155-514db321f97d",
   "metadata": {},
   "outputs": [
    {
     "name": "stdout",
     "output_type": "stream",
     "text": [
      "For each legal_entity_name there is up to 1 of domicile_country_name\n",
      "For each domicile_country_name there is up to 122 of legal_entity_name\n"
     ]
    },
    {
     "data": {
      "text/plain": [
       "{'legal_entity_name': 1, 'domicile_country_name': 122}"
      ]
     },
     "execution_count": 169,
     "metadata": {},
     "output_type": "execute_result"
    }
   ],
   "source": [
    "check_max_correspondence(\"legal_entity_name\", \"domicile_country_name\",\n",
    "                         \"legal_entity_name\", \"domicile_country_name\")"
   ]
  },
  {
   "cell_type": "code",
   "execution_count": 168,
   "id": "9b996a95-0512-470f-bc35-722293ab08d9",
   "metadata": {},
   "outputs": [
    {
     "name": "stdout",
     "output_type": "stream",
     "text": [
      "For each legal_entity_name there is up to 10 of compset\n",
      "For each compset there is up to 158 of legal_entity_name\n"
     ]
    },
    {
     "data": {
      "text/plain": [
       "{'legal_entity_name': 10, 'compset': 158}"
      ]
     },
     "execution_count": 168,
     "metadata": {},
     "output_type": "execute_result"
    }
   ],
   "source": [
    "check_max_correspondence(\"legal_entity_name\", \"compset\",\n",
    "                         \"legal_entity_name\", \"compset\")"
   ]
  },
  {
   "cell_type": "code",
   "execution_count": 167,
   "id": "7d3e5668-5d22-4913-b15c-fe63e8b117eb",
   "metadata": {},
   "outputs": [
    {
     "name": "stdout",
     "output_type": "stream",
     "text": [
      "For each business_entity_doing_business_as_name there is up to 10 of compset\n",
      "For each compset there is up to 158 of business_entity_doing_business_as_name\n"
     ]
    },
    {
     "data": {
      "text/plain": [
       "{'business_entity_doing_business_as_name': 10, 'compset': 158}"
      ]
     },
     "execution_count": 167,
     "metadata": {},
     "output_type": "execute_result"
    }
   ],
   "source": [
    "check_max_correspondence(\"business_entity_doing_business_as_name\", \"compset\",\n",
    "                         \"business_entity_doing_business_as_name\", \"compset\")"
   ]
  },
  {
   "cell_type": "code",
   "execution_count": 174,
   "id": "c664b1fb-f398-417b-a45b-f1b009aab9ce",
   "metadata": {},
   "outputs": [
    {
     "name": "stdout",
     "output_type": "stream",
     "text": [
      "For each legal_entity_name there is up to 1 of business_entity_doing_business_as_name\n",
      "For each business_entity_doing_business_as_name there is up to 1 of legal_entity_name\n"
     ]
    },
    {
     "data": {
      "text/plain": [
       "{'legal_entity_name': 1, 'business_entity_doing_business_as_name': 1}"
      ]
     },
     "execution_count": 174,
     "metadata": {},
     "output_type": "execute_result"
    }
   ],
   "source": [
    "check_max_correspondence(\"legal_entity_name\", \"business_entity_doing_business_as_name\",\n",
    "                         \"legal_entity_name\", \"business_entity_doing_business_as_name\")"
   ]
  },
  {
   "cell_type": "code",
   "execution_count": 165,
   "id": "884efcb9-f6c6-4682-86e1-5a1d69c04897",
   "metadata": {},
   "outputs": [
    {
     "ename": "NameError",
     "evalue": "name 'varname1' is not defined",
     "output_type": "error",
     "traceback": [
      "\u001b[0;31m---------------------------------------------------------------------------\u001b[0m",
      "\u001b[0;31mNameError\u001b[0m                                 Traceback (most recent call last)",
      "\u001b[0;32m/var/folders/xx/6tz780r13t57q640kxzkc46w0000gn/T/ipykernel_47719/395467551.py\u001b[0m in \u001b[0;36m<module>\u001b[0;34m\u001b[0m\n\u001b[0;32m----> 1\u001b[0;31m \u001b[0mdf\u001b[0m\u001b[0;34m.\u001b[0m\u001b[0mdrop_duplicates\u001b[0m\u001b[0;34m(\u001b[0m\u001b[0;34m[\u001b[0m\u001b[0;34m\"legal_entity_name\"\u001b[0m\u001b[0;34m,\u001b[0m \u001b[0;34m\"business_entity_doing_business_as_name\"\u001b[0m\u001b[0;34m]\u001b[0m\u001b[0;34m)\u001b[0m\u001b[0;34m.\u001b[0m\u001b[0mgroupby\u001b[0m\u001b[0;34m(\u001b[0m\u001b[0mvarname1\u001b[0m\u001b[0;34m)\u001b[0m\u001b[0;34m.\u001b[0m\u001b[0mcount\u001b[0m\u001b[0;34m(\u001b[0m\u001b[0;34m)\u001b[0m\u001b[0;34m[\u001b[0m\u001b[0mvarname2\u001b[0m\u001b[0;34m]\u001b[0m\u001b[0;34m\u001b[0m\u001b[0;34m\u001b[0m\u001b[0m\n\u001b[0m",
      "\u001b[0;31mNameError\u001b[0m: name 'varname1' is not defined"
     ]
    }
   ],
   "source": [
    "df.drop_duplicates([\"legal_entity_name\", \"business_entity_doing_business_as_name\"]).groupby(varname1).count()[varname2]"
   ]
  },
  {
   "cell_type": "code",
   "execution_count": 166,
   "id": "ee3670ba-cbf0-4021-8627-a8a6f477fe66",
   "metadata": {},
   "outputs": [
    {
     "name": "stdout",
     "output_type": "stream",
     "text": [
      "For each compset_group there is up to 111 of business_entity_doing_business_as_name\n",
      "For each business_entity_doing_business_as_name there is up to 3 of compset_group\n"
     ]
    },
    {
     "data": {
      "text/plain": [
       "{'compset_group': 111, 'business_entity_doing_business_as_name': 3}"
      ]
     },
     "execution_count": 166,
     "metadata": {},
     "output_type": "execute_result"
    }
   ],
   "source": [
    "check_max_correspondence(\"compset_group\", \"business_entity_doing_business_as_name\",\n",
    "                         \"compset_group\", \"business_entity_doing_business_as_name\")                        "
   ]
  },
  {
   "cell_type": "code",
   "execution_count": 80,
   "id": "1a4cd6e0-3500-403a-8546-7083518abb90",
   "metadata": {},
   "outputs": [
    {
     "data": {
      "text/plain": [
       "business_entity_doing_business_as_name\n",
       "24S                   1\n",
       "Pedigree              1\n",
       "Peloton               1\n",
       "Peoples Jewellers     1\n",
       "Pepsi                 1\n",
       "                     ..\n",
       "Five Below            1\n",
       "Flywheel Sports       1\n",
       "Field Roast           1\n",
       "shopDisney            1\n",
       "All Brands           20\n",
       "Name: compset_group, Length: 706, dtype: int64"
      ]
     },
     "execution_count": 80,
     "metadata": {},
     "output_type": "execute_result"
    }
   ],
   "source": [
    "df.drop_duplicates([\"compset_group\", \"business_entity_doing_business_as_name\"]).groupby(\"business_entity_doing_business_as_name\").count()[\"compset_group\"].sort_values()"
   ]
  },
  {
   "cell_type": "code",
   "execution_count": null,
   "id": "1f51561b-55dd-4a38-9b8c-5331cfb3020a",
   "metadata": {},
   "outputs": [],
   "source": []
  },
  {
   "cell_type": "markdown",
   "id": "d4783d21-6198-458f-8171-4982570eea51",
   "metadata": {},
   "source": [
    "Data Cleaning:\n",
    "1. ; is an na in the county\n",
    "2. ;France to France\n",
    "3. China;Hong Kong => Honking"
   ]
  },
  {
   "cell_type": "code",
   "execution_count": 60,
   "id": "6e9b4cd0-0c0f-4793-9f65-ed933a6fd978",
   "metadata": {},
   "outputs": [
    {
     "data": {
      "text/plain": [
       "United States of America                                193509\n",
       "France                                                   62164\n",
       "Switzerland                                              44746\n",
       "United Kingdom of Great Britain and Northern Ireland     31368\n",
       "Brazil                                                   17243\n",
       "Hong Kong                                                16151\n",
       "Japan                                                    15357\n",
       "Germany                                                  13438\n",
       "Belgium                                                  12644\n",
       "Italy                                                    10416\n",
       "Spain                                                    10010\n",
       "Netherlands                                               6280\n",
       "Canada                                                    6170\n",
       "Sweden                                                    5460\n",
       "Australia                                                 4004\n",
       "New Zealand                                               2197\n",
       "Denmark                                                   1820\n",
       ";                                                         1020\n",
       "Philippines                                                910\n",
       "Poland                                                     910\n",
       "Belgium;                                                   806\n",
       "Singapore                                                  455\n",
       ";France                                                    455\n",
       "Mexico                                                     411\n",
       "China                                                      390\n",
       "China;Hong Kong                                            255\n",
       "Name: domicile_country_name, dtype: int64"
      ]
     },
     "execution_count": 60,
     "metadata": {},
     "output_type": "execute_result"
    }
   ],
   "source": [
    "df[\"domicile_country_name\"].value_counts()"
   ]
  },
  {
   "cell_type": "code",
   "execution_count": 284,
   "id": "20d0b608-7f2c-4ca7-9c69-17376f2a0213",
   "metadata": {},
   "outputs": [
    {
     "data": {
      "text/html": [
       "<div>\n",
       "<style scoped>\n",
       "    .dataframe tbody tr th:only-of-type {\n",
       "        vertical-align: middle;\n",
       "    }\n",
       "\n",
       "    .dataframe tbody tr th {\n",
       "        vertical-align: top;\n",
       "    }\n",
       "\n",
       "    .dataframe thead th {\n",
       "        text-align: right;\n",
       "    }\n",
       "</style>\n",
       "<table border=\"1\" class=\"dataframe\">\n",
       "  <thead>\n",
       "    <tr style=\"text-align: right;\">\n",
       "      <th></th>\n",
       "      <th>period</th>\n",
       "      <th>period_end_date</th>\n",
       "      <th>compset_group</th>\n",
       "      <th>compset</th>\n",
       "      <th>business_entity_doing_business_as_name</th>\n",
       "      <th>legal_entity_name</th>\n",
       "      <th>domicile_country_name</th>\n",
       "      <th>ultimate_parent_legal_entity_name</th>\n",
       "      <th>primary_exchange_name</th>\n",
       "      <th>calculation_type</th>\n",
       "      <th>followers</th>\n",
       "      <th>pictures</th>\n",
       "      <th>videos</th>\n",
       "      <th>comments</th>\n",
       "      <th>likes</th>\n",
       "      <th>total_involvement</th>\n",
       "      <th>total_company_activity</th>\n",
       "      <th>conversion_total</th>\n",
       "      <th>conversion_rate_total</th>\n",
       "      <th>likes_per_picture</th>\n",
       "      <th>likes_per_video</th>\n",
       "      <th>comments_per_picture</th>\n",
       "      <th>comments_per_video</th>\n",
       "      <th>content_type</th>\n",
       "      <th>ratio_of_videos</th>\n",
       "      <th>ratio_of_pictures</th>\n",
       "    </tr>\n",
       "  </thead>\n",
       "  <tbody>\n",
       "    <tr>\n",
       "      <th>577535</th>\n",
       "      <td>Weekly</td>\n",
       "      <td>2023-01-28</td>\n",
       "      <td>Beverages</td>\n",
       "      <td>Alcohol</td>\n",
       "      <td>Antarctica</td>\n",
       "      <td>Anheuser-Busch;Cia Antarctica Paulista-Industr...</td>\n",
       "      <td>Belgium;</td>\n",
       "      <td>Anheuser-Busch;Anheuser-Busch</td>\n",
       "      <td>Nyse Euronext - Euronext Brussels;</td>\n",
       "      <td>Metric Value</td>\n",
       "      <td>134791.0</td>\n",
       "      <td>0.0</td>\n",
       "      <td>0.0</td>\n",
       "      <td>0.0</td>\n",
       "      <td>0.0</td>\n",
       "      <td>0.0</td>\n",
       "      <td>0.0</td>\n",
       "      <td>NaN</td>\n",
       "      <td>0.000000</td>\n",
       "      <td>NaN</td>\n",
       "      <td>NaN</td>\n",
       "      <td>NaN</td>\n",
       "      <td>NaN</td>\n",
       "      <td>NaN</td>\n",
       "      <td>NaN</td>\n",
       "      <td>NaN</td>\n",
       "    </tr>\n",
       "    <tr>\n",
       "      <th>577536</th>\n",
       "      <td>Weekly</td>\n",
       "      <td>2022-01-01</td>\n",
       "      <td>Beverages</td>\n",
       "      <td>Alcohol</td>\n",
       "      <td>Antarctica</td>\n",
       "      <td>Anheuser-Busch;Cia Antarctica Paulista-Industr...</td>\n",
       "      <td>Belgium;</td>\n",
       "      <td>Anheuser-Busch;Anheuser-Busch</td>\n",
       "      <td>Nyse Euronext - Euronext Brussels;</td>\n",
       "      <td>Metric Value</td>\n",
       "      <td>96571.0</td>\n",
       "      <td>11.0</td>\n",
       "      <td>0.0</td>\n",
       "      <td>194.0</td>\n",
       "      <td>2123.0</td>\n",
       "      <td>2317.0</td>\n",
       "      <td>2134.0</td>\n",
       "      <td>0.023993</td>\n",
       "      <td>0.023993</td>\n",
       "      <td>193.00</td>\n",
       "      <td>NaN</td>\n",
       "      <td>17.636364</td>\n",
       "      <td>NaN</td>\n",
       "      <td>0.0</td>\n",
       "      <td>0.0</td>\n",
       "      <td>1.0</td>\n",
       "    </tr>\n",
       "    <tr>\n",
       "      <th>577537</th>\n",
       "      <td>Weekly</td>\n",
       "      <td>2016-10-01</td>\n",
       "      <td>Beverages</td>\n",
       "      <td>Alcohol</td>\n",
       "      <td>Antarctica</td>\n",
       "      <td>Anheuser-Busch;Cia Antarctica Paulista-Industr...</td>\n",
       "      <td>Belgium;</td>\n",
       "      <td>Anheuser-Busch;Anheuser-Busch</td>\n",
       "      <td>Nyse Euronext - Euronext Brussels;</td>\n",
       "      <td>Metric Value</td>\n",
       "      <td>NaN</td>\n",
       "      <td>0.0</td>\n",
       "      <td>0.0</td>\n",
       "      <td>0.0</td>\n",
       "      <td>0.0</td>\n",
       "      <td>0.0</td>\n",
       "      <td>0.0</td>\n",
       "      <td>NaN</td>\n",
       "      <td>NaN</td>\n",
       "      <td>NaN</td>\n",
       "      <td>NaN</td>\n",
       "      <td>NaN</td>\n",
       "      <td>NaN</td>\n",
       "      <td>NaN</td>\n",
       "      <td>NaN</td>\n",
       "      <td>NaN</td>\n",
       "    </tr>\n",
       "    <tr>\n",
       "      <th>577538</th>\n",
       "      <td>Weekly</td>\n",
       "      <td>2019-10-19</td>\n",
       "      <td>Beverages</td>\n",
       "      <td>Beverages</td>\n",
       "      <td>Antarctica</td>\n",
       "      <td>Anheuser-Busch;Cia Antarctica Paulista-Industr...</td>\n",
       "      <td>Belgium;</td>\n",
       "      <td>Anheuser-Busch;Anheuser-Busch</td>\n",
       "      <td>Nyse Euronext - Euronext Brussels;</td>\n",
       "      <td>Metric Value</td>\n",
       "      <td>76904.0</td>\n",
       "      <td>0.0</td>\n",
       "      <td>0.0</td>\n",
       "      <td>0.0</td>\n",
       "      <td>0.0</td>\n",
       "      <td>0.0</td>\n",
       "      <td>0.0</td>\n",
       "      <td>NaN</td>\n",
       "      <td>0.000000</td>\n",
       "      <td>NaN</td>\n",
       "      <td>NaN</td>\n",
       "      <td>NaN</td>\n",
       "      <td>NaN</td>\n",
       "      <td>NaN</td>\n",
       "      <td>NaN</td>\n",
       "      <td>NaN</td>\n",
       "    </tr>\n",
       "    <tr>\n",
       "      <th>577539</th>\n",
       "      <td>Weekly</td>\n",
       "      <td>2022-06-25</td>\n",
       "      <td>Beverages</td>\n",
       "      <td>Beverages</td>\n",
       "      <td>Antarctica</td>\n",
       "      <td>Anheuser-Busch;Cia Antarctica Paulista-Industr...</td>\n",
       "      <td>Belgium;</td>\n",
       "      <td>Anheuser-Busch;Anheuser-Busch</td>\n",
       "      <td>Nyse Euronext - Euronext Brussels;</td>\n",
       "      <td>Metric Value</td>\n",
       "      <td>106107.0</td>\n",
       "      <td>1.0</td>\n",
       "      <td>0.0</td>\n",
       "      <td>6.0</td>\n",
       "      <td>84.0</td>\n",
       "      <td>90.0</td>\n",
       "      <td>85.0</td>\n",
       "      <td>0.000848</td>\n",
       "      <td>0.000848</td>\n",
       "      <td>84.00</td>\n",
       "      <td>NaN</td>\n",
       "      <td>6.000000</td>\n",
       "      <td>NaN</td>\n",
       "      <td>0.0</td>\n",
       "      <td>0.0</td>\n",
       "      <td>1.0</td>\n",
       "    </tr>\n",
       "    <tr>\n",
       "      <th>...</th>\n",
       "      <td>...</td>\n",
       "      <td>...</td>\n",
       "      <td>...</td>\n",
       "      <td>...</td>\n",
       "      <td>...</td>\n",
       "      <td>...</td>\n",
       "      <td>...</td>\n",
       "      <td>...</td>\n",
       "      <td>...</td>\n",
       "      <td>...</td>\n",
       "      <td>...</td>\n",
       "      <td>...</td>\n",
       "      <td>...</td>\n",
       "      <td>...</td>\n",
       "      <td>...</td>\n",
       "      <td>...</td>\n",
       "      <td>...</td>\n",
       "      <td>...</td>\n",
       "      <td>...</td>\n",
       "      <td>...</td>\n",
       "      <td>...</td>\n",
       "      <td>...</td>\n",
       "      <td>...</td>\n",
       "      <td>...</td>\n",
       "      <td>...</td>\n",
       "      <td>...</td>\n",
       "    </tr>\n",
       "    <tr>\n",
       "      <th>578336</th>\n",
       "      <td>Weekly</td>\n",
       "      <td>2020-01-04</td>\n",
       "      <td>Beverages</td>\n",
       "      <td>Beverages</td>\n",
       "      <td>Antarctica</td>\n",
       "      <td>Anheuser-Busch;Cia Antarctica Paulista-Industr...</td>\n",
       "      <td>Belgium;</td>\n",
       "      <td>Anheuser-Busch;Anheuser-Busch</td>\n",
       "      <td>Nyse Euronext - Euronext Brussels;</td>\n",
       "      <td>Metric Value</td>\n",
       "      <td>76975.0</td>\n",
       "      <td>0.0</td>\n",
       "      <td>0.0</td>\n",
       "      <td>0.0</td>\n",
       "      <td>0.0</td>\n",
       "      <td>0.0</td>\n",
       "      <td>0.0</td>\n",
       "      <td>NaN</td>\n",
       "      <td>0.000000</td>\n",
       "      <td>NaN</td>\n",
       "      <td>NaN</td>\n",
       "      <td>NaN</td>\n",
       "      <td>NaN</td>\n",
       "      <td>NaN</td>\n",
       "      <td>NaN</td>\n",
       "      <td>NaN</td>\n",
       "    </tr>\n",
       "    <tr>\n",
       "      <th>578337</th>\n",
       "      <td>Weekly</td>\n",
       "      <td>2020-04-25</td>\n",
       "      <td>Beverages</td>\n",
       "      <td>Beverages</td>\n",
       "      <td>Antarctica</td>\n",
       "      <td>Anheuser-Busch;Cia Antarctica Paulista-Industr...</td>\n",
       "      <td>Belgium;</td>\n",
       "      <td>Anheuser-Busch;Anheuser-Busch</td>\n",
       "      <td>Nyse Euronext - Euronext Brussels;</td>\n",
       "      <td>Metric Value</td>\n",
       "      <td>76505.0</td>\n",
       "      <td>0.0</td>\n",
       "      <td>0.0</td>\n",
       "      <td>0.0</td>\n",
       "      <td>0.0</td>\n",
       "      <td>0.0</td>\n",
       "      <td>0.0</td>\n",
       "      <td>NaN</td>\n",
       "      <td>0.000000</td>\n",
       "      <td>NaN</td>\n",
       "      <td>NaN</td>\n",
       "      <td>NaN</td>\n",
       "      <td>NaN</td>\n",
       "      <td>NaN</td>\n",
       "      <td>NaN</td>\n",
       "      <td>NaN</td>\n",
       "    </tr>\n",
       "    <tr>\n",
       "      <th>578338</th>\n",
       "      <td>Weekly</td>\n",
       "      <td>2016-04-09</td>\n",
       "      <td>Beverages</td>\n",
       "      <td>Beverages</td>\n",
       "      <td>Antarctica</td>\n",
       "      <td>Anheuser-Busch;Cia Antarctica Paulista-Industr...</td>\n",
       "      <td>Belgium;</td>\n",
       "      <td>Anheuser-Busch;Anheuser-Busch</td>\n",
       "      <td>Nyse Euronext - Euronext Brussels;</td>\n",
       "      <td>Metric Value</td>\n",
       "      <td>NaN</td>\n",
       "      <td>0.0</td>\n",
       "      <td>0.0</td>\n",
       "      <td>0.0</td>\n",
       "      <td>0.0</td>\n",
       "      <td>0.0</td>\n",
       "      <td>0.0</td>\n",
       "      <td>NaN</td>\n",
       "      <td>NaN</td>\n",
       "      <td>NaN</td>\n",
       "      <td>NaN</td>\n",
       "      <td>NaN</td>\n",
       "      <td>NaN</td>\n",
       "      <td>NaN</td>\n",
       "      <td>NaN</td>\n",
       "      <td>NaN</td>\n",
       "    </tr>\n",
       "    <tr>\n",
       "      <th>578339</th>\n",
       "      <td>Weekly</td>\n",
       "      <td>2018-05-05</td>\n",
       "      <td>Beverages</td>\n",
       "      <td>Beverages</td>\n",
       "      <td>Antarctica</td>\n",
       "      <td>Anheuser-Busch;Cia Antarctica Paulista-Industr...</td>\n",
       "      <td>Belgium;</td>\n",
       "      <td>Anheuser-Busch;Anheuser-Busch</td>\n",
       "      <td>Nyse Euronext - Euronext Brussels;</td>\n",
       "      <td>Metric Value</td>\n",
       "      <td>NaN</td>\n",
       "      <td>4.0</td>\n",
       "      <td>0.0</td>\n",
       "      <td>86.0</td>\n",
       "      <td>3289.0</td>\n",
       "      <td>3375.0</td>\n",
       "      <td>3293.0</td>\n",
       "      <td>NaN</td>\n",
       "      <td>NaN</td>\n",
       "      <td>822.25</td>\n",
       "      <td>NaN</td>\n",
       "      <td>21.500000</td>\n",
       "      <td>NaN</td>\n",
       "      <td>0.0</td>\n",
       "      <td>0.0</td>\n",
       "      <td>1.0</td>\n",
       "    </tr>\n",
       "    <tr>\n",
       "      <th>578340</th>\n",
       "      <td>Weekly</td>\n",
       "      <td>2019-06-22</td>\n",
       "      <td>Beverages</td>\n",
       "      <td>Beverages</td>\n",
       "      <td>Antarctica</td>\n",
       "      <td>Anheuser-Busch;Cia Antarctica Paulista-Industr...</td>\n",
       "      <td>Belgium;</td>\n",
       "      <td>Anheuser-Busch;Anheuser-Busch</td>\n",
       "      <td>Nyse Euronext - Euronext Brussels;</td>\n",
       "      <td>Metric Value</td>\n",
       "      <td>77223.0</td>\n",
       "      <td>1.0</td>\n",
       "      <td>0.0</td>\n",
       "      <td>21.0</td>\n",
       "      <td>445.0</td>\n",
       "      <td>466.0</td>\n",
       "      <td>446.0</td>\n",
       "      <td>0.006034</td>\n",
       "      <td>0.006034</td>\n",
       "      <td>445.00</td>\n",
       "      <td>NaN</td>\n",
       "      <td>21.000000</td>\n",
       "      <td>NaN</td>\n",
       "      <td>0.0</td>\n",
       "      <td>0.0</td>\n",
       "      <td>1.0</td>\n",
       "    </tr>\n",
       "  </tbody>\n",
       "</table>\n",
       "<p>806 rows × 26 columns</p>\n",
       "</div>"
      ],
      "text/plain": [
       "        period period_end_date compset_group    compset  \\\n",
       "577535  Weekly      2023-01-28     Beverages    Alcohol   \n",
       "577536  Weekly      2022-01-01     Beverages    Alcohol   \n",
       "577537  Weekly      2016-10-01     Beverages    Alcohol   \n",
       "577538  Weekly      2019-10-19     Beverages  Beverages   \n",
       "577539  Weekly      2022-06-25     Beverages  Beverages   \n",
       "...        ...             ...           ...        ...   \n",
       "578336  Weekly      2020-01-04     Beverages  Beverages   \n",
       "578337  Weekly      2020-04-25     Beverages  Beverages   \n",
       "578338  Weekly      2016-04-09     Beverages  Beverages   \n",
       "578339  Weekly      2018-05-05     Beverages  Beverages   \n",
       "578340  Weekly      2019-06-22     Beverages  Beverages   \n",
       "\n",
       "       business_entity_doing_business_as_name  \\\n",
       "577535                             Antarctica   \n",
       "577536                             Antarctica   \n",
       "577537                             Antarctica   \n",
       "577538                             Antarctica   \n",
       "577539                             Antarctica   \n",
       "...                                       ...   \n",
       "578336                             Antarctica   \n",
       "578337                             Antarctica   \n",
       "578338                             Antarctica   \n",
       "578339                             Antarctica   \n",
       "578340                             Antarctica   \n",
       "\n",
       "                                        legal_entity_name  \\\n",
       "577535  Anheuser-Busch;Cia Antarctica Paulista-Industr...   \n",
       "577536  Anheuser-Busch;Cia Antarctica Paulista-Industr...   \n",
       "577537  Anheuser-Busch;Cia Antarctica Paulista-Industr...   \n",
       "577538  Anheuser-Busch;Cia Antarctica Paulista-Industr...   \n",
       "577539  Anheuser-Busch;Cia Antarctica Paulista-Industr...   \n",
       "...                                                   ...   \n",
       "578336  Anheuser-Busch;Cia Antarctica Paulista-Industr...   \n",
       "578337  Anheuser-Busch;Cia Antarctica Paulista-Industr...   \n",
       "578338  Anheuser-Busch;Cia Antarctica Paulista-Industr...   \n",
       "578339  Anheuser-Busch;Cia Antarctica Paulista-Industr...   \n",
       "578340  Anheuser-Busch;Cia Antarctica Paulista-Industr...   \n",
       "\n",
       "       domicile_country_name ultimate_parent_legal_entity_name  \\\n",
       "577535              Belgium;     Anheuser-Busch;Anheuser-Busch   \n",
       "577536              Belgium;     Anheuser-Busch;Anheuser-Busch   \n",
       "577537              Belgium;     Anheuser-Busch;Anheuser-Busch   \n",
       "577538              Belgium;     Anheuser-Busch;Anheuser-Busch   \n",
       "577539              Belgium;     Anheuser-Busch;Anheuser-Busch   \n",
       "...                      ...                               ...   \n",
       "578336              Belgium;     Anheuser-Busch;Anheuser-Busch   \n",
       "578337              Belgium;     Anheuser-Busch;Anheuser-Busch   \n",
       "578338              Belgium;     Anheuser-Busch;Anheuser-Busch   \n",
       "578339              Belgium;     Anheuser-Busch;Anheuser-Busch   \n",
       "578340              Belgium;     Anheuser-Busch;Anheuser-Busch   \n",
       "\n",
       "                     primary_exchange_name calculation_type  followers  \\\n",
       "577535  Nyse Euronext - Euronext Brussels;     Metric Value   134791.0   \n",
       "577536  Nyse Euronext - Euronext Brussels;     Metric Value    96571.0   \n",
       "577537  Nyse Euronext - Euronext Brussels;     Metric Value        NaN   \n",
       "577538  Nyse Euronext - Euronext Brussels;     Metric Value    76904.0   \n",
       "577539  Nyse Euronext - Euronext Brussels;     Metric Value   106107.0   \n",
       "...                                    ...              ...        ...   \n",
       "578336  Nyse Euronext - Euronext Brussels;     Metric Value    76975.0   \n",
       "578337  Nyse Euronext - Euronext Brussels;     Metric Value    76505.0   \n",
       "578338  Nyse Euronext - Euronext Brussels;     Metric Value        NaN   \n",
       "578339  Nyse Euronext - Euronext Brussels;     Metric Value        NaN   \n",
       "578340  Nyse Euronext - Euronext Brussels;     Metric Value    77223.0   \n",
       "\n",
       "        pictures  videos  comments   likes  total_involvement  \\\n",
       "577535       0.0     0.0       0.0     0.0                0.0   \n",
       "577536      11.0     0.0     194.0  2123.0             2317.0   \n",
       "577537       0.0     0.0       0.0     0.0                0.0   \n",
       "577538       0.0     0.0       0.0     0.0                0.0   \n",
       "577539       1.0     0.0       6.0    84.0               90.0   \n",
       "...          ...     ...       ...     ...                ...   \n",
       "578336       0.0     0.0       0.0     0.0                0.0   \n",
       "578337       0.0     0.0       0.0     0.0                0.0   \n",
       "578338       0.0     0.0       0.0     0.0                0.0   \n",
       "578339       4.0     0.0      86.0  3289.0             3375.0   \n",
       "578340       1.0     0.0      21.0   445.0              466.0   \n",
       "\n",
       "        total_company_activity  conversion_total  conversion_rate_total  \\\n",
       "577535                     0.0               NaN               0.000000   \n",
       "577536                  2134.0          0.023993               0.023993   \n",
       "577537                     0.0               NaN                    NaN   \n",
       "577538                     0.0               NaN               0.000000   \n",
       "577539                    85.0          0.000848               0.000848   \n",
       "...                        ...               ...                    ...   \n",
       "578336                     0.0               NaN               0.000000   \n",
       "578337                     0.0               NaN               0.000000   \n",
       "578338                     0.0               NaN                    NaN   \n",
       "578339                  3293.0               NaN                    NaN   \n",
       "578340                   446.0          0.006034               0.006034   \n",
       "\n",
       "        likes_per_picture  likes_per_video  comments_per_picture  \\\n",
       "577535                NaN              NaN                   NaN   \n",
       "577536             193.00              NaN             17.636364   \n",
       "577537                NaN              NaN                   NaN   \n",
       "577538                NaN              NaN                   NaN   \n",
       "577539              84.00              NaN              6.000000   \n",
       "...                   ...              ...                   ...   \n",
       "578336                NaN              NaN                   NaN   \n",
       "578337                NaN              NaN                   NaN   \n",
       "578338                NaN              NaN                   NaN   \n",
       "578339             822.25              NaN             21.500000   \n",
       "578340             445.00              NaN             21.000000   \n",
       "\n",
       "        comments_per_video  content_type  ratio_of_videos  ratio_of_pictures  \n",
       "577535                 NaN           NaN              NaN                NaN  \n",
       "577536                 NaN           0.0              0.0                1.0  \n",
       "577537                 NaN           NaN              NaN                NaN  \n",
       "577538                 NaN           NaN              NaN                NaN  \n",
       "577539                 NaN           0.0              0.0                1.0  \n",
       "...                    ...           ...              ...                ...  \n",
       "578336                 NaN           NaN              NaN                NaN  \n",
       "578337                 NaN           NaN              NaN                NaN  \n",
       "578338                 NaN           NaN              NaN                NaN  \n",
       "578339                 NaN           0.0              0.0                1.0  \n",
       "578340                 NaN           0.0              0.0                1.0  \n",
       "\n",
       "[806 rows x 26 columns]"
      ]
     },
     "execution_count": 284,
     "metadata": {},
     "output_type": "execute_result"
    }
   ],
   "source": [
    "df.loc[df[\"domicile_country_name\"] == \"Belgium;\"]"
   ]
  },
  {
   "cell_type": "code",
   "execution_count": 285,
   "id": "c209236c-ebce-4b60-b893-18b89c7445f2",
   "metadata": {},
   "outputs": [
    {
     "data": {
      "text/html": [
       "<div>\n",
       "<style scoped>\n",
       "    .dataframe tbody tr th:only-of-type {\n",
       "        vertical-align: middle;\n",
       "    }\n",
       "\n",
       "    .dataframe tbody tr th {\n",
       "        vertical-align: top;\n",
       "    }\n",
       "\n",
       "    .dataframe thead th {\n",
       "        text-align: right;\n",
       "    }\n",
       "</style>\n",
       "<table border=\"1\" class=\"dataframe\">\n",
       "  <thead>\n",
       "    <tr style=\"text-align: right;\">\n",
       "      <th></th>\n",
       "      <th>period</th>\n",
       "      <th>period_end_date</th>\n",
       "      <th>compset_group</th>\n",
       "      <th>compset</th>\n",
       "      <th>business_entity_doing_business_as_name</th>\n",
       "      <th>legal_entity_name</th>\n",
       "      <th>domicile_country_name</th>\n",
       "      <th>ultimate_parent_legal_entity_name</th>\n",
       "      <th>primary_exchange_name</th>\n",
       "      <th>calculation_type</th>\n",
       "      <th>followers</th>\n",
       "      <th>pictures</th>\n",
       "      <th>videos</th>\n",
       "      <th>comments</th>\n",
       "      <th>likes</th>\n",
       "      <th>total_involvement</th>\n",
       "      <th>total_company_activity</th>\n",
       "      <th>conversion_total</th>\n",
       "      <th>conversion_rate_total</th>\n",
       "      <th>likes_per_picture</th>\n",
       "      <th>likes_per_video</th>\n",
       "      <th>comments_per_picture</th>\n",
       "      <th>comments_per_video</th>\n",
       "      <th>content_type</th>\n",
       "      <th>ratio_of_videos</th>\n",
       "      <th>ratio_of_pictures</th>\n",
       "    </tr>\n",
       "  </thead>\n",
       "  <tbody>\n",
       "    <tr>\n",
       "      <th>577535</th>\n",
       "      <td>Weekly</td>\n",
       "      <td>2023-01-28</td>\n",
       "      <td>Beverages</td>\n",
       "      <td>Alcohol</td>\n",
       "      <td>Antarctica</td>\n",
       "      <td>Anheuser-Busch;Cia Antarctica Paulista-Industr...</td>\n",
       "      <td>Belgium;</td>\n",
       "      <td>Anheuser-Busch;Anheuser-Busch</td>\n",
       "      <td>Nyse Euronext - Euronext Brussels;</td>\n",
       "      <td>Metric Value</td>\n",
       "      <td>134791.0</td>\n",
       "      <td>0.0</td>\n",
       "      <td>0.0</td>\n",
       "      <td>0.0</td>\n",
       "      <td>0.0</td>\n",
       "      <td>0.0</td>\n",
       "      <td>0.0</td>\n",
       "      <td>NaN</td>\n",
       "      <td>0.000000</td>\n",
       "      <td>NaN</td>\n",
       "      <td>NaN</td>\n",
       "      <td>NaN</td>\n",
       "      <td>NaN</td>\n",
       "      <td>NaN</td>\n",
       "      <td>NaN</td>\n",
       "      <td>NaN</td>\n",
       "    </tr>\n",
       "    <tr>\n",
       "      <th>577536</th>\n",
       "      <td>Weekly</td>\n",
       "      <td>2022-01-01</td>\n",
       "      <td>Beverages</td>\n",
       "      <td>Alcohol</td>\n",
       "      <td>Antarctica</td>\n",
       "      <td>Anheuser-Busch;Cia Antarctica Paulista-Industr...</td>\n",
       "      <td>Belgium;</td>\n",
       "      <td>Anheuser-Busch;Anheuser-Busch</td>\n",
       "      <td>Nyse Euronext - Euronext Brussels;</td>\n",
       "      <td>Metric Value</td>\n",
       "      <td>96571.0</td>\n",
       "      <td>11.0</td>\n",
       "      <td>0.0</td>\n",
       "      <td>194.0</td>\n",
       "      <td>2123.0</td>\n",
       "      <td>2317.0</td>\n",
       "      <td>2134.0</td>\n",
       "      <td>0.023993</td>\n",
       "      <td>0.023993</td>\n",
       "      <td>193.0</td>\n",
       "      <td>NaN</td>\n",
       "      <td>17.636364</td>\n",
       "      <td>NaN</td>\n",
       "      <td>0.0</td>\n",
       "      <td>0.0</td>\n",
       "      <td>1.0</td>\n",
       "    </tr>\n",
       "  </tbody>\n",
       "</table>\n",
       "</div>"
      ],
      "text/plain": [
       "        period period_end_date compset_group  compset  \\\n",
       "577535  Weekly      2023-01-28     Beverages  Alcohol   \n",
       "577536  Weekly      2022-01-01     Beverages  Alcohol   \n",
       "\n",
       "       business_entity_doing_business_as_name  \\\n",
       "577535                             Antarctica   \n",
       "577536                             Antarctica   \n",
       "\n",
       "                                        legal_entity_name  \\\n",
       "577535  Anheuser-Busch;Cia Antarctica Paulista-Industr...   \n",
       "577536  Anheuser-Busch;Cia Antarctica Paulista-Industr...   \n",
       "\n",
       "       domicile_country_name ultimate_parent_legal_entity_name  \\\n",
       "577535              Belgium;     Anheuser-Busch;Anheuser-Busch   \n",
       "577536              Belgium;     Anheuser-Busch;Anheuser-Busch   \n",
       "\n",
       "                     primary_exchange_name calculation_type  followers  \\\n",
       "577535  Nyse Euronext - Euronext Brussels;     Metric Value   134791.0   \n",
       "577536  Nyse Euronext - Euronext Brussels;     Metric Value    96571.0   \n",
       "\n",
       "        pictures  videos  comments   likes  total_involvement  \\\n",
       "577535       0.0     0.0       0.0     0.0                0.0   \n",
       "577536      11.0     0.0     194.0  2123.0             2317.0   \n",
       "\n",
       "        total_company_activity  conversion_total  conversion_rate_total  \\\n",
       "577535                     0.0               NaN               0.000000   \n",
       "577536                  2134.0          0.023993               0.023993   \n",
       "\n",
       "        likes_per_picture  likes_per_video  comments_per_picture  \\\n",
       "577535                NaN              NaN                   NaN   \n",
       "577536              193.0              NaN             17.636364   \n",
       "\n",
       "        comments_per_video  content_type  ratio_of_videos  ratio_of_pictures  \n",
       "577535                 NaN           NaN              NaN                NaN  \n",
       "577536                 NaN           0.0              0.0                1.0  "
      ]
     },
     "execution_count": 285,
     "metadata": {},
     "output_type": "execute_result"
    }
   ],
   "source": [
    "df.loc[[577535, 577536]]"
   ]
  },
  {
   "cell_type": "markdown",
   "id": "09aca2f2-3afa-46e4-8247-2d95f4f5eb2b",
   "metadata": {},
   "source": [
    "## Some new vars creation"
   ]
  },
  {
   "cell_type": "code",
   "execution_count": 152,
   "id": "802ae7b0-0492-4616-b1a6-1f3b553cf091",
   "metadata": {},
   "outputs": [
    {
     "data": {
      "text/plain": [
       "business_entity_doing_business_as_name\n",
       "24S                  1\n",
       "3.1 Phillip Lim      1\n",
       "3CE                  1\n",
       "A. Lange & Soehne    1\n",
       "ANIMALE              1\n",
       "                    ..\n",
       "bareMinerals         1\n",
       "dd's Discounts       1\n",
       "e.l.f.               1\n",
       "iRobot               1\n",
       "shopDisney           1\n",
       "Name: compset, Length: 706, dtype: int64"
      ]
     },
     "execution_count": 152,
     "metadata": {},
     "output_type": "execute_result"
    }
   ],
   "source": [
    "df.drop_duplicates([\"business_entity_doing_business_as_name\"]).groupby([\"business_entity_doing_business_as_name\"]).count()[\"compset\"]"
   ]
  },
  {
   "cell_type": "code",
   "execution_count": 186,
   "id": "6395b14e-c6f1-451c-8869-1ce3c459d052",
   "metadata": {},
   "outputs": [],
   "source": [
    "#df.drop_duplicates([\"compset\", \"compset_group\"]).groupby([\"compset\"]).count()[\"compset_group\"].sort_values()"
   ]
  },
  {
   "cell_type": "code",
   "execution_count": 161,
   "id": "880dabcd-4edf-476f-ac8b-9de1a1e4a9d1",
   "metadata": {},
   "outputs": [
    {
     "name": "stdout",
     "output_type": "stream",
     "text": [
      "compset_group: 20\n",
      "compset: 54\n",
      "business_entity_doing_business_as_name: 706\n",
      "legal_entity_name: 424\n",
      "domicile_country_name: 27\n",
      "ultimate_parent_legal_entity_name: 402\n",
      "primary_exchange_name: 31\n"
     ]
    }
   ],
   "source": [
    "for i in cat_vars:\n",
    "    unique_vals = len(df.drop_duplicates([i]))\n",
    "    print(f\"{i}: {unique_vals}\")"
   ]
  },
  {
   "cell_type": "markdown",
   "id": "74f87c7c-48bf-4c11-bbb6-7f449b855d42",
   "metadata": {},
   "source": [
    "# Conversion Rate Variable Creation"
   ]
  },
  {
   "cell_type": "code",
   "execution_count": 264,
   "id": "0d79ec5b-fcb6-466a-aadf-9da8f16f8a41",
   "metadata": {},
   "outputs": [
    {
     "data": {
      "text/html": [
       "<div>\n",
       "<style scoped>\n",
       "    .dataframe tbody tr th:only-of-type {\n",
       "        vertical-align: middle;\n",
       "    }\n",
       "\n",
       "    .dataframe tbody tr th {\n",
       "        vertical-align: top;\n",
       "    }\n",
       "\n",
       "    .dataframe thead th {\n",
       "        text-align: right;\n",
       "    }\n",
       "</style>\n",
       "<table border=\"1\" class=\"dataframe\">\n",
       "  <thead>\n",
       "    <tr style=\"text-align: right;\">\n",
       "      <th></th>\n",
       "      <th>period</th>\n",
       "      <th>period_end_date</th>\n",
       "      <th>compset_group</th>\n",
       "      <th>compset</th>\n",
       "      <th>business_entity_doing_business_as_name</th>\n",
       "      <th>legal_entity_name</th>\n",
       "      <th>domicile_country_name</th>\n",
       "      <th>ultimate_parent_legal_entity_name</th>\n",
       "      <th>primary_exchange_name</th>\n",
       "      <th>calculation_type</th>\n",
       "      <th>followers</th>\n",
       "      <th>pictures</th>\n",
       "      <th>videos</th>\n",
       "      <th>comments</th>\n",
       "      <th>likes</th>\n",
       "      <th>total_involvement</th>\n",
       "      <th>total_company_activity</th>\n",
       "      <th>conversion_total</th>\n",
       "      <th>conversion_rate_total</th>\n",
       "      <th>likes_per_picture</th>\n",
       "      <th>likes_per_video</th>\n",
       "      <th>comments_per_picture</th>\n",
       "      <th>comments_per_video</th>\n",
       "    </tr>\n",
       "  </thead>\n",
       "  <tbody>\n",
       "    <tr>\n",
       "      <th>0</th>\n",
       "      <td>Weekly</td>\n",
       "      <td>2019-12-07</td>\n",
       "      <td>Luxury &amp; Premium &amp; Mainstream</td>\n",
       "      <td>Soft Luxury</td>\n",
       "      <td>Versace</td>\n",
       "      <td>Capri Holdings</td>\n",
       "      <td>United States of America</td>\n",
       "      <td>Capri Holdings</td>\n",
       "      <td>New York Stock Exchange</td>\n",
       "      <td>Metric Value</td>\n",
       "      <td>22066189.0</td>\n",
       "      <td>97.0</td>\n",
       "      <td>13.0</td>\n",
       "      <td>16239.0</td>\n",
       "      <td>6112205.0</td>\n",
       "      <td>6128444.0</td>\n",
       "      <td>6112302.0</td>\n",
       "      <td>0.277730</td>\n",
       "      <td>0.277730</td>\n",
       "      <td>63012.422680</td>\n",
       "      <td>4.701696e+05</td>\n",
       "      <td>167.412371</td>\n",
       "      <td>1249.153846</td>\n",
       "    </tr>\n",
       "    <tr>\n",
       "      <th>1</th>\n",
       "      <td>Weekly</td>\n",
       "      <td>2021-01-30</td>\n",
       "      <td>Luxury &amp; Premium &amp; Mainstream</td>\n",
       "      <td>Luxury &amp; Premium &amp; Mainstream</td>\n",
       "      <td>Versace</td>\n",
       "      <td>Capri Holdings</td>\n",
       "      <td>United States of America</td>\n",
       "      <td>Capri Holdings</td>\n",
       "      <td>New York Stock Exchange</td>\n",
       "      <td>Metric Value</td>\n",
       "      <td>24289963.0</td>\n",
       "      <td>54.0</td>\n",
       "      <td>2.0</td>\n",
       "      <td>13358.0</td>\n",
       "      <td>3189144.0</td>\n",
       "      <td>3202502.0</td>\n",
       "      <td>3189198.0</td>\n",
       "      <td>0.131845</td>\n",
       "      <td>0.131845</td>\n",
       "      <td>59058.222222</td>\n",
       "      <td>1.594572e+06</td>\n",
       "      <td>247.370370</td>\n",
       "      <td>6679.000000</td>\n",
       "    </tr>\n",
       "    <tr>\n",
       "      <th>2</th>\n",
       "      <td>Weekly</td>\n",
       "      <td>2016-05-14</td>\n",
       "      <td>Luxury &amp; Premium &amp; Mainstream</td>\n",
       "      <td>Soft Luxury</td>\n",
       "      <td>Versace</td>\n",
       "      <td>Capri Holdings</td>\n",
       "      <td>United States of America</td>\n",
       "      <td>Capri Holdings</td>\n",
       "      <td>New York Stock Exchange</td>\n",
       "      <td>Metric Value</td>\n",
       "      <td>7137442.0</td>\n",
       "      <td>42.0</td>\n",
       "      <td>8.0</td>\n",
       "      <td>15894.0</td>\n",
       "      <td>2152955.0</td>\n",
       "      <td>2168849.0</td>\n",
       "      <td>2152997.0</td>\n",
       "      <td>0.303869</td>\n",
       "      <td>0.303869</td>\n",
       "      <td>51260.833333</td>\n",
       "      <td>2.691194e+05</td>\n",
       "      <td>378.428571</td>\n",
       "      <td>1986.750000</td>\n",
       "    </tr>\n",
       "    <tr>\n",
       "      <th>3</th>\n",
       "      <td>Weekly</td>\n",
       "      <td>2019-04-20</td>\n",
       "      <td>Luxury &amp; Premium &amp; Mainstream</td>\n",
       "      <td>Luxury &amp; Premium &amp; Mainstream</td>\n",
       "      <td>Versace</td>\n",
       "      <td>Capri Holdings</td>\n",
       "      <td>United States of America</td>\n",
       "      <td>Capri Holdings</td>\n",
       "      <td>New York Stock Exchange</td>\n",
       "      <td>Metric Value</td>\n",
       "      <td>18901125.0</td>\n",
       "      <td>73.0</td>\n",
       "      <td>9.0</td>\n",
       "      <td>26762.0</td>\n",
       "      <td>5224916.0</td>\n",
       "      <td>5251678.0</td>\n",
       "      <td>5224989.0</td>\n",
       "      <td>0.277850</td>\n",
       "      <td>0.277850</td>\n",
       "      <td>71574.191781</td>\n",
       "      <td>5.805462e+05</td>\n",
       "      <td>366.602740</td>\n",
       "      <td>2973.555556</td>\n",
       "    </tr>\n",
       "    <tr>\n",
       "      <th>4</th>\n",
       "      <td>Weekly</td>\n",
       "      <td>2023-03-25</td>\n",
       "      <td>Luxury &amp; Premium &amp; Mainstream</td>\n",
       "      <td>US Softlines Analyst Interest List</td>\n",
       "      <td>Versace</td>\n",
       "      <td>Capri Holdings</td>\n",
       "      <td>United States of America</td>\n",
       "      <td>Capri Holdings</td>\n",
       "      <td>New York Stock Exchange</td>\n",
       "      <td>Metric Value</td>\n",
       "      <td>30251374.0</td>\n",
       "      <td>54.0</td>\n",
       "      <td>10.0</td>\n",
       "      <td>25681.0</td>\n",
       "      <td>5760987.0</td>\n",
       "      <td>5786668.0</td>\n",
       "      <td>5761041.0</td>\n",
       "      <td>0.191286</td>\n",
       "      <td>0.191286</td>\n",
       "      <td>106684.944444</td>\n",
       "      <td>5.760987e+05</td>\n",
       "      <td>475.574074</td>\n",
       "      <td>2568.100000</td>\n",
       "    </tr>\n",
       "  </tbody>\n",
       "</table>\n",
       "</div>"
      ],
      "text/plain": [
       "   period period_end_date                  compset_group  \\\n",
       "0  Weekly      2019-12-07  Luxury & Premium & Mainstream   \n",
       "1  Weekly      2021-01-30  Luxury & Premium & Mainstream   \n",
       "2  Weekly      2016-05-14  Luxury & Premium & Mainstream   \n",
       "3  Weekly      2019-04-20  Luxury & Premium & Mainstream   \n",
       "4  Weekly      2023-03-25  Luxury & Premium & Mainstream   \n",
       "\n",
       "                              compset business_entity_doing_business_as_name  \\\n",
       "0                         Soft Luxury                                Versace   \n",
       "1       Luxury & Premium & Mainstream                                Versace   \n",
       "2                         Soft Luxury                                Versace   \n",
       "3       Luxury & Premium & Mainstream                                Versace   \n",
       "4  US Softlines Analyst Interest List                                Versace   \n",
       "\n",
       "  legal_entity_name     domicile_country_name  \\\n",
       "0    Capri Holdings  United States of America   \n",
       "1    Capri Holdings  United States of America   \n",
       "2    Capri Holdings  United States of America   \n",
       "3    Capri Holdings  United States of America   \n",
       "4    Capri Holdings  United States of America   \n",
       "\n",
       "  ultimate_parent_legal_entity_name    primary_exchange_name calculation_type  \\\n",
       "0                    Capri Holdings  New York Stock Exchange     Metric Value   \n",
       "1                    Capri Holdings  New York Stock Exchange     Metric Value   \n",
       "2                    Capri Holdings  New York Stock Exchange     Metric Value   \n",
       "3                    Capri Holdings  New York Stock Exchange     Metric Value   \n",
       "4                    Capri Holdings  New York Stock Exchange     Metric Value   \n",
       "\n",
       "    followers  pictures  videos  comments      likes  total_involvement  \\\n",
       "0  22066189.0      97.0    13.0   16239.0  6112205.0          6128444.0   \n",
       "1  24289963.0      54.0     2.0   13358.0  3189144.0          3202502.0   \n",
       "2   7137442.0      42.0     8.0   15894.0  2152955.0          2168849.0   \n",
       "3  18901125.0      73.0     9.0   26762.0  5224916.0          5251678.0   \n",
       "4  30251374.0      54.0    10.0   25681.0  5760987.0          5786668.0   \n",
       "\n",
       "   total_company_activity  conversion_total  conversion_rate_total  \\\n",
       "0               6112302.0          0.277730               0.277730   \n",
       "1               3189198.0          0.131845               0.131845   \n",
       "2               2152997.0          0.303869               0.303869   \n",
       "3               5224989.0          0.277850               0.277850   \n",
       "4               5761041.0          0.191286               0.191286   \n",
       "\n",
       "   likes_per_picture  likes_per_video  comments_per_picture  \\\n",
       "0       63012.422680     4.701696e+05            167.412371   \n",
       "1       59058.222222     1.594572e+06            247.370370   \n",
       "2       51260.833333     2.691194e+05            378.428571   \n",
       "3       71574.191781     5.805462e+05            366.602740   \n",
       "4      106684.944444     5.760987e+05            475.574074   \n",
       "\n",
       "   comments_per_video  \n",
       "0         1249.153846  \n",
       "1         6679.000000  \n",
       "2         1986.750000  \n",
       "3         2973.555556  \n",
       "4         2568.100000  "
      ]
     },
     "execution_count": 264,
     "metadata": {},
     "output_type": "execute_result"
    }
   ],
   "source": [
    "df.head(5)"
   ]
  },
  {
   "cell_type": "markdown",
   "id": "b9db0a8b-fc74-42e4-9955-9265d3daf532",
   "metadata": {},
   "source": [
    "**Assumtion**\n",
    "\n",
    "1. the likes and the comments are for the videos from the same week"
   ]
  },
  {
   "cell_type": "code",
   "execution_count": 277,
   "id": "e7aa5550-7d4c-4789-a4a9-011482ad38fd",
   "metadata": {},
   "outputs": [],
   "source": [
    "engagement_vars = [\"followers\", \"pictures\", \"videos\", \"comments\", \"likes\"]\n",
    "df_contin = df[engagement_vars].copy()\n",
    "\n",
    "# total involeveme\n",
    "df[\"total_involvement\"] = df[\"comments\"] + df[\"likes\"]\n",
    "df[\"total_company_activity\"] = df[\"pictures\"] + df[\"videos\"]\n",
    "\n",
    "df[\"conversion_rate_total\"] = df[\"total_involvement\"] / df[\"followers\"]\n",
    "df[\"return_on_activity\"] = df[\"total_company_activity\"] / df[\"total_involvement\"] \n",
    "\n",
    "# COntent type\n",
    "df[\"ratio_of_videos\"] = df[\"videos\"] / (df[\"pictures\"] + df[\"videos\"])\n",
    "df[\"ratio_of_pictures\"] = df[\"pictures\"] / (df[\"pictures\"] + df[\"videos\"])\n",
    "\n",
    "# ASSUMTION: we only like videos / photos from this week\n",
    "df[\"likes_per_picture\"] = df[\"likes\"] / df[\"pictures\"]\n",
    "df[\"likes_per_video\"] =   df[\"likes\"] / df[\"videos\"]\n",
    "df[\"comments_per_picture\"] =  df[\"comments\"] / df[\"pictures\"] \n",
    "df[\"comments_per_video\"] =   df[\"comments\"] / df[\"videos\"]\n",
    "\n",
    "# take care of zeros\n",
    "df.loc[df[\"pictures\"] + df[\"videos\"] == 0, \"ratio_of_videos\"] = np.nan\n",
    "df.loc[df[\"pictures\"] + df[\"videos\"] == 0, \"ratio_of_pictures\"] = np.nan\n",
    "\n",
    "df.loc[df[\"pictures\"] == 0, \"likes_per_picture\"] = np.nan\n",
    "df.loc[df[\"videos\"] == 0, \"likes_per_video\"] = np.nan\n",
    "df.loc[df[\"pictures\"] == 0, \"comments_per_picture\"] = np.nan\n",
    "df.loc[df[\"videos\"] == 0, \"comments_per_video\"] = np.nan"
   ]
  },
  {
   "cell_type": "code",
   "execution_count": 278,
   "id": "89cff12a-0fc4-404f-aebb-fe7583df238e",
   "metadata": {},
   "outputs": [
    {
     "data": {
      "text/html": [
       "<div>\n",
       "<style scoped>\n",
       "    .dataframe tbody tr th:only-of-type {\n",
       "        vertical-align: middle;\n",
       "    }\n",
       "\n",
       "    .dataframe tbody tr th {\n",
       "        vertical-align: top;\n",
       "    }\n",
       "\n",
       "    .dataframe thead th {\n",
       "        text-align: right;\n",
       "    }\n",
       "</style>\n",
       "<table border=\"1\" class=\"dataframe\">\n",
       "  <thead>\n",
       "    <tr style=\"text-align: right;\">\n",
       "      <th></th>\n",
       "      <th>videos</th>\n",
       "      <th>pictures</th>\n",
       "      <th>likes</th>\n",
       "      <th>comments</th>\n",
       "      <th>total_involvement</th>\n",
       "      <th>total_company_activity</th>\n",
       "      <th>conversion_rate_total</th>\n",
       "      <th>likes_per_picture</th>\n",
       "      <th>likes_per_video</th>\n",
       "      <th>comments_per_picture</th>\n",
       "      <th>comments_per_video</th>\n",
       "      <th>content_type</th>\n",
       "      <th>ratio_of_videos</th>\n",
       "      <th>ratio_of_pictures</th>\n",
       "    </tr>\n",
       "  </thead>\n",
       "  <tbody>\n",
       "    <tr>\n",
       "      <th>count</th>\n",
       "      <td>684349.000000</td>\n",
       "      <td>695803.000000</td>\n",
       "      <td>6.959770e+05</td>\n",
       "      <td>6.953430e+05</td>\n",
       "      <td>6.953430e+05</td>\n",
       "      <td>6.958030e+05</td>\n",
       "      <td>571335.000000</td>\n",
       "      <td>6.822940e+05</td>\n",
       "      <td>5.904110e+05</td>\n",
       "      <td>681803.000000</td>\n",
       "      <td>5.900780e+05</td>\n",
       "      <td>671858.000000</td>\n",
       "      <td>675227.000000</td>\n",
       "      <td>675227.000000</td>\n",
       "    </tr>\n",
       "    <tr>\n",
       "      <th>mean</th>\n",
       "      <td>61.244426</td>\n",
       "      <td>344.272540</td>\n",
       "      <td>2.163189e+06</td>\n",
       "      <td>3.043246e+04</td>\n",
       "      <td>2.195594e+06</td>\n",
       "      <td>2.164074e+06</td>\n",
       "      <td>0.239651</td>\n",
       "      <td>8.978570e+03</td>\n",
       "      <td>9.008996e+04</td>\n",
       "      <td>110.272339</td>\n",
       "      <td>1.079813e+03</td>\n",
       "      <td>0.304412</td>\n",
       "      <td>0.170257</td>\n",
       "      <td>0.829743</td>\n",
       "    </tr>\n",
       "    <tr>\n",
       "      <th>std</th>\n",
       "      <td>564.468480</td>\n",
       "      <td>2777.396873</td>\n",
       "      <td>1.803193e+07</td>\n",
       "      <td>2.766459e+05</td>\n",
       "      <td>1.826839e+07</td>\n",
       "      <td>1.803673e+07</td>\n",
       "      <td>6.573920</td>\n",
       "      <td>2.443292e+04</td>\n",
       "      <td>4.153716e+05</td>\n",
       "      <td>467.846213</td>\n",
       "      <td>6.409057e+03</td>\n",
       "      <td>0.831057</td>\n",
       "      <td>0.173016</td>\n",
       "      <td>0.173016</td>\n",
       "    </tr>\n",
       "    <tr>\n",
       "      <th>min</th>\n",
       "      <td>0.000000</td>\n",
       "      <td>0.000000</td>\n",
       "      <td>0.000000e+00</td>\n",
       "      <td>0.000000e+00</td>\n",
       "      <td>0.000000e+00</td>\n",
       "      <td>0.000000e+00</td>\n",
       "      <td>0.000000</td>\n",
       "      <td>0.000000e+00</td>\n",
       "      <td>0.000000e+00</td>\n",
       "      <td>0.000000</td>\n",
       "      <td>0.000000e+00</td>\n",
       "      <td>0.000000</td>\n",
       "      <td>0.000000</td>\n",
       "      <td>0.000000</td>\n",
       "    </tr>\n",
       "    <tr>\n",
       "      <th>25%</th>\n",
       "      <td>2.000000</td>\n",
       "      <td>19.000000</td>\n",
       "      <td>1.727700e+04</td>\n",
       "      <td>3.710000e+02</td>\n",
       "      <td>1.826200e+04</td>\n",
       "      <td>1.734900e+04</td>\n",
       "      <td>0.049821</td>\n",
       "      <td>4.764973e+02</td>\n",
       "      <td>2.642609e+03</td>\n",
       "      <td>10.742857</td>\n",
       "      <td>6.306667e+01</td>\n",
       "      <td>0.047619</td>\n",
       "      <td>0.045714</td>\n",
       "      <td>0.759259</td>\n",
       "    </tr>\n",
       "    <tr>\n",
       "      <th>50%</th>\n",
       "      <td>7.000000</td>\n",
       "      <td>44.000000</td>\n",
       "      <td>9.318400e+04</td>\n",
       "      <td>1.435000e+03</td>\n",
       "      <td>9.615600e+04</td>\n",
       "      <td>9.333400e+04</td>\n",
       "      <td>0.117294</td>\n",
       "      <td>1.693437e+03</td>\n",
       "      <td>1.176950e+04</td>\n",
       "      <td>29.121212</td>\n",
       "      <td>1.870357e+02</td>\n",
       "      <td>0.136364</td>\n",
       "      <td>0.121212</td>\n",
       "      <td>0.878788</td>\n",
       "    </tr>\n",
       "    <tr>\n",
       "      <th>75%</th>\n",
       "      <td>20.000000</td>\n",
       "      <td>122.000000</td>\n",
       "      <td>4.577470e+05</td>\n",
       "      <td>5.872000e+03</td>\n",
       "      <td>4.670355e+05</td>\n",
       "      <td>4.581020e+05</td>\n",
       "      <td>0.243321</td>\n",
       "      <td>6.807873e+03</td>\n",
       "      <td>5.349414e+04</td>\n",
       "      <td>83.333333</td>\n",
       "      <td>5.940000e+02</td>\n",
       "      <td>0.312500</td>\n",
       "      <td>0.240741</td>\n",
       "      <td>0.954286</td>\n",
       "    </tr>\n",
       "    <tr>\n",
       "      <th>max</th>\n",
       "      <td>35905.000000</td>\n",
       "      <td>141746.000000</td>\n",
       "      <td>7.120711e+08</td>\n",
       "      <td>1.732046e+07</td>\n",
       "      <td>7.203395e+08</td>\n",
       "      <td>7.121634e+08</td>\n",
       "      <td>2892.755136</td>\n",
       "      <td>1.660860e+06</td>\n",
       "      <td>3.488018e+07</td>\n",
       "      <td>32546.791667</td>\n",
       "      <td>1.218564e+06</td>\n",
       "      <td>45.000000</td>\n",
       "      <td>1.000000</td>\n",
       "      <td>1.000000</td>\n",
       "    </tr>\n",
       "  </tbody>\n",
       "</table>\n",
       "</div>"
      ],
      "text/plain": [
       "              videos       pictures         likes      comments  \\\n",
       "count  684349.000000  695803.000000  6.959770e+05  6.953430e+05   \n",
       "mean       61.244426     344.272540  2.163189e+06  3.043246e+04   \n",
       "std       564.468480    2777.396873  1.803193e+07  2.766459e+05   \n",
       "min         0.000000       0.000000  0.000000e+00  0.000000e+00   \n",
       "25%         2.000000      19.000000  1.727700e+04  3.710000e+02   \n",
       "50%         7.000000      44.000000  9.318400e+04  1.435000e+03   \n",
       "75%        20.000000     122.000000  4.577470e+05  5.872000e+03   \n",
       "max     35905.000000  141746.000000  7.120711e+08  1.732046e+07   \n",
       "\n",
       "       total_involvement  total_company_activity  conversion_rate_total  \\\n",
       "count       6.953430e+05            6.958030e+05          571335.000000   \n",
       "mean        2.195594e+06            2.164074e+06               0.239651   \n",
       "std         1.826839e+07            1.803673e+07               6.573920   \n",
       "min         0.000000e+00            0.000000e+00               0.000000   \n",
       "25%         1.826200e+04            1.734900e+04               0.049821   \n",
       "50%         9.615600e+04            9.333400e+04               0.117294   \n",
       "75%         4.670355e+05            4.581020e+05               0.243321   \n",
       "max         7.203395e+08            7.121634e+08            2892.755136   \n",
       "\n",
       "       likes_per_picture  likes_per_video  comments_per_picture  \\\n",
       "count       6.822940e+05     5.904110e+05         681803.000000   \n",
       "mean        8.978570e+03     9.008996e+04            110.272339   \n",
       "std         2.443292e+04     4.153716e+05            467.846213   \n",
       "min         0.000000e+00     0.000000e+00              0.000000   \n",
       "25%         4.764973e+02     2.642609e+03             10.742857   \n",
       "50%         1.693437e+03     1.176950e+04             29.121212   \n",
       "75%         6.807873e+03     5.349414e+04             83.333333   \n",
       "max         1.660860e+06     3.488018e+07          32546.791667   \n",
       "\n",
       "       comments_per_video   content_type  ratio_of_videos  ratio_of_pictures  \n",
       "count        5.900780e+05  671858.000000    675227.000000      675227.000000  \n",
       "mean         1.079813e+03       0.304412         0.170257           0.829743  \n",
       "std          6.409057e+03       0.831057         0.173016           0.173016  \n",
       "min          0.000000e+00       0.000000         0.000000           0.000000  \n",
       "25%          6.306667e+01       0.047619         0.045714           0.759259  \n",
       "50%          1.870357e+02       0.136364         0.121212           0.878788  \n",
       "75%          5.940000e+02       0.312500         0.240741           0.954286  \n",
       "max          1.218564e+06      45.000000         1.000000           1.000000  "
      ]
     },
     "execution_count": 278,
     "metadata": {},
     "output_type": "execute_result"
    }
   ],
   "source": [
    "new_vars = [\"videos\", \"pictures\", \"likes\", \"comments\", \"total_involvement\", \"total_company_activity\", \"conversion_rate_total\", \"likes_per_picture\", \"likes_per_video\",\n",
    "           \"comments_per_picture\", \"comments_per_video\", \"content_type\", \"ratio_of_videos\", \"ratio_of_pictures\"]\n",
    "df[new_vars].describe()"
   ]
  },
  {
   "cell_type": "markdown",
   "id": "3285e876-8f09-45a8-a53e-5d97b3c70682",
   "metadata": {},
   "source": [
    "**Observation**\n",
    "\n",
    "1. There is more envolvement for videos than for images\n",
    "2. There are more likes than comments"
   ]
  },
  {
   "cell_type": "code",
   "execution_count": 257,
   "id": "a8907729-e460-4d4f-b2f5-3b6c0b99bf19",
   "metadata": {},
   "outputs": [
    {
     "data": {
      "text/html": [
       "<div>\n",
       "<style scoped>\n",
       "    .dataframe tbody tr th:only-of-type {\n",
       "        vertical-align: middle;\n",
       "    }\n",
       "\n",
       "    .dataframe tbody tr th {\n",
       "        vertical-align: top;\n",
       "    }\n",
       "\n",
       "    .dataframe thead th {\n",
       "        text-align: right;\n",
       "    }\n",
       "</style>\n",
       "<table border=\"1\" class=\"dataframe\">\n",
       "  <thead>\n",
       "    <tr style=\"text-align: right;\">\n",
       "      <th></th>\n",
       "      <th>ratio</th>\n",
       "      <th>activity</th>\n",
       "      <th>content</th>\n",
       "    </tr>\n",
       "  </thead>\n",
       "  <tbody>\n",
       "    <tr>\n",
       "      <th>0</th>\n",
       "      <td>63012.422680</td>\n",
       "      <td>like</td>\n",
       "      <td>picture</td>\n",
       "    </tr>\n",
       "    <tr>\n",
       "      <th>1</th>\n",
       "      <td>59058.222222</td>\n",
       "      <td>like</td>\n",
       "      <td>picture</td>\n",
       "    </tr>\n",
       "    <tr>\n",
       "      <th>2</th>\n",
       "      <td>51260.833333</td>\n",
       "      <td>like</td>\n",
       "      <td>picture</td>\n",
       "    </tr>\n",
       "    <tr>\n",
       "      <th>3</th>\n",
       "      <td>71574.191781</td>\n",
       "      <td>like</td>\n",
       "      <td>picture</td>\n",
       "    </tr>\n",
       "    <tr>\n",
       "      <th>4</th>\n",
       "      <td>106684.944444</td>\n",
       "      <td>like</td>\n",
       "      <td>picture</td>\n",
       "    </tr>\n",
       "    <tr>\n",
       "      <th>...</th>\n",
       "      <td>...</td>\n",
       "      <td>...</td>\n",
       "      <td>...</td>\n",
       "    </tr>\n",
       "    <tr>\n",
       "      <th>704308</th>\n",
       "      <td>158.875000</td>\n",
       "      <td>comment</td>\n",
       "      <td>video</td>\n",
       "    </tr>\n",
       "    <tr>\n",
       "      <th>704309</th>\n",
       "      <td>882.000000</td>\n",
       "      <td>comment</td>\n",
       "      <td>video</td>\n",
       "    </tr>\n",
       "    <tr>\n",
       "      <th>704310</th>\n",
       "      <td>48.485714</td>\n",
       "      <td>comment</td>\n",
       "      <td>video</td>\n",
       "    </tr>\n",
       "    <tr>\n",
       "      <th>704311</th>\n",
       "      <td>986.000000</td>\n",
       "      <td>comment</td>\n",
       "      <td>video</td>\n",
       "    </tr>\n",
       "    <tr>\n",
       "      <th>704312</th>\n",
       "      <td>78.969697</td>\n",
       "      <td>comment</td>\n",
       "      <td>video</td>\n",
       "    </tr>\n",
       "  </tbody>\n",
       "</table>\n",
       "<p>2817252 rows × 3 columns</p>\n",
       "</div>"
      ],
      "text/plain": [
       "                ratio activity  content\n",
       "0        63012.422680     like  picture\n",
       "1        59058.222222     like  picture\n",
       "2        51260.833333     like  picture\n",
       "3        71574.191781     like  picture\n",
       "4       106684.944444     like  picture\n",
       "...               ...      ...      ...\n",
       "704308     158.875000  comment    video\n",
       "704309     882.000000  comment    video\n",
       "704310      48.485714  comment    video\n",
       "704311     986.000000  comment    video\n",
       "704312      78.969697  comment    video\n",
       "\n",
       "[2817252 rows x 3 columns]"
      ]
     },
     "execution_count": 257,
     "metadata": {},
     "output_type": "execute_result"
    }
   ],
   "source": [
    "#np.repeat(\"like\", len())\n",
    "ratio = pd.concat([df[\"likes_per_picture\"], df[\"likes_per_video\"], \n",
    "          df[\"comments_per_picture\"], df[\"comments_per_video\"]])\n",
    "\n",
    "activity = pd.concat([pd.Series(np.repeat(\"like\", len(df))), pd.Series(np.repeat(\"like\", len(df))),\n",
    "          pd.Series(np.repeat(\"comment\", len(df))), pd.Series(np.repeat(\"comment\", len(df)))])\n",
    "\n",
    "content = pd.concat([pd.Series(np.repeat(\"picture\", len(df))), pd.Series(np.repeat(\"video\", len(df))),\n",
    "          pd.Series(np.repeat(\"picture\", len(df))), pd.Series(np.repeat(\"video\", len(df)))])\n",
    "\n",
    "#df_help = pd.DataFrame\n",
    "\n",
    "d = {'ratio': ratio, 'activity': activity, 'content': content }\n",
    "df_help = pd.DataFrame(data=d)\n",
    "df_help "
   ]
  },
  {
   "cell_type": "code",
   "execution_count": null,
   "id": "9b32b39c-b2c5-49a8-a4a6-b02a3476973a",
   "metadata": {},
   "outputs": [],
   "source": [
    "**Are**"
   ]
  },
  {
   "cell_type": "code",
   "execution_count": null,
   "id": "02c23b23-03ca-498e-bf1d-69c2daf8d942",
   "metadata": {},
   "outputs": [],
   "source": []
  },
  {
   "cell_type": "code",
   "execution_count": 266,
   "id": "b4ab1f9a-697f-4da6-9e82-fd30851abe1a",
   "metadata": {},
   "outputs": [
    {
     "data": {
      "image/png": "[encoded data removed]",
      "text/plain": [
       "<Figure size 432x288 with 1 Axes>"
      ]
     },
     "metadata": {},
     "output_type": "display_data"
    }
   ],
   "source": [
    "sns.boxplot(data=df_help, x=\"ratio\", y=\"activity\", hue=\"content\",\n",
    "           notch=True, showcaps=False,\n",
    "    flierprops={\"marker\": \"x\"},\n",
    "    boxprops={\"facecolor\": (.3, .5, .7, .5)},\n",
    "    medianprops={\"color\": \"r\", \"linewidth\": 2})\n",
    "ax.set_yscale('log')\n",
    "plt.show()"
   ]
  },
  {
   "cell_type": "code",
   "execution_count": 259,
   "id": "f67e68f5-b669-4bb4-8aef-958fdebca238",
   "metadata": {},
   "outputs": [
    {
     "data": {
      "image/png": "[encoded data removed]",
      "text/plain": [
       "<Figure size 432x432 with 3 Axes>"
      ]
     },
     "metadata": {},
     "output_type": "display_data"
    }
   ],
   "source": [
    "sns.jointplot(data=df, x=\"likes_per_picture\", y=\"likes_per_video\")\n",
    "plt.show()"
   ]
  },
  {
   "cell_type": "code",
   "execution_count": 280,
   "id": "99fd9be1-7765-4ac7-bc05-2a5bee379b86",
   "metadata": {},
   "outputs": [
    {
     "data": {
      "image/png": "[encoded data removed]",
      "text/plain": [
       "<Figure size 432x432 with 3 Axes>"
      ]
     },
     "metadata": {},
     "output_type": "display_data"
    }
   ],
   "source": [
    "sns.jointplot(data=df, x=\"ratio_of_videos\", y=\"likes\")\n",
    "plt.show()"
   ]
  },
  {
   "cell_type": "code",
   "execution_count": 216,
   "id": "ba6d27e9-5536-43f2-b3e5-451f03a47b53",
   "metadata": {},
   "outputs": [
    {
     "data": {
      "text/html": [
       "<div>\n",
       "<style scoped>\n",
       "    .dataframe tbody tr th:only-of-type {\n",
       "        vertical-align: middle;\n",
       "    }\n",
       "\n",
       "    .dataframe tbody tr th {\n",
       "        vertical-align: top;\n",
       "    }\n",
       "\n",
       "    .dataframe thead th {\n",
       "        text-align: right;\n",
       "    }\n",
       "</style>\n",
       "<table border=\"1\" class=\"dataframe\">\n",
       "  <thead>\n",
       "    <tr style=\"text-align: right;\">\n",
       "      <th></th>\n",
       "      <th>period</th>\n",
       "      <th>period_end_date</th>\n",
       "      <th>compset_group</th>\n",
       "      <th>compset</th>\n",
       "      <th>business_entity_doing_business_as_name</th>\n",
       "      <th>legal_entity_name</th>\n",
       "      <th>domicile_country_name</th>\n",
       "      <th>ultimate_parent_legal_entity_name</th>\n",
       "      <th>primary_exchange_name</th>\n",
       "      <th>calculation_type</th>\n",
       "      <th>followers</th>\n",
       "      <th>pictures</th>\n",
       "      <th>videos</th>\n",
       "      <th>comments</th>\n",
       "      <th>likes</th>\n",
       "      <th>total_involvement</th>\n",
       "      <th>total_company_activity</th>\n",
       "      <th>conversion_total</th>\n",
       "    </tr>\n",
       "  </thead>\n",
       "  <tbody>\n",
       "    <tr>\n",
       "      <th>0</th>\n",
       "      <td>Weekly</td>\n",
       "      <td>2019-12-07</td>\n",
       "      <td>Luxury &amp; Premium &amp; Mainstream</td>\n",
       "      <td>Soft Luxury</td>\n",
       "      <td>Versace</td>\n",
       "      <td>Capri Holdings</td>\n",
       "      <td>United States of America</td>\n",
       "      <td>Capri Holdings</td>\n",
       "      <td>New York Stock Exchange</td>\n",
       "      <td>Metric Value</td>\n",
       "      <td>22066189.0</td>\n",
       "      <td>97.0</td>\n",
       "      <td>13.0</td>\n",
       "      <td>16239.0</td>\n",
       "      <td>6112205.0</td>\n",
       "      <td>6128444.0</td>\n",
       "      <td>6112302.0</td>\n",
       "      <td>1.002641</td>\n",
       "    </tr>\n",
       "    <tr>\n",
       "      <th>1</th>\n",
       "      <td>Weekly</td>\n",
       "      <td>2021-01-30</td>\n",
       "      <td>Luxury &amp; Premium &amp; Mainstream</td>\n",
       "      <td>Luxury &amp; Premium &amp; Mainstream</td>\n",
       "      <td>Versace</td>\n",
       "      <td>Capri Holdings</td>\n",
       "      <td>United States of America</td>\n",
       "      <td>Capri Holdings</td>\n",
       "      <td>New York Stock Exchange</td>\n",
       "      <td>Metric Value</td>\n",
       "      <td>24289963.0</td>\n",
       "      <td>54.0</td>\n",
       "      <td>2.0</td>\n",
       "      <td>13358.0</td>\n",
       "      <td>3189144.0</td>\n",
       "      <td>3202502.0</td>\n",
       "      <td>3189198.0</td>\n",
       "      <td>1.004172</td>\n",
       "    </tr>\n",
       "    <tr>\n",
       "      <th>2</th>\n",
       "      <td>Weekly</td>\n",
       "      <td>2016-05-14</td>\n",
       "      <td>Luxury &amp; Premium &amp; Mainstream</td>\n",
       "      <td>Soft Luxury</td>\n",
       "      <td>Versace</td>\n",
       "      <td>Capri Holdings</td>\n",
       "      <td>United States of America</td>\n",
       "      <td>Capri Holdings</td>\n",
       "      <td>New York Stock Exchange</td>\n",
       "      <td>Metric Value</td>\n",
       "      <td>7137442.0</td>\n",
       "      <td>42.0</td>\n",
       "      <td>8.0</td>\n",
       "      <td>15894.0</td>\n",
       "      <td>2152955.0</td>\n",
       "      <td>2168849.0</td>\n",
       "      <td>2152997.0</td>\n",
       "      <td>1.007363</td>\n",
       "    </tr>\n",
       "    <tr>\n",
       "      <th>3</th>\n",
       "      <td>Weekly</td>\n",
       "      <td>2019-04-20</td>\n",
       "      <td>Luxury &amp; Premium &amp; Mainstream</td>\n",
       "      <td>Luxury &amp; Premium &amp; Mainstream</td>\n",
       "      <td>Versace</td>\n",
       "      <td>Capri Holdings</td>\n",
       "      <td>United States of America</td>\n",
       "      <td>Capri Holdings</td>\n",
       "      <td>New York Stock Exchange</td>\n",
       "      <td>Metric Value</td>\n",
       "      <td>18901125.0</td>\n",
       "      <td>73.0</td>\n",
       "      <td>9.0</td>\n",
       "      <td>26762.0</td>\n",
       "      <td>5224916.0</td>\n",
       "      <td>5251678.0</td>\n",
       "      <td>5224989.0</td>\n",
       "      <td>1.005108</td>\n",
       "    </tr>\n",
       "    <tr>\n",
       "      <th>4</th>\n",
       "      <td>Weekly</td>\n",
       "      <td>2023-03-25</td>\n",
       "      <td>Luxury &amp; Premium &amp; Mainstream</td>\n",
       "      <td>US Softlines Analyst Interest List</td>\n",
       "      <td>Versace</td>\n",
       "      <td>Capri Holdings</td>\n",
       "      <td>United States of America</td>\n",
       "      <td>Capri Holdings</td>\n",
       "      <td>New York Stock Exchange</td>\n",
       "      <td>Metric Value</td>\n",
       "      <td>30251374.0</td>\n",
       "      <td>54.0</td>\n",
       "      <td>10.0</td>\n",
       "      <td>25681.0</td>\n",
       "      <td>5760987.0</td>\n",
       "      <td>5786668.0</td>\n",
       "      <td>5761041.0</td>\n",
       "      <td>1.004448</td>\n",
       "    </tr>\n",
       "  </tbody>\n",
       "</table>\n",
       "</div>"
      ],
      "text/plain": [
       "   period period_end_date                  compset_group  \\\n",
       "0  Weekly      2019-12-07  Luxury & Premium & Mainstream   \n",
       "1  Weekly      2021-01-30  Luxury & Premium & Mainstream   \n",
       "2  Weekly      2016-05-14  Luxury & Premium & Mainstream   \n",
       "3  Weekly      2019-04-20  Luxury & Premium & Mainstream   \n",
       "4  Weekly      2023-03-25  Luxury & Premium & Mainstream   \n",
       "\n",
       "                              compset business_entity_doing_business_as_name  \\\n",
       "0                         Soft Luxury                                Versace   \n",
       "1       Luxury & Premium & Mainstream                                Versace   \n",
       "2                         Soft Luxury                                Versace   \n",
       "3       Luxury & Premium & Mainstream                                Versace   \n",
       "4  US Softlines Analyst Interest List                                Versace   \n",
       "\n",
       "  legal_entity_name     domicile_country_name  \\\n",
       "0    Capri Holdings  United States of America   \n",
       "1    Capri Holdings  United States of America   \n",
       "2    Capri Holdings  United States of America   \n",
       "3    Capri Holdings  United States of America   \n",
       "4    Capri Holdings  United States of America   \n",
       "\n",
       "  ultimate_parent_legal_entity_name    primary_exchange_name calculation_type  \\\n",
       "0                    Capri Holdings  New York Stock Exchange     Metric Value   \n",
       "1                    Capri Holdings  New York Stock Exchange     Metric Value   \n",
       "2                    Capri Holdings  New York Stock Exchange     Metric Value   \n",
       "3                    Capri Holdings  New York Stock Exchange     Metric Value   \n",
       "4                    Capri Holdings  New York Stock Exchange     Metric Value   \n",
       "\n",
       "    followers  pictures  videos  comments      likes  total_involvement  \\\n",
       "0  22066189.0      97.0    13.0   16239.0  6112205.0          6128444.0   \n",
       "1  24289963.0      54.0     2.0   13358.0  3189144.0          3202502.0   \n",
       "2   7137442.0      42.0     8.0   15894.0  2152955.0          2168849.0   \n",
       "3  18901125.0      73.0     9.0   26762.0  5224916.0          5251678.0   \n",
       "4  30251374.0      54.0    10.0   25681.0  5760987.0          5786668.0   \n",
       "\n",
       "   total_company_activity  conversion_total  \n",
       "0               6112302.0          1.002641  \n",
       "1               3189198.0          1.004172  \n",
       "2               2152997.0          1.007363  \n",
       "3               5224989.0          1.005108  \n",
       "4               5761041.0          1.004448  "
      ]
     },
     "execution_count": 216,
     "metadata": {},
     "output_type": "execute_result"
    }
   ],
   "source": [
    "df.head()"
   ]
  },
  {
   "cell_type": "code",
   "execution_count": 281,
   "id": "64aafa04-84e1-4fb2-ae5a-45764525ad39",
   "metadata": {},
   "outputs": [],
   "source": [
    "#df.groupby([\"business_entity_doing_business_as_name\"]).max()[\"followers\"].sort_values()"
   ]
  },
  {
   "cell_type": "code",
   "execution_count": 220,
   "id": "9d67e830-81bb-477c-8595-a3915ec0c8af",
   "metadata": {},
   "outputs": [
    {
     "data": {
      "text/plain": [
       "business_entity_doing_business_as_name\n",
       "Boca                 4.146400e+04\n",
       "Dysport              7.061400e+04\n",
       "ShopGoodwill         9.373600e+04\n",
       "Finding Unicorn      1.005700e+05\n",
       "Meow Mix             1.090440e+05\n",
       "                         ...     \n",
       "Adidas               1.503993e+10\n",
       "SHEIN                1.639037e+10\n",
       "Victoria's Secret    2.136851e+10\n",
       "Fashion Nova         4.437581e+10\n",
       "All Brands           1.011369e+12\n",
       "Name: likes, Length: 706, dtype: float64"
      ]
     },
     "execution_count": 220,
     "metadata": {},
     "output_type": "execute_result"
    }
   ],
   "source": [
    "#df.groupby([\"business_entity_doing_business_as_name\"]).sum()[\"likes\"].sort_values()"
   ]
  },
  {
   "cell_type": "code",
   "execution_count": null,
   "id": "dbac7945-1c1e-4096-a2bc-963ebf3e45e6",
   "metadata": {},
   "outputs": [],
   "source": [
    "#sns.pairplot(df[engagement_vars])"
   ]
  },
  {
   "cell_type": "code",
   "execution_count": 282,
   "id": "f3f245e3-6f53-48b5-b18d-905081910f09",
   "metadata": {},
   "outputs": [
    {
     "name": "stderr",
     "output_type": "stream",
     "text": [
      "/var/folders/xx/6tz780r13t57q640kxzkc46w0000gn/T/ipykernel_47719/2489022727.py:8: FutureWarning: this method is deprecated in favour of `Styler.format(precision=..)`\n",
      "  corr.style.background_gradient(cmap='coolwarm').set_precision(2)\n"
     ]
    },
    {
     "data": {
      "text/html": [
       "<style type=\"text/css\">\n",
       "#T_357ae_row0_col0, #T_357ae_row1_col1, #T_357ae_row2_col2, #T_357ae_row3_col3, #T_357ae_row3_col5, #T_357ae_row3_col6, #T_357ae_row4_col4, #T_357ae_row5_col3, #T_357ae_row5_col5, #T_357ae_row5_col6, #T_357ae_row6_col3, #T_357ae_row6_col5, #T_357ae_row6_col6, #T_357ae_row7_col7, #T_357ae_row8_col8, #T_357ae_row9_col9, #T_357ae_row10_col10, #T_357ae_row11_col11, #T_357ae_row12_col12, #T_357ae_row13_col13 {\n",
       "  background-color: #b40426;\n",
       "  color: #f1f1f1;\n",
       "}\n",
       "#T_357ae_row0_col1, #T_357ae_row2_col0 {\n",
       "  background-color: #e46e56;\n",
       "  color: #f1f1f1;\n",
       "}\n",
       "#T_357ae_row0_col2 {\n",
       "  background-color: #e36c55;\n",
       "  color: #f1f1f1;\n",
       "}\n",
       "#T_357ae_row0_col3, #T_357ae_row0_col6, #T_357ae_row5_col0 {\n",
       "  background-color: #ee8468;\n",
       "  color: #f1f1f1;\n",
       "}\n",
       "#T_357ae_row0_col4, #T_357ae_row4_col0 {\n",
       "  background-color: #f08a6c;\n",
       "  color: #f1f1f1;\n",
       "}\n",
       "#T_357ae_row0_col5 {\n",
       "  background-color: #ed8366;\n",
       "  color: #f1f1f1;\n",
       "}\n",
       "#T_357ae_row0_col7, #T_357ae_row8_col2 {\n",
       "  background-color: #3d50c3;\n",
       "  color: #f1f1f1;\n",
       "}\n",
       "#T_357ae_row0_col8, #T_357ae_row3_col9, #T_357ae_row5_col9, #T_357ae_row6_col9 {\n",
       "  background-color: #6f92f3;\n",
       "  color: #f1f1f1;\n",
       "}\n",
       "#T_357ae_row0_col9, #T_357ae_row11_col4 {\n",
       "  background-color: #6384eb;\n",
       "  color: #f1f1f1;\n",
       "}\n",
       "#T_357ae_row0_col10 {\n",
       "  background-color: #5a78e4;\n",
       "  color: #f1f1f1;\n",
       "}\n",
       "#T_357ae_row0_col11, #T_357ae_row2_col11, #T_357ae_row7_col10 {\n",
       "  background-color: #5977e3;\n",
       "  color: #f1f1f1;\n",
       "}\n",
       "#T_357ae_row0_col12 {\n",
       "  background-color: #dcdddd;\n",
       "  color: #000000;\n",
       "}\n",
       "#T_357ae_row0_col13, #T_357ae_row9_col11 {\n",
       "  background-color: #dddcdc;\n",
       "  color: #000000;\n",
       "}\n",
       "#T_357ae_row1_col0 {\n",
       "  background-color: #e67259;\n",
       "  color: #f1f1f1;\n",
       "}\n",
       "#T_357ae_row1_col2, #T_357ae_row2_col1 {\n",
       "  background-color: #e26952;\n",
       "  color: #f1f1f1;\n",
       "}\n",
       "#T_357ae_row1_col3, #T_357ae_row1_col5, #T_357ae_row1_col6 {\n",
       "  background-color: #f59c7d;\n",
       "  color: #000000;\n",
       "}\n",
       "#T_357ae_row1_col4 {\n",
       "  background-color: #f4987a;\n",
       "  color: #000000;\n",
       "}\n",
       "#T_357ae_row1_col7, #T_357ae_row2_col7, #T_357ae_row4_col7, #T_357ae_row10_col0 {\n",
       "  background-color: #3e51c5;\n",
       "  color: #f1f1f1;\n",
       "}\n",
       "#T_357ae_row1_col8, #T_357ae_row2_col9, #T_357ae_row5_col11 {\n",
       "  background-color: #6180e9;\n",
       "  color: #f1f1f1;\n",
       "}\n",
       "#T_357ae_row1_col9 {\n",
       "  background-color: #5d7ce6;\n",
       "  color: #f1f1f1;\n",
       "}\n",
       "#T_357ae_row1_col10, #T_357ae_row1_col11 {\n",
       "  background-color: #5673e0;\n",
       "  color: #f1f1f1;\n",
       "}\n",
       "#T_357ae_row1_col12 {\n",
       "  background-color: #e1dad6;\n",
       "  color: #000000;\n",
       "}\n",
       "#T_357ae_row1_col13 {\n",
       "  background-color: #d8dce2;\n",
       "  color: #000000;\n",
       "}\n",
       "#T_357ae_row2_col3, #T_357ae_row2_col6, #T_357ae_row3_col2, #T_357ae_row6_col2 {\n",
       "  background-color: #cd423b;\n",
       "  color: #f1f1f1;\n",
       "}\n",
       "#T_357ae_row2_col4, #T_357ae_row4_col2 {\n",
       "  background-color: #da5a49;\n",
       "  color: #f1f1f1;\n",
       "}\n",
       "#T_357ae_row2_col5, #T_357ae_row5_col2 {\n",
       "  background-color: #cc403a;\n",
       "  color: #f1f1f1;\n",
       "}\n",
       "#T_357ae_row2_col8, #T_357ae_row3_col11, #T_357ae_row5_col10, #T_357ae_row6_col11 {\n",
       "  background-color: #5f7fe8;\n",
       "  color: #f1f1f1;\n",
       "}\n",
       "#T_357ae_row2_col10, #T_357ae_row8_col3, #T_357ae_row8_col5, #T_357ae_row8_col6 {\n",
       "  background-color: #5572df;\n",
       "  color: #f1f1f1;\n",
       "}\n",
       "#T_357ae_row2_col12 {\n",
       "  background-color: #d9dce1;\n",
       "  color: #000000;\n",
       "}\n",
       "#T_357ae_row2_col13, #T_357ae_row11_col9 {\n",
       "  background-color: #e0dbd8;\n",
       "  color: #000000;\n",
       "}\n",
       "#T_357ae_row3_col0, #T_357ae_row6_col0 {\n",
       "  background-color: #ee8669;\n",
       "  color: #f1f1f1;\n",
       "}\n",
       "#T_357ae_row3_col1, #T_357ae_row5_col1, #T_357ae_row6_col1 {\n",
       "  background-color: #f49a7b;\n",
       "  color: #000000;\n",
       "}\n",
       "#T_357ae_row3_col4, #T_357ae_row4_col3, #T_357ae_row4_col6, #T_357ae_row6_col4 {\n",
       "  background-color: #e9785d;\n",
       "  color: #f1f1f1;\n",
       "}\n",
       "#T_357ae_row3_col7, #T_357ae_row5_col7, #T_357ae_row6_col7, #T_357ae_row8_col7, #T_357ae_row10_col2, #T_357ae_row10_col7 {\n",
       "  background-color: #3f53c6;\n",
       "  color: #f1f1f1;\n",
       "}\n",
       "#T_357ae_row3_col8, #T_357ae_row5_col8, #T_357ae_row6_col8 {\n",
       "  background-color: #799cf8;\n",
       "  color: #f1f1f1;\n",
       "}\n",
       "#T_357ae_row3_col10, #T_357ae_row6_col10 {\n",
       "  background-color: #5e7de7;\n",
       "  color: #f1f1f1;\n",
       "}\n",
       "#T_357ae_row3_col12, #T_357ae_row4_col12, #T_357ae_row5_col12, #T_357ae_row6_col12 {\n",
       "  background-color: #dadce0;\n",
       "  color: #000000;\n",
       "}\n",
       "#T_357ae_row3_col13, #T_357ae_row4_col13, #T_357ae_row5_col13, #T_357ae_row6_col13 {\n",
       "  background-color: #dfdbd9;\n",
       "  color: #000000;\n",
       "}\n",
       "#T_357ae_row4_col1 {\n",
       "  background-color: #f39778;\n",
       "  color: #000000;\n",
       "}\n",
       "#T_357ae_row4_col5, #T_357ae_row5_col4 {\n",
       "  background-color: #e8765c;\n",
       "  color: #f1f1f1;\n",
       "}\n",
       "#T_357ae_row4_col8 {\n",
       "  background-color: #6b8df0;\n",
       "  color: #f1f1f1;\n",
       "}\n",
       "#T_357ae_row4_col9 {\n",
       "  background-color: #6788ee;\n",
       "  color: #f1f1f1;\n",
       "}\n",
       "#T_357ae_row4_col10, #T_357ae_row10_col9 {\n",
       "  background-color: #85a8fc;\n",
       "  color: #f1f1f1;\n",
       "}\n",
       "#T_357ae_row4_col11 {\n",
       "  background-color: #7da0f9;\n",
       "  color: #f1f1f1;\n",
       "}\n",
       "#T_357ae_row7_col0, #T_357ae_row11_col0, #T_357ae_row12_col0, #T_357ae_row12_col2, #T_357ae_row12_col3, #T_357ae_row12_col4, #T_357ae_row12_col5, #T_357ae_row12_col6, #T_357ae_row12_col7, #T_357ae_row12_col9, #T_357ae_row12_col11, #T_357ae_row12_col13, #T_357ae_row13_col0, #T_357ae_row13_col1, #T_357ae_row13_col8, #T_357ae_row13_col10, #T_357ae_row13_col12 {\n",
       "  background-color: #3b4cc0;\n",
       "  color: #f1f1f1;\n",
       "}\n",
       "#T_357ae_row7_col1, #T_357ae_row9_col4 {\n",
       "  background-color: #455cce;\n",
       "  color: #f1f1f1;\n",
       "}\n",
       "#T_357ae_row7_col2, #T_357ae_row8_col1 {\n",
       "  background-color: #4358cb;\n",
       "  color: #f1f1f1;\n",
       "}\n",
       "#T_357ae_row7_col3, #T_357ae_row7_col5, #T_357ae_row7_col6, #T_357ae_row9_col7, #T_357ae_row11_col1, #T_357ae_row13_col7 {\n",
       "  background-color: #4257c9;\n",
       "  color: #f1f1f1;\n",
       "}\n",
       "#T_357ae_row7_col4, #T_357ae_row9_col1, #T_357ae_row9_col2, #T_357ae_row11_col2, #T_357ae_row11_col7 {\n",
       "  background-color: #4055c8;\n",
       "  color: #f1f1f1;\n",
       "}\n",
       "#T_357ae_row7_col8, #T_357ae_row7_col9 {\n",
       "  background-color: #6687ed;\n",
       "  color: #f1f1f1;\n",
       "}\n",
       "#T_357ae_row7_col11 {\n",
       "  background-color: #5b7ae5;\n",
       "  color: #f1f1f1;\n",
       "}\n",
       "#T_357ae_row7_col12, #T_357ae_row10_col8 {\n",
       "  background-color: #dbdcde;\n",
       "  color: #000000;\n",
       "}\n",
       "#T_357ae_row7_col13 {\n",
       "  background-color: #dedcdb;\n",
       "  color: #000000;\n",
       "}\n",
       "#T_357ae_row8_col0, #T_357ae_row8_col4, #T_357ae_row11_col3, #T_357ae_row11_col5, #T_357ae_row11_col6, #T_357ae_row13_col3, #T_357ae_row13_col5, #T_357ae_row13_col6 {\n",
       "  background-color: #465ecf;\n",
       "  color: #f1f1f1;\n",
       "}\n",
       "#T_357ae_row8_col9 {\n",
       "  background-color: #bad0f8;\n",
       "  color: #000000;\n",
       "}\n",
       "#T_357ae_row8_col10 {\n",
       "  background-color: #d5dbe5;\n",
       "  color: #000000;\n",
       "}\n",
       "#T_357ae_row8_col11 {\n",
       "  background-color: #86a9fc;\n",
       "  color: #f1f1f1;\n",
       "}\n",
       "#T_357ae_row8_col12 {\n",
       "  background-color: #eed0c0;\n",
       "  color: #000000;\n",
       "}\n",
       "#T_357ae_row8_col13 {\n",
       "  background-color: #c7d7f0;\n",
       "  color: #000000;\n",
       "}\n",
       "#T_357ae_row9_col0 {\n",
       "  background-color: #3c4ec2;\n",
       "  color: #f1f1f1;\n",
       "}\n",
       "#T_357ae_row9_col3, #T_357ae_row9_col5, #T_357ae_row9_col6 {\n",
       "  background-color: #4e68d8;\n",
       "  color: #f1f1f1;\n",
       "}\n",
       "#T_357ae_row9_col8 {\n",
       "  background-color: #bbd1f8;\n",
       "  color: #000000;\n",
       "}\n",
       "#T_357ae_row9_col10, #T_357ae_row13_col11 {\n",
       "  background-color: #7b9ff9;\n",
       "  color: #f1f1f1;\n",
       "}\n",
       "#T_357ae_row9_col12 {\n",
       "  background-color: #c9d7f0;\n",
       "  color: #000000;\n",
       "}\n",
       "#T_357ae_row9_col13 {\n",
       "  background-color: #edd1c2;\n",
       "  color: #000000;\n",
       "}\n",
       "#T_357ae_row10_col1, #T_357ae_row13_col4 {\n",
       "  background-color: #445acc;\n",
       "  color: #f1f1f1;\n",
       "}\n",
       "#T_357ae_row10_col3, #T_357ae_row10_col5, #T_357ae_row10_col6 {\n",
       "  background-color: #485fd1;\n",
       "  color: #f1f1f1;\n",
       "}\n",
       "#T_357ae_row10_col4 {\n",
       "  background-color: #6e90f2;\n",
       "  color: #f1f1f1;\n",
       "}\n",
       "#T_357ae_row10_col11 {\n",
       "  background-color: #f6bea4;\n",
       "  color: #000000;\n",
       "}\n",
       "#T_357ae_row10_col12 {\n",
       "  background-color: #ead5c9;\n",
       "  color: #000000;\n",
       "}\n",
       "#T_357ae_row10_col13 {\n",
       "  background-color: #cedaeb;\n",
       "  color: #000000;\n",
       "}\n",
       "#T_357ae_row11_col8 {\n",
       "  background-color: #90b2fe;\n",
       "  color: #000000;\n",
       "}\n",
       "#T_357ae_row11_col10 {\n",
       "  background-color: #f6bfa6;\n",
       "  color: #000000;\n",
       "}\n",
       "#T_357ae_row11_col12 {\n",
       "  background-color: #cdd9ec;\n",
       "  color: #000000;\n",
       "}\n",
       "#T_357ae_row11_col13 {\n",
       "  background-color: #ead4c8;\n",
       "  color: #000000;\n",
       "}\n",
       "#T_357ae_row12_col1 {\n",
       "  background-color: #506bda;\n",
       "  color: #f1f1f1;\n",
       "}\n",
       "#T_357ae_row12_col8 {\n",
       "  background-color: #92b4fe;\n",
       "  color: #000000;\n",
       "}\n",
       "#T_357ae_row12_col10 {\n",
       "  background-color: #7699f6;\n",
       "  color: #f1f1f1;\n",
       "}\n",
       "#T_357ae_row13_col2 {\n",
       "  background-color: #4961d2;\n",
       "  color: #f1f1f1;\n",
       "}\n",
       "#T_357ae_row13_col9 {\n",
       "  background-color: #8db0fe;\n",
       "  color: #000000;\n",
       "}\n",
       "</style>\n",
       "<table id=\"T_357ae_\">\n",
       "  <thead>\n",
       "    <tr>\n",
       "      <th class=\"blank level0\" >&nbsp;</th>\n",
       "      <th class=\"col_heading level0 col0\" >followers</th>\n",
       "      <th class=\"col_heading level0 col1\" >videos</th>\n",
       "      <th class=\"col_heading level0 col2\" >pictures</th>\n",
       "      <th class=\"col_heading level0 col3\" >likes</th>\n",
       "      <th class=\"col_heading level0 col4\" >comments</th>\n",
       "      <th class=\"col_heading level0 col5\" >total_involvement</th>\n",
       "      <th class=\"col_heading level0 col6\" >total_company_activity</th>\n",
       "      <th class=\"col_heading level0 col7\" >conversion_rate_total</th>\n",
       "      <th class=\"col_heading level0 col8\" >likes_per_picture</th>\n",
       "      <th class=\"col_heading level0 col9\" >likes_per_video</th>\n",
       "      <th class=\"col_heading level0 col10\" >comments_per_picture</th>\n",
       "      <th class=\"col_heading level0 col11\" >comments_per_video</th>\n",
       "      <th class=\"col_heading level0 col12\" >ratio_of_videos</th>\n",
       "      <th class=\"col_heading level0 col13\" >ratio_of_pictures</th>\n",
       "    </tr>\n",
       "  </thead>\n",
       "  <tbody>\n",
       "    <tr>\n",
       "      <th id=\"T_357ae_level0_row0\" class=\"row_heading level0 row0\" >followers</th>\n",
       "      <td id=\"T_357ae_row0_col0\" class=\"data row0 col0\" >1.00</td>\n",
       "      <td id=\"T_357ae_row0_col1\" class=\"data row0 col1\" >0.84</td>\n",
       "      <td id=\"T_357ae_row0_col2\" class=\"data row0 col2\" >0.85</td>\n",
       "      <td id=\"T_357ae_row0_col3\" class=\"data row0 col3\" >0.79</td>\n",
       "      <td id=\"T_357ae_row0_col4\" class=\"data row0 col4\" >0.78</td>\n",
       "      <td id=\"T_357ae_row0_col5\" class=\"data row0 col5\" >0.80</td>\n",
       "      <td id=\"T_357ae_row0_col6\" class=\"data row0 col6\" >0.80</td>\n",
       "      <td id=\"T_357ae_row0_col7\" class=\"data row0 col7\" >-0.00</td>\n",
       "      <td id=\"T_357ae_row0_col8\" class=\"data row0 col8\" >0.04</td>\n",
       "      <td id=\"T_357ae_row0_col9\" class=\"data row0 col9\" >0.01</td>\n",
       "      <td id=\"T_357ae_row0_col10\" class=\"data row0 col10\" >0.01</td>\n",
       "      <td id=\"T_357ae_row0_col11\" class=\"data row0 col11\" >-0.00</td>\n",
       "      <td id=\"T_357ae_row0_col12\" class=\"data row0 col12\" >-0.00</td>\n",
       "      <td id=\"T_357ae_row0_col13\" class=\"data row0 col13\" >0.00</td>\n",
       "    </tr>\n",
       "    <tr>\n",
       "      <th id=\"T_357ae_level0_row1\" class=\"row_heading level0 row1\" >videos</th>\n",
       "      <td id=\"T_357ae_row1_col0\" class=\"data row1 col0\" >0.84</td>\n",
       "      <td id=\"T_357ae_row1_col1\" class=\"data row1 col1\" >1.00</td>\n",
       "      <td id=\"T_357ae_row1_col2\" class=\"data row1 col2\" >0.85</td>\n",
       "      <td id=\"T_357ae_row1_col3\" class=\"data row1 col3\" >0.74</td>\n",
       "      <td id=\"T_357ae_row1_col4\" class=\"data row1 col4\" >0.75</td>\n",
       "      <td id=\"T_357ae_row1_col5\" class=\"data row1 col5\" >0.74</td>\n",
       "      <td id=\"T_357ae_row1_col6\" class=\"data row1 col6\" >0.74</td>\n",
       "      <td id=\"T_357ae_row1_col7\" class=\"data row1 col7\" >0.00</td>\n",
       "      <td id=\"T_357ae_row1_col8\" class=\"data row1 col8\" >-0.01</td>\n",
       "      <td id=\"T_357ae_row1_col9\" class=\"data row1 col9\" >-0.02</td>\n",
       "      <td id=\"T_357ae_row1_col10\" class=\"data row1 col10\" >-0.00</td>\n",
       "      <td id=\"T_357ae_row1_col11\" class=\"data row1 col11\" >-0.01</td>\n",
       "      <td id=\"T_357ae_row1_col12\" class=\"data row1 col12\" >0.04</td>\n",
       "      <td id=\"T_357ae_row1_col13\" class=\"data row1 col13\" >-0.04</td>\n",
       "    </tr>\n",
       "    <tr>\n",
       "      <th id=\"T_357ae_level0_row2\" class=\"row_heading level0 row2\" >pictures</th>\n",
       "      <td id=\"T_357ae_row2_col0\" class=\"data row2 col0\" >0.85</td>\n",
       "      <td id=\"T_357ae_row2_col1\" class=\"data row2 col1\" >0.85</td>\n",
       "      <td id=\"T_357ae_row2_col2\" class=\"data row2 col2\" >1.00</td>\n",
       "      <td id=\"T_357ae_row2_col3\" class=\"data row2 col3\" >0.93</td>\n",
       "      <td id=\"T_357ae_row2_col4\" class=\"data row2 col4\" >0.88</td>\n",
       "      <td id=\"T_357ae_row2_col5\" class=\"data row2 col5\" >0.93</td>\n",
       "      <td id=\"T_357ae_row2_col6\" class=\"data row2 col6\" >0.93</td>\n",
       "      <td id=\"T_357ae_row2_col7\" class=\"data row2 col7\" >0.00</td>\n",
       "      <td id=\"T_357ae_row2_col8\" class=\"data row2 col8\" >-0.01</td>\n",
       "      <td id=\"T_357ae_row2_col9\" class=\"data row2 col9\" >-0.00</td>\n",
       "      <td id=\"T_357ae_row2_col10\" class=\"data row2 col10\" >-0.01</td>\n",
       "      <td id=\"T_357ae_row2_col11\" class=\"data row2 col11\" >-0.00</td>\n",
       "      <td id=\"T_357ae_row2_col12\" class=\"data row2 col12\" >-0.03</td>\n",
       "      <td id=\"T_357ae_row2_col13\" class=\"data row2 col13\" >0.03</td>\n",
       "    </tr>\n",
       "    <tr>\n",
       "      <th id=\"T_357ae_level0_row3\" class=\"row_heading level0 row3\" >likes</th>\n",
       "      <td id=\"T_357ae_row3_col0\" class=\"data row3 col0\" >0.79</td>\n",
       "      <td id=\"T_357ae_row3_col1\" class=\"data row3 col1\" >0.74</td>\n",
       "      <td id=\"T_357ae_row3_col2\" class=\"data row3 col2\" >0.93</td>\n",
       "      <td id=\"T_357ae_row3_col3\" class=\"data row3 col3\" >1.00</td>\n",
       "      <td id=\"T_357ae_row3_col4\" class=\"data row3 col4\" >0.82</td>\n",
       "      <td id=\"T_357ae_row3_col5\" class=\"data row3 col5\" >1.00</td>\n",
       "      <td id=\"T_357ae_row3_col6\" class=\"data row3 col6\" >1.00</td>\n",
       "      <td id=\"T_357ae_row3_col7\" class=\"data row3 col7\" >0.00</td>\n",
       "      <td id=\"T_357ae_row3_col8\" class=\"data row3 col8\" >0.07</td>\n",
       "      <td id=\"T_357ae_row3_col9\" class=\"data row3 col9\" >0.05</td>\n",
       "      <td id=\"T_357ae_row3_col10\" class=\"data row3 col10\" >0.02</td>\n",
       "      <td id=\"T_357ae_row3_col11\" class=\"data row3 col11\" >0.02</td>\n",
       "      <td id=\"T_357ae_row3_col12\" class=\"data row3 col12\" >-0.02</td>\n",
       "      <td id=\"T_357ae_row3_col13\" class=\"data row3 col13\" >0.02</td>\n",
       "    </tr>\n",
       "    <tr>\n",
       "      <th id=\"T_357ae_level0_row4\" class=\"row_heading level0 row4\" >comments</th>\n",
       "      <td id=\"T_357ae_row4_col0\" class=\"data row4 col0\" >0.78</td>\n",
       "      <td id=\"T_357ae_row4_col1\" class=\"data row4 col1\" >0.75</td>\n",
       "      <td id=\"T_357ae_row4_col2\" class=\"data row4 col2\" >0.88</td>\n",
       "      <td id=\"T_357ae_row4_col3\" class=\"data row4 col3\" >0.82</td>\n",
       "      <td id=\"T_357ae_row4_col4\" class=\"data row4 col4\" >1.00</td>\n",
       "      <td id=\"T_357ae_row4_col5\" class=\"data row4 col5\" >0.83</td>\n",
       "      <td id=\"T_357ae_row4_col6\" class=\"data row4 col6\" >0.82</td>\n",
       "      <td id=\"T_357ae_row4_col7\" class=\"data row4 col7\" >0.00</td>\n",
       "      <td id=\"T_357ae_row4_col8\" class=\"data row4 col8\" >0.03</td>\n",
       "      <td id=\"T_357ae_row4_col9\" class=\"data row4 col9\" >0.02</td>\n",
       "      <td id=\"T_357ae_row4_col10\" class=\"data row4 col10\" >0.15</td>\n",
       "      <td id=\"T_357ae_row4_col11\" class=\"data row4 col11\" >0.12</td>\n",
       "      <td id=\"T_357ae_row4_col12\" class=\"data row4 col12\" >-0.02</td>\n",
       "      <td id=\"T_357ae_row4_col13\" class=\"data row4 col13\" >0.02</td>\n",
       "    </tr>\n",
       "    <tr>\n",
       "      <th id=\"T_357ae_level0_row5\" class=\"row_heading level0 row5\" >total_involvement</th>\n",
       "      <td id=\"T_357ae_row5_col0\" class=\"data row5 col0\" >0.80</td>\n",
       "      <td id=\"T_357ae_row5_col1\" class=\"data row5 col1\" >0.74</td>\n",
       "      <td id=\"T_357ae_row5_col2\" class=\"data row5 col2\" >0.93</td>\n",
       "      <td id=\"T_357ae_row5_col3\" class=\"data row5 col3\" >1.00</td>\n",
       "      <td id=\"T_357ae_row5_col4\" class=\"data row5 col4\" >0.83</td>\n",
       "      <td id=\"T_357ae_row5_col5\" class=\"data row5 col5\" >1.00</td>\n",
       "      <td id=\"T_357ae_row5_col6\" class=\"data row5 col6\" >1.00</td>\n",
       "      <td id=\"T_357ae_row5_col7\" class=\"data row5 col7\" >0.00</td>\n",
       "      <td id=\"T_357ae_row5_col8\" class=\"data row5 col8\" >0.07</td>\n",
       "      <td id=\"T_357ae_row5_col9\" class=\"data row5 col9\" >0.05</td>\n",
       "      <td id=\"T_357ae_row5_col10\" class=\"data row5 col10\" >0.03</td>\n",
       "      <td id=\"T_357ae_row5_col11\" class=\"data row5 col11\" >0.02</td>\n",
       "      <td id=\"T_357ae_row5_col12\" class=\"data row5 col12\" >-0.02</td>\n",
       "      <td id=\"T_357ae_row5_col13\" class=\"data row5 col13\" >0.02</td>\n",
       "    </tr>\n",
       "    <tr>\n",
       "      <th id=\"T_357ae_level0_row6\" class=\"row_heading level0 row6\" >total_company_activity</th>\n",
       "      <td id=\"T_357ae_row6_col0\" class=\"data row6 col0\" >0.80</td>\n",
       "      <td id=\"T_357ae_row6_col1\" class=\"data row6 col1\" >0.74</td>\n",
       "      <td id=\"T_357ae_row6_col2\" class=\"data row6 col2\" >0.93</td>\n",
       "      <td id=\"T_357ae_row6_col3\" class=\"data row6 col3\" >1.00</td>\n",
       "      <td id=\"T_357ae_row6_col4\" class=\"data row6 col4\" >0.82</td>\n",
       "      <td id=\"T_357ae_row6_col5\" class=\"data row6 col5\" >1.00</td>\n",
       "      <td id=\"T_357ae_row6_col6\" class=\"data row6 col6\" >1.00</td>\n",
       "      <td id=\"T_357ae_row6_col7\" class=\"data row6 col7\" >0.00</td>\n",
       "      <td id=\"T_357ae_row6_col8\" class=\"data row6 col8\" >0.07</td>\n",
       "      <td id=\"T_357ae_row6_col9\" class=\"data row6 col9\" >0.05</td>\n",
       "      <td id=\"T_357ae_row6_col10\" class=\"data row6 col10\" >0.02</td>\n",
       "      <td id=\"T_357ae_row6_col11\" class=\"data row6 col11\" >0.02</td>\n",
       "      <td id=\"T_357ae_row6_col12\" class=\"data row6 col12\" >-0.02</td>\n",
       "      <td id=\"T_357ae_row6_col13\" class=\"data row6 col13\" >0.02</td>\n",
       "    </tr>\n",
       "    <tr>\n",
       "      <th id=\"T_357ae_level0_row7\" class=\"row_heading level0 row7\" >conversion_rate_total</th>\n",
       "      <td id=\"T_357ae_row7_col0\" class=\"data row7 col0\" >-0.00</td>\n",
       "      <td id=\"T_357ae_row7_col1\" class=\"data row7 col1\" >0.00</td>\n",
       "      <td id=\"T_357ae_row7_col2\" class=\"data row7 col2\" >0.00</td>\n",
       "      <td id=\"T_357ae_row7_col3\" class=\"data row7 col3\" >0.00</td>\n",
       "      <td id=\"T_357ae_row7_col4\" class=\"data row7 col4\" >0.00</td>\n",
       "      <td id=\"T_357ae_row7_col5\" class=\"data row7 col5\" >0.00</td>\n",
       "      <td id=\"T_357ae_row7_col6\" class=\"data row7 col6\" >0.00</td>\n",
       "      <td id=\"T_357ae_row7_col7\" class=\"data row7 col7\" >1.00</td>\n",
       "      <td id=\"T_357ae_row7_col8\" class=\"data row7 col8\" >0.01</td>\n",
       "      <td id=\"T_357ae_row7_col9\" class=\"data row7 col9\" >0.01</td>\n",
       "      <td id=\"T_357ae_row7_col10\" class=\"data row7 col10\" >0.01</td>\n",
       "      <td id=\"T_357ae_row7_col11\" class=\"data row7 col11\" >0.01</td>\n",
       "      <td id=\"T_357ae_row7_col12\" class=\"data row7 col12\" >-0.01</td>\n",
       "      <td id=\"T_357ae_row7_col13\" class=\"data row7 col13\" >0.01</td>\n",
       "    </tr>\n",
       "    <tr>\n",
       "      <th id=\"T_357ae_level0_row8\" class=\"row_heading level0 row8\" >likes_per_picture</th>\n",
       "      <td id=\"T_357ae_row8_col0\" class=\"data row8 col0\" >0.04</td>\n",
       "      <td id=\"T_357ae_row8_col1\" class=\"data row8 col1\" >-0.01</td>\n",
       "      <td id=\"T_357ae_row8_col2\" class=\"data row8 col2\" >-0.01</td>\n",
       "      <td id=\"T_357ae_row8_col3\" class=\"data row8 col3\" >0.07</td>\n",
       "      <td id=\"T_357ae_row8_col4\" class=\"data row8 col4\" >0.03</td>\n",
       "      <td id=\"T_357ae_row8_col5\" class=\"data row8 col5\" >0.07</td>\n",
       "      <td id=\"T_357ae_row8_col6\" class=\"data row8 col6\" >0.07</td>\n",
       "      <td id=\"T_357ae_row8_col7\" class=\"data row8 col7\" >0.01</td>\n",
       "      <td id=\"T_357ae_row8_col8\" class=\"data row8 col8\" >1.00</td>\n",
       "      <td id=\"T_357ae_row8_col9\" class=\"data row8 col9\" >0.29</td>\n",
       "      <td id=\"T_357ae_row8_col10\" class=\"data row8 col10\" >0.42</td>\n",
       "      <td id=\"T_357ae_row8_col11\" class=\"data row8 col11\" >0.15</td>\n",
       "      <td id=\"T_357ae_row8_col12\" class=\"data row8 col12\" >0.15</td>\n",
       "      <td id=\"T_357ae_row8_col13\" class=\"data row8 col13\" >-0.15</td>\n",
       "    </tr>\n",
       "    <tr>\n",
       "      <th id=\"T_357ae_level0_row9\" class=\"row_heading level0 row9\" >likes_per_video</th>\n",
       "      <td id=\"T_357ae_row9_col0\" class=\"data row9 col0\" >0.01</td>\n",
       "      <td id=\"T_357ae_row9_col1\" class=\"data row9 col1\" >-0.02</td>\n",
       "      <td id=\"T_357ae_row9_col2\" class=\"data row9 col2\" >-0.00</td>\n",
       "      <td id=\"T_357ae_row9_col3\" class=\"data row9 col3\" >0.05</td>\n",
       "      <td id=\"T_357ae_row9_col4\" class=\"data row9 col4\" >0.02</td>\n",
       "      <td id=\"T_357ae_row9_col5\" class=\"data row9 col5\" >0.05</td>\n",
       "      <td id=\"T_357ae_row9_col6\" class=\"data row9 col6\" >0.05</td>\n",
       "      <td id=\"T_357ae_row9_col7\" class=\"data row9 col7\" >0.01</td>\n",
       "      <td id=\"T_357ae_row9_col8\" class=\"data row9 col8\" >0.29</td>\n",
       "      <td id=\"T_357ae_row9_col9\" class=\"data row9 col9\" >1.00</td>\n",
       "      <td id=\"T_357ae_row9_col10\" class=\"data row9 col10\" >0.12</td>\n",
       "      <td id=\"T_357ae_row9_col11\" class=\"data row9 col11\" >0.44</td>\n",
       "      <td id=\"T_357ae_row9_col12\" class=\"data row9 col12\" >-0.15</td>\n",
       "      <td id=\"T_357ae_row9_col13\" class=\"data row9 col13\" >0.15</td>\n",
       "    </tr>\n",
       "    <tr>\n",
       "      <th id=\"T_357ae_level0_row10\" class=\"row_heading level0 row10\" >comments_per_picture</th>\n",
       "      <td id=\"T_357ae_row10_col0\" class=\"data row10 col0\" >0.01</td>\n",
       "      <td id=\"T_357ae_row10_col1\" class=\"data row10 col1\" >-0.00</td>\n",
       "      <td id=\"T_357ae_row10_col2\" class=\"data row10 col2\" >-0.01</td>\n",
       "      <td id=\"T_357ae_row10_col3\" class=\"data row10 col3\" >0.02</td>\n",
       "      <td id=\"T_357ae_row10_col4\" class=\"data row10 col4\" >0.15</td>\n",
       "      <td id=\"T_357ae_row10_col5\" class=\"data row10 col5\" >0.03</td>\n",
       "      <td id=\"T_357ae_row10_col6\" class=\"data row10 col6\" >0.02</td>\n",
       "      <td id=\"T_357ae_row10_col7\" class=\"data row10 col7\" >0.01</td>\n",
       "      <td id=\"T_357ae_row10_col8\" class=\"data row10 col8\" >0.42</td>\n",
       "      <td id=\"T_357ae_row10_col9\" class=\"data row10 col9\" >0.12</td>\n",
       "      <td id=\"T_357ae_row10_col10\" class=\"data row10 col10\" >1.00</td>\n",
       "      <td id=\"T_357ae_row10_col11\" class=\"data row10 col11\" >0.61</td>\n",
       "      <td id=\"T_357ae_row10_col12\" class=\"data row10 col12\" >0.10</td>\n",
       "      <td id=\"T_357ae_row10_col13\" class=\"data row10 col13\" >-0.10</td>\n",
       "    </tr>\n",
       "    <tr>\n",
       "      <th id=\"T_357ae_level0_row11\" class=\"row_heading level0 row11\" >comments_per_video</th>\n",
       "      <td id=\"T_357ae_row11_col0\" class=\"data row11 col0\" >-0.00</td>\n",
       "      <td id=\"T_357ae_row11_col1\" class=\"data row11 col1\" >-0.01</td>\n",
       "      <td id=\"T_357ae_row11_col2\" class=\"data row11 col2\" >-0.00</td>\n",
       "      <td id=\"T_357ae_row11_col3\" class=\"data row11 col3\" >0.02</td>\n",
       "      <td id=\"T_357ae_row11_col4\" class=\"data row11 col4\" >0.12</td>\n",
       "      <td id=\"T_357ae_row11_col5\" class=\"data row11 col5\" >0.02</td>\n",
       "      <td id=\"T_357ae_row11_col6\" class=\"data row11 col6\" >0.02</td>\n",
       "      <td id=\"T_357ae_row11_col7\" class=\"data row11 col7\" >0.01</td>\n",
       "      <td id=\"T_357ae_row11_col8\" class=\"data row11 col8\" >0.15</td>\n",
       "      <td id=\"T_357ae_row11_col9\" class=\"data row11 col9\" >0.44</td>\n",
       "      <td id=\"T_357ae_row11_col10\" class=\"data row11 col10\" >0.61</td>\n",
       "      <td id=\"T_357ae_row11_col11\" class=\"data row11 col11\" >1.00</td>\n",
       "      <td id=\"T_357ae_row11_col12\" class=\"data row11 col12\" >-0.11</td>\n",
       "      <td id=\"T_357ae_row11_col13\" class=\"data row11 col13\" >0.11</td>\n",
       "    </tr>\n",
       "    <tr>\n",
       "      <th id=\"T_357ae_level0_row12\" class=\"row_heading level0 row12\" >ratio_of_videos</th>\n",
       "      <td id=\"T_357ae_row12_col0\" class=\"data row12 col0\" >-0.00</td>\n",
       "      <td id=\"T_357ae_row12_col1\" class=\"data row12 col1\" >0.04</td>\n",
       "      <td id=\"T_357ae_row12_col2\" class=\"data row12 col2\" >-0.03</td>\n",
       "      <td id=\"T_357ae_row12_col3\" class=\"data row12 col3\" >-0.02</td>\n",
       "      <td id=\"T_357ae_row12_col4\" class=\"data row12 col4\" >-0.02</td>\n",
       "      <td id=\"T_357ae_row12_col5\" class=\"data row12 col5\" >-0.02</td>\n",
       "      <td id=\"T_357ae_row12_col6\" class=\"data row12 col6\" >-0.02</td>\n",
       "      <td id=\"T_357ae_row12_col7\" class=\"data row12 col7\" >-0.01</td>\n",
       "      <td id=\"T_357ae_row12_col8\" class=\"data row12 col8\" >0.15</td>\n",
       "      <td id=\"T_357ae_row12_col9\" class=\"data row12 col9\" >-0.15</td>\n",
       "      <td id=\"T_357ae_row12_col10\" class=\"data row12 col10\" >0.10</td>\n",
       "      <td id=\"T_357ae_row12_col11\" class=\"data row12 col11\" >-0.11</td>\n",
       "      <td id=\"T_357ae_row12_col12\" class=\"data row12 col12\" >1.00</td>\n",
       "      <td id=\"T_357ae_row12_col13\" class=\"data row12 col13\" >-1.00</td>\n",
       "    </tr>\n",
       "    <tr>\n",
       "      <th id=\"T_357ae_level0_row13\" class=\"row_heading level0 row13\" >ratio_of_pictures</th>\n",
       "      <td id=\"T_357ae_row13_col0\" class=\"data row13 col0\" >0.00</td>\n",
       "      <td id=\"T_357ae_row13_col1\" class=\"data row13 col1\" >-0.04</td>\n",
       "      <td id=\"T_357ae_row13_col2\" class=\"data row13 col2\" >0.03</td>\n",
       "      <td id=\"T_357ae_row13_col3\" class=\"data row13 col3\" >0.02</td>\n",
       "      <td id=\"T_357ae_row13_col4\" class=\"data row13 col4\" >0.02</td>\n",
       "      <td id=\"T_357ae_row13_col5\" class=\"data row13 col5\" >0.02</td>\n",
       "      <td id=\"T_357ae_row13_col6\" class=\"data row13 col6\" >0.02</td>\n",
       "      <td id=\"T_357ae_row13_col7\" class=\"data row13 col7\" >0.01</td>\n",
       "      <td id=\"T_357ae_row13_col8\" class=\"data row13 col8\" >-0.15</td>\n",
       "      <td id=\"T_357ae_row13_col9\" class=\"data row13 col9\" >0.15</td>\n",
       "      <td id=\"T_357ae_row13_col10\" class=\"data row13 col10\" >-0.10</td>\n",
       "      <td id=\"T_357ae_row13_col11\" class=\"data row13 col11\" >0.11</td>\n",
       "      <td id=\"T_357ae_row13_col12\" class=\"data row13 col12\" >-1.00</td>\n",
       "      <td id=\"T_357ae_row13_col13\" class=\"data row13 col13\" >1.00</td>\n",
       "    </tr>\n",
       "  </tbody>\n",
       "</table>\n"
      ],
      "text/plain": [
       "<pandas.io.formats.style.Styler at 0x7fb88edff8b0>"
      ]
     },
     "execution_count": 282,
     "metadata": {},
     "output_type": "execute_result"
    }
   ],
   "source": [
    "new_vars = [\"followers\", \"videos\", \"pictures\", \"likes\", \"comments\", \"total_involvement\", \"total_company_activity\", \n",
    "            \"conversion_rate_total\", \"likes_per_picture\", \"likes_per_video\",\n",
    "            \"comments_per_picture\", \"comments_per_video\", \n",
    "            \"ratio_of_videos\", \"ratio_of_pictures\"]\n",
    "\n",
    "corr = df[new_vars].corr()\n",
    "corr.style.background_gradient(cmap='coolwarm')\n",
    "corr.style.background_gradient(cmap='coolwarm').set_precision(2)\n",
    "#f, ax = plt.subplots(figsize=(10, 8))\n",
    "#sns.heatmap(corr,\n",
    "#    cmap=sns.diverging_palette(220, 10, as_cmap=True),\n",
    "#    vmin=0, vmax=1.0,\n",
    "#    square=True, ax=ax)"
   ]
  },
  {
   "cell_type": "markdown",
   "id": "a05ff244-9bb7-45cd-a989-cd32735072c0",
   "metadata": {},
   "source": [
    "## Comptetition\n",
    "\n",
    "1. Competition => count\n",
    "    1. by compset_group\n",
    "    2. by compset_group and country \n",
    "2. Market share: followers / total followers = followers, videos, pictures, likes, comments\n",
    "    1. by compset_group\n",
    "    2. by compset_group and country \n",
    "3. Activity compared to competition => \n",
    "    1. percentage of videos\n",
    "    2. percentage of pictures\n",
    "    3. percentage of total content\n",
    "    4. rank video\n",
    "    5. rank pictures\n",
    "    6. rank total\n",
    "4. Success compared to competitors\n",
    "    1. likes out of total likes\n",
    "    2. comments out of total commemts\n",
    "    3. likes per picture vs overall likes per picture\n",
    "    4. comments per picture vs overall comments per picture\n",
    "\n",
    "Assumtion:\n",
    "1. All their competitors are captured within the compset_group"
   ]
  },
  {
   "cell_type": "code",
   "execution_count": 417,
   "id": "2b082e45-94a5-4470-8ecd-2d97d7d71ee9",
   "metadata": {},
   "outputs": [],
   "source": [
    "vars_to_aggreg = [\"followers\", \"videos\", \"pictures\", \"likes\", \"comments\"]\n",
    "\n",
    "vars_agg_ind = [\"period_end_date\", \"compset_group\", \"business_entity_doing_business_as_name\"]\n",
    "vars_agg_ind_small = [\"period_end_date\", \"compset_group\"]\n",
    "\n",
    "vars_agg_ind_country = [\"period_end_date\", \"compset_group\", \"domicile_country_name\", \"business_entity_doing_business_as_name\"]\n",
    "vars_agg_ind_country_small = [\"period_end_date\", \"compset_group\", \"domicile_country_name\"]"
   ]
  },
  {
   "cell_type": "code",
   "execution_count": 418,
   "id": "50dbc18a-14e8-49a9-bc04-54cce66469ab",
   "metadata": {},
   "outputs": [],
   "source": [
    "#df.head(4)\n",
    "df_group_ind = df.drop_duplicates(vars_agg_ind).groupby(vars_agg_ind_small)\n",
    "df_group_ind_country = df.drop_duplicates(vars_agg_ind_country).groupby(vars_agg_ind_country_small)"
   ]
  },
  {
   "cell_type": "markdown",
   "id": "6fdbc659-cd7e-485d-acdb-e2e348fdc028",
   "metadata": {},
   "source": [
    "Number of companies in the compset_group active the same week"
   ]
  },
  {
   "cell_type": "code",
   "execution_count": 419,
   "id": "8a8e67cd-2427-4fd9-af40-44db8f75347d",
   "metadata": {},
   "outputs": [],
   "source": [
    "df_cnt_industry = pd.DataFrame(df_group_ind.count()[\"business_entity_doing_business_as_name\"])"
   ]
  },
  {
   "cell_type": "markdown",
   "id": "df1e39a0-058c-4ec4-a0b3-0362bb53b48a",
   "metadata": {},
   "source": [
    "Number of companies in the compset_group active the same week in the same country"
   ]
  },
  {
   "cell_type": "code",
   "execution_count": 420,
   "id": "7da21eef-b576-4646-aadb-b372ae11f519",
   "metadata": {},
   "outputs": [],
   "source": [
    "df_cnt_industry_country = pd.DataFrame(df_group_ind_country.count()[\"business_entity_doing_business_as_name\"])"
   ]
  },
  {
   "cell_type": "markdown",
   "id": "4772fd18-1497-4e5f-be7d-7cbaef631882",
   "metadata": {},
   "source": [
    "Sum of different values"
   ]
  },
  {
   "cell_type": "code",
   "execution_count": 421,
   "id": "596e63be-0b00-48e6-8e2d-27eb4585d804",
   "metadata": {},
   "outputs": [],
   "source": [
    "df_sum_industry = df_group_ind.sum()[vars_to_aggreg]\n",
    "df_sum_industry_country = df_group_ind_country.sum()[vars_to_aggreg]"
   ]
  },
  {
   "cell_type": "markdown",
   "id": "f8c0f2e1-048e-4d8f-bb0c-b6effcb8a456",
   "metadata": {},
   "source": [
    "Rename the variables prior to join"
   ]
  },
  {
   "cell_type": "code",
   "execution_count": 422,
   "id": "3bdc3e74-94f1-4aeb-b5ff-1b9df04c5d2c",
   "metadata": {},
   "outputs": [],
   "source": [
    "df_cnt_industry.rename(lambda x: x + \"_cnt_industry\", axis='columns', inplace=True)\n",
    "df_cnt_industry_country.rename(lambda x: x + \"_cnt_industry_country\", axis='columns', inplace=True)\n",
    "df_sum_industry.rename(lambda x: x + \"_sum_industry\", axis='columns', inplace=True)\n",
    "df_sum_industry_country.rename(lambda x: x + \"_sum_industry_country\", axis='columns', inplace=True)"
   ]
  },
  {
   "cell_type": "code",
   "execution_count": 411,
   "id": "c31fb773-f8d3-4bce-9c5e-56b128a7c768",
   "metadata": {},
   "outputs": [
    {
     "data": {
      "text/plain": [
       "['period_end_date', 'compset_group', 'domicile_country_name']"
      ]
     },
     "execution_count": 411,
     "metadata": {},
     "output_type": "execute_result"
    }
   ],
   "source": [
    "#vars_agg_ind_country_small"
   ]
  },
  {
   "cell_type": "code",
   "execution_count": 423,
   "id": "9e5670de-f43b-4d19-a720-0452476dd4e7",
   "metadata": {},
   "outputs": [
    {
     "data": {
      "text/html": [
       "<div>\n",
       "<style scoped>\n",
       "    .dataframe tbody tr th:only-of-type {\n",
       "        vertical-align: middle;\n",
       "    }\n",
       "\n",
       "    .dataframe tbody tr th {\n",
       "        vertical-align: top;\n",
       "    }\n",
       "\n",
       "    .dataframe thead th {\n",
       "        text-align: right;\n",
       "    }\n",
       "</style>\n",
       "<table border=\"1\" class=\"dataframe\">\n",
       "  <thead>\n",
       "    <tr style=\"text-align: right;\">\n",
       "      <th></th>\n",
       "      <th></th>\n",
       "      <th></th>\n",
       "      <th>followers_sum_industry_country</th>\n",
       "      <th>videos_sum_industry_country</th>\n",
       "      <th>pictures_sum_industry_country</th>\n",
       "      <th>likes_sum_industry_country</th>\n",
       "      <th>comments_sum_industry_country</th>\n",
       "    </tr>\n",
       "    <tr>\n",
       "      <th>period_end_date</th>\n",
       "      <th>compset_group</th>\n",
       "      <th>domicile_country_name</th>\n",
       "      <th></th>\n",
       "      <th></th>\n",
       "      <th></th>\n",
       "      <th></th>\n",
       "      <th></th>\n",
       "    </tr>\n",
       "  </thead>\n",
       "  <tbody>\n",
       "    <tr>\n",
       "      <th rowspan=\"5\" valign=\"top\">2015-01-03</th>\n",
       "      <th rowspan=\"5\" valign=\"top\">Apparel Retail</th>\n",
       "      <th>Brazil</th>\n",
       "      <td>1062150.0</td>\n",
       "      <td>11.0</td>\n",
       "      <td>216.0</td>\n",
       "      <td>553164.0</td>\n",
       "      <td>15760.0</td>\n",
       "    </tr>\n",
       "    <tr>\n",
       "      <th>Germany</th>\n",
       "      <td>0.0</td>\n",
       "      <td>1.0</td>\n",
       "      <td>62.0</td>\n",
       "      <td>25210.0</td>\n",
       "      <td>407.0</td>\n",
       "    </tr>\n",
       "    <tr>\n",
       "      <th>Hong Kong</th>\n",
       "      <td>34373.0</td>\n",
       "      <td>0.0</td>\n",
       "      <td>12.0</td>\n",
       "      <td>5889.0</td>\n",
       "      <td>73.0</td>\n",
       "    </tr>\n",
       "    <tr>\n",
       "      <th>Japan</th>\n",
       "      <td>0.0</td>\n",
       "      <td>1.0</td>\n",
       "      <td>193.0</td>\n",
       "      <td>39180.0</td>\n",
       "      <td>942.0</td>\n",
       "    </tr>\n",
       "    <tr>\n",
       "      <th>Poland</th>\n",
       "      <td>0.0</td>\n",
       "      <td>0.0</td>\n",
       "      <td>15.0</td>\n",
       "      <td>376.0</td>\n",
       "      <td>5.0</td>\n",
       "    </tr>\n",
       "  </tbody>\n",
       "</table>\n",
       "</div>"
      ],
      "text/plain": [
       "                                                      followers_sum_industry_country  \\\n",
       "period_end_date compset_group  domicile_country_name                                   \n",
       "2015-01-03      Apparel Retail Brazil                                      1062150.0   \n",
       "                               Germany                                           0.0   \n",
       "                               Hong Kong                                     34373.0   \n",
       "                               Japan                                             0.0   \n",
       "                               Poland                                            0.0   \n",
       "\n",
       "                                                      videos_sum_industry_country  \\\n",
       "period_end_date compset_group  domicile_country_name                                \n",
       "2015-01-03      Apparel Retail Brazil                                        11.0   \n",
       "                               Germany                                        1.0   \n",
       "                               Hong Kong                                      0.0   \n",
       "                               Japan                                          1.0   \n",
       "                               Poland                                         0.0   \n",
       "\n",
       "                                                      pictures_sum_industry_country  \\\n",
       "period_end_date compset_group  domicile_country_name                                  \n",
       "2015-01-03      Apparel Retail Brazil                                         216.0   \n",
       "                               Germany                                         62.0   \n",
       "                               Hong Kong                                       12.0   \n",
       "                               Japan                                          193.0   \n",
       "                               Poland                                          15.0   \n",
       "\n",
       "                                                      likes_sum_industry_country  \\\n",
       "period_end_date compset_group  domicile_country_name                               \n",
       "2015-01-03      Apparel Retail Brazil                                   553164.0   \n",
       "                               Germany                                   25210.0   \n",
       "                               Hong Kong                                  5889.0   \n",
       "                               Japan                                     39180.0   \n",
       "                               Poland                                      376.0   \n",
       "\n",
       "                                                      comments_sum_industry_country  \n",
       "period_end_date compset_group  domicile_country_name                                 \n",
       "2015-01-03      Apparel Retail Brazil                                       15760.0  \n",
       "                               Germany                                        407.0  \n",
       "                               Hong Kong                                       73.0  \n",
       "                               Japan                                          942.0  \n",
       "                               Poland                                           5.0  "
      ]
     },
     "execution_count": 423,
     "metadata": {},
     "output_type": "execute_result"
    }
   ],
   "source": [
    "df_sum_industry_country.head(5)"
   ]
  },
  {
   "cell_type": "code",
   "execution_count": 424,
   "id": "f0e48ab8-ef67-47c1-881a-5cc0be1e4fc5",
   "metadata": {},
   "outputs": [
    {
     "data": {
      "text/html": [
       "<div>\n",
       "<style scoped>\n",
       "    .dataframe tbody tr th:only-of-type {\n",
       "        vertical-align: middle;\n",
       "    }\n",
       "\n",
       "    .dataframe tbody tr th {\n",
       "        vertical-align: top;\n",
       "    }\n",
       "\n",
       "    .dataframe thead th {\n",
       "        text-align: right;\n",
       "    }\n",
       "</style>\n",
       "<table border=\"1\" class=\"dataframe\">\n",
       "  <thead>\n",
       "    <tr style=\"text-align: right;\">\n",
       "      <th></th>\n",
       "      <th></th>\n",
       "      <th></th>\n",
       "      <th>business_entity_doing_business_as_name_cnt_industry_country</th>\n",
       "    </tr>\n",
       "    <tr>\n",
       "      <th>period_end_date</th>\n",
       "      <th>compset_group</th>\n",
       "      <th>domicile_country_name</th>\n",
       "      <th></th>\n",
       "    </tr>\n",
       "  </thead>\n",
       "  <tbody>\n",
       "    <tr>\n",
       "      <th rowspan=\"5\" valign=\"top\">2015-01-03</th>\n",
       "      <th rowspan=\"5\" valign=\"top\">Apparel Retail</th>\n",
       "      <th>Brazil</th>\n",
       "      <td>8</td>\n",
       "    </tr>\n",
       "    <tr>\n",
       "      <th>Germany</th>\n",
       "      <td>2</td>\n",
       "    </tr>\n",
       "    <tr>\n",
       "      <th>Hong Kong</th>\n",
       "      <td>1</td>\n",
       "    </tr>\n",
       "    <tr>\n",
       "      <th>Japan</th>\n",
       "      <td>2</td>\n",
       "    </tr>\n",
       "    <tr>\n",
       "      <th>Poland</th>\n",
       "      <td>1</td>\n",
       "    </tr>\n",
       "  </tbody>\n",
       "</table>\n",
       "</div>"
      ],
      "text/plain": [
       "                                                      business_entity_doing_business_as_name_cnt_industry_country\n",
       "period_end_date compset_group  domicile_country_name                                                             \n",
       "2015-01-03      Apparel Retail Brazil                                                                 8          \n",
       "                               Germany                                                                2          \n",
       "                               Hong Kong                                                              1          \n",
       "                               Japan                                                                  2          \n",
       "                               Poland                                                                 1          "
      ]
     },
     "execution_count": 424,
     "metadata": {},
     "output_type": "execute_result"
    }
   ],
   "source": [
    "df_cnt_industry_country.head()"
   ]
  },
  {
   "cell_type": "markdown",
   "id": "a1d92a01-8252-4ad1-bef2-acf77898c289",
   "metadata": {},
   "source": [
    "**THE JOIN**\n",
    "\n",
    "\n",
    "<div class=\"alert alert-block alert-warning\">\n",
    "<b>Careful: </b> you need to do it only once, otherwise there will be name conflict and you would need to load the df again\n",
    "</div>\n",
    "\n",
    "That is why the 4 join sells below are commented out"
   ]
  },
  {
   "cell_type": "code",
   "execution_count": 433,
   "id": "133f9138-6a59-4014-a3fa-db668694d447",
   "metadata": {},
   "outputs": [],
   "source": [
    "#df = df.join(df_cnt_industry, on=vars_agg_ind_small)"
   ]
  },
  {
   "cell_type": "code",
   "execution_count": 426,
   "id": "c4a04cc3-db62-4e71-9752-f0f20f8db8d5",
   "metadata": {},
   "outputs": [],
   "source": [
    "#df = df.join(df_cnt_industry_country, on=vars_agg_ind_country_small)"
   ]
  },
  {
   "cell_type": "code",
   "execution_count": 427,
   "id": "7d52627b-b269-4399-b5d4-05a89c0eba40",
   "metadata": {},
   "outputs": [],
   "source": [
    "#df = df.join(df_sum_industry, on=vars_agg_ind_small)"
   ]
  },
  {
   "cell_type": "code",
   "execution_count": 428,
   "id": "c7a9c608-4857-4d95-814c-0197591d0131",
   "metadata": {},
   "outputs": [],
   "source": [
    "#df = df.join(df_sum_industry_country, on=vars_agg_ind_country_small)"
   ]
  },
  {
   "cell_type": "code",
   "execution_count": 429,
   "id": "87e27566-35f9-4368-b904-f178cb89ccca",
   "metadata": {},
   "outputs": [
    {
     "data": {
      "text/html": [
       "<div>\n",
       "<style scoped>\n",
       "    .dataframe tbody tr th:only-of-type {\n",
       "        vertical-align: middle;\n",
       "    }\n",
       "\n",
       "    .dataframe tbody tr th {\n",
       "        vertical-align: top;\n",
       "    }\n",
       "\n",
       "    .dataframe thead th {\n",
       "        text-align: right;\n",
       "    }\n",
       "</style>\n",
       "<table border=\"1\" class=\"dataframe\">\n",
       "  <thead>\n",
       "    <tr style=\"text-align: right;\">\n",
       "      <th></th>\n",
       "      <th>period</th>\n",
       "      <th>period_end_date</th>\n",
       "      <th>compset_group</th>\n",
       "      <th>compset</th>\n",
       "      <th>business_entity_doing_business_as_name</th>\n",
       "      <th>legal_entity_name</th>\n",
       "      <th>domicile_country_name</th>\n",
       "      <th>ultimate_parent_legal_entity_name</th>\n",
       "      <th>primary_exchange_name</th>\n",
       "      <th>calculation_type</th>\n",
       "      <th>followers</th>\n",
       "      <th>pictures</th>\n",
       "      <th>videos</th>\n",
       "      <th>comments</th>\n",
       "      <th>likes</th>\n",
       "      <th>business_entity_doing_business_as_name_cnt_industry</th>\n",
       "      <th>business_entity_doing_business_as_name_cnt_industry_country</th>\n",
       "      <th>followers_sum_industry</th>\n",
       "      <th>videos_sum_industry</th>\n",
       "      <th>pictures_sum_industry</th>\n",
       "      <th>likes_sum_industry</th>\n",
       "      <th>comments_sum_industry</th>\n",
       "      <th>followers_sum_industry_country</th>\n",
       "      <th>videos_sum_industry_country</th>\n",
       "      <th>pictures_sum_industry_country</th>\n",
       "      <th>likes_sum_industry_country</th>\n",
       "      <th>comments_sum_industry_country</th>\n",
       "    </tr>\n",
       "  </thead>\n",
       "  <tbody>\n",
       "    <tr>\n",
       "      <th>0</th>\n",
       "      <td>Weekly</td>\n",
       "      <td>2019-12-07</td>\n",
       "      <td>Luxury &amp; Premium &amp; Mainstream</td>\n",
       "      <td>Soft Luxury</td>\n",
       "      <td>Versace</td>\n",
       "      <td>Capri Holdings</td>\n",
       "      <td>United States of America</td>\n",
       "      <td>Capri Holdings</td>\n",
       "      <td>New York Stock Exchange</td>\n",
       "      <td>Metric Value</td>\n",
       "      <td>22066189.0</td>\n",
       "      <td>97.0</td>\n",
       "      <td>13.0</td>\n",
       "      <td>16239.0</td>\n",
       "      <td>6112205.0</td>\n",
       "      <td>146</td>\n",
       "      <td>32.0</td>\n",
       "      <td>1.175661e+09</td>\n",
       "      <td>2642.0</td>\n",
       "      <td>14793.0</td>\n",
       "      <td>182298392.0</td>\n",
       "      <td>1049640.0</td>\n",
       "      <td>148204010.0</td>\n",
       "      <td>513.0</td>\n",
       "      <td>2979.0</td>\n",
       "      <td>27296720.0</td>\n",
       "      <td>198975.0</td>\n",
       "    </tr>\n",
       "    <tr>\n",
       "      <th>1</th>\n",
       "      <td>Weekly</td>\n",
       "      <td>2021-01-30</td>\n",
       "      <td>Luxury &amp; Premium &amp; Mainstream</td>\n",
       "      <td>Luxury &amp; Premium &amp; Mainstream</td>\n",
       "      <td>Versace</td>\n",
       "      <td>Capri Holdings</td>\n",
       "      <td>United States of America</td>\n",
       "      <td>Capri Holdings</td>\n",
       "      <td>New York Stock Exchange</td>\n",
       "      <td>Metric Value</td>\n",
       "      <td>24289963.0</td>\n",
       "      <td>54.0</td>\n",
       "      <td>2.0</td>\n",
       "      <td>13358.0</td>\n",
       "      <td>3189144.0</td>\n",
       "      <td>146</td>\n",
       "      <td>32.0</td>\n",
       "      <td>8.166047e+08</td>\n",
       "      <td>1646.0</td>\n",
       "      <td>19400.0</td>\n",
       "      <td>103628524.0</td>\n",
       "      <td>810836.0</td>\n",
       "      <td>157893900.0</td>\n",
       "      <td>297.0</td>\n",
       "      <td>2952.0</td>\n",
       "      <td>13152443.0</td>\n",
       "      <td>104895.0</td>\n",
       "    </tr>\n",
       "    <tr>\n",
       "      <th>2</th>\n",
       "      <td>Weekly</td>\n",
       "      <td>2016-05-14</td>\n",
       "      <td>Luxury &amp; Premium &amp; Mainstream</td>\n",
       "      <td>Soft Luxury</td>\n",
       "      <td>Versace</td>\n",
       "      <td>Capri Holdings</td>\n",
       "      <td>United States of America</td>\n",
       "      <td>Capri Holdings</td>\n",
       "      <td>New York Stock Exchange</td>\n",
       "      <td>Metric Value</td>\n",
       "      <td>7137442.0</td>\n",
       "      <td>42.0</td>\n",
       "      <td>8.0</td>\n",
       "      <td>15894.0</td>\n",
       "      <td>2152955.0</td>\n",
       "      <td>141</td>\n",
       "      <td>31.0</td>\n",
       "      <td>3.452757e+08</td>\n",
       "      <td>1086.0</td>\n",
       "      <td>11350.0</td>\n",
       "      <td>119219647.0</td>\n",
       "      <td>729900.0</td>\n",
       "      <td>37394499.0</td>\n",
       "      <td>271.0</td>\n",
       "      <td>3376.0</td>\n",
       "      <td>17397412.0</td>\n",
       "      <td>138434.0</td>\n",
       "    </tr>\n",
       "    <tr>\n",
       "      <th>3</th>\n",
       "      <td>Weekly</td>\n",
       "      <td>2019-04-20</td>\n",
       "      <td>Luxury &amp; Premium &amp; Mainstream</td>\n",
       "      <td>Luxury &amp; Premium &amp; Mainstream</td>\n",
       "      <td>Versace</td>\n",
       "      <td>Capri Holdings</td>\n",
       "      <td>United States of America</td>\n",
       "      <td>Capri Holdings</td>\n",
       "      <td>New York Stock Exchange</td>\n",
       "      <td>Metric Value</td>\n",
       "      <td>18901125.0</td>\n",
       "      <td>73.0</td>\n",
       "      <td>9.0</td>\n",
       "      <td>26762.0</td>\n",
       "      <td>5224916.0</td>\n",
       "      <td>146</td>\n",
       "      <td>32.0</td>\n",
       "      <td>7.180901e+08</td>\n",
       "      <td>1808.0</td>\n",
       "      <td>12458.0</td>\n",
       "      <td>139475900.0</td>\n",
       "      <td>879572.0</td>\n",
       "      <td>129106789.0</td>\n",
       "      <td>459.0</td>\n",
       "      <td>3148.0</td>\n",
       "      <td>37850966.0</td>\n",
       "      <td>169338.0</td>\n",
       "    </tr>\n",
       "    <tr>\n",
       "      <th>4</th>\n",
       "      <td>Weekly</td>\n",
       "      <td>2023-03-25</td>\n",
       "      <td>Luxury &amp; Premium &amp; Mainstream</td>\n",
       "      <td>US Softlines Analyst Interest List</td>\n",
       "      <td>Versace</td>\n",
       "      <td>Capri Holdings</td>\n",
       "      <td>United States of America</td>\n",
       "      <td>Capri Holdings</td>\n",
       "      <td>New York Stock Exchange</td>\n",
       "      <td>Metric Value</td>\n",
       "      <td>30251374.0</td>\n",
       "      <td>54.0</td>\n",
       "      <td>10.0</td>\n",
       "      <td>25681.0</td>\n",
       "      <td>5760987.0</td>\n",
       "      <td>146</td>\n",
       "      <td>32.0</td>\n",
       "      <td>9.795134e+08</td>\n",
       "      <td>3266.0</td>\n",
       "      <td>10071.0</td>\n",
       "      <td>91658197.0</td>\n",
       "      <td>757698.0</td>\n",
       "      <td>178743779.0</td>\n",
       "      <td>685.0</td>\n",
       "      <td>1939.0</td>\n",
       "      <td>20291877.0</td>\n",
       "      <td>144929.0</td>\n",
       "    </tr>\n",
       "  </tbody>\n",
       "</table>\n",
       "</div>"
      ],
      "text/plain": [
       "   period period_end_date                  compset_group  \\\n",
       "0  Weekly      2019-12-07  Luxury & Premium & Mainstream   \n",
       "1  Weekly      2021-01-30  Luxury & Premium & Mainstream   \n",
       "2  Weekly      2016-05-14  Luxury & Premium & Mainstream   \n",
       "3  Weekly      2019-04-20  Luxury & Premium & Mainstream   \n",
       "4  Weekly      2023-03-25  Luxury & Premium & Mainstream   \n",
       "\n",
       "                              compset business_entity_doing_business_as_name  \\\n",
       "0                         Soft Luxury                                Versace   \n",
       "1       Luxury & Premium & Mainstream                                Versace   \n",
       "2                         Soft Luxury                                Versace   \n",
       "3       Luxury & Premium & Mainstream                                Versace   \n",
       "4  US Softlines Analyst Interest List                                Versace   \n",
       "\n",
       "  legal_entity_name     domicile_country_name  \\\n",
       "0    Capri Holdings  United States of America   \n",
       "1    Capri Holdings  United States of America   \n",
       "2    Capri Holdings  United States of America   \n",
       "3    Capri Holdings  United States of America   \n",
       "4    Capri Holdings  United States of America   \n",
       "\n",
       "  ultimate_parent_legal_entity_name    primary_exchange_name calculation_type  \\\n",
       "0                    Capri Holdings  New York Stock Exchange     Metric Value   \n",
       "1                    Capri Holdings  New York Stock Exchange     Metric Value   \n",
       "2                    Capri Holdings  New York Stock Exchange     Metric Value   \n",
       "3                    Capri Holdings  New York Stock Exchange     Metric Value   \n",
       "4                    Capri Holdings  New York Stock Exchange     Metric Value   \n",
       "\n",
       "    followers  pictures  videos  comments      likes  \\\n",
       "0  22066189.0      97.0    13.0   16239.0  6112205.0   \n",
       "1  24289963.0      54.0     2.0   13358.0  3189144.0   \n",
       "2   7137442.0      42.0     8.0   15894.0  2152955.0   \n",
       "3  18901125.0      73.0     9.0   26762.0  5224916.0   \n",
       "4  30251374.0      54.0    10.0   25681.0  5760987.0   \n",
       "\n",
       "   business_entity_doing_business_as_name_cnt_industry  \\\n",
       "0                                                146     \n",
       "1                                                146     \n",
       "2                                                141     \n",
       "3                                                146     \n",
       "4                                                146     \n",
       "\n",
       "   business_entity_doing_business_as_name_cnt_industry_country  \\\n",
       "0                                               32.0             \n",
       "1                                               32.0             \n",
       "2                                               31.0             \n",
       "3                                               32.0             \n",
       "4                                               32.0             \n",
       "\n",
       "   followers_sum_industry  videos_sum_industry  pictures_sum_industry  \\\n",
       "0            1.175661e+09               2642.0                14793.0   \n",
       "1            8.166047e+08               1646.0                19400.0   \n",
       "2            3.452757e+08               1086.0                11350.0   \n",
       "3            7.180901e+08               1808.0                12458.0   \n",
       "4            9.795134e+08               3266.0                10071.0   \n",
       "\n",
       "   likes_sum_industry  comments_sum_industry  followers_sum_industry_country  \\\n",
       "0         182298392.0              1049640.0                     148204010.0   \n",
       "1         103628524.0               810836.0                     157893900.0   \n",
       "2         119219647.0               729900.0                      37394499.0   \n",
       "3         139475900.0               879572.0                     129106789.0   \n",
       "4          91658197.0               757698.0                     178743779.0   \n",
       "\n",
       "   videos_sum_industry_country  pictures_sum_industry_country  \\\n",
       "0                        513.0                         2979.0   \n",
       "1                        297.0                         2952.0   \n",
       "2                        271.0                         3376.0   \n",
       "3                        459.0                         3148.0   \n",
       "4                        685.0                         1939.0   \n",
       "\n",
       "   likes_sum_industry_country  comments_sum_industry_country  \n",
       "0                  27296720.0                       198975.0  \n",
       "1                  13152443.0                       104895.0  \n",
       "2                  17397412.0                       138434.0  \n",
       "3                  37850966.0                       169338.0  \n",
       "4                  20291877.0                       144929.0  "
      ]
     },
     "execution_count": 429,
     "metadata": {},
     "output_type": "execute_result"
    }
   ],
   "source": [
    "df.head(5)"
   ]
  },
  {
   "cell_type": "markdown",
   "id": "2fdc8027-7d23-4f03-aacb-6ca2959a9b21",
   "metadata": {},
   "source": [
    "### Creating Rations"
   ]
  },
  {
   "cell_type": "code",
   "execution_count": 432,
   "id": "45e11a6b-b394-4779-81c9-ec2e6fdd672a",
   "metadata": {},
   "outputs": [
    {
     "data": {
      "text/plain": [
       "Index(['period', 'period_end_date', 'compset_group', 'compset',\n",
       "       'business_entity_doing_business_as_name', 'legal_entity_name',\n",
       "       'domicile_country_name', 'ultimate_parent_legal_entity_name',\n",
       "       'primary_exchange_name', 'calculation_type', 'followers', 'pictures',\n",
       "       'videos', 'comments', 'likes',\n",
       "       'business_entity_doing_business_as_name_cnt_industry',\n",
       "       'business_entity_doing_business_as_name_cnt_industry_country',\n",
       "       'followers_sum_industry', 'videos_sum_industry',\n",
       "       'pictures_sum_industry', 'likes_sum_industry', 'comments_sum_industry',\n",
       "       'followers_sum_industry_country', 'videos_sum_industry_country',\n",
       "       'pictures_sum_industry_country', 'likes_sum_industry_country',\n",
       "       'comments_sum_industry_country'],\n",
       "      dtype='object')"
      ]
     },
     "execution_count": 432,
     "metadata": {},
     "output_type": "execute_result"
    }
   ],
   "source": [
    "df.columns"
   ]
  },
  {
   "cell_type": "code",
   "execution_count": 434,
   "id": "ba8a4eb1-51c2-4432-83ca-a3ccec1866b7",
   "metadata": {},
   "outputs": [
    {
     "name": "stdout",
     "output_type": "stream",
     "text": [
      "Created fraction_followers_sum_industry from followers and followers_sum_industry\n",
      "Created fraction_followers_sum_industry_country from followers and followers_sum_industry_country\n",
      "Created fraction_videos_sum_industry from videos and videos_sum_industry\n",
      "Created fraction_videos_sum_industry_country from videos and videos_sum_industry_country\n",
      "Created fraction_pictures_sum_industry from pictures and pictures_sum_industry\n",
      "Created fraction_pictures_sum_industry_country from pictures and pictures_sum_industry_country\n",
      "Created fraction_likes_sum_industry from likes and likes_sum_industry\n",
      "Created fraction_likes_sum_industry_country from likes and likes_sum_industry_country\n",
      "Created fraction_comments_sum_industry from comments and comments_sum_industry\n",
      "Created fraction_comments_sum_industry_country from comments and comments_sum_industry_country\n"
     ]
    }
   ],
   "source": [
    "vars_to_create = [\"followers\", \"videos\", \"pictures\", \"likes\", \"comments\"]\n",
    "\n",
    "for varname in vars_to_create:\n",
    "    # define varnames\n",
    "    # input\n",
    "    aggreg_ind = varname + \"_sum_industry\"\n",
    "    aggreg_ind_country = varname + \"_sum_industry_country\"\n",
    "    # output\n",
    "    out_agg_ind = \"fraction_\" + aggreg_ind\n",
    "    out_agg_ind_country = \"fraction_\" + aggreg_ind_country\n",
    "    # compute fraction\n",
    "    df[out_agg_ind] = df[varname] / df[aggreg_ind]\n",
    "    df[out_agg_ind_country] =  df[varname] / df[aggreg_ind_country]\n",
    "    # add missing values\n",
    "    df.loc[df[aggreg_ind] == 0, out_agg_ind] = np.nan\n",
    "    df.loc[df[aggreg_ind_country] == 0, out_agg_ind_country] = np.nan\n",
    "    # print status\n",
    "    print(f\"Created {out_agg_ind} from {varname} and {aggreg_ind}\")\n",
    "    print(f\"Created {out_agg_ind_country} from {varname} and {aggreg_ind_country}\")"
   ]
  },
  {
   "cell_type": "markdown",
   "id": "164a2502-1d63-4e4c-8aee-b2407c74d113",
   "metadata": {},
   "source": [
    "**QUESTION (optional)** Why is there up to 3?"
   ]
  },
  {
   "cell_type": "code",
   "execution_count": 290,
   "id": "3fe0f591-fabc-49aa-bdfb-4dab9a16ba29",
   "metadata": {},
   "outputs": [
    {
     "name": "stdout",
     "output_type": "stream",
     "text": [
      "For each business_entity_doing_business_as_name there is up to 3 of compset_group\n",
      "For each compset_group there is up to 111 of business_entity_doing_business_as_name\n"
     ]
    },
    {
     "data": {
      "text/plain": [
       "{'business_entity_doing_business_as_name': 3, 'compset_group': 111}"
      ]
     },
     "execution_count": 290,
     "metadata": {},
     "output_type": "execute_result"
    }
   ],
   "source": [
    "check_max_correspondence(\"business_entity_doing_business_as_name\", \"compset_group\",\n",
    "                         \"business_entity_doing_business_as_name\", \"compset_group\")"
   ]
  },
  {
   "cell_type": "code",
   "execution_count": 292,
   "id": "0cea9728-a956-4850-bfbb-306ac7600993",
   "metadata": {},
   "outputs": [],
   "source": [
    "#help(check_max_correspondence)"
   ]
  },
  {
   "cell_type": "markdown",
   "id": "c79adeb7-f710-4dd3-839c-877123cf1d78",
   "metadata": {},
   "source": [
    "# Time Series Visualizations\n",
    "\n",
    "1. ACF / PCF\n",
    "3. Boxplot month\n",
    "4. Create lagged variables"
   ]
  },
  {
   "cell_type": "code",
   "execution_count": 436,
   "id": "5c211e6d-f464-4611-9fea-234633da0b91",
   "metadata": {},
   "outputs": [],
   "source": [
    "df['period_end_date'] = pd.to_datetime(df['period_end_date'])"
   ]
  },
  {
   "cell_type": "code",
   "execution_count": 446,
   "id": "153d9f63-7cba-40da-8992-4daa25a0c851",
   "metadata": {},
   "outputs": [],
   "source": [
    "num_companies_active = df.drop_duplicates(['period_end_date', 'business_entity_doing_business_as_name']).groupby('period_end_date').count()['business_entity_doing_business_as_name']"
   ]
  },
  {
   "cell_type": "code",
   "execution_count": 447,
   "id": "d62dd12a-9fff-4dae-870b-f6c0321bbd7d",
   "metadata": {},
   "outputs": [
    {
     "data": {
      "image/png": "[encoded data removed]",
      "text/plain": [
       "<Figure size 432x288 with 1 Axes>"
      ]
     },
     "metadata": {},
     "output_type": "display_data"
    }
   ],
   "source": [
    "num_companies_active.plot()\n",
    "plt.title(\"Number of companies in the dataset\")\n",
    "plt.show()"
   ]
  },
  {
   "cell_type": "code",
   "execution_count": 454,
   "id": "9cec864f-b6f7-475d-974d-261f0c0eb40a",
   "metadata": {},
   "outputs": [],
   "source": [
    "df['period_end_month'] = df['period_end_date'].dt.month\n",
    "df['period_end_year'] = df['period_end_date'].dt.year"
   ]
  },
  {
   "cell_type": "code",
   "execution_count": 458,
   "id": "33b75ec3-2fe5-4367-a1d0-7eeb8843f927",
   "metadata": {},
   "outputs": [
    {
     "name": "stderr",
     "output_type": "stream",
     "text": [
      "No artists with labels found to put in legend.  Note that artists whose label start with an underscore are ignored when legend() is called with no argument.\n"
     ]
    },
    {
     "data": {
      "image/png": "[encoded data removed]",
      "text/plain": [
       "<Figure size 720x360 with 1 Axes>"
      ]
     },
     "metadata": {},
     "output_type": "display_data"
    }
   ],
   "source": [
    "fig, ax = plt.subplots(figsize=(10, 5))\n",
    "sns.boxplot(data=df[['period_end_month', 'period_end_year', 'likes']].dropna(),\n",
    "            x='period_end_month',\n",
    "            y='likes',\n",
    "            #hue='period_end_year',\n",
    "            ax=ax,\n",
    "            linewidth=1)\n",
    "ax.set_title('Number of likes for different months')\n",
    "ax.set_xlabel('Month')\n",
    "ax.set_ylabel('Number of likes')\n",
    "ax.legend(bbox_to_anchor=(1, 1))\n",
    "ax.set_yscale('log')\n",
    "plt.show()"
   ]
  },
  {
   "cell_type": "markdown",
   "id": "48b19a17-3bf1-4a1e-9ec4-5baa12ff6fe4",
   "metadata": {},
   "source": [
    "Number of likes per company"
   ]
  },
  {
   "cell_type": "code",
   "execution_count": null,
   "id": "bff52de8-54cc-47be-8239-9880369761cc",
   "metadata": {},
   "outputs": [],
   "source": [
    "# Get sample values for company names\n",
    "#df.value_counts(['business_entity_doing_business_as_name'])"
   ]
  },
  {
   "cell_type": "code",
   "execution_count": 466,
   "id": "8cba1d1f-2fd0-4c19-b779-d318a93e5923",
   "metadata": {},
   "outputs": [
    {
     "data": {
      "image/png": "[encoded data removed]",
      "text/plain": [
       "<Figure size 720x360 with 1 Axes>"
      ]
     },
     "metadata": {},
     "output_type": "display_data"
    }
   ],
   "source": [
    "company_name = 'Poshmark'\n",
    "\n",
    "fig, ax = plt.subplots(figsize=(10, 5))\n",
    "sns.boxplot(data=df.loc[df['business_entity_doing_business_as_name'] == company_name,['period_end_month', 'period_end_year', 'likes']].dropna(),\n",
    "            x='period_end_month',\n",
    "            y='likes',\n",
    "            #hue='period_end_year',\n",
    "            ax=ax,\n",
    "            linewidth=1)\n",
    "ax.set_title(f'Number of likes for different months for {company_name}')\n",
    "ax.set_xlabel('Month')\n",
    "ax.set_ylabel('Number of likes')\n",
    "#ax.legend(bbox_to_anchor=(1, 1))\n",
    "#ax.set_yscale('log')\n",
    "plt.show()"
   ]
  },
  {
   "cell_type": "code",
   "execution_count": 472,
   "id": "c321cf08-3048-4aef-92a6-d2c647aa148b",
   "metadata": {},
   "outputs": [],
   "source": [
    "from statsmodels.graphics.tsaplots import plot_acf\n",
    "from statsmodels.graphics.tsaplots import plot_pacf\n",
    "\n",
    "plt.style.use('ggplot')\n",
    "plt.style.use('fivethirtyeight')"
   ]
  },
  {
   "cell_type": "markdown",
   "id": "5ffd4cc1-9b5c-4fcd-811d-363a69f4f6c3",
   "metadata": {},
   "source": [
    "### Partial autocorrelation individual companies (OPTIONAL)"
   ]
  },
  {
   "cell_type": "code",
   "execution_count": 547,
   "id": "f8eb746b-edde-489b-b384-56197ed304aa",
   "metadata": {},
   "outputs": [
    {
     "data": {
      "text/plain": [
       "'\\n\\nfor idx, varname in enumerate(vars_to_autocorrelate):\\n    print(idx)\\n    plot_acf(df_comp_ts[varname],lags=lag_acf, ax=ax[idx][0], missing=\\'drop\\')\\n    plot_pacf(df_comp_ts[varname],lags=lag_pacf, ax=ax[idx][1], method=\\'ols\\')\\n    ax[idx, 0].set_title(f\"Autocorrelation correlation {varname}\")\\n    ax[idx, 1].set_title(f\"Partial autocorrelation {varname}\")\\n    \\n                         \\nplt.show()\\n'"
      ]
     },
     "execution_count": 547,
     "metadata": {},
     "output_type": "execute_result"
    }
   ],
   "source": [
    "lag_acf = 12\n",
    "lag_pacf = 12\n",
    "width, height = 15, 6\n",
    "var_of_interest = 'likes'\n",
    "company_name = 'Poshmark'\n",
    "# 'followers', 'comments', 'likes'\n",
    "vars_to_autocorrelate = ['followers', 'comments', 'likes']\n",
    "\n",
    "#f, ax = plt.subplots(nrows=3, ncols=2, figsize=(width, 2*height))\n",
    "\n",
    "df_comp_ts = df.loc[df['business_entity_doing_business_as_name'] == company_name, ['period_end_date', 'followers', 'comments', 'likes']]\n",
    "df_comp_ts.drop_duplicates(['period_end_date'])\n",
    "df_comp_ts.set_index('period_end_date')\n",
    "\"\"\"\n",
    "\n",
    "for idx, varname in enumerate(vars_to_autocorrelate):\n",
    "    print(idx)\n",
    "    plot_acf(df_comp_ts[varname],lags=lag_acf, ax=ax[idx][0], missing='drop')\n",
    "    plot_pacf(df_comp_ts[varname],lags=lag_pacf, ax=ax[idx][1], method='ols')\n",
    "    ax[idx, 0].set_title(f\"Autocorrelation correlation {varname}\")\n",
    "    ax[idx, 1].set_title(f\"Partial autocorrelation {varname}\")\n",
    "    \n",
    "                         \n",
    "plt.show()\n",
    "\"\"\""
   ]
  },
  {
   "cell_type": "markdown",
   "id": "2786a0bf-7499-4edf-b2bc-f2738811fb32",
   "metadata": {},
   "source": [
    "## Aggregate by all companies (mean) IMPORTANT"
   ]
  },
  {
   "cell_type": "code",
   "execution_count": 540,
   "id": "c67f3580-7a61-40fc-b238-54d2027f4bc3",
   "metadata": {},
   "outputs": [],
   "source": [
    "df_agg_time = df.drop_duplicates(['business_entity_doing_business_as_name', 'period_end_date', 'followers', 'comments', 'likes']).groupby(['period_end_date']).mean()"
   ]
  },
  {
   "cell_type": "code",
   "execution_count": 545,
   "id": "f9d60856-0c4e-4e57-b0f0-3b8c647d3cb8",
   "metadata": {},
   "outputs": [
    {
     "name": "stdout",
     "output_type": "stream",
     "text": [
      "0\n",
      "1\n",
      "2\n"
     ]
    },
    {
     "data": {
      "image/png": "[encoded data removed]",
      "text/plain": [
       "<Figure size 2160x864 with 6 Axes>"
      ]
     },
     "metadata": {},
     "output_type": "display_data"
    }
   ],
   "source": [
    "lag_acf = 10\n",
    "lag_pacf = 30\n",
    "\n",
    "width, height = 30, 6\n",
    "\n",
    "f, ax = plt.subplots(nrows=3, ncols=2, figsize=(width, 2*height))\n",
    "vars_to_autocorrelate = ['followers', 'comments', 'likes']\n",
    "\n",
    "for idx, varname in enumerate(vars_to_autocorrelate):\n",
    "    print(idx)\n",
    "    plot_acf(df_agg_time[varname],lags=lag_acf, ax=ax[idx][0], missing='drop')\n",
    "    plot_pacf(df_agg_time[varname],lags=lag_pacf, ax=ax[idx][1], method='ols')\n",
    "    ax[idx, 0].set_title(f\"Autocorrelation correlation {varname}\")\n",
    "    ax[idx, 1].set_title(f\"Partial autocorrelation {varname}\")\n",
    "    \n",
    "                         \n",
    "f.show()"
   ]
  },
  {
   "cell_type": "markdown",
   "id": "694ecf18-a700-40d1-b8eb-324f40c6e98c",
   "metadata": {},
   "source": [
    "**CONCLUSION**\n",
    "\n",
    "1. Followers: significant lags: 1, 2, 5, 14, 18\n",
    "2. Likes: 1, 5, 6, 9, 10, 13, 14, 16, 18\n",
    "3. Comments: 1, 5, 6, 9, 10, 13, 14, 16, 18\n",
    "\n",
    "**INTERESTING**\n",
    "1. For **Likes** and **Comments** there is a negative correlation between the engagement 2 weeks ago and current engagement\n",
    "\n",
    "**PROBLEM**\n",
    "1. How do we interpret higher lags?\n",
    "2. Is it the same among the companies?\n",
    "\n",
    "**TO Try**\n",
    "1. Other aggregation functions?\n",
    "2. Analyze by competitive intudstries"
   ]
  },
  {
   "cell_type": "markdown",
   "id": "724d0d30-9384-425c-b3e2-7e29c8f4b12a",
   "metadata": {},
   "source": [
    "## Missing Variables\n",
    "\n",
    "<div class=\"alert alert-block alert-success\">\n",
    "<b>Up to you:</b> Use green boxes sparingly, and only for some specific \n",
    "purpose that the other boxes can't cover. For example, if you have a lot \n",
    "of related content to link to, maybe you decide to use green boxes for \n",
    "related links from each section of a notebook.\n",
    "</div>\n",
    "<div class=\"alert alert-block alert-danger\">\n",
    "<b>Just don't:</b> In general, avoid the red boxes. These should only be\n",
    "used for actions that might cause data loss or another major issue.\n",
    "</div>"
   ]
  },
  {
   "cell_type": "code",
   "execution_count": 566,
   "id": "205ed3ec-1a14-42bb-85b6-68a39181ff08",
   "metadata": {},
   "outputs": [],
   "source": [
    "cat_vars = [\"compset_group\", \"compset\", \"business_entity_doing_business_as_name\",\n",
    "\"legal_entity_name\", \"domicile_country_name\", \"ultimate_parent_legal_entity_name\",\n",
    "\"primary_exchange_name\"]\n",
    "\n",
    "\n",
    "\n",
    "df_missing_country = df.groupby([\"business_entity_doing_business_as_name\"]).count()[['period_end_date','domicile_country_name']]\n",
    "sum(df_missing_country['domicile_country_name'] == 0)/len(df_missing_country)\n",
    "#\"primary_exchange_name\" # \"ultimate_parent_legal_entity_name\"\n",
    "\n",
    "\n",
    "df_missing_primary = df.groupby([\"ultimate_parent_legal_entity_name\"]).count()[['period_end_date',\"primary_exchange_name\"]]\n",
    "#df_missing_primary.sort_values(by=\"primary_exchange_name\")\n",
    "sum(df_missing_primary[\"primary_exchange_name\"] == 0)/len(df_missing_primary)\n",
    "\n",
    "df['is_country_missing'] = df['domicile_country_name'].isna()\n",
    "df['is_primary_exchange_missing'] = df[\"primary_exchange_name\"].isna()"
   ]
  },
  {
   "cell_type": "code",
   "execution_count": 585,
   "id": "9cea65dc-c429-4906-8247-37f2f51d8078",
   "metadata": {},
   "outputs": [
    {
     "data": {
      "text/plain": [
       "1.0"
      ]
     },
     "execution_count": 585,
     "metadata": {},
     "output_type": "execute_result"
    }
   ],
   "source": [
    "sum(df['is_country_missing'] == df['is_primary_exchange_missing'])/len(df)"
   ]
  },
  {
   "cell_type": "markdown",
   "id": "383a7027-5edc-4227-917b-8941ba617727",
   "metadata": {},
   "source": [
    "<div class=\"alert alert-block alert-danger\">\n",
    "<b>Attention: </b> domicile_country_name and primary_exchange_name are missing simultaneously\n",
    "</div>"
   ]
  },
  {
   "cell_type": "code",
   "execution_count": 577,
   "id": "dd875150-1702-418c-b774-bf385c6466ff",
   "metadata": {},
   "outputs": [
    {
     "data": {
      "text/html": [
       "<div>\n",
       "<style scoped>\n",
       "    .dataframe tbody tr th:only-of-type {\n",
       "        vertical-align: middle;\n",
       "    }\n",
       "\n",
       "    .dataframe tbody tr th {\n",
       "        vertical-align: top;\n",
       "    }\n",
       "\n",
       "    .dataframe thead th {\n",
       "        text-align: right;\n",
       "    }\n",
       "</style>\n",
       "<table border=\"1\" class=\"dataframe\">\n",
       "  <thead>\n",
       "    <tr style=\"text-align: right;\">\n",
       "      <th></th>\n",
       "      <th>followers</th>\n",
       "      <th>likes</th>\n",
       "      <th>comments</th>\n",
       "      <th>pictures</th>\n",
       "      <th>videos</th>\n",
       "    </tr>\n",
       "    <tr>\n",
       "      <th>is_country_missing</th>\n",
       "      <th></th>\n",
       "      <th></th>\n",
       "      <th></th>\n",
       "      <th></th>\n",
       "      <th></th>\n",
       "    </tr>\n",
       "  </thead>\n",
       "  <tbody>\n",
       "    <tr>\n",
       "      <th>False</th>\n",
       "      <td>5.134925e+06</td>\n",
       "      <td>6.935946e+05</td>\n",
       "      <td>10310.460646</td>\n",
       "      <td>123.060098</td>\n",
       "      <td>22.216565</td>\n",
       "    </tr>\n",
       "    <tr>\n",
       "      <th>True</th>\n",
       "      <td>2.860639e+07</td>\n",
       "      <td>4.879685e+06</td>\n",
       "      <td>67639.582076</td>\n",
       "      <td>753.170754</td>\n",
       "      <td>133.574642</td>\n",
       "    </tr>\n",
       "  </tbody>\n",
       "</table>\n",
       "</div>"
      ],
      "text/plain": [
       "                       followers         likes      comments    pictures  \\\n",
       "is_country_missing                                                         \n",
       "False               5.134925e+06  6.935946e+05  10310.460646  123.060098   \n",
       "True                2.860639e+07  4.879685e+06  67639.582076  753.170754   \n",
       "\n",
       "                        videos  \n",
       "is_country_missing              \n",
       "False                22.216565  \n",
       "True                133.574642  "
      ]
     },
     "execution_count": 577,
     "metadata": {},
     "output_type": "execute_result"
    }
   ],
   "source": [
    "df.groupby('is_country_missing').mean()[['followers', 'likes', 'comments', 'pictures', 'videos']]"
   ]
  },
  {
   "cell_type": "code",
   "execution_count": 587,
   "id": "6e41e676-a2d0-40b5-9e9e-bdb803284a9b",
   "metadata": {},
   "outputs": [
    {
     "data": {
      "text/html": [
       "<div>\n",
       "<style scoped>\n",
       "    .dataframe tbody tr th:only-of-type {\n",
       "        vertical-align: middle;\n",
       "    }\n",
       "\n",
       "    .dataframe tbody tr th {\n",
       "        vertical-align: top;\n",
       "    }\n",
       "\n",
       "    .dataframe thead th {\n",
       "        text-align: right;\n",
       "    }\n",
       "</style>\n",
       "<table border=\"1\" class=\"dataframe\">\n",
       "  <thead>\n",
       "    <tr style=\"text-align: right;\">\n",
       "      <th></th>\n",
       "      <th>followers</th>\n",
       "      <th>likes</th>\n",
       "      <th>comments</th>\n",
       "      <th>pictures</th>\n",
       "      <th>videos</th>\n",
       "    </tr>\n",
       "    <tr>\n",
       "      <th>is_primary_exchange_missing</th>\n",
       "      <th></th>\n",
       "      <th></th>\n",
       "      <th></th>\n",
       "      <th></th>\n",
       "      <th></th>\n",
       "    </tr>\n",
       "  </thead>\n",
       "  <tbody>\n",
       "    <tr>\n",
       "      <th>False</th>\n",
       "      <td>1132057.0</td>\n",
       "      <td>91869.0</td>\n",
       "      <td>1323.0</td>\n",
       "      <td>41.0</td>\n",
       "      <td>7.0</td>\n",
       "    </tr>\n",
       "    <tr>\n",
       "      <th>True</th>\n",
       "      <td>1065329.0</td>\n",
       "      <td>95570.0</td>\n",
       "      <td>1680.0</td>\n",
       "      <td>51.0</td>\n",
       "      <td>7.0</td>\n",
       "    </tr>\n",
       "  </tbody>\n",
       "</table>\n",
       "</div>"
      ],
      "text/plain": [
       "                             followers    likes  comments  pictures  videos\n",
       "is_primary_exchange_missing                                                \n",
       "False                        1132057.0  91869.0    1323.0      41.0     7.0\n",
       "True                         1065329.0  95570.0    1680.0      51.0     7.0"
      ]
     },
     "execution_count": 587,
     "metadata": {},
     "output_type": "execute_result"
    }
   ],
   "source": [
    "df.groupby('is_primary_exchange_missing').median()[['followers', 'likes', 'comments', 'pictures', 'videos']]"
   ]
  },
  {
   "cell_type": "code",
   "execution_count": 584,
   "id": "e3a6bb7d-6823-441e-8dc3-79c700f2e344",
   "metadata": {},
   "outputs": [
    {
     "data": {
      "text/plain": [
       "is_country_missing\n",
       "False    467\n",
       "True     239\n",
       "Name: period_end_date, dtype: int64"
      ]
     },
     "execution_count": 584,
     "metadata": {},
     "output_type": "execute_result"
    }
   ],
   "source": [
    "df.drop_duplicates([\"business_entity_doing_business_as_name\"]).groupby(['is_country_missing']).count()['period_end_date']"
   ]
  },
  {
   "cell_type": "code",
   "execution_count": 583,
   "id": "63c97fdf-8ad0-4ba7-9694-5eaea7ce634e",
   "metadata": {},
   "outputs": [
    {
     "data": {
      "text/plain": [
       "is_primary_exchange_missing\n",
       "False    467\n",
       "True     239\n",
       "Name: period_end_date, dtype: int64"
      ]
     },
     "execution_count": 583,
     "metadata": {},
     "output_type": "execute_result"
    }
   ],
   "source": [
    "df.drop_duplicates([\"business_entity_doing_business_as_name\"]).groupby(['is_primary_exchange_missing']).count()['period_end_date']"
   ]
  },
  {
   "cell_type": "code",
   "execution_count": 178,
   "id": "22bfe2a0-6cbd-424e-abaf-a000f1bb729c",
   "metadata": {},
   "outputs": [
    {
     "data": {
      "text/plain": [
       "0.3385269121813031"
      ]
     },
     "execution_count": 178,
     "metadata": {},
     "output_type": "execute_result"
    }
   ],
   "source": [
    "239 / (239 + 467)"
   ]
  },
  {
   "cell_type": "markdown",
   "id": "8a21faf0-4015-4296-8759-bdddb0d6be6b",
   "metadata": {},
   "source": [
    "<div class=\"alert alert-block alert-warning\">\n",
    "<b>Conclusion</b> Remove the columns from the analysis, but not the observations since\n",
    "    <ol>\n",
    "    <li> we would loose a lot of data </li>\n",
    "    <li> the values of interest have higher values for the companies with missing information </li>\n",
    "        </ol>\n",
    "</div>"
   ]
  },
  {
   "cell_type": "code",
   "execution_count": 595,
   "id": "a2e9a101-a8b8-4092-95ed-4be74e64d789",
   "metadata": {},
   "outputs": [
    {
     "data": {
      "text/plain": [
       "['3.1 Phillip Lim',\n",
       " 'About You',\n",
       " 'Acne Studios',\n",
       " 'Aeropostale',\n",
       " 'Aldi',\n",
       " 'Aldo',\n",
       " 'Alexander Wang',\n",
       " 'Alice & Olivia',\n",
       " 'All Brands',\n",
       " 'AllSaints',\n",
       " 'Almond Breeze',\n",
       " 'Alo Yoga',\n",
       " 'Amaro',\n",
       " 'Anastasia Beverly Hills',\n",
       " 'Anthropologie',\n",
       " \"Applebee's\",\n",
       " 'Armani',\n",
       " 'Audemars Piguet',\n",
       " 'Avon',\n",
       " 'Balmain',\n",
       " 'Balmain Beauty',\n",
       " 'Bang',\n",
       " 'Barilla',\n",
       " 'Barneys New York',\n",
       " \"Barry's Bootcamp\",\n",
       " 'Bass Pro Shops',\n",
       " 'Bell & Ross',\n",
       " 'Belotero',\n",
       " 'Bergdorf Goodman',\n",
       " 'Bertolli',\n",
       " 'Billabong',\n",
       " 'Bjorg',\n",
       " 'Blaze Pizza',\n",
       " 'Blink Fitness',\n",
       " \"Bloomingdale's\",\n",
       " 'Bobstore',\n",
       " 'BodyArmor',\n",
       " 'Botox',\n",
       " 'Breitling',\n",
       " 'Brooks Brothers',\n",
       " 'Buffalo Wild Wings',\n",
       " 'C&A',\n",
       " \"Cabela's\",\n",
       " 'Califia Farms',\n",
       " 'Cannuka',\n",
       " 'Capodarte',\n",
       " 'Carla Amorim',\n",
       " 'Carmen Steffens',\n",
       " 'Carolina Herrera',\n",
       " 'Casper',\n",
       " 'Chanel',\n",
       " 'Chanel Beauty',\n",
       " 'Charlotte Tilbury',\n",
       " \"Cheddar's Scratch Kitchen\",\n",
       " 'Chick-fil-A',\n",
       " \"Chili's\",\n",
       " 'Chobani',\n",
       " 'Chopard',\n",
       " 'Christian Louboutin',\n",
       " 'Christian Louboutin Beauty',\n",
       " 'ClassPass',\n",
       " 'Clif Bar',\n",
       " 'Cole Haan',\n",
       " 'ColourPop',\n",
       " 'Corello',\n",
       " 'Daniel Wellington',\n",
       " 'Dermalogica',\n",
       " 'Diane Von Furstenberg',\n",
       " 'Dolce & Gabbana',\n",
       " 'Doyoueven',\n",
       " 'Dsquared2',\n",
       " 'Dudalina',\n",
       " 'Dumond',\n",
       " 'Dune',\n",
       " \"Dunkin' Donuts\",\n",
       " 'Dunlop Sports',\n",
       " 'Eddie Bauer',\n",
       " 'Ellus',\n",
       " 'Equinox',\n",
       " 'Eudora',\n",
       " 'Fabletics',\n",
       " 'Fage',\n",
       " 'Fashion Nova',\n",
       " 'Finding Unicorn',\n",
       " 'Finish Line',\n",
       " 'Fitness First',\n",
       " 'Fitplan',\n",
       " 'Flywheel Sports',\n",
       " 'Forever 21',\n",
       " 'Foxton',\n",
       " 'Funko',\n",
       " 'GAF',\n",
       " 'Garancia',\n",
       " 'Gymshark',\n",
       " 'H Stern',\n",
       " 'Healthy Human',\n",
       " 'Helix',\n",
       " 'Huffer',\n",
       " 'Hylete',\n",
       " 'IAMS',\n",
       " 'IGLOO',\n",
       " 'IL MAKIAGE',\n",
       " 'Impossible Foods',\n",
       " 'In-N-Out Burger',\n",
       " 'Itaipava',\n",
       " 'J Crew',\n",
       " 'J. C. Penney',\n",
       " 'Juicy Couture',\n",
       " 'Juvederm',\n",
       " 'KFC',\n",
       " 'KIND',\n",
       " 'Klean Kanteen',\n",
       " 'Knight & Wilson',\n",
       " 'Kurt Geiger',\n",
       " 'Lacoste',\n",
       " 'Leesa',\n",
       " 'Lidl',\n",
       " 'LongHorn Steakhouse',\n",
       " 'Lord + Taylor',\n",
       " 'Lorna Jane',\n",
       " 'Lucky',\n",
       " 'MARVEL',\n",
       " 'Madewell',\n",
       " 'Madison Reed',\n",
       " 'Main Event',\n",
       " 'Mango',\n",
       " 'Manolo Blahnik',\n",
       " 'Mary Kay',\n",
       " 'Matchesfashion',\n",
       " 'Max Mara',\n",
       " 'Minor Figures',\n",
       " 'Missguided',\n",
       " 'Moda Operandi',\n",
       " 'Monte Carlo',\n",
       " 'Morphe',\n",
       " 'NOBULL',\n",
       " \"Nando's\",\n",
       " 'Natura',\n",
       " 'Nautica',\n",
       " 'Neiman Marcus',\n",
       " 'Neiman Marcus Last Call',\n",
       " 'New Balance',\n",
       " 'Nine West',\n",
       " 'No Evil Foods',\n",
       " 'Noosa',\n",
       " 'NordicTrack',\n",
       " 'O Boticario',\n",
       " \"O'Neill\",\n",
       " 'ORCA',\n",
       " 'Oatly',\n",
       " 'Off-White',\n",
       " 'Olive Garden',\n",
       " 'Orangetheory',\n",
       " 'Otto GmbH',\n",
       " 'Outback Steakhouse',\n",
       " 'Outdoor Voices',\n",
       " 'P.E Nation',\n",
       " 'Patagonia',\n",
       " 'Patek Philippe',\n",
       " 'Pedigree',\n",
       " 'Poshmark',\n",
       " 'Primark',\n",
       " 'Proenza Schouler',\n",
       " 'Pure Farmland',\n",
       " 'Pure Group',\n",
       " 'Pure Protein',\n",
       " 'Quiksilver',\n",
       " 'REI',\n",
       " 'RTIC',\n",
       " 'Rag & Bone',\n",
       " 'Ragu',\n",
       " \"Rao's\",\n",
       " 'Red Bull',\n",
       " 'Reserva',\n",
       " 'Restylane',\n",
       " 'Revanesse',\n",
       " 'Richard Mille',\n",
       " 'Richards',\n",
       " 'Roberto Cavalli',\n",
       " 'Rogue Fitness',\n",
       " 'RokFit',\n",
       " 'Rolex',\n",
       " 'Rolife',\n",
       " 'Rosa Cha',\n",
       " 'Roxy',\n",
       " 'Royal Building Products',\n",
       " 'Royal Canin',\n",
       " 'Rude Health',\n",
       " 'Rumble Boxing',\n",
       " 'SHEIN',\n",
       " 'SSENSE',\n",
       " 'Saatva',\n",
       " 'Saks Fifth Avenue',\n",
       " 'Saks Off Fifth',\n",
       " 'Salinas',\n",
       " 'Santa Lolla',\n",
       " 'Savage X Fenty',\n",
       " 'Schutz',\n",
       " 'Sculptra',\n",
       " 'Serta',\n",
       " 'ShopGoodwill',\n",
       " 'Shoulder',\n",
       " \"Siggi's Dairy\",\n",
       " 'Simmons',\n",
       " 'SoulCycle',\n",
       " 'Stonyfield Farm',\n",
       " 'SuitSupply',\n",
       " 'Suunto',\n",
       " 'Sweaty Betty',\n",
       " 'Sweetgreen',\n",
       " 'TGI Fridays',\n",
       " 'TRX',\n",
       " 'Taco Bell',\n",
       " 'Tatcha',\n",
       " 'Temu',\n",
       " 'The Kooples',\n",
       " 'The Meatless Farm',\n",
       " 'The Very Good Butchers',\n",
       " 'Thom Browne',\n",
       " 'Timex',\n",
       " 'Tineco',\n",
       " 'Tobi',\n",
       " 'Tofurky',\n",
       " 'Tom Ford',\n",
       " 'Tory Burch',\n",
       " 'Tudor',\n",
       " 'Tuft & Needle',\n",
       " 'Ultracor',\n",
       " \"Upton's Naturals\",\n",
       " 'VR Collezioni',\n",
       " 'Valentino',\n",
       " 'Virgin Active',\n",
       " 'Volcom',\n",
       " 'Wahoo Fitness',\n",
       " 'Whataburger',\n",
       " 'Whiskas',\n",
       " 'Wolaco',\n",
       " 'Xeomin',\n",
       " 'Zegna']"
      ]
     },
     "execution_count": 595,
     "metadata": {},
     "output_type": "execute_result"
    }
   ],
   "source": [
    "missing_country_companies = df_missing_country.loc[df_missing_country['domicile_country_name']==0].index\n",
    "list(missing_country_companies)"
   ]
  },
  {
   "cell_type": "markdown",
   "id": "6ed07dd5-f6d9-4d70-af3b-9058e7ddcadc",
   "metadata": {},
   "source": [
    "## Missing Country Domicile Imputation\n",
    "\n",
    "Need to add 238 domiciles"
   ]
  },
  {
   "cell_type": "code",
   "execution_count": 158,
   "id": "8220c180-b390-4941-b662-bb63385be1a2",
   "metadata": {},
   "outputs": [
    {
     "data": {
      "text/plain": [
       "239"
      ]
     },
     "execution_count": 158,
     "metadata": {},
     "output_type": "execute_result"
    }
   ],
   "source": [
    "# standardise values\n",
    "\n",
    "df[\"business_entity_doing_business_as_name\"] = df[\"business_entity_doing_business_as_name\"].apply(lambda x: str(x).strip().lower())\n",
    "df['domicile_country_name'] = df['domicile_country_name'].apply(lambda x: x.strip().lower() if isinstance(x, str) else x)\n",
    "#.apply(lambda x: x.strip().lower() if isinstance(x, str) else x)\n",
    "\n",
    "df_missing_country = df.groupby([\"business_entity_doing_business_as_name\"]).count()[['period_end_date','domicile_country_name']]\n",
    "missing_country_companies = df_missing_country.loc[df_missing_country['domicile_country_name']==0].index\n",
    "len(list(missing_country_companies))"
   ]
  },
  {
   "cell_type": "code",
   "execution_count": 144,
   "id": "4de5ee2c-52e5-4626-8c79-04fff146dce6",
   "metadata": {},
   "outputs": [
    {
     "data": {
      "text/plain": [
       "120"
      ]
     },
     "execution_count": 144,
     "metadata": {},
     "output_type": "execute_result"
    }
   ],
   "source": [
    "# ASY local path# split -l 200000 B2\n",
    "import os\n",
    "filelist = os.listdir(\"../data/B2Split/\")\n",
    "len(filelist)\n",
    "# path = \"../data/skylab_instagram_datathon_dataset.csv\" # gen"
   ]
  },
  {
   "cell_type": "code",
   "execution_count": 145,
   "id": "e0e5fb96-07e1-4a4a-9581-488134d9e639",
   "metadata": {},
   "outputs": [
    {
     "name": "stderr",
     "output_type": "stream",
     "text": [
      "/Users/sychevaa/opt/anaconda3/lib/python3.8/site-packages/IPython/core/interactiveshell.py:3444: FutureWarning: The error_bad_lines argument has been deprecated and will be removed in a future version.\n",
      "\n",
      "\n",
      "  exec(code_obj, self.user_global_ns, self.user_ns)\n",
      "b'Skipping line 26443: expected 10 fields, saw 11\\nSkipping line 27637: expected 10 fields, saw 11\\nSkipping line 45797: expected 10 fields, saw 14\\n'\n",
      "b'Skipping line 84786: expected 10 fields, saw 11\\nSkipping line 120065: expected 10 fields, saw 11\\n'\n",
      "b'Skipping line 168421: expected 10 fields, saw 11\\nSkipping line 174683: expected 10 fields, saw 12\\nSkipping line 191434: expected 10 fields, saw 12\\n'\n"
     ]
    },
    {
     "name": "stdout",
     "output_type": "stream",
     "text": [
      "../data/B2Split/xce\n"
     ]
    },
    {
     "name": "stderr",
     "output_type": "stream",
     "text": [
      "b'Skipping line 3579: expected 10 fields, saw 11\\nSkipping line 15746: expected 10 fields, saw 11\\n'\n",
      "b'Skipping line 96097: expected 10 fields, saw 12\\nSkipping line 123763: expected 10 fields, saw 11\\n'\n",
      "b'Skipping line 183564: expected 10 fields, saw 11\\n'\n"
     ]
    },
    {
     "name": "stdout",
     "output_type": "stream",
     "text": [
      "0 Adding 3 to total 346:\n",
      "{'wolaco', \"chili's\", \"siggi's dairy\"}\n",
      "../data/B2Split/xcb\n"
     ]
    },
    {
     "name": "stderr",
     "output_type": "stream",
     "text": [
      "b'Skipping line 19572: expected 10 fields, saw 12\\n'\n",
      "b'Skipping line 68950: expected 10 fields, saw 11\\nSkipping line 73765: expected 10 fields, saw 11\\nSkipping line 78453: expected 10 fields, saw 11\\nSkipping line 103889: expected 10 fields, saw 11\\n'\n",
      "b'Skipping line 151147: expected 10 fields, saw 12\\nSkipping line 187389: expected 10 fields, saw 11\\n'\n"
     ]
    },
    {
     "name": "stdout",
     "output_type": "stream",
     "text": [
      "1 Adding 1 to total 346:\n",
      "{'orca'}\n",
      "../data/B2Split/xck\n"
     ]
    },
    {
     "name": "stderr",
     "output_type": "stream",
     "text": [
      "b'Skipping line 23205: expected 10 fields, saw 11\\nSkipping line 36975: expected 10 fields, saw 11\\n'\n",
      "b'Skipping line 74825: expected 10 fields, saw 11\\nSkipping line 99434: expected 10 fields, saw 11\\n'\n",
      "b'Skipping line 162600: expected 10 fields, saw 12\\nSkipping line 170578: expected 10 fields, saw 11\\n'\n"
     ]
    },
    {
     "name": "stdout",
     "output_type": "stream",
     "text": [
      "2 Adding 3 to total 346:\n",
      "{'avon', 'taco bell', 'dune'}\n",
      "../data/B2Split/xcl\n"
     ]
    },
    {
     "name": "stderr",
     "output_type": "stream",
     "text": [
      "b'Skipping line 77729: expected 10 fields, saw 11\\nSkipping line 124183: expected 10 fields, saw 11\\n'\n",
      "b'Skipping line 132413: expected 10 fields, saw 14\\nSkipping line 153986: expected 10 fields, saw 13\\nSkipping line 170978: expected 10 fields, saw 13\\n'\n"
     ]
    },
    {
     "name": "stdout",
     "output_type": "stream",
     "text": [
      "3 Adding 5 to total 346:\n",
      "{'lacoste', 'equinox', 'aldo', 'avon', 'tuft & needle'}\n",
      "../data/B2Split/xeg\n"
     ]
    },
    {
     "name": "stderr",
     "output_type": "stream",
     "text": [
      "b'Skipping line 91843: expected 10 fields, saw 11\\nSkipping line 117409: expected 10 fields, saw 11\\n'\n"
     ]
    },
    {
     "name": "stdout",
     "output_type": "stream",
     "text": [
      "4 Adding 4 to total 346:\n",
      "{'noosa', 'finish line', 'c&a', 'volcom'}\n",
      "../data/B2Split/xcy\n"
     ]
    },
    {
     "name": "stderr",
     "output_type": "stream",
     "text": [
      "b'Skipping line 71259: expected 10 fields, saw 14\\nSkipping line 88405: expected 10 fields, saw 12\\n'\n"
     ]
    },
    {
     "name": "stdout",
     "output_type": "stream",
     "text": [
      "5 Adding 6 to total 346:\n",
      "{'off-white', 'patagonia', 'igloo', 'dune', 'madison reed', 'bang'}\n",
      "../data/B2Split/xcp\n"
     ]
    },
    {
     "name": "stderr",
     "output_type": "stream",
     "text": [
      "b'Skipping line 27801: expected 10 fields, saw 11\\nSkipping line 32831: expected 10 fields, saw 11\\nSkipping line 43647: expected 10 fields, saw 11\\n'\n",
      "b'Skipping line 76799: expected 10 fields, saw 11\\nSkipping line 81144: expected 10 fields, saw 11\\nSkipping line 88675: expected 10 fields, saw 11\\nSkipping line 92819: expected 10 fields, saw 11\\nSkipping line 107498: expected 10 fields, saw 11\\n'\n",
      "b'Skipping line 139726: expected 10 fields, saw 11\\nSkipping line 151817: expected 10 fields, saw 11\\nSkipping line 189196: expected 10 fields, saw 11\\n'\n"
     ]
    },
    {
     "name": "stdout",
     "output_type": "stream",
     "text": [
      "6 Adding 3 to total 346:\n",
      "{'orca', 'whiskas', 'mango'}\n",
      "../data/B2Split/xei\n"
     ]
    },
    {
     "name": "stderr",
     "output_type": "stream",
     "text": [
      "b'Skipping line 28733: expected 10 fields, saw 12\\nSkipping line 47876: expected 10 fields, saw 14\\n'\n",
      "b'Skipping line 155709: expected 10 fields, saw 11\\nSkipping line 183933: expected 10 fields, saw 11\\n'\n"
     ]
    },
    {
     "name": "stdout",
     "output_type": "stream",
     "text": [
      "7 Adding 4 to total 346:\n",
      "{'avon', 'new balance', 'suunto', 'nordictrack'}\n",
      "../data/B2Split/xen\n"
     ]
    },
    {
     "name": "stderr",
     "output_type": "stream",
     "text": [
      "b'Skipping line 15947: expected 10 fields, saw 11\\n'\n",
      "b'Skipping line 70770: expected 10 fields, saw 11\\n'\n",
      "b'Skipping line 137114: expected 10 fields, saw 11\\nSkipping line 154033: expected 10 fields, saw 11\\n'\n"
     ]
    },
    {
     "name": "stdout",
     "output_type": "stream",
     "text": [
      "8 Adding 4 to total 346:\n",
      "{'chanel', 'igloo', 'lucky', 'manolo blahnik'}\n",
      "../data/B2Split/xcw\n"
     ]
    },
    {
     "name": "stderr",
     "output_type": "stream",
     "text": [
      "b'Skipping line 1584: expected 10 fields, saw 11\\nSkipping line 36499: expected 10 fields, saw 11\\nSkipping line 41261: expected 10 fields, saw 11\\n'\n",
      "b'Skipping line 75727: expected 10 fields, saw 11\\nSkipping line 115984: expected 10 fields, saw 11\\n'\n",
      "b'Skipping line 188515: expected 10 fields, saw 11\\n'\n"
     ]
    },
    {
     "name": "stdout",
     "output_type": "stream",
     "text": [
      "9 Adding 2 to total 346:\n",
      "{'natura', 'equinox'}\n",
      "../data/B2Split/xcm\n"
     ]
    },
    {
     "name": "stderr",
     "output_type": "stream",
     "text": [
      "b'Skipping line 12755: expected 10 fields, saw 11\\nSkipping line 30445: expected 10 fields, saw 11\\nSkipping line 64415: expected 10 fields, saw 11\\n'\n",
      "b'Skipping line 98830: expected 10 fields, saw 11\\n'\n",
      "b'Skipping line 143271: expected 10 fields, saw 11\\nSkipping line 154498: expected 10 fields, saw 14\\n'\n"
     ]
    },
    {
     "name": "stdout",
     "output_type": "stream",
     "text": [
      "10 Adding 2 to total 346:\n",
      "{'helix', 'rude health'}\n",
      "../data/B2Split/xcj\n"
     ]
    },
    {
     "name": "stderr",
     "output_type": "stream",
     "text": [
      "b'Skipping line 62897: expected 10 fields, saw 12\\n'\n",
      "b'Skipping line 97957: expected 10 fields, saw 11\\n'\n",
      "b'Skipping line 150980: expected 10 fields, saw 13\\nSkipping line 152408: expected 10 fields, saw 11\\nSkipping line 194683: expected 10 fields, saw 11\\n'\n"
     ]
    },
    {
     "name": "stdout",
     "output_type": "stream",
     "text": [
      "11 Adding 1 to total 346:\n",
      "{'dermalogica'}\n",
      "../data/B2Split/xcc\n"
     ]
    },
    {
     "name": "stderr",
     "output_type": "stream",
     "text": [
      "b'Skipping line 17529: expected 10 fields, saw 11\\nSkipping line 20819: expected 10 fields, saw 14\\nSkipping line 50204: expected 10 fields, saw 11\\n'\n",
      "b'Skipping line 78201: expected 10 fields, saw 11\\nSkipping line 89580: expected 10 fields, saw 11\\nSkipping line 126854: expected 10 fields, saw 11\\n'\n",
      "b'Skipping line 137781: expected 10 fields, saw 11\\nSkipping line 141433: expected 10 fields, saw 11\\nSkipping line 160717: expected 10 fields, saw 11\\nSkipping line 182518: expected 10 fields, saw 11\\n'\n"
     ]
    },
    {
     "name": "stdout",
     "output_type": "stream",
     "text": [
      "12 Adding 3 to total 346:\n",
      "{'bang', 'orca', 'garancia'}\n",
      "../data/B2Split/xcd\n"
     ]
    },
    {
     "name": "stderr",
     "output_type": "stream",
     "text": [
      "b'Skipping line 21643: expected 10 fields, saw 12\\n'\n",
      "b'Skipping line 86143: expected 10 fields, saw 11\\nSkipping line 96332: expected 10 fields, saw 12\\n'\n",
      "b'Skipping line 139116: expected 10 fields, saw 12\\n'\n"
     ]
    },
    {
     "name": "stdout",
     "output_type": "stream",
     "text": [
      "13 Adding 4 to total 346:\n",
      "{'tobi', 'helix', 'main event', 'casper'}\n",
      "../data/B2Split/xeo\n"
     ]
    },
    {
     "name": "stderr",
     "output_type": "stream",
     "text": [
      "b'Skipping line 4186: expected 10 fields, saw 13\\nSkipping line 27159: expected 10 fields, saw 11\\n'\n",
      "b'Skipping line 116731: expected 10 fields, saw 11\\n'\n",
      "b'Skipping line 131192: expected 10 fields, saw 11\\n'\n",
      "b'Skipping line 24625: expected 10 fields, saw 11\\nSkipping line 25000: expected 10 fields, saw 11\\n'\n"
     ]
    },
    {
     "name": "stdout",
     "output_type": "stream",
     "text": [
      "14 Adding 2 to total 346:\n",
      "{'cole haan', 'balmain'}\n",
      "../data/B2Split/xcv\n"
     ]
    },
    {
     "name": "stderr",
     "output_type": "stream",
     "text": [
      "b'Skipping line 72073: expected 10 fields, saw 11\\nSkipping line 85674: expected 10 fields, saw 11\\n'\n",
      "b'Skipping line 152889: expected 10 fields, saw 11\\n'\n"
     ]
    },
    {
     "name": "stdout",
     "output_type": "stream",
     "text": [
      "15 Adding 2 to total 346:\n",
      "{'orca', \"o'neill\"}\n",
      "../data/B2Split/xcq\n"
     ]
    },
    {
     "name": "stderr",
     "output_type": "stream",
     "text": [
      "b'Skipping line 2554: expected 10 fields, saw 11\\nSkipping line 23440: expected 10 fields, saw 12\\nSkipping line 29222: expected 10 fields, saw 11\\nSkipping line 61945: expected 10 fields, saw 12\\n'\n",
      "b'Skipping line 85680: expected 10 fields, saw 12\\nSkipping line 115904: expected 10 fields, saw 11\\nSkipping line 117134: expected 10 fields, saw 11\\nSkipping line 129956: expected 10 fields, saw 11\\n'\n",
      "b'Skipping line 133471: expected 10 fields, saw 11\\n'\n"
     ]
    },
    {
     "name": "stdout",
     "output_type": "stream",
     "text": [
      "16 Adding 3 to total 346:\n",
      "{'saatva', 'marvel', 'dunlop sports'}\n",
      "../data/B2Split/xeh\n"
     ]
    },
    {
     "name": "stderr",
     "output_type": "stream",
     "text": [
      "b'Skipping line 7255: expected 10 fields, saw 14\\nSkipping line 60924: expected 10 fields, saw 11\\n'\n",
      "b'Skipping line 122439: expected 10 fields, saw 11\\nSkipping line 128321: expected 10 fields, saw 11\\n'\n",
      "b'Skipping line 143779: expected 10 fields, saw 11\\nSkipping line 170063: expected 10 fields, saw 11\\nSkipping line 186222: expected 10 fields, saw 11\\n'\n"
     ]
    },
    {
     "name": "stdout",
     "output_type": "stream",
     "text": [
      "17 Adding 3 to total 346:\n",
      "{'bang', 'igloo', 'ellus'}\n",
      "../data/B2Split/xea\n"
     ]
    },
    {
     "name": "stderr",
     "output_type": "stream",
     "text": [
      "b'Skipping line 41046: expected 10 fields, saw 14\\n'\n",
      "b'Skipping line 89643: expected 10 fields, saw 11\\nSkipping line 101438: expected 10 fields, saw 11\\nSkipping line 120786: expected 10 fields, saw 11\\nSkipping line 129742: expected 10 fields, saw 11\\nSkipping line 130299: expected 10 fields, saw 12\\n'\n",
      "b'Skipping line 180460: expected 10 fields, saw 11\\nSkipping line 193312: expected 10 fields, saw 13\\n'\n"
     ]
    },
    {
     "name": "stdout",
     "output_type": "stream",
     "text": [
      "18 Adding 5 to total 346:\n",
      "{'pure group', 'sweetgreen', 'avon', 'califia farms', \"bloomingdale's\"}\n",
      "../data/B2Split/xcx\n"
     ]
    },
    {
     "name": "stderr",
     "output_type": "stream",
     "text": [
      "b'Skipping line 22380: expected 10 fields, saw 12\\n'\n",
      "b'Skipping line 66409: expected 10 fields, saw 11\\nSkipping line 76323: expected 10 fields, saw 11\\nSkipping line 96831: expected 10 fields, saw 14\\nSkipping line 104211: expected 10 fields, saw 11\\nSkipping line 118168: expected 10 fields, saw 11\\n'\n",
      "b'Skipping line 177362: expected 10 fields, saw 12\\nSkipping line 189375: expected 10 fields, saw 11\\n'\n"
     ]
    },
    {
     "name": "stdout",
     "output_type": "stream",
     "text": [
      "19 Adding 0 to total 346:\n",
      "set()\n",
      "../data/B2Split/xef\n"
     ]
    },
    {
     "name": "stderr",
     "output_type": "stream",
     "text": [
      "b'Skipping line 31424: expected 10 fields, saw 11\\nSkipping line 42837: expected 10 fields, saw 11\\nSkipping line 53752: expected 10 fields, saw 11\\nSkipping line 64326: expected 10 fields, saw 11\\n'\n",
      "b'Skipping line 90785: expected 10 fields, saw 11\\n'\n",
      "b'Skipping line 145192: expected 10 fields, saw 11\\nSkipping line 161650: expected 10 fields, saw 11\\nSkipping line 187797: expected 10 fields, saw 12\\n'\n"
     ]
    },
    {
     "name": "stdout",
     "output_type": "stream",
     "text": [
      "20 Adding 2 to total 346:\n",
      "{'ragu', 'nobull'}\n",
      "../data/B2Split/xbr\n"
     ]
    },
    {
     "name": "stderr",
     "output_type": "stream",
     "text": [
      "b'Skipping line 39319: expected 10 fields, saw 11\\n'\n",
      "b'Skipping line 76620: expected 10 fields, saw 11\\nSkipping line 80335: expected 10 fields, saw 11\\nSkipping line 92446: expected 10 fields, saw 11\\n'\n",
      "b'Skipping line 192494: expected 10 fields, saw 11\\n'\n"
     ]
    },
    {
     "name": "stdout",
     "output_type": "stream",
     "text": [
      "22 Adding 0 to total 346:\n",
      "set()\n",
      "../data/B2Split/xdk\n"
     ]
    },
    {
     "name": "stderr",
     "output_type": "stream",
     "text": [
      "b'Skipping line 59763: expected 10 fields, saw 13\\nSkipping line 60179: expected 10 fields, saw 11\\nSkipping line 63281: expected 10 fields, saw 11\\n'\n",
      "b'Skipping line 89006: expected 10 fields, saw 11\\nSkipping line 97199: expected 10 fields, saw 11\\n'\n"
     ]
    },
    {
     "name": "stdout",
     "output_type": "stream",
     "text": [
      "23 Adding 3 to total 346:\n",
      "{'orca', 'valentino', 'balmain'}\n",
      "../data/B2Split/xdl\n"
     ]
    },
    {
     "name": "stderr",
     "output_type": "stream",
     "text": [
      "b'Skipping line 33751: expected 10 fields, saw 11\\nSkipping line 63268: expected 10 fields, saw 11\\n'\n",
      "b'Skipping line 103870: expected 10 fields, saw 11\\nSkipping line 128434: expected 10 fields, saw 11\\n'\n",
      "b'Skipping line 139760: expected 10 fields, saw 11\\nSkipping line 162481: expected 10 fields, saw 11\\nSkipping line 171218: expected 10 fields, saw 11\\nSkipping line 181381: expected 10 fields, saw 11\\nSkipping line 182999: expected 10 fields, saw 11\\n'\n"
     ]
    },
    {
     "name": "stdout",
     "output_type": "stream",
     "text": [
      "24 Adding 3 to total 346:\n",
      "{'fage', 'marvel', 'monte carlo'}\n",
      "../data/B2Split/xbu\n"
     ]
    },
    {
     "name": "stderr",
     "output_type": "stream",
     "text": [
      "b'Skipping line 5919: expected 10 fields, saw 12\\nSkipping line 19800: expected 10 fields, saw 11\\nSkipping line 30773: expected 10 fields, saw 11\\nSkipping line 31662: expected 10 fields, saw 11\\nSkipping line 58738: expected 10 fields, saw 11\\n'\n",
      "b'Skipping line 164700: expected 10 fields, saw 11\\n'\n"
     ]
    },
    {
     "name": "stdout",
     "output_type": "stream",
     "text": [
      "25 Adding 0 to total 346:\n",
      "set()\n",
      "../data/B2Split/xaz\n"
     ]
    },
    {
     "name": "stderr",
     "output_type": "stream",
     "text": [
      "b'Skipping line 17797: expected 10 fields, saw 12\\n'\n",
      "b'Skipping line 91291: expected 10 fields, saw 11\\nSkipping line 93889: expected 10 fields, saw 11\\nSkipping line 102498: expected 10 fields, saw 12\\nSkipping line 124337: expected 10 fields, saw 11\\n'\n",
      "b'Skipping line 196692: expected 10 fields, saw 11\\n'\n",
      "b'Skipping line 25365: expected 10 fields, saw 12\\nSkipping line 32380: expected 10 fields, saw 11\\nSkipping line 62429: expected 10 fields, saw 11\\nSkipping line 65503: expected 10 fields, saw 11\\n'\n"
     ]
    },
    {
     "name": "stdout",
     "output_type": "stream",
     "text": [
      "26 Adding 3 to total 346:\n",
      "{'juicy couture', 'iams', 'casper'}\n",
      "../data/B2Split/xas\n"
     ]
    },
    {
     "name": "stderr",
     "output_type": "stream",
     "text": [
      "b'Skipping line 108472: expected 10 fields, saw 11\\n'\n",
      "b'Skipping line 142314: expected 10 fields, saw 12\\nSkipping line 167905: expected 10 fields, saw 11\\nSkipping line 185308: expected 10 fields, saw 11\\nSkipping line 185746: expected 10 fields, saw 11\\nSkipping line 187190: expected 10 fields, saw 11\\n'\n"
     ]
    },
    {
     "name": "stdout",
     "output_type": "stream",
     "text": [
      "27 Adding 0 to total 346:\n",
      "set()\n",
      "../data/B2Split/xde\n"
     ]
    },
    {
     "name": "stderr",
     "output_type": "stream",
     "text": [
      "b'Skipping line 44137: expected 10 fields, saw 11\\nSkipping line 47057: expected 10 fields, saw 11\\n'\n",
      "b'Skipping line 100348: expected 10 fields, saw 11\\nSkipping line 108142: expected 10 fields, saw 12\\n'\n",
      "b'Skipping line 146324: expected 10 fields, saw 11\\nSkipping line 156340: expected 10 fields, saw 11\\n'\n"
     ]
    },
    {
     "name": "stdout",
     "output_type": "stream",
     "text": [
      "28 Adding 3 to total 346:\n",
      "{'main event', 'natura', 'tofurky'}\n",
      "../data/B2Split/xat\n"
     ]
    },
    {
     "name": "stderr",
     "output_type": "stream",
     "text": [
      "b'Skipping line 54258: expected 10 fields, saw 11\\n'\n",
      "b'Skipping line 73728: expected 10 fields, saw 11\\n'\n",
      "b'Skipping line 192304: expected 10 fields, saw 11\\n'\n"
     ]
    },
    {
     "name": "stdout",
     "output_type": "stream",
     "text": [
      "29 Adding 4 to total 346:\n",
      "{'igloo', 'salinas', 'cannuka', 'olive garden'}\n",
      "../data/B2Split/xdb\n"
     ]
    },
    {
     "name": "stderr",
     "output_type": "stream",
     "text": [
      "b'Skipping line 20758: expected 10 fields, saw 11\\nSkipping line 47114: expected 10 fields, saw 11\\n'\n",
      "b'Skipping line 102051: expected 10 fields, saw 11\\n'\n",
      "b'Skipping line 134497: expected 10 fields, saw 11\\nSkipping line 162464: expected 10 fields, saw 11\\nSkipping line 190404: expected 10 fields, saw 11\\n'\n"
     ]
    },
    {
     "name": "stdout",
     "output_type": "stream",
     "text": [
      "30 Adding 4 to total 346:\n",
      "{'pure group', 'lucky', 'xeomin', 'gaf'}\n",
      "../data/B2Split/xaf\n"
     ]
    },
    {
     "name": "stderr",
     "output_type": "stream",
     "text": [
      "b'Skipping line 21678: expected 10 fields, saw 11\\nSkipping line 32987: expected 10 fields, saw 11\\nSkipping line 39880: expected 10 fields, saw 11\\n'\n",
      "b'Skipping line 81287: expected 10 fields, saw 11\\nSkipping line 83358: expected 10 fields, saw 12\\n'\n",
      "b'Skipping line 159902: expected 10 fields, saw 12\\nSkipping line 175961: expected 10 fields, saw 11\\n'\n",
      "b'Skipping line 198011: expected 10 fields, saw 11\\nSkipping line 199178: expected 10 fields, saw 11\\nSkipping line 199937: expected 10 fields, saw 11\\n'\n"
     ]
    },
    {
     "name": "stdout",
     "output_type": "stream",
     "text": [
      "31 Adding 2 to total 346:\n",
      "{'tobi', 'mary kay'}\n",
      "../data/B2Split/xdp\n"
     ]
    },
    {
     "name": "stderr",
     "output_type": "stream",
     "text": [
      "b'Skipping line 4473: expected 10 fields, saw 11\\n'\n",
      "b'Skipping line 81172: expected 10 fields, saw 12\\nSkipping line 88219: expected 10 fields, saw 11\\n'\n",
      "b'Skipping line 167633: expected 10 fields, saw 12\\nSkipping line 176298: expected 10 fields, saw 11\\nSkipping line 188090: expected 10 fields, saw 11\\n'\n"
     ]
    },
    {
     "name": "stdout",
     "output_type": "stream",
     "text": [
      "32 Adding 2 to total 346:\n",
      "{'shoulder', 'anthropologie'}\n",
      "../data/B2Split/xbi\n"
     ]
    },
    {
     "name": "stderr",
     "output_type": "stream",
     "text": [
      "b'Skipping line 7391: expected 10 fields, saw 11\\n'\n",
      "b'Skipping line 89207: expected 10 fields, saw 11\\nSkipping line 120032: expected 10 fields, saw 11\\n'\n",
      "b'Skipping line 167230: expected 10 fields, saw 11\\n'\n"
     ]
    },
    {
     "name": "stdout",
     "output_type": "stream",
     "text": [
      "33 Adding 4 to total 346:\n",
      "{'h stern', 'longhorn steakhouse', 'lucky', 'bergdorf goodman'}\n",
      "../data/B2Split/xbn\n"
     ]
    },
    {
     "name": "stderr",
     "output_type": "stream",
     "text": [
      "b'Skipping line 431: expected 10 fields, saw 11\\nSkipping line 24833: expected 10 fields, saw 11\\n'\n",
      "b'Skipping line 104399: expected 10 fields, saw 12\\n'\n",
      "b'Skipping line 182910: expected 10 fields, saw 12\\n'\n"
     ]
    },
    {
     "name": "stdout",
     "output_type": "stream",
     "text": [
      "35 Adding 3 to total 346:\n",
      "{'mango', 'savage x fenty', 'il makiage'}\n",
      "../data/B2Split/xdw\n"
     ]
    },
    {
     "name": "stderr",
     "output_type": "stream",
     "text": [
      "b'Skipping line 7417: expected 10 fields, saw 11\\nSkipping line 29397: expected 10 fields, saw 12\\nSkipping line 64643: expected 10 fields, saw 11\\n'\n",
      "b'Skipping line 73478: expected 10 fields, saw 11\\nSkipping line 119878: expected 10 fields, saw 11\\n'\n",
      "b'Skipping line 134572: expected 10 fields, saw 11\\nSkipping line 146041: expected 10 fields, saw 11\\nSkipping line 159128: expected 10 fields, saw 11\\n'\n"
     ]
    },
    {
     "name": "stdout",
     "output_type": "stream",
     "text": [
      "36 Adding 1 to total 346:\n",
      "{'bobstore'}\n",
      "../data/B2Split/xbg\n"
     ]
    },
    {
     "name": "stderr",
     "output_type": "stream",
     "text": [
      "b'Skipping line 35126: expected 10 fields, saw 11\\n'\n",
      "b'Skipping line 70469: expected 10 fields, saw 11\\nSkipping line 96563: expected 10 fields, saw 11\\n'\n",
      "b'Skipping line 190398: expected 10 fields, saw 11\\n'\n"
     ]
    },
    {
     "name": "stdout",
     "output_type": "stream",
     "text": [
      "37 Adding 3 to total 346:\n",
      "{'natura', 'minor figures', 'about you'}\n",
      "../data/B2Split/xah\n"
     ]
    },
    {
     "name": "stderr",
     "output_type": "stream",
     "text": [
      "b'Skipping line 591: expected 10 fields, saw 11\\nSkipping line 30542: expected 10 fields, saw 11\\nSkipping line 40387: expected 10 fields, saw 11\\n'\n",
      "b'Skipping line 92832: expected 10 fields, saw 11\\n'\n",
      "b'Skipping line 172514: expected 10 fields, saw 11\\n'\n"
     ]
    },
    {
     "name": "stdout",
     "output_type": "stream",
     "text": [
      "38 Adding 5 to total 346:\n",
      "{'kind', 'clif bar', 'rei', 'olive garden', 'natura'}\n",
      "../data/B2Split/xdy\n"
     ]
    },
    {
     "name": "stderr",
     "output_type": "stream",
     "text": [
      "b'Skipping line 113202: expected 10 fields, saw 11\\n'\n",
      "b'Skipping line 154424: expected 10 fields, saw 11\\nSkipping line 158959: expected 10 fields, saw 11\\n'\n"
     ]
    },
    {
     "name": "stdout",
     "output_type": "stream",
     "text": [
      "39 Adding 3 to total 346:\n",
      "{'saks fifth avenue', 'capodarte', 'tory burch'}\n",
      "../data/B2Split/xao\n"
     ]
    },
    {
     "name": "stderr",
     "output_type": "stream",
     "text": [
      "b'Skipping line 73952: expected 10 fields, saw 13\\nSkipping line 97645: expected 10 fields, saw 11\\n'\n",
      "b'Skipping line 178352: expected 10 fields, saw 11\\n'\n",
      "b'Skipping line 197897: expected 10 fields, saw 11\\n'\n",
      "b'Skipping line 5896: expected 10 fields, saw 11\\nSkipping line 31611: expected 10 fields, saw 11\\nSkipping line 52849: expected 10 fields, saw 11\\nSkipping line 60636: expected 10 fields, saw 12\\n'\n"
     ]
    },
    {
     "name": "stdout",
     "output_type": "stream",
     "text": [
      "40 Adding 2 to total 346:\n",
      "{'aldi', 'ssense'}\n",
      "../data/B2Split/xau\n"
     ]
    },
    {
     "name": "stderr",
     "output_type": "stream",
     "text": [
      "b'Skipping line 72464: expected 10 fields, saw 12\\nSkipping line 129032: expected 10 fields, saw 11\\n'\n",
      "b'Skipping line 141354: expected 10 fields, saw 11\\nSkipping line 148575: expected 10 fields, saw 11\\nSkipping line 152134: expected 10 fields, saw 11\\nSkipping line 152669: expected 10 fields, saw 14\\nSkipping line 189505: expected 10 fields, saw 11\\n'\n"
     ]
    },
    {
     "name": "stdout",
     "output_type": "stream",
     "text": [
      "41 Adding 1 to total 346:\n",
      "{'santa lolla'}\n",
      "../data/B2Split/xdc\n"
     ]
    },
    {
     "name": "stderr",
     "output_type": "stream",
     "text": [
      "b'Skipping line 10879: expected 10 fields, saw 11\\nSkipping line 14130: expected 10 fields, saw 11\\nSkipping line 14134: expected 10 fields, saw 11\\n'\n",
      "b'Skipping line 76135: expected 10 fields, saw 13\\nSkipping line 76869: expected 10 fields, saw 11\\n'\n",
      "b'Skipping line 143354: expected 10 fields, saw 11\\nSkipping line 165824: expected 10 fields, saw 13\\n'\n"
     ]
    },
    {
     "name": "stdout",
     "output_type": "stream",
     "text": [
      "42 Adding 4 to total 346:\n",
      "{'breitling', 'bang', 'buffalo wild wings', 'trx'}\n",
      "../data/B2Split/xbz\n"
     ]
    },
    {
     "name": "stderr",
     "output_type": "stream",
     "text": [
      "b'Skipping line 22463: expected 10 fields, saw 12\\nSkipping line 47017: expected 10 fields, saw 11\\n'\n",
      "b'Skipping line 121735: expected 10 fields, saw 11\\n'\n",
      "b'Skipping line 138656: expected 10 fields, saw 11\\nSkipping line 144360: expected 10 fields, saw 11\\n'\n"
     ]
    },
    {
     "name": "stdout",
     "output_type": "stream",
     "text": [
      "43 Adding 6 to total 346:\n",
      "{'equinox', 'igloo', 'serta', 'corello', 'reserva', 'rag & bone'}\n",
      "../data/B2Split/xar\n"
     ]
    },
    {
     "name": "stderr",
     "output_type": "stream",
     "text": [
      "b'Skipping line 73409: expected 10 fields, saw 11\\nSkipping line 128107: expected 10 fields, saw 11\\nSkipping line 129999: expected 10 fields, saw 11\\n'\n",
      "b'Skipping line 131085: expected 10 fields, saw 11\\nSkipping line 178645: expected 10 fields, saw 11\\n'\n"
     ]
    },
    {
     "name": "stdout",
     "output_type": "stream",
     "text": [
      "44 Adding 1 to total 346:\n",
      "{'mango'}\n",
      "../data/B2Split/xdd\n"
     ]
    },
    {
     "name": "stderr",
     "output_type": "stream",
     "text": [
      "b'Skipping line 30422: expected 10 fields, saw 11\\n'\n",
      "b'Skipping line 106990: expected 10 fields, saw 11\\nSkipping line 109181: expected 10 fields, saw 11\\nSkipping line 111357: expected 10 fields, saw 11\\nSkipping line 126863: expected 10 fields, saw 11\\n'\n",
      "b'Skipping line 188064: expected 10 fields, saw 11\\n'\n"
     ]
    },
    {
     "name": "stdout",
     "output_type": "stream",
     "text": [
      "45 Adding 2 to total 346:\n",
      "{'equinox', 'impossible foods'}\n",
      "../data/B2Split/xdm\n"
     ]
    },
    {
     "name": "stderr",
     "output_type": "stream",
     "text": [
      "b'Skipping line 10121: expected 10 fields, saw 11\\nSkipping line 60335: expected 10 fields, saw 11\\nSkipping line 63643: expected 10 fields, saw 11\\n'\n",
      "b'Skipping line 100786: expected 10 fields, saw 11\\nSkipping line 130102: expected 10 fields, saw 12\\n'\n",
      "b'Skipping line 136929: expected 10 fields, saw 11\\nSkipping line 152354: expected 10 fields, saw 11\\nSkipping line 164718: expected 10 fields, saw 11\\n'\n",
      "b'Skipping line 198520: expected 10 fields, saw 11\\n'\n"
     ]
    },
    {
     "name": "stdout",
     "output_type": "stream",
     "text": [
      "46 Adding 3 to total 346:\n",
      "{'reserva', 'roxy', 'amaro'}\n",
      "../data/B2Split/xbt\n"
     ]
    },
    {
     "name": "stderr",
     "output_type": "stream",
     "text": [
      "b'Skipping line 92296: expected 10 fields, saw 11\\nSkipping line 98943: expected 10 fields, saw 11\\n'\n",
      "b'Skipping line 159559: expected 10 fields, saw 11\\n'\n"
     ]
    },
    {
     "name": "stdout",
     "output_type": "stream",
     "text": [
      "47 Adding 2 to total 346:\n",
      "{'orca', 'tineco'}\n",
      "../data/B2Split/xbs\n"
     ]
    },
    {
     "name": "stderr",
     "output_type": "stream",
     "text": [
      "b'Skipping line 46170: expected 10 fields, saw 11\\nSkipping line 52988: expected 10 fields, saw 11\\n'\n",
      "b'Skipping line 75525: expected 10 fields, saw 11\\nSkipping line 93174: expected 10 fields, saw 11\\nSkipping line 104401: expected 10 fields, saw 11\\n'\n",
      "b'Skipping line 168029: expected 10 fields, saw 11\\n'\n"
     ]
    },
    {
     "name": "stdout",
     "output_type": "stream",
     "text": [
      "48 Adding 4 to total 346:\n",
      "{'pure group', 'orca', 'lucky', 'timex'}\n",
      "../data/B2Split/xdj\n"
     ]
    },
    {
     "name": "stderr",
     "output_type": "stream",
     "text": [
      "b'Skipping line 13321: expected 10 fields, saw 11\\nSkipping line 31914: expected 10 fields, saw 11\\n'\n",
      "b'Skipping line 148092: expected 10 fields, saw 11\\nSkipping line 154381: expected 10 fields, saw 11\\nSkipping line 161744: expected 10 fields, saw 11\\n'\n"
     ]
    },
    {
     "name": "stdout",
     "output_type": "stream",
     "text": [
      "49 Adding 3 to total 346:\n",
      "{'dune', 'helix', 'serta'}\n",
      "../data/B2Split/xba\n"
     ]
    },
    {
     "name": "stderr",
     "output_type": "stream",
     "text": [
      "b'Skipping line 74457: expected 10 fields, saw 11\\nSkipping line 120509: expected 10 fields, saw 11\\n'\n",
      "b'Skipping line 132232: expected 10 fields, saw 11\\nSkipping line 164736: expected 10 fields, saw 14\\nSkipping line 180102: expected 10 fields, saw 11\\n'\n"
     ]
    },
    {
     "name": "stdout",
     "output_type": "stream",
     "text": [
      "50 Adding 2 to total 346:\n",
      "{'otto gmbh', 'helix'}\n",
      "../data/B2Split/xdx\n"
     ]
    },
    {
     "name": "stderr",
     "output_type": "stream",
     "text": [
      "b'Skipping line 11926: expected 10 fields, saw 11\\nSkipping line 28239: expected 10 fields, saw 11\\nSkipping line 41756: expected 10 fields, saw 11\\n'\n",
      "b'Skipping line 81821: expected 10 fields, saw 11\\nSkipping line 100399: expected 10 fields, saw 11\\n'\n"
     ]
    },
    {
     "name": "stdout",
     "output_type": "stream",
     "text": [
      "51 Adding 4 to total 346:\n",
      "{'dune', 'helix', 'patek philippe', 'the kooples'}\n",
      "../data/B2Split/xan\n"
     ]
    },
    {
     "name": "stderr",
     "output_type": "stream",
     "text": [
      "b'Skipping line 2241: expected 10 fields, saw 11\\nSkipping line 10899: expected 10 fields, saw 11\\nSkipping line 36636: expected 10 fields, saw 11\\nSkipping line 42176: expected 10 fields, saw 12\\nSkipping line 43545: expected 10 fields, saw 12\\nSkipping line 56340: expected 10 fields, saw 11\\n'\n",
      "b'Skipping line 68358: expected 10 fields, saw 11\\n'\n",
      "b'Skipping line 135019: expected 10 fields, saw 11\\nSkipping line 156019: expected 10 fields, saw 11\\nSkipping line 182237: expected 10 fields, saw 11\\n'\n"
     ]
    },
    {
     "name": "stdout",
     "output_type": "stream",
     "text": [
      "52 Adding 2 to total 346:\n",
      "{'noosa', 'casper'}\n",
      "../data/B2Split/xbf\n"
     ]
    },
    {
     "name": "stderr",
     "output_type": "stream",
     "text": [
      "b'Skipping line 55391: expected 10 fields, saw 11\\n'\n",
      "b'Skipping line 135760: expected 10 fields, saw 11\\nSkipping line 140783: expected 10 fields, saw 11\\nSkipping line 148999: expected 10 fields, saw 11\\nSkipping line 162557: expected 10 fields, saw 11\\nSkipping line 190491: expected 10 fields, saw 11\\n'\n"
     ]
    },
    {
     "name": "stdout",
     "output_type": "stream",
     "text": [
      "53 Adding 1 to total 346:\n",
      "{'orca'}\n",
      "../data/B2Split/xai\n"
     ]
    },
    {
     "name": "stderr",
     "output_type": "stream",
     "text": [
      "b'Skipping line 3735: expected 10 fields, saw 11\\nSkipping line 29398: expected 10 fields, saw 11\\nSkipping line 53587: expected 10 fields, saw 11\\n'\n",
      "b'Skipping line 65973: expected 10 fields, saw 11\\nSkipping line 89552: expected 10 fields, saw 11\\n'\n",
      "b'Skipping line 158968: expected 10 fields, saw 12\\nSkipping line 165480: expected 10 fields, saw 11\\n'\n"
     ]
    },
    {
     "name": "stdout",
     "output_type": "stream",
     "text": [
      "54 Adding 2 to total 346:\n",
      "{'fabletics', 'aeropostale'}\n",
      "../data/B2Split/xbo\n"
     ]
    },
    {
     "name": "stderr",
     "output_type": "stream",
     "text": [
      "b'Skipping line 98913: expected 10 fields, saw 11\\nSkipping line 108193: expected 10 fields, saw 11\\nSkipping line 127535: expected 10 fields, saw 12\\n'\n",
      "b'Skipping line 191283: expected 10 fields, saw 11\\n'\n"
     ]
    },
    {
     "name": "stdout",
     "output_type": "stream",
     "text": [
      "55 Adding 3 to total 346:\n",
      "{'dsquared2', 'lidl', 'tudor'}\n",
      "../data/B2Split/xdv\n"
     ]
    },
    {
     "name": "stderr",
     "output_type": "stream",
     "text": [
      "b'Skipping line 55476: expected 10 fields, saw 11\\nSkipping line 61155: expected 10 fields, saw 11\\n'\n",
      "b'Skipping line 80434: expected 10 fields, saw 11\\nSkipping line 86528: expected 10 fields, saw 11\\nSkipping line 102332: expected 10 fields, saw 11\\nSkipping line 113061: expected 10 fields, saw 11\\n'\n",
      "b'Skipping line 135574: expected 10 fields, saw 11\\nSkipping line 160487: expected 10 fields, saw 11\\nSkipping line 165138: expected 10 fields, saw 11\\nSkipping line 184630: expected 10 fields, saw 11\\n'\n"
     ]
    },
    {
     "name": "stdout",
     "output_type": "stream",
     "text": [
      "56 Adding 0 to total 346:\n",
      "set()\n",
      "../data/B2Split/xag\n"
     ]
    },
    {
     "name": "stderr",
     "output_type": "stream",
     "text": [
      "b'Skipping line 11208: expected 10 fields, saw 11\\nSkipping line 52463: expected 10 fields, saw 11\\n'\n",
      "b'Skipping line 153863: expected 10 fields, saw 11\\nSkipping line 192503: expected 10 fields, saw 11\\n'\n"
     ]
    },
    {
     "name": "stdout",
     "output_type": "stream",
     "text": [
      "57 Adding 3 to total 346:\n",
      "{'tom ford', 'kind', 'richards'}\n",
      "../data/B2Split/xdq\n"
     ]
    },
    {
     "name": "stderr",
     "output_type": "stream",
     "text": [
      "b'Skipping line 32038: expected 10 fields, saw 11\\n'\n",
      "b'Skipping line 70812: expected 10 fields, saw 12\\nSkipping line 89834: expected 10 fields, saw 11\\nSkipping line 125428: expected 10 fields, saw 11\\n'\n",
      "b'Skipping line 143433: expected 10 fields, saw 11\\nSkipping line 147413: expected 10 fields, saw 11\\nSkipping line 148765: expected 10 fields, saw 11\\nSkipping line 173454: expected 10 fields, saw 11\\n'\n"
     ]
    },
    {
     "name": "stdout",
     "output_type": "stream",
     "text": [
      "58 Adding 1 to total 346:\n",
      "{'quiksilver'}\n",
      "../data/B2Split/xbh\n"
     ]
    },
    {
     "name": "stderr",
     "output_type": "stream",
     "text": [
      "b'Skipping line 43273: expected 10 fields, saw 11\\n'\n",
      "b'Skipping line 110129: expected 10 fields, saw 11\\n'\n"
     ]
    },
    {
     "name": "stdout",
     "output_type": "stream",
     "text": [
      "59 Adding 3 to total 346:\n",
      "{'orca', '3.1 phillip lim', 'tgi fridays'}\n",
      "../data/B2Split/xec\n"
     ]
    },
    {
     "name": "stderr",
     "output_type": "stream",
     "text": [
      "b'Skipping line 6884: expected 10 fields, saw 12\\n'\n",
      "b'Skipping line 74938: expected 10 fields, saw 12\\nSkipping line 85931: expected 10 fields, saw 11\\n'\n",
      "b'Skipping line 133717: expected 10 fields, saw 14\\nSkipping line 136503: expected 10 fields, saw 12\\nSkipping line 143352: expected 10 fields, saw 11\\n'\n"
     ]
    },
    {
     "name": "stdout",
     "output_type": "stream",
     "text": [
      "60 Adding 4 to total 346:\n",
      "{'poshmark', 'helix', 'rolex', 'mango'}\n",
      "../data/B2Split/xcz\n"
     ]
    },
    {
     "name": "stderr",
     "output_type": "stream",
     "text": [
      "b'Skipping line 15077: expected 10 fields, saw 11\\nSkipping line 28402: expected 10 fields, saw 11\\n'\n",
      "b'Skipping line 80700: expected 10 fields, saw 11\\nSkipping line 87039: expected 10 fields, saw 11\\n'\n"
     ]
    },
    {
     "name": "stdout",
     "output_type": "stream",
     "text": [
      "61 Adding 2 to total 346:\n",
      "{'vr collezioni', 'mango'}\n",
      "../data/B2Split/xed\n"
     ]
    },
    {
     "name": "stderr",
     "output_type": "stream",
     "text": [
      "b'Skipping line 43521: expected 10 fields, saw 14\\nSkipping line 57228: expected 10 fields, saw 11\\n'\n",
      "b'Skipping line 71033: expected 10 fields, saw 11\\nSkipping line 106168: expected 10 fields, saw 12\\n'\n"
     ]
    },
    {
     "name": "stdout",
     "output_type": "stream",
     "text": [
      "62 Adding 6 to total 346:\n",
      "{'chopard', 'equinox', 'shein', 'mango', 'primark', 'aldo'}\n",
      "../data/B2Split/xem\n"
     ]
    },
    {
     "name": "stderr",
     "output_type": "stream",
     "text": [
      "b'Skipping line 2244: expected 10 fields, saw 14\\n'\n",
      "b'Skipping line 73595: expected 10 fields, saw 14\\nSkipping line 77881: expected 10 fields, saw 11\\n'\n",
      "b'Skipping line 171829: expected 10 fields, saw 11\\n'\n",
      "b'Skipping line 196701: expected 10 fields, saw 11\\n'\n"
     ]
    },
    {
     "name": "stdout",
     "output_type": "stream",
     "text": [
      "63 Adding 2 to total 346:\n",
      "{\"barry's bootcamp\", 'richards'}\n",
      "../data/B2Split/xct\n"
     ]
    },
    {
     "name": "stderr",
     "output_type": "stream",
     "text": [
      "b'Skipping line 56317: expected 10 fields, saw 11\\n'\n",
      "b'Skipping line 97070: expected 10 fields, saw 11\\nSkipping line 109025: expected 10 fields, saw 13\\n'\n"
     ]
    },
    {
     "name": "stdout",
     "output_type": "stream",
     "text": [
      "64 Adding 1 to total 346:\n",
      "{'mango'}\n",
      "../data/B2Split/xcs\n"
     ]
    },
    {
     "name": "stderr",
     "output_type": "stream",
     "text": [
      "b'Skipping line 60637: expected 10 fields, saw 12\\n'\n",
      "b'Skipping line 124175: expected 10 fields, saw 11\\n'\n",
      "b'Skipping line 132249: expected 10 fields, saw 11\\nSkipping line 146671: expected 10 fields, saw 11\\nSkipping line 180202: expected 10 fields, saw 15\\n'\n"
     ]
    },
    {
     "name": "stdout",
     "output_type": "stream",
     "text": [
      "65 Adding 0 to total 346:\n",
      "set()\n",
      "../data/B2Split/xej\n"
     ]
    },
    {
     "name": "stderr",
     "output_type": "stream",
     "text": [
      "b'Skipping line 19227: expected 10 fields, saw 11\\n'\n",
      "b'Skipping line 79631: expected 10 fields, saw 11\\n'\n",
      "b'Skipping line 132848: expected 10 fields, saw 11\\nSkipping line 186878: expected 10 fields, saw 11\\n'\n"
     ]
    },
    {
     "name": "stdout",
     "output_type": "stream",
     "text": [
      "66 Adding 3 to total 346:\n",
      "{'whataburger', 'madewell', 'kind'}\n",
      "../data/B2Split/xca\n"
     ]
    },
    {
     "name": "stderr",
     "output_type": "stream",
     "text": [
      "b'Skipping line 2833: expected 10 fields, saw 11\\n'\n",
      "b'Skipping line 109328: expected 10 fields, saw 11\\nSkipping line 110726: expected 10 fields, saw 11\\nSkipping line 128567: expected 10 fields, saw 12\\n'\n",
      "b'Skipping line 175438: expected 10 fields, saw 11\\n'\n"
     ]
    },
    {
     "name": "stdout",
     "output_type": "stream",
     "text": [
      "67 Adding 3 to total 346:\n",
      "{'patagonia', 'orca', 'oatly'}\n",
      "../data/B2Split/xcf\n"
     ]
    },
    {
     "name": "stderr",
     "output_type": "stream",
     "text": [
      "b'Skipping line 23697: expected 10 fields, saw 11\\n'\n",
      "b'Skipping line 77163: expected 10 fields, saw 11\\nSkipping line 91913: expected 10 fields, saw 11\\n'\n",
      "b'Skipping line 167570: expected 10 fields, saw 11\\nSkipping line 171766: expected 10 fields, saw 11\\n'\n"
     ]
    },
    {
     "name": "stdout",
     "output_type": "stream",
     "text": [
      "68 Adding 3 to total 346:\n",
      "{'avon', 'equinox', 'dune'}\n",
      "../data/B2Split/xco\n"
     ]
    },
    {
     "name": "stderr",
     "output_type": "stream",
     "text": [
      "b'Skipping line 20519: expected 10 fields, saw 11\\nSkipping line 22382: expected 10 fields, saw 11\\n'\n",
      "b'Skipping line 131784: expected 10 fields, saw 11\\nSkipping line 140090: expected 10 fields, saw 11\\nSkipping line 186529: expected 10 fields, saw 11\\n'\n"
     ]
    },
    {
     "name": "stdout",
     "output_type": "stream",
     "text": [
      "69 Adding 1 to total 346:\n",
      "{'suitsupply'}\n",
      "../data/B2Split/xch\n"
     ]
    },
    {
     "name": "stderr",
     "output_type": "stream",
     "text": [
      "b'Skipping line 8099: expected 10 fields, saw 11\\nSkipping line 9771: expected 10 fields, saw 11\\nSkipping line 26561: expected 10 fields, saw 11\\nSkipping line 61912: expected 10 fields, saw 11\\n'\n",
      "b'Skipping line 104924: expected 10 fields, saw 11\\nSkipping line 108321: expected 10 fields, saw 11\\n'\n",
      "b'Skipping line 141171: expected 10 fields, saw 11\\nSkipping line 147177: expected 10 fields, saw 11\\nSkipping line 176354: expected 10 fields, saw 11\\nSkipping line 186080: expected 10 fields, saw 11\\nSkipping line 188443: expected 10 fields, saw 11\\nSkipping line 189482: expected 10 fields, saw 11\\nSkipping line 196416: expected 10 fields, saw 11\\n'\n"
     ]
    },
    {
     "name": "stdout",
     "output_type": "stream",
     "text": [
      "70 Adding 5 to total 346:\n",
      "{'kurt geiger', 'helix', 'igloo', 'aldo', 'kind'}\n",
      "../data/B2Split/xcr\n"
     ]
    },
    {
     "name": "stderr",
     "output_type": "stream",
     "text": [
      "b'Skipping line 12574: expected 10 fields, saw 12\\n'\n",
      "b'Skipping line 86188: expected 10 fields, saw 11\\n'\n",
      "b'Skipping line 137751: expected 10 fields, saw 11\\nSkipping line 174875: expected 10 fields, saw 11\\n'\n"
     ]
    },
    {
     "name": "stdout",
     "output_type": "stream",
     "text": [
      "71 Adding 2 to total 346:\n",
      "{'dune', 'all brands'}\n",
      "../data/B2Split/xek\n"
     ]
    },
    {
     "name": "stderr",
     "output_type": "stream",
     "text": [
      "b'Skipping line 9365: expected 10 fields, saw 11\\nSkipping line 37076: expected 10 fields, saw 11\\nSkipping line 46571: expected 10 fields, saw 12\\n'\n",
      "b'Skipping line 93598: expected 10 fields, saw 11\\nSkipping line 107075: expected 10 fields, saw 11\\nSkipping line 127002: expected 10 fields, saw 11\\n'\n",
      "b'Skipping line 141284: expected 10 fields, saw 11\\nSkipping line 179799: expected 10 fields, saw 11\\n'\n"
     ]
    },
    {
     "name": "stdout",
     "output_type": "stream",
     "text": [
      "72 Adding 6 to total 346:\n",
      "{'equinox', 'dune', 'c&a', 'morphe', 'amaro', 'reserva'}\n",
      "../data/B2Split/xel\n"
     ]
    },
    {
     "name": "stderr",
     "output_type": "stream",
     "text": [
      "b'Skipping line 4371: expected 10 fields, saw 11\\nSkipping line 9022: expected 10 fields, saw 11\\nSkipping line 16626: expected 10 fields, saw 11\\n'\n",
      "b'Skipping line 82242: expected 10 fields, saw 11\\n'\n",
      "b'Skipping line 173480: expected 10 fields, saw 11\\n'\n"
     ]
    },
    {
     "name": "stdout",
     "output_type": "stream",
     "text": [
      "73 Adding 3 to total 346:\n",
      "{'natura', 'eudora', 'igloo'}\n",
      "../data/B2Split/xcu\n"
     ]
    },
    {
     "name": "stderr",
     "output_type": "stream",
     "text": [
      "b'Skipping line 49560: expected 10 fields, saw 11\\n'\n",
      "b'Skipping line 122787: expected 10 fields, saw 11\\nSkipping line 128613: expected 10 fields, saw 12\\n'\n"
     ]
    },
    {
     "name": "stdout",
     "output_type": "stream",
     "text": [
      "74 Adding 1 to total 346:\n",
      "{'p.e nation'}\n",
      "../data/B2Split/xee\n"
     ]
    },
    {
     "name": "stderr",
     "output_type": "stream",
     "text": [
      "b'Skipping line 9671: expected 10 fields, saw 11\\nSkipping line 32140: expected 10 fields, saw 11\\nSkipping line 46261: expected 10 fields, saw 12\\n'\n",
      "b'Skipping line 89097: expected 10 fields, saw 11\\nSkipping line 92631: expected 10 fields, saw 11\\n'\n",
      "b'Skipping line 196430: expected 10 fields, saw 11\\n'\n",
      "b'Skipping line 197645: expected 10 fields, saw 13\\n'\n"
     ]
    },
    {
     "name": "stdout",
     "output_type": "stream",
     "text": [
      "75 Adding 4 to total 346:\n",
      "{'funko', 'aldo', 'fitplan', 'marvel'}\n",
      "../data/B2Split/xeb\n"
     ]
    },
    {
     "name": "stderr",
     "output_type": "stream",
     "text": [
      "b'Skipping line 24791: expected 10 fields, saw 11\\nSkipping line 52357: expected 10 fields, saw 11\\n'\n",
      "b'Skipping line 88574: expected 10 fields, saw 14\\nSkipping line 113571: expected 10 fields, saw 11\\n'\n"
     ]
    },
    {
     "name": "stdout",
     "output_type": "stream",
     "text": [
      "76 Adding 2 to total 346:\n",
      "{'bang', 'marvel'}\n",
      "../data/B2Split/xci\n"
     ]
    },
    {
     "name": "stderr",
     "output_type": "stream",
     "text": [
      "b'Skipping line 9372: expected 10 fields, saw 11\\n'\n",
      "b'Skipping line 67252: expected 10 fields, saw 11\\nSkipping line 71415: expected 10 fields, saw 11\\nSkipping line 85072: expected 10 fields, saw 11\\nSkipping line 129522: expected 10 fields, saw 11\\n'\n",
      "b'Skipping line 133431: expected 10 fields, saw 11\\nSkipping line 188823: expected 10 fields, saw 11\\n'\n"
     ]
    },
    {
     "name": "stdout",
     "output_type": "stream",
     "text": [
      "77 Adding 1 to total 346:\n",
      "{'chanel'}\n",
      "../data/B2Split/xcn\n"
     ]
    },
    {
     "name": "stderr",
     "output_type": "stream",
     "text": [
      "b'Skipping line 20274: expected 10 fields, saw 11\\nSkipping line 22341: expected 10 fields, saw 11\\nSkipping line 31880: expected 10 fields, saw 11\\n'\n",
      "b'Skipping line 83228: expected 10 fields, saw 11\\nSkipping line 96516: expected 10 fields, saw 11\\nSkipping line 112965: expected 10 fields, saw 11\\nSkipping line 124850: expected 10 fields, saw 11\\n'\n",
      "b'Skipping line 133742: expected 10 fields, saw 11\\nSkipping line 145391: expected 10 fields, saw 11\\nSkipping line 150830: expected 10 fields, saw 11\\nSkipping line 155944: expected 10 fields, saw 11\\n'\n"
     ]
    },
    {
     "name": "stdout",
     "output_type": "stream",
     "text": [
      "78 Adding 6 to total 346:\n",
      "{'outback steakhouse', 'equinox', 'sweaty betty', 'kind', \"upton's naturals\", 'forever 21'}\n",
      "../data/B2Split/xcg\n"
     ]
    },
    {
     "name": "stderr",
     "output_type": "stream",
     "text": [
      "b'Skipping line 16944: expected 10 fields, saw 11\\n'\n",
      "b'Skipping line 80560: expected 10 fields, saw 11\\nSkipping line 98329: expected 10 fields, saw 11\\nSkipping line 122784: expected 10 fields, saw 11\\n'\n",
      "b'Skipping line 138579: expected 10 fields, saw 11\\nSkipping line 158560: expected 10 fields, saw 11\\nSkipping line 178617: expected 10 fields, saw 11\\n'\n"
     ]
    },
    {
     "name": "stdout",
     "output_type": "stream",
     "text": [
      "79 Adding 3 to total 346:\n",
      "{'orca', 'aldo', 'barneys new york'}\n",
      "../data/B2Split/xab\n"
     ]
    },
    {
     "name": "stderr",
     "output_type": "stream",
     "text": [
      "b'Skipping line 65909: expected 10 fields, saw 11\\nSkipping line 98256: expected 10 fields, saw 11\\n'\n",
      "b'Skipping line 174962: expected 10 fields, saw 11\\nSkipping line 186008: expected 10 fields, saw 11\\n'\n"
     ]
    },
    {
     "name": "stdout",
     "output_type": "stream",
     "text": [
      "80 Adding 4 to total 346:\n",
      "{'avon', 'rogue fitness', 'classpass', 'iams'}\n",
      "../data/B2Split/xbm\n"
     ]
    },
    {
     "name": "stderr",
     "output_type": "stream",
     "text": [
      "b'Skipping line 56754: expected 10 fields, saw 11\\n'\n",
      "b'Skipping line 79212: expected 10 fields, saw 11\\nSkipping line 82138: expected 10 fields, saw 11\\nSkipping line 117102: expected 10 fields, saw 11\\nSkipping line 118675: expected 10 fields, saw 12\\n'\n",
      "b'Skipping line 184095: expected 10 fields, saw 11\\nSkipping line 189176: expected 10 fields, saw 11\\n'\n"
     ]
    },
    {
     "name": "stdout",
     "output_type": "stream",
     "text": [
      "81 Adding 6 to total 346:\n",
      "{'in-n-out burger', 'christian louboutin', 'temu', 'salinas', 'casper', 'schutz'}\n",
      "../data/B2Split/xdt\n"
     ]
    },
    {
     "name": "stderr",
     "output_type": "stream",
     "text": [
      "b'Skipping line 19211: expected 10 fields, saw 11\\nSkipping line 56935: expected 10 fields, saw 11\\nSkipping line 59894: expected 10 fields, saw 11\\n'\n",
      "b'Skipping line 82315: expected 10 fields, saw 11\\nSkipping line 121067: expected 10 fields, saw 11\\nSkipping line 126259: expected 10 fields, saw 11\\n'\n",
      "b'Skipping line 152606: expected 10 fields, saw 11\\nSkipping line 162201: expected 10 fields, saw 14\\nSkipping line 162713: expected 10 fields, saw 11\\nSkipping line 165477: expected 10 fields, saw 11\\nSkipping line 193110: expected 10 fields, saw 11\\n'\n"
     ]
    },
    {
     "name": "stdout",
     "output_type": "stream",
     "text": [
      "82 Adding 1 to total 346:\n",
      "{'rag & bone'}\n",
      "../data/B2Split/xae\n"
     ]
    },
    {
     "name": "stderr",
     "output_type": "stream",
     "text": [
      "b'Skipping line 74452: expected 10 fields, saw 11\\nSkipping line 80426: expected 10 fields, saw 11\\n'\n"
     ]
    },
    {
     "name": "stdout",
     "output_type": "stream",
     "text": [
      "83 Adding 4 to total 346:\n",
      "{'fashion nova', 'hylete', 'wahoo fitness', 'richards'}\n",
      "../data/B2Split/xds\n"
     ]
    },
    {
     "name": "stderr",
     "output_type": "stream",
     "text": [
      "b'Skipping line 40253: expected 10 fields, saw 11\\nSkipping line 51285: expected 10 fields, saw 11\\nSkipping line 53203: expected 10 fields, saw 11\\n'\n",
      "b'Skipping line 97773: expected 10 fields, saw 11\\nSkipping line 129191: expected 10 fields, saw 14\\n'\n",
      "b'Skipping line 167088: expected 10 fields, saw 11\\n'\n"
     ]
    },
    {
     "name": "stdout",
     "output_type": "stream",
     "text": [
      "84 Adding 6 to total 346:\n",
      "{'pure group', 'helix', 'equinox', 'igloo', 'primark', 'orca'}\n",
      "../data/B2Split/xbj\n"
     ]
    },
    {
     "name": "stderr",
     "output_type": "stream",
     "text": [
      "b'Skipping line 48793: expected 10 fields, saw 12\\n'\n",
      "b'Skipping line 139878: expected 10 fields, saw 11\\nSkipping line 150765: expected 10 fields, saw 11\\nSkipping line 157730: expected 10 fields, saw 11\\n'\n"
     ]
    },
    {
     "name": "stdout",
     "output_type": "stream",
     "text": [
      "85 Adding 2 to total 346:\n",
      "{'rumble boxing', 'eddie bauer'}\n",
      "../data/B2Split/xbc\n"
     ]
    },
    {
     "name": "stderr",
     "output_type": "stream",
     "text": [
      "b'Skipping line 33888: expected 10 fields, saw 14\\nSkipping line 46145: expected 10 fields, saw 14\\n'\n",
      "b'Skipping line 82717: expected 10 fields, saw 11\\nSkipping line 124192: expected 10 fields, saw 11\\n'\n",
      "b'Skipping line 153594: expected 10 fields, saw 11\\nSkipping line 173319: expected 10 fields, saw 11\\n'\n",
      "b'Skipping line 199419: expected 10 fields, saw 11\\n'\n"
     ]
    },
    {
     "name": "stdout",
     "output_type": "stream",
     "text": [
      "86 Adding 2 to total 346:\n",
      "{\"cheddar's scratch kitchen\", 'shoulder'}\n",
      "../data/B2Split/xdz\n"
     ]
    },
    {
     "name": "stderr",
     "output_type": "stream",
     "text": [
      "b'Skipping line 1950: expected 10 fields, saw 11\\nSkipping line 9395: expected 10 fields, saw 11\\nSkipping line 26871: expected 10 fields, saw 11\\n'\n",
      "b'Skipping line 132649: expected 10 fields, saw 11\\nSkipping line 159039: expected 10 fields, saw 11\\nSkipping line 169627: expected 10 fields, saw 14\\nSkipping line 176176: expected 10 fields, saw 11\\nSkipping line 182447: expected 10 fields, saw 11\\n'\n"
     ]
    },
    {
     "name": "stdout",
     "output_type": "stream",
     "text": [
      "87 Adding 3 to total 346:\n",
      "{'helix', 'natura', 'royal canin'}\n",
      "../data/B2Split/xal\n"
     ]
    },
    {
     "name": "stderr",
     "output_type": "stream",
     "text": [
      "b'Skipping line 2953: expected 10 fields, saw 11\\nSkipping line 9307: expected 10 fields, saw 11\\nSkipping line 30867: expected 10 fields, saw 11\\nSkipping line 42897: expected 10 fields, saw 11\\n'\n",
      "b'Skipping line 72629: expected 10 fields, saw 11\\nSkipping line 74223: expected 10 fields, saw 11\\nSkipping line 105457: expected 10 fields, saw 11\\nSkipping line 106347: expected 10 fields, saw 11\\n'\n",
      "b'Skipping line 173691: expected 10 fields, saw 11\\n'\n"
     ]
    },
    {
     "name": "stdout",
     "output_type": "stream",
     "text": [
      "88 Adding 4 to total 346:\n",
      "{'reserva', 'eddie bauer', 'equinox', 'casper'}\n",
      "../data/B2Split/xbd\n"
     ]
    },
    {
     "name": "stderr",
     "output_type": "stream",
     "text": [
      "b'Skipping line 113550: expected 10 fields, saw 11\\nSkipping line 128232: expected 10 fields, saw 14\\n'\n"
     ]
    },
    {
     "name": "stdout",
     "output_type": "stream",
     "text": [
      "89 Adding 2 to total 346:\n",
      "{'orca', 'monte carlo'}\n",
      "../data/B2Split/xak\n"
     ]
    },
    {
     "name": "stderr",
     "output_type": "stream",
     "text": [
      "b'Skipping line 14891: expected 10 fields, saw 11\\n'\n",
      "b'Skipping line 84388: expected 10 fields, saw 11\\nSkipping line 109794: expected 10 fields, saw 11\\n'\n",
      "b'Skipping line 147391: expected 10 fields, saw 11\\n'\n"
     ]
    },
    {
     "name": "stdout",
     "output_type": "stream",
     "text": [
      "90 Adding 2 to total 346:\n",
      "{'roxy', 'doyoueven'}\n",
      "../data/B2Split/xdo\n"
     ]
    },
    {
     "name": "stderr",
     "output_type": "stream",
     "text": [
      "b'Skipping line 94111: expected 10 fields, saw 11\\nSkipping line 124413: expected 10 fields, saw 11\\n'\n"
     ]
    },
    {
     "name": "stdout",
     "output_type": "stream",
     "text": [
      "91 Adding 2 to total 346:\n",
      "{'morphe', 'chobani'}\n",
      "../data/B2Split/xbv\n"
     ]
    },
    {
     "name": "stderr",
     "output_type": "stream",
     "text": [
      "b'Skipping line 94176: expected 10 fields, saw 11\\nSkipping line 96806: expected 10 fields, saw 11\\nSkipping line 119467: expected 10 fields, saw 14\\n'\n",
      "b'Skipping line 148143: expected 10 fields, saw 11\\nSkipping line 181246: expected 10 fields, saw 11\\nSkipping line 189777: expected 10 fields, saw 12\\n'\n"
     ]
    },
    {
     "name": "stdout",
     "output_type": "stream",
     "text": [
      "92 Adding 4 to total 346:\n",
      "{'avon', 'eudora', 'billabong', 'ellus'}\n",
      "../data/B2Split/xay\n"
     ]
    },
    {
     "name": "stderr",
     "output_type": "stream",
     "text": [
      "b'Skipping line 49211: expected 10 fields, saw 11\\nSkipping line 60939: expected 10 fields, saw 11\\n'\n",
      "b'Skipping line 101635: expected 10 fields, saw 11\\nSkipping line 111976: expected 10 fields, saw 11\\n'\n",
      "b'Skipping line 134038: expected 10 fields, saw 11\\nSkipping line 187056: expected 10 fields, saw 11\\n'\n"
     ]
    },
    {
     "name": "stdout",
     "output_type": "stream",
     "text": [
      "93 Adding 6 to total 346:\n",
      "{'blink fitness', 'bass pro shops', 'orca', 'gaf', 'audemars piguet', 'lorna jane'}\n",
      "../data/B2Split/xbq\n"
     ]
    },
    {
     "name": "stderr",
     "output_type": "stream",
     "text": [
      "b'Skipping line 16932: expected 10 fields, saw 11\\nSkipping line 18049: expected 10 fields, saw 13\\nSkipping line 50974: expected 10 fields, saw 11\\n'\n",
      "b'Skipping line 69414: expected 10 fields, saw 11\\nSkipping line 101266: expected 10 fields, saw 11\\nSkipping line 111532: expected 10 fields, saw 11\\n'\n"
     ]
    },
    {
     "name": "stdout",
     "output_type": "stream",
     "text": [
      "94 Adding 3 to total 346:\n",
      "{'alo yoga', 'chobani', 'zegna'}\n",
      "../data/B2Split/xdh\n"
     ]
    },
    {
     "name": "stderr",
     "output_type": "stream",
     "text": [
      "b'Skipping line 8240: expected 10 fields, saw 11\\nSkipping line 39803: expected 10 fields, saw 11\\n'\n",
      "b'Skipping line 79555: expected 10 fields, saw 11\\nSkipping line 116821: expected 10 fields, saw 11\\nSkipping line 127997: expected 10 fields, saw 11\\n'\n",
      "b'Skipping line 132228: expected 10 fields, saw 11\\nSkipping line 135751: expected 10 fields, saw 11\\nSkipping line 182428: expected 10 fields, saw 11\\n'\n"
     ]
    },
    {
     "name": "stdout",
     "output_type": "stream",
     "text": [
      "95 Adding 5 to total 346:\n",
      "{'shein', 'orca', 'gymshark', 'neiman marcus last call', 'brooks brothers'}\n",
      "../data/B2Split/xaw\n"
     ]
    },
    {
     "name": "stderr",
     "output_type": "stream",
     "text": [
      "b'Skipping line 25535: expected 10 fields, saw 11\\n'\n",
      "b'Skipping line 86324: expected 10 fields, saw 11\\n'\n",
      "b'Skipping line 139980: expected 10 fields, saw 11\\nSkipping line 162795: expected 10 fields, saw 11\\n'\n"
     ]
    },
    {
     "name": "stdout",
     "output_type": "stream",
     "text": [
      "96 Adding 6 to total 346:\n",
      "{'proenza schouler', 'richard mille', 'saks fifth avenue', 'bell & ross', 'kind', 'armani'}\n",
      "../data/B2Split/xda\n"
     ]
    },
    {
     "name": "stderr",
     "output_type": "stream",
     "text": [
      "b'Skipping line 66961: expected 10 fields, saw 11\\n'\n",
      "b'Skipping line 136221: expected 10 fields, saw 12\\nSkipping line 186940: expected 10 fields, saw 11\\nSkipping line 193213: expected 10 fields, saw 11\\n'\n"
     ]
    },
    {
     "name": "stdout",
     "output_type": "stream",
     "text": [
      "97 Adding 7 to total 346:\n",
      "{'red bull', 'orca', 'all brands', 'foxton', 'avon', 'noosa', 'ssense'}\n",
      "../data/B2Split/xbx\n"
     ]
    },
    {
     "name": "stderr",
     "output_type": "stream",
     "text": [
      "b'Skipping line 12085: expected 10 fields, saw 14\\nSkipping line 46730: expected 10 fields, saw 11\\n'\n",
      "b'Skipping line 140896: expected 10 fields, saw 14\\nSkipping line 159980: expected 10 fields, saw 11\\nSkipping line 161885: expected 10 fields, saw 11\\n'\n"
     ]
    },
    {
     "name": "stdout",
     "output_type": "stream",
     "text": [
      "98 Adding 1 to total 346:\n",
      "{'helix'}\n",
      "../data/B2Split/xap\n"
     ]
    },
    {
     "name": "stderr",
     "output_type": "stream",
     "text": [
      "b'Skipping line 82179: expected 10 fields, saw 11\\nSkipping line 117070: expected 10 fields, saw 11\\n'\n",
      "b'Skipping line 185067: expected 10 fields, saw 11\\nSkipping line 195166: expected 10 fields, saw 11\\n'\n"
     ]
    },
    {
     "name": "stdout",
     "output_type": "stream",
     "text": [
      "99 Adding 2 to total 346:\n",
      "{'igloo', 'saks off fifth'}\n",
      "../data/B2Split/xdf\n"
     ]
    },
    {
     "name": "stderr",
     "output_type": "stream",
     "text": [
      "b'Skipping line 6407: expected 10 fields, saw 14\\n'\n",
      "b'Skipping line 83330: expected 10 fields, saw 11\\nSkipping line 86373: expected 10 fields, saw 11\\n'\n",
      "b'Skipping line 132192: expected 10 fields, saw 12\\nSkipping line 146771: expected 10 fields, saw 11\\nSkipping line 172778: expected 10 fields, saw 15\\n'\n"
     ]
    },
    {
     "name": "stdout",
     "output_type": "stream",
     "text": [
      "100 Adding 1 to total 346:\n",
      "{'helix'}\n",
      "../data/B2Split/xbe\n"
     ]
    },
    {
     "name": "stderr",
     "output_type": "stream",
     "text": [
      "b'Skipping line 2883: expected 10 fields, saw 11\\nSkipping line 18000: expected 10 fields, saw 11\\n'\n",
      "b'Skipping line 186436: expected 10 fields, saw 12\\n'\n"
     ]
    },
    {
     "name": "stdout",
     "output_type": "stream",
     "text": [
      "101 Adding 3 to total 346:\n",
      "{'dune', 'amaro', 'trx'}\n",
      "../data/B2Split/xaj\n"
     ]
    },
    {
     "name": "stderr",
     "output_type": "stream",
     "text": [
      "b'Skipping line 16189: expected 10 fields, saw 11\\nSkipping line 46989: expected 10 fields, saw 11\\n'\n",
      "b'Skipping line 95988: expected 10 fields, saw 11\\nSkipping line 124440: expected 10 fields, saw 11\\n'\n",
      "b'Skipping line 156180: expected 10 fields, saw 12\\nSkipping line 177068: expected 10 fields, saw 12\\nSkipping line 191463: expected 10 fields, saw 11\\n'\n"
     ]
    },
    {
     "name": "stdout",
     "output_type": "stream",
     "text": [
      "102 Adding 3 to total 346:\n",
      "{'virgin active', 'daniel wellington', 'kind'}\n",
      "../data/B2Split/xbb\n"
     ]
    },
    {
     "name": "stderr",
     "output_type": "stream",
     "text": [
      "b'Skipping line 74487: expected 10 fields, saw 11\\nSkipping line 107735: expected 10 fields, saw 11\\n'\n",
      "b'Skipping line 165863: expected 10 fields, saw 14\\nSkipping line 179611: expected 10 fields, saw 11\\n'\n"
     ]
    },
    {
     "name": "stdout",
     "output_type": "stream",
     "text": [
      "103 Adding 3 to total 346:\n",
      "{'equinox', 'orca', 'igloo'}\n",
      "../data/B2Split/xam\n"
     ]
    },
    {
     "name": "stderr",
     "output_type": "stream",
     "text": [
      "b'Skipping line 2725: expected 10 fields, saw 11\\nSkipping line 10863: expected 10 fields, saw 11\\n'\n",
      "b'Skipping line 69325: expected 10 fields, saw 11\\nSkipping line 85022: expected 10 fields, saw 11\\nSkipping line 86292: expected 10 fields, saw 11\\nSkipping line 124386: expected 10 fields, saw 14\\nSkipping line 125277: expected 10 fields, saw 11\\n'\n"
     ]
    },
    {
     "name": "stdout",
     "output_type": "stream",
     "text": [
      "104 Adding 2 to total 346:\n",
      "{\"cabela's\", 'pedigree'}\n",
      "../data/B2Split/xad\n"
     ]
    },
    {
     "name": "stderr",
     "output_type": "stream",
     "text": [
      "b'Skipping line 8618: expected 10 fields, saw 13\\nSkipping line 46293: expected 10 fields, saw 11\\nSkipping line 54328: expected 10 fields, saw 11\\n'\n",
      "b'Skipping line 69538: expected 10 fields, saw 11\\nSkipping line 71259: expected 10 fields, saw 11\\nSkipping line 90400: expected 10 fields, saw 14\\nSkipping line 107319: expected 10 fields, saw 11\\nSkipping line 120659: expected 10 fields, saw 14\\n'\n",
      "b'Skipping line 171066: expected 10 fields, saw 11\\nSkipping line 190144: expected 10 fields, saw 14\\n'\n"
     ]
    },
    {
     "name": "stdout",
     "output_type": "stream",
     "text": [
      "105 Adding 1 to total 346:\n",
      "{'j. c. penney'}\n",
      "../data/B2Split/xdr\n"
     ]
    },
    {
     "name": "stderr",
     "output_type": "stream",
     "text": [
      "b'Skipping line 3203: expected 10 fields, saw 11\\nSkipping line 3971: expected 10 fields, saw 11\\nSkipping line 5462: expected 10 fields, saw 12\\n'\n",
      "b'Skipping line 167403: expected 10 fields, saw 11\\nSkipping line 189290: expected 10 fields, saw 12\\n'\n"
     ]
    },
    {
     "name": "stdout",
     "output_type": "stream",
     "text": [
      "106 Adding 4 to total 346:\n",
      "{'temu', 'carla amorim', 'lucky', 'gaf'}\n",
      "../data/B2Split/xbk\n"
     ]
    },
    {
     "name": "stderr",
     "output_type": "stream",
     "text": [
      "b'Skipping line 1422: expected 10 fields, saw 12\\n'\n",
      "b'Skipping line 67566: expected 10 fields, saw 12\\nSkipping line 84389: expected 10 fields, saw 11\\nSkipping line 109621: expected 10 fields, saw 11\\nSkipping line 115762: expected 10 fields, saw 12\\n'\n",
      "b'Skipping line 150389: expected 10 fields, saw 11\\n'\n",
      "b'Skipping line 198891: expected 10 fields, saw 11\\n'\n"
     ]
    },
    {
     "name": "stdout",
     "output_type": "stream",
     "text": [
      "107 Adding 2 to total 346:\n",
      "{'huffer', 'monte carlo'}\n",
      "../data/B2Split/xac\n"
     ]
    },
    {
     "name": "stderr",
     "output_type": "stream",
     "text": [
      "b'Skipping line 68959: expected 10 fields, saw 12\\n'\n",
      "b'Skipping line 167044: expected 10 fields, saw 14\\nSkipping line 168812: expected 10 fields, saw 11\\nSkipping line 174390: expected 10 fields, saw 11\\n'\n"
     ]
    },
    {
     "name": "stdout",
     "output_type": "stream",
     "text": [
      "108 Adding 4 to total 346:\n",
      "{'rumble boxing', 'shopgoodwill', 'mango', 'kind'}\n",
      "../data/B2Split/xbl\n"
     ]
    },
    {
     "name": "stderr",
     "output_type": "stream",
     "text": [
      "b'Skipping line 30132: expected 10 fields, saw 11\\nSkipping line 43962: expected 10 fields, saw 12\\nSkipping line 52085: expected 10 fields, saw 11\\nSkipping line 65495: expected 10 fields, saw 12\\n'\n",
      "b'Skipping line 106248: expected 10 fields, saw 11\\nSkipping line 117073: expected 10 fields, saw 14\\n'\n"
     ]
    },
    {
     "name": "stdout",
     "output_type": "stream",
     "text": [
      "109 Adding 3 to total 346:\n",
      "{'orca', 'roberto cavalli', 'rolife'}\n",
      "../data/B2Split/xdu\n"
     ]
    },
    {
     "name": "stderr",
     "output_type": "stream",
     "text": [
      "b'Skipping line 64174: expected 10 fields, saw 11\\n'\n",
      "b'Skipping line 66789: expected 10 fields, saw 11\\nSkipping line 87487: expected 10 fields, saw 12\\nSkipping line 95666: expected 10 fields, saw 11\\nSkipping line 102146: expected 10 fields, saw 11\\nSkipping line 107328: expected 10 fields, saw 11\\n'\n",
      "b'Skipping line 179520: expected 10 fields, saw 11\\n'\n"
     ]
    },
    {
     "name": "stdout",
     "output_type": "stream",
     "text": [
      "110 Adding 4 to total 346:\n",
      "{'kfc', 'nautica', 'carolina herrera', 'flywheel sports'}\n",
      "../data/B2Split/xaq\n"
     ]
    },
    {
     "name": "stderr",
     "output_type": "stream",
     "text": [
      "b'Skipping line 15654: expected 10 fields, saw 11\\n'\n",
      "b'Skipping line 88220: expected 10 fields, saw 11\\nSkipping line 98042: expected 10 fields, saw 11\\nSkipping line 116385: expected 10 fields, saw 11\\n'\n",
      "b'Skipping line 140949: expected 10 fields, saw 11\\n'\n"
     ]
    },
    {
     "name": "stdout",
     "output_type": "stream",
     "text": [
      "111 Adding 1 to total 346:\n",
      "{'anastasia beverly hills'}\n",
      "../data/B2Split/xdg\n"
     ]
    },
    {
     "name": "stderr",
     "output_type": "stream",
     "text": [
      "b'Skipping line 6512: expected 10 fields, saw 11\\nSkipping line 12246: expected 10 fields, saw 11\\nSkipping line 26388: expected 10 fields, saw 11\\nSkipping line 42821: expected 10 fields, saw 11\\nSkipping line 56088: expected 10 fields, saw 11\\nSkipping line 64562: expected 10 fields, saw 11\\n'\n",
      "b'Skipping line 66882: expected 10 fields, saw 12\\nSkipping line 71919: expected 10 fields, saw 12\\nSkipping line 76196: expected 10 fields, saw 11\\nSkipping line 85755: expected 10 fields, saw 11\\nSkipping line 87676: expected 10 fields, saw 11\\n'\n",
      "b'Skipping line 146025: expected 10 fields, saw 11\\nSkipping line 160877: expected 10 fields, saw 14\\nSkipping line 177538: expected 10 fields, saw 11\\n'\n"
     ]
    },
    {
     "name": "stdout",
     "output_type": "stream",
     "text": [
      "112 Adding 1 to total 346:\n",
      "{'orca'}\n",
      "../data/B2Split/xav\n"
     ]
    },
    {
     "name": "stderr",
     "output_type": "stream",
     "text": [
      "b'Skipping line 39512: expected 10 fields, saw 11\\n'\n",
      "b'Skipping line 72862: expected 10 fields, saw 12\\nSkipping line 97823: expected 10 fields, saw 11\\nSkipping line 98502: expected 10 fields, saw 11\\nSkipping line 119675: expected 10 fields, saw 11\\n'\n",
      "b'Skipping line 150965: expected 10 fields, saw 11\\nSkipping line 168930: expected 10 fields, saw 11\\nSkipping line 179139: expected 10 fields, saw 11\\nSkipping line 184663: expected 10 fields, saw 11\\n'\n"
     ]
    },
    {
     "name": "stdout",
     "output_type": "stream",
     "text": [
      "113 Adding 2 to total 346:\n",
      "{'corello', 'leesa'}\n",
      "../data/B2Split/xby\n"
     ]
    },
    {
     "name": "stderr",
     "output_type": "stream",
     "text": [
      "b'Skipping line 18920: expected 10 fields, saw 14\\nSkipping line 25766: expected 10 fields, saw 11\\nSkipping line 59002: expected 10 fields, saw 11\\n'\n",
      "b'Skipping line 102147: expected 10 fields, saw 11\\nSkipping line 109326: expected 10 fields, saw 12\\nSkipping line 115457: expected 10 fields, saw 11\\nSkipping line 124886: expected 10 fields, saw 11\\n'\n"
     ]
    },
    {
     "name": "stdout",
     "output_type": "stream",
     "text": [
      "114 Adding 3 to total 346:\n",
      "{'about you', 'ssense', 'neiman marcus'}\n",
      "../data/B2Split/xbp\n"
     ]
    },
    {
     "name": "stderr",
     "output_type": "stream",
     "text": [
      "b'Skipping line 72856: expected 10 fields, saw 11\\nSkipping line 94686: expected 10 fields, saw 12\\nSkipping line 101176: expected 10 fields, saw 12\\nSkipping line 111974: expected 10 fields, saw 12\\n'\n",
      "b'Skipping line 144605: expected 10 fields, saw 11\\nSkipping line 156031: expected 10 fields, saw 11\\nSkipping line 177245: expected 10 fields, saw 11\\nSkipping line 179319: expected 10 fields, saw 11\\nSkipping line 183976: expected 10 fields, saw 11\\nSkipping line 190795: expected 10 fields, saw 12\\n'\n"
     ]
    },
    {
     "name": "stdout",
     "output_type": "stream",
     "text": [
      "115 Adding 3 to total 346:\n",
      "{'tobi', 'simmons', 'itaipava'}\n",
      "../data/B2Split/xdi\n"
     ]
    },
    {
     "name": "stderr",
     "output_type": "stream",
     "text": [
      "b'Skipping line 3974: expected 10 fields, saw 11\\nSkipping line 6286: expected 10 fields, saw 11\\n'\n",
      "b'Skipping line 117288: expected 10 fields, saw 11\\n'\n",
      "b'Skipping line 131188: expected 10 fields, saw 11\\nSkipping line 135935: expected 10 fields, saw 11\\nSkipping line 143555: expected 10 fields, saw 11\\nSkipping line 150092: expected 10 fields, saw 11\\nSkipping line 179797: expected 10 fields, saw 12\\n'\n"
     ]
    },
    {
     "name": "stdout",
     "output_type": "stream",
     "text": [
      "116 Adding 3 to total 346:\n",
      "{'ultracor', \"bloomingdale's\", 'rei'}\n",
      "../data/B2Split/xdn\n"
     ]
    },
    {
     "name": "stderr",
     "output_type": "stream",
     "text": [
      "b'Skipping line 74573: expected 10 fields, saw 11\\nSkipping line 99386: expected 10 fields, saw 11\\n'\n",
      "b'Skipping line 149874: expected 10 fields, saw 11\\nSkipping line 167180: expected 10 fields, saw 11\\nSkipping line 174919: expected 10 fields, saw 11\\nSkipping line 183473: expected 10 fields, saw 11\\n'\n"
     ]
    },
    {
     "name": "stdout",
     "output_type": "stream",
     "text": [
      "117 Adding 2 to total 346:\n",
      "{'marvel', 'rei'}\n",
      "../data/B2Split/xbw\n"
     ]
    },
    {
     "name": "stderr",
     "output_type": "stream",
     "text": [
      "b'Skipping line 9988: expected 10 fields, saw 11\\nSkipping line 10211: expected 10 fields, saw 11\\nSkipping line 21658: expected 10 fields, saw 11\\nSkipping line 21808: expected 10 fields, saw 12\\nSkipping line 39776: expected 10 fields, saw 11\\nSkipping line 53350: expected 10 fields, saw 11\\n'\n",
      "b'Skipping line 91538: expected 10 fields, saw 11\\nSkipping line 101163: expected 10 fields, saw 11\\nSkipping line 106587: expected 10 fields, saw 11\\n'\n",
      "b'Skipping line 143520: expected 10 fields, saw 12\\n'\n"
     ]
    },
    {
     "name": "stdout",
     "output_type": "stream",
     "text": [
      "118 Adding 2 to total 346:\n",
      "{'chopard', 'tatcha'}\n",
      "../data/B2Split/xax\n"
     ]
    },
    {
     "name": "stderr",
     "output_type": "stream",
     "text": [
      "b'Skipping line 59927: expected 10 fields, saw 13\\n'\n"
     ]
    },
    {
     "name": "stdout",
     "output_type": "stream",
     "text": [
      "119 Adding 4 to total 346:\n",
      "{'outdoor voices', 'missguided', 'chopard', 'no evil foods'}\n"
     ]
    },
    {
     "name": "stderr",
     "output_type": "stream",
     "text": [
      "b'Skipping line 146352: expected 10 fields, saw 14\\nSkipping line 150484: expected 10 fields, saw 11\\nSkipping line 152568: expected 10 fields, saw 11\\nSkipping line 169617: expected 10 fields, saw 11\\n'\n"
     ]
    }
   ],
   "source": [
    "path = \"../data/B2Split/xaa\"\n",
    "df_domicile = pd.read_csv(path, sep=\",\",error_bad_lines=False, header=0) #sep='delimiter', header=None)\n",
    "colnames_domicile = list(df_domicile.columns)\n",
    "matched_companies = set(df_domicile['name']).intersection(set(missing_country_companies))\n",
    "\n",
    "df_domicile_add = df_domicile.loc[df_domicile['name'].isin(matched_companies), ['name', 'country']]\n",
    "\n",
    "\n",
    "\n",
    "# Start the Loop\n",
    "for idx, filename in enumerate(filelist):\n",
    "    if filename  != 'B2' and filename != 'xaa':\n",
    "        path = \"../data/B2Split/\" + filename \n",
    "        print(path)\n",
    "        df_domicile = pd.read_csv(path, sep=\",\",error_bad_lines=False, header=None)\n",
    "        #df.columns = colnames_domicile\n",
    "        matched_movies_loc = set(df_domicile[6]).intersection(set(missing_country_companies))\n",
    "        #matched_movies_df = matched_movies.union(matched_movies_loc)\n",
    "        matched_movies_df = df_domicile.loc[df_domicile[6].isin(matched_movies_loc), [0, 6]]\n",
    "        matched_movies_df.rename(columns={0: 'country', 6: \"name\"}, inplace=True)\n",
    "        df_domicile_add = pd.concat([df_domicile_add, matched_movies_df])\n",
    "        print(f'{idx} Adding {len(matched_movies_loc)} to total {len(df_comicile_add)}:\\n{matched_movies_loc}' )\n",
    "        "
   ]
  },
  {
   "cell_type": "code",
   "execution_count": 146,
   "id": "e0a48317-8e6c-440b-94e4-0692f2bc6be0",
   "metadata": {},
   "outputs": [
    {
     "name": "stdout",
     "output_type": "stream",
     "text": [
      "302 vs 346 unique comp 178\n"
     ]
    }
   ],
   "source": [
    "#df_domicile_add[]\n",
    "df_domicile_add_nas = df_domicile_add[~df_domicile_add.isnull().any(axis=1)]\n",
    "print(f\"{len(df_domicile_add_nas)} vs {len(df_domicile_add)} unique comp {len(df_domicile_add_nas.drop_duplicates('name'))}\")"
   ]
  },
  {
   "cell_type": "code",
   "execution_count": 175,
   "id": "26c71f28-4ad8-43de-a8b5-ce13d76c4fe7",
   "metadata": {},
   "outputs": [],
   "source": [
    "output_filepath = '../data/df_domicile_add_nas.csv'\n",
    "df_domicile_add_nas.to_csv(output_filepath, index=False)"
   ]
  },
  {
   "cell_type": "code",
   "execution_count": 167,
   "id": "c4b73505-f5cc-4179-8618-ee0426af4ebb",
   "metadata": {},
   "outputs": [],
   "source": [
    "df.loc[df['domicile_country_name'] == 'united states of america', 'domicile_country_name'] = 'united states'\n",
    "df.loc[df['domicile_country_name'] == 'united kingdom of great britain and northern ireland', 'domicile_country_name'] = 'united kingdom'"
   ]
  },
  {
   "cell_type": "code",
   "execution_count": 147,
   "id": "c42916c9-ac5d-4e4a-8bcb-46de53f92666",
   "metadata": {},
   "outputs": [
    {
     "data": {
      "text/plain": [
       "array(['argentina', 'australia', 'austria', 'belgium', 'brazil',\n",
       "       'cambodia', 'canada', 'china', 'colombia', 'costa rica', 'croatia',\n",
       "       'denmark', 'estonia', 'finland', 'france', 'germany', 'hong kong',\n",
       "       'iceland', 'india', 'indonesia', 'ireland', 'israel', 'italy',\n",
       "       'lebanon', 'luxembourg', 'macedonia', 'mexico', 'netherlands',\n",
       "       'new zealand', 'nigeria', 'norway', 'poland', 'russia',\n",
       "       'saudi arabia', 'singapore', 'south korea', 'spain', 'suriname',\n",
       "       'sweden', 'switzerland', 'turkey', 'ukraine',\n",
       "       'united arab emirates', 'united kingdom', 'united states',\n",
       "       'uruguay'], dtype=object)"
      ]
     },
     "execution_count": 147,
     "metadata": {},
     "output_type": "execute_result"
    }
   ],
   "source": [
    "np.unique(df_domicile_add_nas['country'])"
   ]
  },
  {
   "cell_type": "code",
   "execution_count": 168,
   "id": "7a33d806-dc7e-4e1d-97d5-5f920e66e21d",
   "metadata": {},
   "outputs": [
    {
     "data": {
      "text/plain": [
       "0.5652173913043478"
      ]
     },
     "execution_count": 168,
     "metadata": {},
     "output_type": "execute_result"
    }
   ],
   "source": [
    "len(set(df_domicile_add_nas['country']).difference(set(df['domicile_country_name']))) / len(set(df_domicile_add_nas['country']))"
   ]
  },
  {
   "cell_type": "code",
   "execution_count": 173,
   "id": "3c0e1a2b-9a3f-45c2-bfd2-5308f1a68d58",
   "metadata": {},
   "outputs": [
    {
     "data": {
      "text/plain": [
       "172"
      ]
     },
     "execution_count": 173,
     "metadata": {},
     "output_type": "execute_result"
    }
   ],
   "source": [
    "len(df_domicile_add_nas.loc[df_domicile_add_nas['country'].isin(set(df['domicile_country_name']))].drop_duplicates(['name']))"
   ]
  },
  {
   "cell_type": "code",
   "execution_count": 169,
   "id": "e06a8271-5110-43d1-bd38-f54ddd3ebeda",
   "metadata": {},
   "outputs": [],
   "source": [
    "#df['domicile_country_name'].value_counts()"
   ]
  },
  {
   "cell_type": "code",
   "execution_count": 170,
   "id": "4e15f91f-b5f4-46d9-b83f-00874d189151",
   "metadata": {},
   "outputs": [
    {
     "data": {
      "text/plain": [
       "{'argentina',\n",
       " 'austria',\n",
       " 'cambodia',\n",
       " 'colombia',\n",
       " 'costa rica',\n",
       " 'croatia',\n",
       " 'estonia',\n",
       " 'finland',\n",
       " 'iceland',\n",
       " 'india',\n",
       " 'indonesia',\n",
       " 'ireland',\n",
       " 'israel',\n",
       " 'lebanon',\n",
       " 'luxembourg',\n",
       " 'macedonia',\n",
       " 'nigeria',\n",
       " 'norway',\n",
       " 'russia',\n",
       " 'saudi arabia',\n",
       " 'south korea',\n",
       " 'suriname',\n",
       " 'turkey',\n",
       " 'ukraine',\n",
       " 'united arab emirates',\n",
       " 'uruguay'}"
      ]
     },
     "execution_count": 170,
     "metadata": {},
     "output_type": "execute_result"
    }
   ],
   "source": [
    "set(df_domicile_add_nas['country']).difference(set(df['domicile_country_name']))"
   ]
  },
  {
   "cell_type": "code",
   "execution_count": 164,
   "id": "8a8e0abe-796f-4760-a9f5-6174b98e593f",
   "metadata": {},
   "outputs": [
    {
     "data": {
      "text/plain": [
       "{';',\n",
       " ';france',\n",
       " 'australia',\n",
       " 'belgium',\n",
       " 'belgium;',\n",
       " 'brazil',\n",
       " 'canada',\n",
       " 'china',\n",
       " 'china;hong kong',\n",
       " 'denmark',\n",
       " 'france',\n",
       " 'germany',\n",
       " 'hong kong',\n",
       " 'italy',\n",
       " 'japan',\n",
       " 'mexico',\n",
       " nan,\n",
       " 'netherlands',\n",
       " 'new zealand',\n",
       " 'philippines',\n",
       " 'poland',\n",
       " 'singapore',\n",
       " 'spain',\n",
       " 'sweden',\n",
       " 'switzerland',\n",
       " 'united kingdom of great britain and northern ireland',\n",
       " 'united states of america'}"
      ]
     },
     "execution_count": 164,
     "metadata": {},
     "output_type": "execute_result"
    }
   ],
   "source": [
    "set(df['domicile_country_name'])"
   ]
  },
  {
   "cell_type": "markdown",
   "id": "5a5e6fea-c497-49d9-96c4-32e19a4979fa",
   "metadata": {},
   "source": [
    "**Mappings**\n",
    "1. 'united kingdom of great britain and northern ireland' -> 'united kingdom'\n",
    "2. 'united states of america' -> 'united states'"
   ]
  },
  {
   "cell_type": "code",
   "execution_count": 21,
   "id": "acb34e64-fe2d-468c-8f9e-b100b65b44f0",
   "metadata": {},
   "outputs": [
    {
     "data": {
      "text/plain": [
       "Index(['3.1 phillip lim', 'about you', 'acne studios', 'aeropostale', 'aldi',\n",
       "       'aldo', 'alexander wang', 'alice & olivia', 'all brands', 'allsaints',\n",
       "       ...\n",
       "       'valentino', 'virgin active', 'volcom', 'vr collezioni',\n",
       "       'wahoo fitness', 'whataburger', 'whiskas', 'wolaco', 'xeomin', 'zegna'],\n",
       "      dtype='object', name='business_entity_doing_business_as_name', length=239)"
      ]
     },
     "execution_count": 21,
     "metadata": {},
     "output_type": "execute_result"
    }
   ],
   "source": [
    "missing_country_companies"
   ]
  },
  {
   "cell_type": "code",
   "execution_count": 59,
   "id": "afe6ff16-5109-4c76-914a-9f152ee2d630",
   "metadata": {},
   "outputs": [
    {
     "name": "stdout",
     "output_type": "stream",
     "text": [
      "Collecting holidays\n",
      "  Downloading holidays-0.47-py3-none-any.whl (1.0 MB)\n",
      "\u001b[K     |████████████████████████████████| 1.0 MB 7.4 MB/s eta 0:00:01\n",
      "\u001b[?25hRequirement already satisfied: python-dateutil in /Users/sychevaa/opt/anaconda3/lib/python3.8/site-packages (from holidays) (2.8.2)\n",
      "Requirement already satisfied: six>=1.5 in /Users/sychevaa/opt/anaconda3/lib/python3.8/site-packages (from python-dateutil->holidays) (1.16.0)\n",
      "Installing collected packages: holidays\n",
      "Successfully installed holidays-0.47\n"
     ]
    }
   ],
   "source": [
    "!pip install holidays"
   ]
  },
  {
   "cell_type": "code",
   "execution_count": 68,
   "id": "6cca87a0-4b36-40f1-98eb-bbe650b3f4e0",
   "metadata": {},
   "outputs": [],
   "source": [
    "import holidays\n",
    "tst = df.loc[0, 'period_end_date']\n",
    "tst_out = holidays.CountryHoliday('USA').get(tst)\n",
    "tst_out"
   ]
  },
  {
   "cell_type": "markdown",
   "id": "2c2cc1df-f0be-4805-a569-b09acc486e76",
   "metadata": {},
   "source": [
    "https://www.geeksforgeeks.org/python-holidays-library/"
   ]
  },
  {
   "cell_type": "code",
   "execution_count": 80,
   "id": "2cb47a3a-7dad-49a5-9890-c4584da62bc9",
   "metadata": {},
   "outputs": [],
   "source": [
    "import holidays\n",
    "\n",
    "uk_holidays = holidays.UnitedKingdom() "
   ]
  },
  {
   "cell_type": "code",
   "execution_count": 89,
   "id": "a440eb35-87e2-4009-9539-ab55f6ca1d50",
   "metadata": {},
   "outputs": [
    {
     "name": "stdout",
     "output_type": "stream",
     "text": [
      "Help on class HolidayBase in module holidays.holiday_base:\n",
      "\n",
      "class HolidayBase(builtins.dict, typing.Generic)\n",
      " |  HolidayBase(years: Union[int, Iterable[int], NoneType] = None, expand: bool = True, observed: bool = True, subdiv: Union[str, NoneType] = None, prov: Union[str, NoneType] = None, state: Union[str, NoneType] = None, language: Union[str, NoneType] = None, categories: Union[str, Iterable[str], NoneType] = None) -> None\n",
      " |  \n",
      " |  A dict-like object containing the holidays for a specific country (and\n",
      " |  province or state if so initiated); inherits the dict class (so behaves\n",
      " |  similarly to a dict). Dates without a key in the Holiday object are not\n",
      " |  holidays.\n",
      " |  \n",
      " |  The key of the object is the date of the holiday and the value is the name\n",
      " |  of the holiday itself. When passing the date as a key, the date can be\n",
      " |  expressed as one of the following formats:\n",
      " |  \n",
      " |  * datetime.datetime type;\n",
      " |  * datetime.date types;\n",
      " |  * a float representing a Unix timestamp;\n",
      " |  * or a string of any format (recognized by datetime.parse).\n",
      " |  \n",
      " |  The key is always returned as a `datetime.date` object.\n",
      " |  \n",
      " |  To maximize speed, the list of holidays is built as needed on the fly, one\n",
      " |  calendar year at a time. When you instantiate the object, it is empty, but\n",
      " |  the moment a key is accessed it will build that entire year's list of\n",
      " |  holidays. To pre-populate holidays, instantiate the class with the years\n",
      " |  argument:\n",
      " |  \n",
      " |  us_holidays = holidays.US(years=2020)\n",
      " |  \n",
      " |  It is generally instantiated using the :func:`country_holidays` function.\n",
      " |  \n",
      " |  The key of the :class:`dict`-like :class:`HolidayBase` object is the\n",
      " |  `date` of the holiday, and the value is the name of the holiday itself.\n",
      " |  Dates where a key is not present are not public holidays (or, if\n",
      " |  **observed** is False, days when a public holiday is observed).\n",
      " |  \n",
      " |  When passing the `date` as a key, the `date` can be expressed in one of the\n",
      " |  following types:\n",
      " |  \n",
      " |  * :class:`datetime.date`,\n",
      " |  * :class:`datetime.datetime`,\n",
      " |  * a :class:`str` of any format recognized by :func:`dateutil.parser.parse`,\n",
      " |  * or a :class:`float` or :class:`int` representing a POSIX timestamp.\n",
      " |  \n",
      " |  The key is always returned as a :class:`datetime.date` object.\n",
      " |  \n",
      " |  To maximize speed, the list of public holidays is built on the fly as\n",
      " |  needed, one calendar year at a time. When the object is instantiated\n",
      " |  without a **years** parameter, it is empty, but, unless **expand** is set\n",
      " |  to False, as soon as a key is accessed the class will calculate that entire\n",
      " |  year's list of holidays and set the keys with them.\n",
      " |  \n",
      " |  If you need to list the holidays as opposed to querying individual dates,\n",
      " |  instantiate the class with the **years** parameter.\n",
      " |  \n",
      " |  Example usage:\n",
      " |  \n",
      " |  >>> from holidays import country_holidays\n",
      " |  >>> us_holidays = country_holidays('US')\n",
      " |  # For a specific subdivisions (e.g. state or province):\n",
      " |  >>> california_holidays = country_holidays('US', subdiv='CA')\n",
      " |  \n",
      " |  The below will cause 2015 holidays to be calculated on the fly:\n",
      " |  \n",
      " |  >>> from datetime import date\n",
      " |  >>> assert date(2015, 1, 1) in us_holidays\n",
      " |  \n",
      " |  This will be faster because 2015 holidays are already calculated:\n",
      " |  \n",
      " |  >>> assert date(2015, 1, 2) not in us_holidays\n",
      " |  \n",
      " |  The :class:`HolidayBase` class also recognizes strings of many formats\n",
      " |  and numbers representing a POSIX timestamp:\n",
      " |  \n",
      " |  >>> assert '2014-01-01' in us_holidays\n",
      " |  >>> assert '1/1/2014' in us_holidays\n",
      " |  >>> assert 1388597445 in us_holidays\n",
      " |  \n",
      " |  Show the holiday's name:\n",
      " |  \n",
      " |  >>> us_holidays.get('2014-01-01')\n",
      " |  \"New Year's Day\"\n",
      " |  \n",
      " |  Check a range:\n",
      " |  \n",
      " |  >>> us_holidays['2014-01-01': '2014-01-03']\n",
      " |  [datetime.date(2014, 1, 1)]\n",
      " |  \n",
      " |  List all 2020 holidays:\n",
      " |  \n",
      " |  >>> us_holidays = country_holidays('US', years=2020)\n",
      " |  >>> for day in us_holidays.items():\n",
      " |  ...     print(day)\n",
      " |  (datetime.date(2020, 1, 1), \"New Year's Day\")\n",
      " |  (datetime.date(2020, 1, 20), 'Martin Luther King Jr. Day')\n",
      " |  (datetime.date(2020, 2, 17), \"Washington's Birthday\")\n",
      " |  (datetime.date(2020, 5, 25), 'Memorial Day')\n",
      " |  (datetime.date(2020, 7, 4), 'Independence Day')\n",
      " |  (datetime.date(2020, 7, 3), 'Independence Day (observed)')\n",
      " |  (datetime.date(2020, 9, 7), 'Labor Day')\n",
      " |  (datetime.date(2020, 10, 12), 'Columbus Day')\n",
      " |  (datetime.date(2020, 11, 11), 'Veterans Day')\n",
      " |  (datetime.date(2020, 11, 26), 'Thanksgiving')\n",
      " |  (datetime.date(2020, 12, 25), 'Christmas Day')\n",
      " |  \n",
      " |  Some holidays are only present in parts of a country:\n",
      " |  \n",
      " |  >>> us_pr_holidays = country_holidays('US', subdiv='PR')\n",
      " |  >>> assert '2018-01-06' not in us_holidays\n",
      " |  >>> assert '2018-01-06' in us_pr_holidays\n",
      " |  \n",
      " |  Append custom holiday dates by passing one of:\n",
      " |  \n",
      " |  * a :class:`dict` with date/name key/value pairs (e.g.\n",
      " |    ``{'2010-07-10': 'My birthday!'}``),\n",
      " |  * a list of dates (as a :class:`datetime.date`, :class:`datetime.datetime`,\n",
      " |    :class:`str`, :class:`int`, or :class:`float`); ``'Holiday'`` will be\n",
      " |    used as a description,\n",
      " |  * or a single date item (of one of the types above); ``'Holiday'`` will be\n",
      " |    used as a description:\n",
      " |  \n",
      " |  >>> custom_holidays = country_holidays('US', years=2015)\n",
      " |  >>> custom_holidays.update({'2015-01-01': \"New Year's Day\"})\n",
      " |  >>> custom_holidays.update(['2015-07-01', '07/04/2015'])\n",
      " |  >>> custom_holidays.update(date(2015, 12, 25))\n",
      " |  >>> assert date(2015, 1, 1) in custom_holidays\n",
      " |  >>> assert date(2015, 1, 2) not in custom_holidays\n",
      " |  >>> assert '12/25/2015' in custom_holidays\n",
      " |  \n",
      " |  For special (one-off) country-wide holidays handling use\n",
      " |  :attr:`special_public_holidays`:\n",
      " |  \n",
      " |  .. code-block:: python\n",
      " |  \n",
      " |      special_public_holidays = {\n",
      " |          1977: ((JUN, 7, \"Silver Jubilee of Elizabeth II\"),),\n",
      " |          1981: ((JUL, 29, \"Wedding of Charles and Diana\"),),\n",
      " |          1999: ((DEC, 31, \"Millennium Celebrations\"),),\n",
      " |          2002: ((JUN, 3, \"Golden Jubilee of Elizabeth II\"),),\n",
      " |          2011: ((APR, 29, \"Wedding of William and Catherine\"),),\n",
      " |          2012: ((JUN, 5, \"Diamond Jubilee of Elizabeth II\"),),\n",
      " |          2022: (\n",
      " |              (JUN, 3, \"Platinum Jubilee of Elizabeth II\"),\n",
      " |              (SEP, 19, \"State Funeral of Queen Elizabeth II\"),\n",
      " |          ),\n",
      " |      }\n",
      " |  \n",
      " |      def _populate(self, year):\n",
      " |          super()._populate(year)\n",
      " |  \n",
      " |          ...\n",
      " |  \n",
      " |  For more complex logic, like 4th Monday of January, you can inherit the\n",
      " |  :class:`HolidayBase` class and define your own :meth:`_populate` method.\n",
      " |  See documentation for examples.\n",
      " |  \n",
      " |  Method resolution order:\n",
      " |      HolidayBase\n",
      " |      builtins.dict\n",
      " |      typing.Generic\n",
      " |      builtins.object\n",
      " |  \n",
      " |  Methods defined here:\n",
      " |  \n",
      " |  __add__(self, other: Union[int, ForwardRef('HolidayBase'), ForwardRef('HolidaySum')]) -> 'HolidayBase'\n",
      " |      Add another dictionary of public holidays creating a\n",
      " |      :class:`HolidaySum` object.\n",
      " |      \n",
      " |      :param other:\n",
      " |          The dictionary of public holiday to be added.\n",
      " |      \n",
      " |      :return:\n",
      " |          A :class:`HolidaySum` object unless the other object cannot be\n",
      " |          added, then :class:`self`.\n",
      " |  \n",
      " |  __bool__(self) -> bool\n",
      " |  \n",
      " |  __contains__(self, key: object) -> bool\n",
      " |      Return true if date is in self, false otherwise. Accepts a date in\n",
      " |      the following types:\n",
      " |      \n",
      " |      * :class:`datetime.date`,\n",
      " |      * :class:`datetime.datetime`,\n",
      " |      * a :class:`str` of any format recognized by\n",
      " |        :func:`dateutil.parser.parse`,\n",
      " |      * or a :class:`float` or :class:`int` representing a POSIX timestamp.\n",
      " |  \n",
      " |  __eq__(self, other: object) -> bool\n",
      " |      Return self==value.\n",
      " |  \n",
      " |  __getattr__(self, name)\n",
      " |  \n",
      " |  __getitem__(self, key: Union[datetime.date, datetime.datetime, str, float, int]) -> Any\n",
      " |      x.__getitem__(y) <==> x[y]\n",
      " |  \n",
      " |  __init__(self, years: Union[int, Iterable[int], NoneType] = None, expand: bool = True, observed: bool = True, subdiv: Union[str, NoneType] = None, prov: Union[str, NoneType] = None, state: Union[str, NoneType] = None, language: Union[str, NoneType] = None, categories: Union[str, Iterable[str], NoneType] = None) -> None\n",
      " |      :param years:\n",
      " |          The year(s) to pre-calculate public holidays for at instantiation.\n",
      " |      \n",
      " |      :param expand:\n",
      " |          Whether the entire year is calculated when one date from that year\n",
      " |          is requested.\n",
      " |      \n",
      " |      :param observed:\n",
      " |          Whether to include the dates when public holiday are observed\n",
      " |          (e.g. a holiday falling on a Sunday being observed the\n",
      " |          following Monday). This doesn't work for all countries.\n",
      " |      \n",
      " |      :param subdiv:\n",
      " |          The subdivision (e.g. state or province) as a ISO 3166-2 code\n",
      " |          or its alias; not implemented for all countries (see documentation).\n",
      " |      \n",
      " |      :param prov:\n",
      " |          *deprecated* use subdiv instead.\n",
      " |      \n",
      " |      :param state:\n",
      " |          *deprecated* use subdiv instead.\n",
      " |      \n",
      " |      :param language:\n",
      " |          The language which the returned holiday names will be translated\n",
      " |          into. It must be an ISO 639-1 (2-letter) language code. If the\n",
      " |          language translation is not supported the original holiday names\n",
      " |          will be used.\n",
      " |      \n",
      " |      :param categories:\n",
      " |          Requested holiday categories.\n",
      " |      \n",
      " |      :return:\n",
      " |          A :class:`HolidayBase` object matching the **country**.\n",
      " |  \n",
      " |  __keytransform__(self, key: Union[datetime.date, datetime.datetime, str, float, int]) -> datetime.date\n",
      " |      Transforms the date from one of the following types:\n",
      " |      \n",
      " |      * :class:`datetime.date`,\n",
      " |      * :class:`datetime.datetime`,\n",
      " |      * a :class:`str` of any format recognized by\n",
      " |        :func:`dateutil.parser.parse`,\n",
      " |      * or a :class:`float` or :class:`int` representing a POSIX timestamp\n",
      " |      \n",
      " |      to :class:`datetime.date`, which is how it's stored by the class.\n",
      " |  \n",
      " |  __ne__(self, other: object) -> bool\n",
      " |      Return self!=value.\n",
      " |  \n",
      " |  __radd__(self, other: Any) -> 'HolidayBase'\n",
      " |  \n",
      " |  __reduce__(self) -> Union[str, Tuple[Any, ...]]\n",
      " |      Helper for pickle.\n",
      " |  \n",
      " |  __repr__(self) -> str\n",
      " |      Return repr(self).\n",
      " |  \n",
      " |  __setattr__(self, key: str, value: Any) -> None\n",
      " |      Implement setattr(self, name, value).\n",
      " |  \n",
      " |  __setitem__(self, key: Union[datetime.date, datetime.datetime, str, float, int], value: str) -> None\n",
      " |      Set self[key] to value.\n",
      " |  \n",
      " |  __str__(self) -> str\n",
      " |      Return str(self).\n",
      " |  \n",
      " |  append(self, *args: Union[Dict[Union[datetime.date, datetime.datetime, str, float, int], str], List[Union[datetime.date, datetime.datetime, str, float, int]], datetime.date, datetime.datetime, str, float, int]) -> None\n",
      " |      Alias for :meth:`update` to mimic list type.\n",
      " |  \n",
      " |  copy(self)\n",
      " |      Return a copy of the object.\n",
      " |  \n",
      " |  get(self, key: Union[datetime.date, datetime.datetime, str, float, int], default: Union[str, Any] = None) -> Union[str, Any]\n",
      " |      Return the holiday name for a date if date is a holiday, else\n",
      " |      default. If default is not given, it defaults to None, so that this\n",
      " |      method never raises a KeyError. If more than one holiday is present,\n",
      " |      they are separated by a comma.\n",
      " |      \n",
      " |      :param key:\n",
      " |          The date expressed in one of the following types:\n",
      " |      \n",
      " |          * :class:`datetime.date`,\n",
      " |          * :class:`datetime.datetime`,\n",
      " |          * a :class:`str` of any format recognized by\n",
      " |            :func:`dateutil.parser.parse`,\n",
      " |          * or a :class:`float` or :class:`int` representing a POSIX\n",
      " |            timestamp.\n",
      " |      \n",
      " |      :param default:\n",
      " |          The default value to return if no value is found.\n",
      " |  \n",
      " |  get_list(self, key: Union[datetime.date, datetime.datetime, str, float, int]) -> List[str]\n",
      " |      Return a list of all holiday names for a date if date is a holiday,\n",
      " |      else empty string.\n",
      " |      \n",
      " |      :param key:\n",
      " |          The date expressed in one of the following types:\n",
      " |      \n",
      " |          * :class:`datetime.date`,\n",
      " |          * :class:`datetime.datetime`,\n",
      " |          * a :class:`str` of any format recognized by\n",
      " |            :func:`dateutil.parser.parse`,\n",
      " |          * or a :class:`float` or :class:`int` representing a POSIX\n",
      " |            timestamp.\n",
      " |  \n",
      " |  get_named(self, holiday_name: str, lookup='icontains', split_multiple_names=True) -> List[datetime.date]\n",
      " |      Return a list of all holiday dates matching the provided holiday\n",
      " |      name. The match will be made case insensitively and partial matches\n",
      " |      will be included by default.\n",
      " |      \n",
      " |      :param holiday_name:\n",
      " |          The holiday's name to try to match.\n",
      " |      :param lookup:\n",
      " |          The holiday name lookup type:\n",
      " |              contains - case sensitive contains match;\n",
      " |              exact - case sensitive exact match;\n",
      " |              startswith - case sensitive starts with match;\n",
      " |              icontains - case insensitive contains match;\n",
      " |              iexact - case insensitive exact match;\n",
      " |              istartswith - case insensitive starts with match;\n",
      " |      :param split_multiple_names:\n",
      " |          Either use the exact name for each date or split it by holiday\n",
      " |          name delimiter.\n",
      " |      \n",
      " |      :return:\n",
      " |          A list of all holiday dates matching the provided holiday name.\n",
      " |  \n",
      " |  pop(self, key: Union[datetime.date, datetime.datetime, str, float, int], default: Union[str, Any] = None) -> Union[str, Any]\n",
      " |      If date is a holiday, remove it and return its date, else return\n",
      " |      default.\n",
      " |      \n",
      " |      :param key:\n",
      " |          The date expressed in one of the following types:\n",
      " |      \n",
      " |          * :class:`datetime.date`,\n",
      " |          * :class:`datetime.datetime`,\n",
      " |          * a :class:`str` of any format recognized by\n",
      " |            :func:`dateutil.parser.parse`,\n",
      " |          * or a :class:`float` or :class:`int` representing a POSIX\n",
      " |            timestamp.\n",
      " |      \n",
      " |      :param default:\n",
      " |          The default value to return if no match is found.\n",
      " |      \n",
      " |      :return:\n",
      " |          The date removed.\n",
      " |      \n",
      " |      :raise:\n",
      " |          KeyError if date is not a holiday and default is not given.\n",
      " |  \n",
      " |  pop_named(self, name: str) -> List[datetime.date]\n",
      " |      Remove (no longer treat at as holiday) all dates matching the\n",
      " |      provided holiday name. The match will be made case insensitively and\n",
      " |      partial matches will be removed.\n",
      " |      \n",
      " |      :param name:\n",
      " |          The holiday's name to try to match.\n",
      " |      \n",
      " |      :param default:\n",
      " |          The default value to return if no match is found.\n",
      " |      \n",
      " |      :return:\n",
      " |          A list of dates removed.\n",
      " |      \n",
      " |      :raise:\n",
      " |          KeyError if date is not a holiday and default is not given.\n",
      " |  \n",
      " |  update(self, *args: Union[Dict[Union[datetime.date, datetime.datetime, str, float, int], str], List[Union[datetime.date, datetime.datetime, str, float, int]], datetime.date, datetime.datetime, str, float, int]) -> None\n",
      " |      Update the object, overwriting existing dates.\n",
      " |      \n",
      " |      :param:\n",
      " |          Either another dictionary object where keys are dates and values\n",
      " |          are holiday names, or a single date (or a list of dates) for which\n",
      " |          the value will be set to \"Holiday\".\n",
      " |      \n",
      " |          Dates can be expressed in one or more of the following types:\n",
      " |      \n",
      " |          * :class:`datetime.date`,\n",
      " |          * :class:`datetime.datetime`,\n",
      " |          * a :class:`str` of any format recognized by\n",
      " |            :func:`dateutil.parser.parse`,\n",
      " |          * or a :class:`float` or :class:`int` representing a POSIX\n",
      " |            timestamp.\n",
      " |  \n",
      " |  ----------------------------------------------------------------------\n",
      " |  Class methods defined here:\n",
      " |  \n",
      " |  get_subdivision_aliases() -> Dict[str, List] from builtins.type\n",
      " |      Get subdivision aliases.\n",
      " |  \n",
      " |  ----------------------------------------------------------------------\n",
      " |  Data descriptors defined here:\n",
      " |  \n",
      " |  __dict__\n",
      " |      dictionary for instance variables (if defined)\n",
      " |  \n",
      " |  __weakref__\n",
      " |      list of weak references to the object (if defined)\n",
      " |  \n",
      " |  ----------------------------------------------------------------------\n",
      " |  Data and other attributes defined here:\n",
      " |  \n",
      " |  __annotations__ = {'_deprecated_subdivisions': typing.Tuple[str, ...],...\n",
      " |  \n",
      " |  __hash__ = None\n",
      " |  \n",
      " |  __orig_bases__ = (typing.Dict[datetime.date, str],)\n",
      " |  \n",
      " |  __parameters__ = ()\n",
      " |  \n",
      " |  categories = set()\n",
      " |  \n",
      " |  default_category = 'public'\n",
      " |  \n",
      " |  default_language = None\n",
      " |  \n",
      " |  special_holidays = {}\n",
      " |  \n",
      " |  subdiv = None\n",
      " |  \n",
      " |  subdivisions = ()\n",
      " |  \n",
      " |  subdivisions_aliases = {}\n",
      " |  \n",
      " |  supported_categories = ('public',)\n",
      " |  \n",
      " |  supported_languages = ()\n",
      " |  \n",
      " |  weekend = {5, 6}\n",
      " |  \n",
      " |  ----------------------------------------------------------------------\n",
      " |  Methods inherited from builtins.dict:\n",
      " |  \n",
      " |  __delitem__(self, key, /)\n",
      " |      Delete self[key].\n",
      " |  \n",
      " |  __ge__(self, value, /)\n",
      " |      Return self>=value.\n",
      " |  \n",
      " |  __getattribute__(self, name, /)\n",
      " |      Return getattr(self, name).\n",
      " |  \n",
      " |  __gt__(self, value, /)\n",
      " |      Return self>value.\n",
      " |  \n",
      " |  __iter__(self, /)\n",
      " |      Implement iter(self).\n",
      " |  \n",
      " |  __le__(self, value, /)\n",
      " |      Return self<=value.\n",
      " |  \n",
      " |  __len__(self, /)\n",
      " |      Return len(self).\n",
      " |  \n",
      " |  __lt__(self, value, /)\n",
      " |      Return self<value.\n",
      " |  \n",
      " |  __reversed__(self, /)\n",
      " |      Return a reverse iterator over the dict keys.\n",
      " |  \n",
      " |  __sizeof__(...)\n",
      " |      D.__sizeof__() -> size of D in memory, in bytes\n",
      " |  \n",
      " |  clear(...)\n",
      " |      D.clear() -> None.  Remove all items from D.\n",
      " |  \n",
      " |  items(...)\n",
      " |      D.items() -> a set-like object providing a view on D's items\n",
      " |  \n",
      " |  keys(...)\n",
      " |      D.keys() -> a set-like object providing a view on D's keys\n",
      " |  \n",
      " |  popitem(self, /)\n",
      " |      Remove and return a (key, value) pair as a 2-tuple.\n",
      " |      \n",
      " |      Pairs are returned in LIFO (last-in, first-out) order.\n",
      " |      Raises KeyError if the dict is empty.\n",
      " |  \n",
      " |  setdefault(self, key, default=None, /)\n",
      " |      Insert key with a value of default if key is not in the dictionary.\n",
      " |      \n",
      " |      Return the value for key if key is in the dictionary, else default.\n",
      " |  \n",
      " |  values(...)\n",
      " |      D.values() -> an object providing a view on D's values\n",
      " |  \n",
      " |  ----------------------------------------------------------------------\n",
      " |  Class methods inherited from builtins.dict:\n",
      " |  \n",
      " |  fromkeys(iterable, value=None, /) from builtins.type\n",
      " |      Create a new dictionary with keys from iterable and values set to value.\n",
      " |  \n",
      " |  ----------------------------------------------------------------------\n",
      " |  Static methods inherited from builtins.dict:\n",
      " |  \n",
      " |  __new__(*args, **kwargs) from builtins.type\n",
      " |      Create and return a new object.  See help(type) for accurate signature.\n",
      " |  \n",
      " |  ----------------------------------------------------------------------\n",
      " |  Class methods inherited from typing.Generic:\n",
      " |  \n",
      " |  __class_getitem__(params) from builtins.type\n",
      " |  \n",
      " |  __init_subclass__(*args, **kwargs) from builtins.type\n",
      " |      This method is called when a class is subclassed.\n",
      " |      \n",
      " |      The default implementation does nothing. It may be\n",
      " |      overridden to extend subclasses.\n",
      "\n"
     ]
    }
   ],
   "source": [
    "help(holidays.observed_holiday_base.HolidayBase)"
   ]
  },
  {
   "cell_type": "code",
   "execution_count": 79,
   "id": "11d53adf-3faf-44c9-9ce4-8dec02053387",
   "metadata": {},
   "outputs": [],
   "source": [
    "df['period_end_date'] = pd.to_datetime(df['period_end_date'])\n",
    "df['year'] = df['period_end_date'].dt.year"
   ]
  },
  {
   "cell_type": "code",
   "execution_count": 77,
   "id": "b419bd01-cf66-4bfe-a1ca-ff8e352dd07d",
   "metadata": {},
   "outputs": [
    {
     "ename": "TypeError",
     "evalue": "'numpy.int64' object is not iterable",
     "output_type": "error",
     "traceback": [
      "\u001b[0;31m---------------------------------------------------------------------------\u001b[0m",
      "\u001b[0;31mTypeError\u001b[0m                                 Traceback (most recent call last)",
      "\u001b[0;32m/var/folders/xx/6tz780r13t57q640kxzkc46w0000gn/T/ipykernel_61395/2568493977.py\u001b[0m in \u001b[0;36m<module>\u001b[0;34m\u001b[0m\n\u001b[1;32m      4\u001b[0m \u001b[0;31m# Print all the holidays in UnitedKingdom in year 2018\u001b[0m\u001b[0;34m\u001b[0m\u001b[0;34m\u001b[0m\u001b[0;34m\u001b[0m\u001b[0m\n\u001b[1;32m      5\u001b[0m \u001b[0;31m#list(holidays.UnitedKingdom(years = tst_year).items)\u001b[0m\u001b[0;34m\u001b[0m\u001b[0;34m\u001b[0m\u001b[0;34m\u001b[0m\u001b[0m\n\u001b[0;32m----> 6\u001b[0;31m \u001b[0;32mfor\u001b[0m \u001b[0mptr\u001b[0m \u001b[0;32min\u001b[0m \u001b[0mholidays\u001b[0m\u001b[0;34m.\u001b[0m\u001b[0mUnitedKingdom\u001b[0m\u001b[0;34m(\u001b[0m\u001b[0myears\u001b[0m \u001b[0;34m=\u001b[0m \u001b[0mtst_year\u001b[0m\u001b[0;34m)\u001b[0m\u001b[0;34m.\u001b[0m\u001b[0mitems\u001b[0m\u001b[0;34m(\u001b[0m\u001b[0;34m)\u001b[0m\u001b[0;34m:\u001b[0m\u001b[0;34m\u001b[0m\u001b[0;34m\u001b[0m\u001b[0m\n\u001b[0m\u001b[1;32m      7\u001b[0m     \u001b[0mprint\u001b[0m\u001b[0;34m(\u001b[0m\u001b[0mptr\u001b[0m\u001b[0;34m)\u001b[0m\u001b[0;34m\u001b[0m\u001b[0;34m\u001b[0m\u001b[0m\n",
      "\u001b[0;32m~/opt/anaconda3/lib/python3.8/site-packages/holidays/registry.py\u001b[0m in \u001b[0;36m__call__\u001b[0;34m(self, *args, **kwargs)\u001b[0m\n\u001b[1;32m    205\u001b[0m         \u001b[0;34m\"\"\"Create a new instance of a lazy-loaded entity.\"\"\"\u001b[0m\u001b[0;34m\u001b[0m\u001b[0;34m\u001b[0m\u001b[0m\n\u001b[1;32m    206\u001b[0m         \u001b[0mcls\u001b[0m \u001b[0;34m=\u001b[0m \u001b[0mself\u001b[0m\u001b[0;34m.\u001b[0m\u001b[0mget_entity\u001b[0m\u001b[0;34m(\u001b[0m\u001b[0;34m)\u001b[0m\u001b[0;34m\u001b[0m\u001b[0;34m\u001b[0m\u001b[0m\n\u001b[0;32m--> 207\u001b[0;31m         \u001b[0;32mreturn\u001b[0m \u001b[0mcls\u001b[0m\u001b[0;34m(\u001b[0m\u001b[0;34m*\u001b[0m\u001b[0margs\u001b[0m\u001b[0;34m,\u001b[0m \u001b[0;34m**\u001b[0m\u001b[0mkwargs\u001b[0m\u001b[0;34m)\u001b[0m  \u001b[0;31m# type: ignore[misc, operator]\u001b[0m\u001b[0;34m\u001b[0m\u001b[0;34m\u001b[0m\u001b[0m\n\u001b[0m\u001b[1;32m    208\u001b[0m \u001b[0;34m\u001b[0m\u001b[0m\n\u001b[1;32m    209\u001b[0m     \u001b[0;32mdef\u001b[0m \u001b[0m__getattr__\u001b[0m\u001b[0;34m(\u001b[0m\u001b[0mself\u001b[0m\u001b[0;34m,\u001b[0m \u001b[0mname\u001b[0m\u001b[0;34m:\u001b[0m \u001b[0mstr\u001b[0m\u001b[0;34m)\u001b[0m \u001b[0;34m->\u001b[0m \u001b[0mOptional\u001b[0m\u001b[0;34m[\u001b[0m\u001b[0mAny\u001b[0m\u001b[0;34m]\u001b[0m\u001b[0;34m:\u001b[0m\u001b[0;34m\u001b[0m\u001b[0;34m\u001b[0m\u001b[0m\n",
      "\u001b[0;32m~/opt/anaconda3/lib/python3.8/site-packages/holidays/countries/united_kingdom.py\u001b[0m in \u001b[0;36m__init__\u001b[0;34m(self, *args, **kwargs)\u001b[0m\n\u001b[1;32m     61\u001b[0m         \u001b[0;31m# Bank Holidays Extension Act 1875\u001b[0m\u001b[0;34m\u001b[0m\u001b[0;34m\u001b[0m\u001b[0;34m\u001b[0m\u001b[0m\n\u001b[1;32m     62\u001b[0m         \u001b[0mkwargs\u001b[0m\u001b[0;34m.\u001b[0m\u001b[0msetdefault\u001b[0m\u001b[0;34m(\u001b[0m\u001b[0;34m\"observed_since\"\u001b[0m\u001b[0;34m,\u001b[0m \u001b[0;36m1875\u001b[0m\u001b[0;34m)\u001b[0m\u001b[0;34m\u001b[0m\u001b[0;34m\u001b[0m\u001b[0m\n\u001b[0;32m---> 63\u001b[0;31m         \u001b[0msuper\u001b[0m\u001b[0;34m(\u001b[0m\u001b[0;34m)\u001b[0m\u001b[0;34m.\u001b[0m\u001b[0m__init__\u001b[0m\u001b[0;34m(\u001b[0m\u001b[0;34m*\u001b[0m\u001b[0margs\u001b[0m\u001b[0;34m,\u001b[0m \u001b[0;34m**\u001b[0m\u001b[0mkwargs\u001b[0m\u001b[0;34m)\u001b[0m\u001b[0;34m\u001b[0m\u001b[0;34m\u001b[0m\u001b[0m\n\u001b[0m\u001b[1;32m     64\u001b[0m \u001b[0;34m\u001b[0m\u001b[0m\n\u001b[1;32m     65\u001b[0m     \u001b[0;32mdef\u001b[0m \u001b[0m_populate_public_holidays\u001b[0m\u001b[0;34m(\u001b[0m\u001b[0mself\u001b[0m\u001b[0;34m)\u001b[0m \u001b[0;34m->\u001b[0m \u001b[0;32mNone\u001b[0m\u001b[0;34m:\u001b[0m\u001b[0;34m\u001b[0m\u001b[0;34m\u001b[0m\u001b[0m\n",
      "\u001b[0;32m~/opt/anaconda3/lib/python3.8/site-packages/holidays/observed_holiday_base.py\u001b[0m in \u001b[0;36m__init__\u001b[0;34m(self, observed_rule, observed_since, *args, **kwargs)\u001b[0m\n\u001b[1;32m    101\u001b[0m         \u001b[0mself\u001b[0m\u001b[0;34m.\u001b[0m\u001b[0m_observed_since\u001b[0m \u001b[0;34m=\u001b[0m \u001b[0mobserved_since\u001b[0m\u001b[0;34m\u001b[0m\u001b[0;34m\u001b[0m\u001b[0m\n\u001b[1;32m    102\u001b[0m \u001b[0;34m\u001b[0m\u001b[0m\n\u001b[0;32m--> 103\u001b[0;31m         \u001b[0msuper\u001b[0m\u001b[0;34m(\u001b[0m\u001b[0;34m)\u001b[0m\u001b[0;34m.\u001b[0m\u001b[0m__init__\u001b[0m\u001b[0;34m(\u001b[0m\u001b[0;34m*\u001b[0m\u001b[0margs\u001b[0m\u001b[0;34m,\u001b[0m \u001b[0;34m**\u001b[0m\u001b[0mkwargs\u001b[0m\u001b[0;34m)\u001b[0m\u001b[0;34m\u001b[0m\u001b[0;34m\u001b[0m\u001b[0m\n\u001b[0m\u001b[1;32m    104\u001b[0m \u001b[0;34m\u001b[0m\u001b[0m\n\u001b[1;32m    105\u001b[0m     \u001b[0;32mdef\u001b[0m \u001b[0m_is_observed\u001b[0m\u001b[0;34m(\u001b[0m\u001b[0mself\u001b[0m\u001b[0;34m,\u001b[0m \u001b[0;34m*\u001b[0m\u001b[0margs\u001b[0m\u001b[0;34m,\u001b[0m \u001b[0;34m**\u001b[0m\u001b[0mkwargs\u001b[0m\u001b[0;34m)\u001b[0m \u001b[0;34m->\u001b[0m \u001b[0mbool\u001b[0m\u001b[0;34m:\u001b[0m\u001b[0;34m\u001b[0m\u001b[0;34m\u001b[0m\u001b[0m\n",
      "\u001b[0;32m~/opt/anaconda3/lib/python3.8/site-packages/holidays/holiday_base.py\u001b[0m in \u001b[0;36m__init__\u001b[0;34m(self, years, expand, observed, subdiv, prov, state, language, categories)\u001b[0m\n\u001b[1;32m    366\u001b[0m             \u001b[0;32melse\u001b[0m \u001b[0mgettext\u001b[0m\u001b[0;34m\u001b[0m\u001b[0;34m\u001b[0m\u001b[0m\n\u001b[1;32m    367\u001b[0m         )\n\u001b[0;32m--> 368\u001b[0;31m         \u001b[0mself\u001b[0m\u001b[0;34m.\u001b[0m\u001b[0myears\u001b[0m \u001b[0;34m=\u001b[0m \u001b[0m_normalize_arguments\u001b[0m\u001b[0;34m(\u001b[0m\u001b[0mint\u001b[0m\u001b[0;34m,\u001b[0m \u001b[0myears\u001b[0m\u001b[0;34m)\u001b[0m\u001b[0;34m\u001b[0m\u001b[0;34m\u001b[0m\u001b[0m\n\u001b[0m\u001b[1;32m    369\u001b[0m \u001b[0;34m\u001b[0m\u001b[0m\n\u001b[1;32m    370\u001b[0m         \u001b[0;31m# Populate holidays.\u001b[0m\u001b[0;34m\u001b[0m\u001b[0;34m\u001b[0m\u001b[0;34m\u001b[0m\u001b[0m\n",
      "\u001b[0;32m~/opt/anaconda3/lib/python3.8/site-packages/holidays/helpers.py\u001b[0m in \u001b[0;36m_normalize_arguments\u001b[0;34m(cls, value)\u001b[0m\n\u001b[1;32m     28\u001b[0m         \u001b[0;32mreturn\u001b[0m \u001b[0;34m{\u001b[0m\u001b[0mvalue\u001b[0m\u001b[0;34m}\u001b[0m\u001b[0;34m\u001b[0m\u001b[0;34m\u001b[0m\u001b[0m\n\u001b[1;32m     29\u001b[0m \u001b[0;34m\u001b[0m\u001b[0m\n\u001b[0;32m---> 30\u001b[0;31m     \u001b[0;32mreturn\u001b[0m \u001b[0mset\u001b[0m\u001b[0;34m(\u001b[0m\u001b[0mvalue\u001b[0m\u001b[0;34m)\u001b[0m \u001b[0;32mif\u001b[0m \u001b[0mvalue\u001b[0m \u001b[0;32mis\u001b[0m \u001b[0;32mnot\u001b[0m \u001b[0;32mNone\u001b[0m \u001b[0;32melse\u001b[0m \u001b[0mset\u001b[0m\u001b[0;34m(\u001b[0m\u001b[0;34m)\u001b[0m\u001b[0;34m\u001b[0m\u001b[0;34m\u001b[0m\u001b[0m\n\u001b[0m\u001b[1;32m     31\u001b[0m \u001b[0;34m\u001b[0m\u001b[0m\n\u001b[1;32m     32\u001b[0m \u001b[0;34m\u001b[0m\u001b[0m\n",
      "\u001b[0;31mTypeError\u001b[0m: 'numpy.int64' object is not iterable"
     ]
    }
   ],
   "source": [
    "uk_holidays = holidays.UnitedKingdom() \n",
    "tst_date = df.loc[0,'period_end_date']  \n",
    "tst_year = df.loc[0,'year']  \n",
    "# Print all the holidays in UnitedKingdom in year 2018 \n",
    "#list(holidays.UnitedKingdom(years = tst_year).items)\n",
    "for ptr in holidays.UnitedKingdom(years = tst_year).items(): \n",
    "    print(ptr) "
   ]
  },
  {
   "cell_type": "code",
   "execution_count": 74,
   "id": "5046308f-113d-4edd-a18f-42f9b15c2d62",
   "metadata": {},
   "outputs": [
    {
     "ename": "TypeError",
     "evalue": "'numpy.int64' object is not iterable",
     "output_type": "error",
     "traceback": [
      "\u001b[0;31m---------------------------------------------------------------------------\u001b[0m",
      "\u001b[0;31mTypeError\u001b[0m                                 Traceback (most recent call last)",
      "\u001b[0;32m/var/folders/xx/6tz780r13t57q640kxzkc46w0000gn/T/ipykernel_61395/2947551061.py\u001b[0m in \u001b[0;36m<module>\u001b[0;34m\u001b[0m\n\u001b[0;32m----> 1\u001b[0;31m \u001b[0mholidays\u001b[0m\u001b[0;34m.\u001b[0m\u001b[0mUnitedKingdom\u001b[0m\u001b[0;34m(\u001b[0m\u001b[0myears\u001b[0m \u001b[0;34m=\u001b[0m \u001b[0mtst_year\u001b[0m\u001b[0;34m)\u001b[0m\u001b[0;34m\u001b[0m\u001b[0;34m\u001b[0m\u001b[0m\n\u001b[0m",
      "\u001b[0;32m~/opt/anaconda3/lib/python3.8/site-packages/holidays/registry.py\u001b[0m in \u001b[0;36m__call__\u001b[0;34m(self, *args, **kwargs)\u001b[0m\n\u001b[1;32m    205\u001b[0m         \u001b[0;34m\"\"\"Create a new instance of a lazy-loaded entity.\"\"\"\u001b[0m\u001b[0;34m\u001b[0m\u001b[0;34m\u001b[0m\u001b[0m\n\u001b[1;32m    206\u001b[0m         \u001b[0mcls\u001b[0m \u001b[0;34m=\u001b[0m \u001b[0mself\u001b[0m\u001b[0;34m.\u001b[0m\u001b[0mget_entity\u001b[0m\u001b[0;34m(\u001b[0m\u001b[0;34m)\u001b[0m\u001b[0;34m\u001b[0m\u001b[0;34m\u001b[0m\u001b[0m\n\u001b[0;32m--> 207\u001b[0;31m         \u001b[0;32mreturn\u001b[0m \u001b[0mcls\u001b[0m\u001b[0;34m(\u001b[0m\u001b[0;34m*\u001b[0m\u001b[0margs\u001b[0m\u001b[0;34m,\u001b[0m \u001b[0;34m**\u001b[0m\u001b[0mkwargs\u001b[0m\u001b[0;34m)\u001b[0m  \u001b[0;31m# type: ignore[misc, operator]\u001b[0m\u001b[0;34m\u001b[0m\u001b[0;34m\u001b[0m\u001b[0m\n\u001b[0m\u001b[1;32m    208\u001b[0m \u001b[0;34m\u001b[0m\u001b[0m\n\u001b[1;32m    209\u001b[0m     \u001b[0;32mdef\u001b[0m \u001b[0m__getattr__\u001b[0m\u001b[0;34m(\u001b[0m\u001b[0mself\u001b[0m\u001b[0;34m,\u001b[0m \u001b[0mname\u001b[0m\u001b[0;34m:\u001b[0m \u001b[0mstr\u001b[0m\u001b[0;34m)\u001b[0m \u001b[0;34m->\u001b[0m \u001b[0mOptional\u001b[0m\u001b[0;34m[\u001b[0m\u001b[0mAny\u001b[0m\u001b[0;34m]\u001b[0m\u001b[0;34m:\u001b[0m\u001b[0;34m\u001b[0m\u001b[0;34m\u001b[0m\u001b[0m\n",
      "\u001b[0;32m~/opt/anaconda3/lib/python3.8/site-packages/holidays/countries/united_kingdom.py\u001b[0m in \u001b[0;36m__init__\u001b[0;34m(self, *args, **kwargs)\u001b[0m\n\u001b[1;32m     61\u001b[0m         \u001b[0;31m# Bank Holidays Extension Act 1875\u001b[0m\u001b[0;34m\u001b[0m\u001b[0;34m\u001b[0m\u001b[0;34m\u001b[0m\u001b[0m\n\u001b[1;32m     62\u001b[0m         \u001b[0mkwargs\u001b[0m\u001b[0;34m.\u001b[0m\u001b[0msetdefault\u001b[0m\u001b[0;34m(\u001b[0m\u001b[0;34m\"observed_since\"\u001b[0m\u001b[0;34m,\u001b[0m \u001b[0;36m1875\u001b[0m\u001b[0;34m)\u001b[0m\u001b[0;34m\u001b[0m\u001b[0;34m\u001b[0m\u001b[0m\n\u001b[0;32m---> 63\u001b[0;31m         \u001b[0msuper\u001b[0m\u001b[0;34m(\u001b[0m\u001b[0;34m)\u001b[0m\u001b[0;34m.\u001b[0m\u001b[0m__init__\u001b[0m\u001b[0;34m(\u001b[0m\u001b[0;34m*\u001b[0m\u001b[0margs\u001b[0m\u001b[0;34m,\u001b[0m \u001b[0;34m**\u001b[0m\u001b[0mkwargs\u001b[0m\u001b[0;34m)\u001b[0m\u001b[0;34m\u001b[0m\u001b[0;34m\u001b[0m\u001b[0m\n\u001b[0m\u001b[1;32m     64\u001b[0m \u001b[0;34m\u001b[0m\u001b[0m\n\u001b[1;32m     65\u001b[0m     \u001b[0;32mdef\u001b[0m \u001b[0m_populate_public_holidays\u001b[0m\u001b[0;34m(\u001b[0m\u001b[0mself\u001b[0m\u001b[0;34m)\u001b[0m \u001b[0;34m->\u001b[0m \u001b[0;32mNone\u001b[0m\u001b[0;34m:\u001b[0m\u001b[0;34m\u001b[0m\u001b[0;34m\u001b[0m\u001b[0m\n",
      "\u001b[0;32m~/opt/anaconda3/lib/python3.8/site-packages/holidays/observed_holiday_base.py\u001b[0m in \u001b[0;36m__init__\u001b[0;34m(self, observed_rule, observed_since, *args, **kwargs)\u001b[0m\n\u001b[1;32m    101\u001b[0m         \u001b[0mself\u001b[0m\u001b[0;34m.\u001b[0m\u001b[0m_observed_since\u001b[0m \u001b[0;34m=\u001b[0m \u001b[0mobserved_since\u001b[0m\u001b[0;34m\u001b[0m\u001b[0;34m\u001b[0m\u001b[0m\n\u001b[1;32m    102\u001b[0m \u001b[0;34m\u001b[0m\u001b[0m\n\u001b[0;32m--> 103\u001b[0;31m         \u001b[0msuper\u001b[0m\u001b[0;34m(\u001b[0m\u001b[0;34m)\u001b[0m\u001b[0;34m.\u001b[0m\u001b[0m__init__\u001b[0m\u001b[0;34m(\u001b[0m\u001b[0;34m*\u001b[0m\u001b[0margs\u001b[0m\u001b[0;34m,\u001b[0m \u001b[0;34m**\u001b[0m\u001b[0mkwargs\u001b[0m\u001b[0;34m)\u001b[0m\u001b[0;34m\u001b[0m\u001b[0;34m\u001b[0m\u001b[0m\n\u001b[0m\u001b[1;32m    104\u001b[0m \u001b[0;34m\u001b[0m\u001b[0m\n\u001b[1;32m    105\u001b[0m     \u001b[0;32mdef\u001b[0m \u001b[0m_is_observed\u001b[0m\u001b[0;34m(\u001b[0m\u001b[0mself\u001b[0m\u001b[0;34m,\u001b[0m \u001b[0;34m*\u001b[0m\u001b[0margs\u001b[0m\u001b[0;34m,\u001b[0m \u001b[0;34m**\u001b[0m\u001b[0mkwargs\u001b[0m\u001b[0;34m)\u001b[0m \u001b[0;34m->\u001b[0m \u001b[0mbool\u001b[0m\u001b[0;34m:\u001b[0m\u001b[0;34m\u001b[0m\u001b[0;34m\u001b[0m\u001b[0m\n",
      "\u001b[0;32m~/opt/anaconda3/lib/python3.8/site-packages/holidays/holiday_base.py\u001b[0m in \u001b[0;36m__init__\u001b[0;34m(self, years, expand, observed, subdiv, prov, state, language, categories)\u001b[0m\n\u001b[1;32m    366\u001b[0m             \u001b[0;32melse\u001b[0m \u001b[0mgettext\u001b[0m\u001b[0;34m\u001b[0m\u001b[0;34m\u001b[0m\u001b[0m\n\u001b[1;32m    367\u001b[0m         )\n\u001b[0;32m--> 368\u001b[0;31m         \u001b[0mself\u001b[0m\u001b[0;34m.\u001b[0m\u001b[0myears\u001b[0m \u001b[0;34m=\u001b[0m \u001b[0m_normalize_arguments\u001b[0m\u001b[0;34m(\u001b[0m\u001b[0mint\u001b[0m\u001b[0;34m,\u001b[0m \u001b[0myears\u001b[0m\u001b[0;34m)\u001b[0m\u001b[0;34m\u001b[0m\u001b[0;34m\u001b[0m\u001b[0m\n\u001b[0m\u001b[1;32m    369\u001b[0m \u001b[0;34m\u001b[0m\u001b[0m\n\u001b[1;32m    370\u001b[0m         \u001b[0;31m# Populate holidays.\u001b[0m\u001b[0;34m\u001b[0m\u001b[0;34m\u001b[0m\u001b[0;34m\u001b[0m\u001b[0m\n",
      "\u001b[0;32m~/opt/anaconda3/lib/python3.8/site-packages/holidays/helpers.py\u001b[0m in \u001b[0;36m_normalize_arguments\u001b[0;34m(cls, value)\u001b[0m\n\u001b[1;32m     28\u001b[0m         \u001b[0;32mreturn\u001b[0m \u001b[0;34m{\u001b[0m\u001b[0mvalue\u001b[0m\u001b[0;34m}\u001b[0m\u001b[0;34m\u001b[0m\u001b[0;34m\u001b[0m\u001b[0m\n\u001b[1;32m     29\u001b[0m \u001b[0;34m\u001b[0m\u001b[0m\n\u001b[0;32m---> 30\u001b[0;31m     \u001b[0;32mreturn\u001b[0m \u001b[0mset\u001b[0m\u001b[0;34m(\u001b[0m\u001b[0mvalue\u001b[0m\u001b[0;34m)\u001b[0m \u001b[0;32mif\u001b[0m \u001b[0mvalue\u001b[0m \u001b[0;32mis\u001b[0m \u001b[0;32mnot\u001b[0m \u001b[0;32mNone\u001b[0m \u001b[0;32melse\u001b[0m \u001b[0mset\u001b[0m\u001b[0;34m(\u001b[0m\u001b[0;34m)\u001b[0m\u001b[0;34m\u001b[0m\u001b[0;34m\u001b[0m\u001b[0m\n\u001b[0m\u001b[1;32m     31\u001b[0m \u001b[0;34m\u001b[0m\u001b[0m\n\u001b[1;32m     32\u001b[0m \u001b[0;34m\u001b[0m\u001b[0m\n",
      "\u001b[0;31mTypeError\u001b[0m: 'numpy.int64' object is not iterable"
     ]
    }
   ],
   "source": [
    "holidays.UnitedKingdom(years = tst_year)"
   ]
  },
  {
   "cell_type": "code",
   "execution_count": 17,
   "id": "a99d5d69-071c-4313-92be-080b786d8d8c",
   "metadata": {},
   "outputs": [
    {
     "data": {
      "text/plain": [
       "Index(['3.1 phillip lim', 'about you', 'acne studios', 'aeropostale', 'aldi',\n",
       "       'aldo', 'alexander wang', 'alice & olivia', 'all brands', 'allsaints',\n",
       "       ...\n",
       "       'valentino', 'virgin active', 'volcom', 'vr collezioni',\n",
       "       'wahoo fitness', 'whataburger', 'whiskas', 'wolaco', 'xeomin', 'zegna'],\n",
       "      dtype='object', name='business_entity_doing_business_as_name', length=239)"
      ]
     },
     "execution_count": 17,
     "metadata": {},
     "output_type": "execute_result"
    }
   ],
   "source": [
    "missing_country_companies"
   ]
  },
  {
   "cell_type": "markdown",
   "id": "bcf85eb6-2a2b-4329-bad8-f1d2f36d217b",
   "metadata": {},
   "source": [
    "## Lagged Variable Creation\n",
    "\n",
    "<div class=\"alert alert-block alert-danger\">\n",
    "<b>Assumption: </b> the first available observation for the company coincides with the first week the company has opened its instagram account\n",
    "</div>"
   ]
  },
  {
   "cell_type": "code",
   "execution_count": 648,
   "id": "4196dbf2-8120-4d8f-91d6-16f8d3eb04d0",
   "metadata": {},
   "outputs": [
    {
     "data": {
      "text/html": [
       "<div>\n",
       "<style scoped>\n",
       "    .dataframe tbody tr th:only-of-type {\n",
       "        vertical-align: middle;\n",
       "    }\n",
       "\n",
       "    .dataframe tbody tr th {\n",
       "        vertical-align: top;\n",
       "    }\n",
       "\n",
       "    .dataframe thead th {\n",
       "        text-align: right;\n",
       "    }\n",
       "</style>\n",
       "<table border=\"1\" class=\"dataframe\">\n",
       "  <thead>\n",
       "    <tr style=\"text-align: right;\">\n",
       "      <th></th>\n",
       "      <th>business_entity_doing_business_as_name</th>\n",
       "      <th>period_end_date</th>\n",
       "      <th>lag_1_date</th>\n",
       "      <th>timediff_1</th>\n",
       "      <th>followers</th>\n",
       "      <th>lag_1_followers</th>\n",
       "    </tr>\n",
       "  </thead>\n",
       "  <tbody>\n",
       "    <tr>\n",
       "      <th>239152</th>\n",
       "      <td>24S</td>\n",
       "      <td>2017-05-06</td>\n",
       "      <td>NaT</td>\n",
       "      <td>NaN</td>\n",
       "      <td>NaN</td>\n",
       "      <td>0.0</td>\n",
       "    </tr>\n",
       "    <tr>\n",
       "      <th>239828</th>\n",
       "      <td>24S</td>\n",
       "      <td>2017-05-06</td>\n",
       "      <td>2017-05-06</td>\n",
       "      <td>0.0</td>\n",
       "      <td>NaN</td>\n",
       "      <td>NaN</td>\n",
       "    </tr>\n",
       "    <tr>\n",
       "      <th>239841</th>\n",
       "      <td>24S</td>\n",
       "      <td>2017-05-06</td>\n",
       "      <td>2017-05-06</td>\n",
       "      <td>0.0</td>\n",
       "      <td>NaN</td>\n",
       "      <td>NaN</td>\n",
       "    </tr>\n",
       "  </tbody>\n",
       "</table>\n",
       "</div>"
      ],
      "text/plain": [
       "       business_entity_doing_business_as_name period_end_date lag_1_date  \\\n",
       "239152                                    24S      2017-05-06        NaT   \n",
       "239828                                    24S      2017-05-06 2017-05-06   \n",
       "239841                                    24S      2017-05-06 2017-05-06   \n",
       "\n",
       "        timediff_1  followers  lag_1_followers  \n",
       "239152         NaN        NaN              0.0  \n",
       "239828         0.0        NaN              NaN  \n",
       "239841         0.0        NaN              NaN  "
      ]
     },
     "execution_count": 648,
     "metadata": {},
     "output_type": "execute_result"
    }
   ],
   "source": [
    "df.sort_values([\"business_entity_doing_business_as_name\", 'period_end_date'], inplace=True) \n",
    "# ['followers', 'pictures', 'videos', 'comments']\n",
    "lag_var = 'followers'\n",
    "lag_size = 1\n",
    "\n",
    "df[f'lag_{lag_size}_{lag_var}'] = df[lag_var].shift(lag_size)\n",
    "df[f'lag_{lag_size}_date'] = df['period_end_date'].shift(lag_size)  # to check the time difference\n",
    "df[f'lag_{lag_size}_company'] = df[\"business_entity_doing_business_as_name\"].shift(lag_size)\n",
    "df[f'timediff_{lag_size}'] = df['period_end_date'] - df[f'lag_{lag_size}_date']\n",
    "df[f'timediff_{lag_size}'] = df[f'timediff_{lag_size}'].apply(lambda x: x.days // 7)\n",
    "\n",
    "# set to 0 the ones where company has changed\n",
    "# ASSUMPTION HERE\n",
    "df.loc[ df[f'lag_{lag_size}_company'] != df[\"business_entity_doing_business_as_name\"], f'lag_{lag_size}_{lag_var}']  = 0\n",
    "#df.loc[ df[f'lag_{lag_size}_company'] != df[\"business_entity_doing_business_as_name\"], f'lag_{lag_size}_date']  = np.nan\n",
    "\n",
    "# TODO: check if the lag is the same as time difference\n",
    "#df.loc[ df[f'timediff_{lag_size}'] != lag_size, f'lag_{lag_size}_{lag_var}']  = np.nan\n",
    "#df.loc[ df[f'timediff_{lag_size}'] == lag_size, f'lag_{lag_size}_date']  = np.nan\n",
    "\n",
    "df[[\"business_entity_doing_business_as_name\",  'period_end_date', f'lag_{lag_size}_date', f'timediff_{lag_size}',  lag_var, f'lag_{lag_size}_{lag_var}']].head(3)"
   ]
  },
  {
   "cell_type": "code",
   "execution_count": 649,
   "id": "2d2ff277-3aba-46b0-b414-6a0c0fb813f9",
   "metadata": {},
   "outputs": [
    {
     "data": {
      "text/plain": [
       "lag_1_date         0.000001\n",
       "timediff_1         0.000001\n",
       "followers          0.177556\n",
       "lag_1_followers    0.177550\n",
       "dtype: float64"
      ]
     },
     "execution_count": 649,
     "metadata": {},
     "output_type": "execute_result"
    }
   ],
   "source": [
    "df[[f'lag_{lag_size}_date', f'timediff_{lag_size}',  lag_var, f'lag_{lag_size}_{lag_var}']].isna().sum(axis=0) / len(df)"
   ]
  },
  {
   "cell_type": "code",
   "execution_count": 659,
   "id": "052afe4c-9aa0-48f0-a534-3a17802c3f87",
   "metadata": {},
   "outputs": [
    {
     "data": {
      "text/plain": [
       "timediff_1\n",
       "-454.0           453\n",
       "-453.0             1\n",
       "-452.0             1\n",
       "-449.0             7\n",
       "-445.0            10\n",
       "               ...  \n",
       "-128.0             1\n",
       "-54.0              1\n",
       "-45.0              2\n",
       "-25.0              1\n",
       " 0.0          405818\n",
       "Length: 76, dtype: int64"
      ]
     },
     "execution_count": 659,
     "metadata": {},
     "output_type": "execute_result"
    }
   ],
   "source": [
    "#df.loc[ df[f'timediff_{lag_size}']  < 0, [\"business_entity_doing_business_as_name\", f'lag_{lag_size}_company', 'period_end_date', f'lag_{lag_size}_date', f'timediff_{lag_size}']]\n",
    "df.loc[ df[f'timediff_{lag_size}'] != lag_size, [f'timediff_{lag_size}']].value_counts().sort_index()\n"
   ]
  },
  {
   "cell_type": "code",
   "execution_count": 638,
   "id": "f1fc261a-41b9-420f-a0c1-1f271401e2a2",
   "metadata": {},
   "outputs": [
    {
     "data": {
      "text/html": [
       "<div>\n",
       "<style scoped>\n",
       "    .dataframe tbody tr th:only-of-type {\n",
       "        vertical-align: middle;\n",
       "    }\n",
       "\n",
       "    .dataframe tbody tr th {\n",
       "        vertical-align: top;\n",
       "    }\n",
       "\n",
       "    .dataframe thead th {\n",
       "        text-align: right;\n",
       "    }\n",
       "</style>\n",
       "<table border=\"1\" class=\"dataframe\">\n",
       "  <thead>\n",
       "    <tr style=\"text-align: right;\">\n",
       "      <th></th>\n",
       "      <th>period_end_date</th>\n",
       "      <th>lag_1_date</th>\n",
       "      <th>timediff_1</th>\n",
       "    </tr>\n",
       "  </thead>\n",
       "  <tbody>\n",
       "  </tbody>\n",
       "</table>\n",
       "</div>"
      ],
      "text/plain": [
       "Empty DataFrame\n",
       "Columns: [period_end_date, lag_1_date, timediff_1]\n",
       "Index: []"
      ]
     },
     "execution_count": 638,
     "metadata": {},
     "output_type": "execute_result"
    }
   ],
   "source": [
    "df_pos = df.loc[df[f'timediff_{lag_size}']>0]\n",
    "df_pos .loc[ df_pos[f'timediff_{lag_size}'] != lag_size, ['period_end_date', f'lag_{lag_size}_date', f'timediff_{lag_size}']]  "
   ]
  }
 ],
 "metadata": {
  "kernelspec": {
   "display_name": "Python 3 (ipykernel)",
   "language": "python",
   "name": "python3"
  },
  "language_info": {
   "codemirror_mode": {
    "name": "ipython",
    "version": 3
   },
   "file_extension": ".py",
   "mimetype": "text/x-python",
   "name": "python",
   "nbconvert_exporter": "python",
   "pygments_lexer": "ipython3",
   "version": "3.8.12"
  }
 },
 "nbformat": 4,
 "nbformat_minor": 5
}
