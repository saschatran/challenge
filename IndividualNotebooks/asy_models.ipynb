{
 "cells": [
  {
   "cell_type": "markdown",
   "id": "eb1fa13c-cf97-4961-b7b5-609ab9095cd5",
   "metadata": {},
   "source": [
    "# Anomaly Detection Models"
   ]
  },
  {
   "cell_type": "code",
   "execution_count": 1,
   "id": "be38da07-180e-4794-948e-97b25a47fc8e",
   "metadata": {},
   "outputs": [],
   "source": [
    "import pandas as pd\n",
    "import numpy as np\n",
    "import matplotlib.pylab as plt\n",
    "import seaborn as sns\n",
    "plt.style.use('ggplot')\n",
    "#pd.set_option('max_columns', 200)\n",
    "from sklearn.model_selection import train_test_split"
   ]
  },
  {
   "cell_type": "code",
   "execution_count": 2,
   "id": "9fb6da36-f7c4-48f0-8a76-7e90f9ed6a07",
   "metadata": {},
   "outputs": [],
   "source": [
    "path = '../data/data_preparation_output.csv'  # ASY local path\n",
    "# path = \"../data/skylab_instagram_datathon_dataset.csv\" # gen\n",
    "df = pd.read_csv(path) #sep='delimiter', header=None) # sep=\";\", "
   ]
  },
  {
   "cell_type": "code",
   "execution_count": 14,
   "id": "e9a2cf21-b035-42fa-9d06-036024decc1f",
   "metadata": {},
   "outputs": [
    {
     "data": {
      "text/html": [
       "<div>\n",
       "<style scoped>\n",
       "    .dataframe tbody tr th:only-of-type {\n",
       "        vertical-align: middle;\n",
       "    }\n",
       "\n",
       "    .dataframe tbody tr th {\n",
       "        vertical-align: top;\n",
       "    }\n",
       "\n",
       "    .dataframe thead th {\n",
       "        text-align: right;\n",
       "    }\n",
       "</style>\n",
       "<table border=\"1\" class=\"dataframe\">\n",
       "  <thead>\n",
       "    <tr style=\"text-align: right;\">\n",
       "      <th></th>\n",
       "      <th>period_end_date</th>\n",
       "      <th>compset_group</th>\n",
       "      <th>business_entity_doing_business_as_name</th>\n",
       "      <th>legal_entity_name</th>\n",
       "      <th>domicile_country_name</th>\n",
       "      <th>ultimate_parent_legal_entity_name</th>\n",
       "      <th>primary_exchange_name</th>\n",
       "      <th>followers</th>\n",
       "      <th>pictures</th>\n",
       "      <th>videos</th>\n",
       "      <th>...</th>\n",
       "      <th>timediff_1</th>\n",
       "      <th>diff_1_followers</th>\n",
       "      <th>lag_1_pictures</th>\n",
       "      <th>diff_1_pictures</th>\n",
       "      <th>lag_1_videos</th>\n",
       "      <th>diff_1_videos</th>\n",
       "      <th>lag_1_comments</th>\n",
       "      <th>diff_1_comments</th>\n",
       "      <th>Country Name</th>\n",
       "      <th>Gene Index</th>\n",
       "    </tr>\n",
       "  </thead>\n",
       "  <tbody>\n",
       "    <tr>\n",
       "      <th>0</th>\n",
       "      <td>2017-05-06</td>\n",
       "      <td>apparel retail</td>\n",
       "      <td>24s</td>\n",
       "      <td>lvmh moet hennessy louis vuitton se</td>\n",
       "      <td>france</td>\n",
       "      <td>lvmh moet hennessy louis vuitton se</td>\n",
       "      <td>euronext paris</td>\n",
       "      <td>NaN</td>\n",
       "      <td>NaN</td>\n",
       "      <td>NaN</td>\n",
       "      <td>...</td>\n",
       "      <td>NaN</td>\n",
       "      <td>NaN</td>\n",
       "      <td>0.0</td>\n",
       "      <td>NaN</td>\n",
       "      <td>0.0</td>\n",
       "      <td>NaN</td>\n",
       "      <td>0.0</td>\n",
       "      <td>NaN</td>\n",
       "      <td>NaN</td>\n",
       "      <td>NaN</td>\n",
       "    </tr>\n",
       "    <tr>\n",
       "      <th>1</th>\n",
       "      <td>2017-05-13</td>\n",
       "      <td>apparel retail</td>\n",
       "      <td>24s</td>\n",
       "      <td>lvmh moet hennessy louis vuitton se</td>\n",
       "      <td>france</td>\n",
       "      <td>lvmh moet hennessy louis vuitton se</td>\n",
       "      <td>euronext paris</td>\n",
       "      <td>NaN</td>\n",
       "      <td>6.0</td>\n",
       "      <td>3.0</td>\n",
       "      <td>...</td>\n",
       "      <td>1.0</td>\n",
       "      <td>NaN</td>\n",
       "      <td>NaN</td>\n",
       "      <td>NaN</td>\n",
       "      <td>NaN</td>\n",
       "      <td>NaN</td>\n",
       "      <td>NaN</td>\n",
       "      <td>NaN</td>\n",
       "      <td>NaN</td>\n",
       "      <td>NaN</td>\n",
       "    </tr>\n",
       "    <tr>\n",
       "      <th>2</th>\n",
       "      <td>2017-05-20</td>\n",
       "      <td>apparel retail</td>\n",
       "      <td>24s</td>\n",
       "      <td>lvmh moet hennessy louis vuitton se</td>\n",
       "      <td>france</td>\n",
       "      <td>lvmh moet hennessy louis vuitton se</td>\n",
       "      <td>euronext paris</td>\n",
       "      <td>NaN</td>\n",
       "      <td>6.0</td>\n",
       "      <td>3.0</td>\n",
       "      <td>...</td>\n",
       "      <td>1.0</td>\n",
       "      <td>NaN</td>\n",
       "      <td>6.0</td>\n",
       "      <td>0.0</td>\n",
       "      <td>3.0</td>\n",
       "      <td>0.0</td>\n",
       "      <td>57.0</td>\n",
       "      <td>0.0</td>\n",
       "      <td>NaN</td>\n",
       "      <td>NaN</td>\n",
       "    </tr>\n",
       "    <tr>\n",
       "      <th>3</th>\n",
       "      <td>2017-05-27</td>\n",
       "      <td>apparel retail</td>\n",
       "      <td>24s</td>\n",
       "      <td>lvmh moet hennessy louis vuitton se</td>\n",
       "      <td>france</td>\n",
       "      <td>lvmh moet hennessy louis vuitton se</td>\n",
       "      <td>euronext paris</td>\n",
       "      <td>NaN</td>\n",
       "      <td>6.0</td>\n",
       "      <td>3.0</td>\n",
       "      <td>...</td>\n",
       "      <td>1.0</td>\n",
       "      <td>NaN</td>\n",
       "      <td>6.0</td>\n",
       "      <td>0.0</td>\n",
       "      <td>3.0</td>\n",
       "      <td>0.0</td>\n",
       "      <td>57.0</td>\n",
       "      <td>0.0</td>\n",
       "      <td>NaN</td>\n",
       "      <td>NaN</td>\n",
       "    </tr>\n",
       "    <tr>\n",
       "      <th>4</th>\n",
       "      <td>2017-06-03</td>\n",
       "      <td>apparel retail</td>\n",
       "      <td>24s</td>\n",
       "      <td>lvmh moet hennessy louis vuitton se</td>\n",
       "      <td>france</td>\n",
       "      <td>lvmh moet hennessy louis vuitton se</td>\n",
       "      <td>euronext paris</td>\n",
       "      <td>NaN</td>\n",
       "      <td>24.0</td>\n",
       "      <td>3.0</td>\n",
       "      <td>...</td>\n",
       "      <td>1.0</td>\n",
       "      <td>NaN</td>\n",
       "      <td>6.0</td>\n",
       "      <td>18.0</td>\n",
       "      <td>3.0</td>\n",
       "      <td>0.0</td>\n",
       "      <td>57.0</td>\n",
       "      <td>52.0</td>\n",
       "      <td>NaN</td>\n",
       "      <td>NaN</td>\n",
       "    </tr>\n",
       "  </tbody>\n",
       "</table>\n",
       "<p>5 rows × 66 columns</p>\n",
       "</div>"
      ],
      "text/plain": [
       "  period_end_date   compset_group business_entity_doing_business_as_name  \\\n",
       "0      2017-05-06  apparel retail                                    24s   \n",
       "1      2017-05-13  apparel retail                                    24s   \n",
       "2      2017-05-20  apparel retail                                    24s   \n",
       "3      2017-05-27  apparel retail                                    24s   \n",
       "4      2017-06-03  apparel retail                                    24s   \n",
       "\n",
       "                     legal_entity_name domicile_country_name  \\\n",
       "0  lvmh moet hennessy louis vuitton se                france   \n",
       "1  lvmh moet hennessy louis vuitton se                france   \n",
       "2  lvmh moet hennessy louis vuitton se                france   \n",
       "3  lvmh moet hennessy louis vuitton se                france   \n",
       "4  lvmh moet hennessy louis vuitton se                france   \n",
       "\n",
       "     ultimate_parent_legal_entity_name primary_exchange_name  followers  \\\n",
       "0  lvmh moet hennessy louis vuitton se        euronext paris        NaN   \n",
       "1  lvmh moet hennessy louis vuitton se        euronext paris        NaN   \n",
       "2  lvmh moet hennessy louis vuitton se        euronext paris        NaN   \n",
       "3  lvmh moet hennessy louis vuitton se        euronext paris        NaN   \n",
       "4  lvmh moet hennessy louis vuitton se        euronext paris        NaN   \n",
       "\n",
       "   pictures  videos  ...  timediff_1  diff_1_followers lag_1_pictures  \\\n",
       "0       NaN     NaN  ...         NaN               NaN            0.0   \n",
       "1       6.0     3.0  ...         1.0               NaN            NaN   \n",
       "2       6.0     3.0  ...         1.0               NaN            6.0   \n",
       "3       6.0     3.0  ...         1.0               NaN            6.0   \n",
       "4      24.0     3.0  ...         1.0               NaN            6.0   \n",
       "\n",
       "   diff_1_pictures  lag_1_videos  diff_1_videos  lag_1_comments  \\\n",
       "0              NaN           0.0            NaN             0.0   \n",
       "1              NaN           NaN            NaN             NaN   \n",
       "2              0.0           3.0            0.0            57.0   \n",
       "3              0.0           3.0            0.0            57.0   \n",
       "4             18.0           3.0            0.0            57.0   \n",
       "\n",
       "   diff_1_comments  Country Name  Gene Index  \n",
       "0              NaN           NaN         NaN  \n",
       "1              NaN           NaN         NaN  \n",
       "2              0.0           NaN         NaN  \n",
       "3              0.0           NaN         NaN  \n",
       "4             52.0           NaN         NaN  \n",
       "\n",
       "[5 rows x 66 columns]"
      ]
     },
     "execution_count": 14,
     "metadata": {},
     "output_type": "execute_result"
    }
   ],
   "source": [
    "df.head()"
   ]
  },
  {
   "cell_type": "markdown",
   "id": "586ed01d-37a3-4898-a61b-6167a3fcff8d",
   "metadata": {},
   "source": [
    "## Approaches\n",
    "\n",
    "1. https://scikit-learn.org/stable/modules/outlier_detection.html#novelty-detection"
   ]
  },
  {
   "cell_type": "code",
   "execution_count": 3,
   "id": "a836b5ff-6830-452e-8991-750fa75722c9",
   "metadata": {},
   "outputs": [],
   "source": [
    "#X_train, X_Test = train_test_split(X, y, test_size=0.33, random_state=42)\n",
    "from sklearn import svm"
   ]
  },
  {
   "cell_type": "code",
   "execution_count": 4,
   "id": "b8d1f2d9-f14f-4183-98c8-ea0571b5efaa",
   "metadata": {},
   "outputs": [
    {
     "ename": "ValueError",
     "evalue": "could not convert string to float: '2017-05-06'",
     "output_type": "error",
     "traceback": [
      "\u001b[0;31m---------------------------------------------------------------------------\u001b[0m",
      "\u001b[0;31mValueError\u001b[0m                                Traceback (most recent call last)",
      "\u001b[0;32m/var/folders/xx/6tz780r13t57q640kxzkc46w0000gn/T/ipykernel_60572/294174535.py\u001b[0m in \u001b[0;36m<module>\u001b[0;34m\u001b[0m\n\u001b[1;32m      1\u001b[0m \u001b[0mclf\u001b[0m \u001b[0;34m=\u001b[0m \u001b[0msvm\u001b[0m\u001b[0;34m.\u001b[0m\u001b[0mOneClassSVM\u001b[0m\u001b[0;34m(\u001b[0m\u001b[0mnu\u001b[0m\u001b[0;34m=\u001b[0m\u001b[0;36m0.1\u001b[0m\u001b[0;34m,\u001b[0m \u001b[0mkernel\u001b[0m\u001b[0;34m=\u001b[0m\u001b[0;34m\"rbf\"\u001b[0m\u001b[0;34m,\u001b[0m \u001b[0mgamma\u001b[0m\u001b[0;34m=\u001b[0m\u001b[0;36m0.1\u001b[0m\u001b[0;34m)\u001b[0m\u001b[0;34m\u001b[0m\u001b[0;34m\u001b[0m\u001b[0m\n\u001b[0;32m----> 2\u001b[0;31m \u001b[0mclf\u001b[0m\u001b[0;34m.\u001b[0m\u001b[0mfit\u001b[0m\u001b[0;34m(\u001b[0m\u001b[0mdf\u001b[0m\u001b[0;34m)\u001b[0m\u001b[0;34m\u001b[0m\u001b[0;34m\u001b[0m\u001b[0m\n\u001b[0m",
      "\u001b[0;32m~/opt/anaconda3/lib/python3.8/site-packages/sklearn/svm/_classes.py\u001b[0m in \u001b[0;36mfit\u001b[0;34m(self, X, y, sample_weight, **params)\u001b[0m\n\u001b[1;32m   1629\u001b[0m                 \u001b[0mFutureWarning\u001b[0m\u001b[0;34m,\u001b[0m\u001b[0;34m\u001b[0m\u001b[0;34m\u001b[0m\u001b[0m\n\u001b[1;32m   1630\u001b[0m             )\n\u001b[0;32m-> 1631\u001b[0;31m         \u001b[0msuper\u001b[0m\u001b[0;34m(\u001b[0m\u001b[0;34m)\u001b[0m\u001b[0;34m.\u001b[0m\u001b[0mfit\u001b[0m\u001b[0;34m(\u001b[0m\u001b[0mX\u001b[0m\u001b[0;34m,\u001b[0m \u001b[0mnp\u001b[0m\u001b[0;34m.\u001b[0m\u001b[0mones\u001b[0m\u001b[0;34m(\u001b[0m\u001b[0m_num_samples\u001b[0m\u001b[0;34m(\u001b[0m\u001b[0mX\u001b[0m\u001b[0;34m)\u001b[0m\u001b[0;34m)\u001b[0m\u001b[0;34m,\u001b[0m \u001b[0msample_weight\u001b[0m\u001b[0;34m=\u001b[0m\u001b[0msample_weight\u001b[0m\u001b[0;34m)\u001b[0m\u001b[0;34m\u001b[0m\u001b[0;34m\u001b[0m\u001b[0m\n\u001b[0m\u001b[1;32m   1632\u001b[0m         \u001b[0mself\u001b[0m\u001b[0;34m.\u001b[0m\u001b[0moffset_\u001b[0m \u001b[0;34m=\u001b[0m \u001b[0;34m-\u001b[0m\u001b[0mself\u001b[0m\u001b[0;34m.\u001b[0m\u001b[0m_intercept_\u001b[0m\u001b[0;34m\u001b[0m\u001b[0;34m\u001b[0m\u001b[0m\n\u001b[1;32m   1633\u001b[0m         \u001b[0;32mreturn\u001b[0m \u001b[0mself\u001b[0m\u001b[0;34m\u001b[0m\u001b[0;34m\u001b[0m\u001b[0m\n",
      "\u001b[0;32m~/opt/anaconda3/lib/python3.8/site-packages/sklearn/svm/_base.py\u001b[0m in \u001b[0;36mfit\u001b[0;34m(self, X, y, sample_weight)\u001b[0m\n\u001b[1;32m    188\u001b[0m             \u001b[0mcheck_consistent_length\u001b[0m\u001b[0;34m(\u001b[0m\u001b[0mX\u001b[0m\u001b[0;34m,\u001b[0m \u001b[0my\u001b[0m\u001b[0;34m)\u001b[0m\u001b[0;34m\u001b[0m\u001b[0;34m\u001b[0m\u001b[0m\n\u001b[1;32m    189\u001b[0m         \u001b[0;32melse\u001b[0m\u001b[0;34m:\u001b[0m\u001b[0;34m\u001b[0m\u001b[0;34m\u001b[0m\u001b[0m\n\u001b[0;32m--> 190\u001b[0;31m             X, y = self._validate_data(\n\u001b[0m\u001b[1;32m    191\u001b[0m                 \u001b[0mX\u001b[0m\u001b[0;34m,\u001b[0m\u001b[0;34m\u001b[0m\u001b[0;34m\u001b[0m\u001b[0m\n\u001b[1;32m    192\u001b[0m                 \u001b[0my\u001b[0m\u001b[0;34m,\u001b[0m\u001b[0;34m\u001b[0m\u001b[0;34m\u001b[0m\u001b[0m\n",
      "\u001b[0;32m~/opt/anaconda3/lib/python3.8/site-packages/sklearn/base.py\u001b[0m in \u001b[0;36m_validate_data\u001b[0;34m(self, X, y, reset, validate_separately, **check_params)\u001b[0m\n\u001b[1;32m    574\u001b[0m                 \u001b[0my\u001b[0m \u001b[0;34m=\u001b[0m \u001b[0mcheck_array\u001b[0m\u001b[0;34m(\u001b[0m\u001b[0my\u001b[0m\u001b[0;34m,\u001b[0m \u001b[0;34m**\u001b[0m\u001b[0mcheck_y_params\u001b[0m\u001b[0;34m)\u001b[0m\u001b[0;34m\u001b[0m\u001b[0;34m\u001b[0m\u001b[0m\n\u001b[1;32m    575\u001b[0m             \u001b[0;32melse\u001b[0m\u001b[0;34m:\u001b[0m\u001b[0;34m\u001b[0m\u001b[0;34m\u001b[0m\u001b[0m\n\u001b[0;32m--> 576\u001b[0;31m                 \u001b[0mX\u001b[0m\u001b[0;34m,\u001b[0m \u001b[0my\u001b[0m \u001b[0;34m=\u001b[0m \u001b[0mcheck_X_y\u001b[0m\u001b[0;34m(\u001b[0m\u001b[0mX\u001b[0m\u001b[0;34m,\u001b[0m \u001b[0my\u001b[0m\u001b[0;34m,\u001b[0m \u001b[0;34m**\u001b[0m\u001b[0mcheck_params\u001b[0m\u001b[0;34m)\u001b[0m\u001b[0;34m\u001b[0m\u001b[0;34m\u001b[0m\u001b[0m\n\u001b[0m\u001b[1;32m    577\u001b[0m             \u001b[0mout\u001b[0m \u001b[0;34m=\u001b[0m \u001b[0mX\u001b[0m\u001b[0;34m,\u001b[0m \u001b[0my\u001b[0m\u001b[0;34m\u001b[0m\u001b[0;34m\u001b[0m\u001b[0m\n\u001b[1;32m    578\u001b[0m \u001b[0;34m\u001b[0m\u001b[0m\n",
      "\u001b[0;32m~/opt/anaconda3/lib/python3.8/site-packages/sklearn/utils/validation.py\u001b[0m in \u001b[0;36mcheck_X_y\u001b[0;34m(X, y, accept_sparse, accept_large_sparse, dtype, order, copy, force_all_finite, ensure_2d, allow_nd, multi_output, ensure_min_samples, ensure_min_features, y_numeric, estimator)\u001b[0m\n\u001b[1;32m    954\u001b[0m         \u001b[0;32mraise\u001b[0m \u001b[0mValueError\u001b[0m\u001b[0;34m(\u001b[0m\u001b[0;34m\"y cannot be None\"\u001b[0m\u001b[0;34m)\u001b[0m\u001b[0;34m\u001b[0m\u001b[0;34m\u001b[0m\u001b[0m\n\u001b[1;32m    955\u001b[0m \u001b[0;34m\u001b[0m\u001b[0m\n\u001b[0;32m--> 956\u001b[0;31m     X = check_array(\n\u001b[0m\u001b[1;32m    957\u001b[0m         \u001b[0mX\u001b[0m\u001b[0;34m,\u001b[0m\u001b[0;34m\u001b[0m\u001b[0;34m\u001b[0m\u001b[0m\n\u001b[1;32m    958\u001b[0m         \u001b[0maccept_sparse\u001b[0m\u001b[0;34m=\u001b[0m\u001b[0maccept_sparse\u001b[0m\u001b[0;34m,\u001b[0m\u001b[0;34m\u001b[0m\u001b[0;34m\u001b[0m\u001b[0m\n",
      "\u001b[0;32m~/opt/anaconda3/lib/python3.8/site-packages/sklearn/utils/validation.py\u001b[0m in \u001b[0;36mcheck_array\u001b[0;34m(array, accept_sparse, accept_large_sparse, dtype, order, copy, force_all_finite, ensure_2d, allow_nd, ensure_min_samples, ensure_min_features, estimator)\u001b[0m\n\u001b[1;32m    736\u001b[0m                     \u001b[0marray\u001b[0m \u001b[0;34m=\u001b[0m \u001b[0marray\u001b[0m\u001b[0;34m.\u001b[0m\u001b[0mastype\u001b[0m\u001b[0;34m(\u001b[0m\u001b[0mdtype\u001b[0m\u001b[0;34m,\u001b[0m \u001b[0mcasting\u001b[0m\u001b[0;34m=\u001b[0m\u001b[0;34m\"unsafe\"\u001b[0m\u001b[0;34m,\u001b[0m \u001b[0mcopy\u001b[0m\u001b[0;34m=\u001b[0m\u001b[0;32mFalse\u001b[0m\u001b[0;34m)\u001b[0m\u001b[0;34m\u001b[0m\u001b[0;34m\u001b[0m\u001b[0m\n\u001b[1;32m    737\u001b[0m                 \u001b[0;32melse\u001b[0m\u001b[0;34m:\u001b[0m\u001b[0;34m\u001b[0m\u001b[0;34m\u001b[0m\u001b[0m\n\u001b[0;32m--> 738\u001b[0;31m                     \u001b[0marray\u001b[0m \u001b[0;34m=\u001b[0m \u001b[0mnp\u001b[0m\u001b[0;34m.\u001b[0m\u001b[0masarray\u001b[0m\u001b[0;34m(\u001b[0m\u001b[0marray\u001b[0m\u001b[0;34m,\u001b[0m \u001b[0morder\u001b[0m\u001b[0;34m=\u001b[0m\u001b[0morder\u001b[0m\u001b[0;34m,\u001b[0m \u001b[0mdtype\u001b[0m\u001b[0;34m=\u001b[0m\u001b[0mdtype\u001b[0m\u001b[0;34m)\u001b[0m\u001b[0;34m\u001b[0m\u001b[0;34m\u001b[0m\u001b[0m\n\u001b[0m\u001b[1;32m    739\u001b[0m             \u001b[0;32mexcept\u001b[0m \u001b[0mComplexWarning\u001b[0m \u001b[0;32mas\u001b[0m \u001b[0mcomplex_warning\u001b[0m\u001b[0;34m:\u001b[0m\u001b[0;34m\u001b[0m\u001b[0;34m\u001b[0m\u001b[0m\n\u001b[1;32m    740\u001b[0m                 raise ValueError(\n",
      "\u001b[0;32m~/opt/anaconda3/lib/python3.8/site-packages/numpy/core/_asarray.py\u001b[0m in \u001b[0;36masarray\u001b[0;34m(a, dtype, order, like)\u001b[0m\n\u001b[1;32m    100\u001b[0m         \u001b[0;32mreturn\u001b[0m \u001b[0m_asarray_with_like\u001b[0m\u001b[0;34m(\u001b[0m\u001b[0ma\u001b[0m\u001b[0;34m,\u001b[0m \u001b[0mdtype\u001b[0m\u001b[0;34m=\u001b[0m\u001b[0mdtype\u001b[0m\u001b[0;34m,\u001b[0m \u001b[0morder\u001b[0m\u001b[0;34m=\u001b[0m\u001b[0morder\u001b[0m\u001b[0;34m,\u001b[0m \u001b[0mlike\u001b[0m\u001b[0;34m=\u001b[0m\u001b[0mlike\u001b[0m\u001b[0;34m)\u001b[0m\u001b[0;34m\u001b[0m\u001b[0;34m\u001b[0m\u001b[0m\n\u001b[1;32m    101\u001b[0m \u001b[0;34m\u001b[0m\u001b[0m\n\u001b[0;32m--> 102\u001b[0;31m     \u001b[0;32mreturn\u001b[0m \u001b[0marray\u001b[0m\u001b[0;34m(\u001b[0m\u001b[0ma\u001b[0m\u001b[0;34m,\u001b[0m \u001b[0mdtype\u001b[0m\u001b[0;34m,\u001b[0m \u001b[0mcopy\u001b[0m\u001b[0;34m=\u001b[0m\u001b[0;32mFalse\u001b[0m\u001b[0;34m,\u001b[0m \u001b[0morder\u001b[0m\u001b[0;34m=\u001b[0m\u001b[0morder\u001b[0m\u001b[0;34m)\u001b[0m\u001b[0;34m\u001b[0m\u001b[0;34m\u001b[0m\u001b[0m\n\u001b[0m\u001b[1;32m    103\u001b[0m \u001b[0;34m\u001b[0m\u001b[0m\n\u001b[1;32m    104\u001b[0m \u001b[0;34m\u001b[0m\u001b[0m\n",
      "\u001b[0;32m~/opt/anaconda3/lib/python3.8/site-packages/pandas/core/generic.py\u001b[0m in \u001b[0;36m__array__\u001b[0;34m(self, dtype)\u001b[0m\n\u001b[1;32m   1991\u001b[0m \u001b[0;34m\u001b[0m\u001b[0m\n\u001b[1;32m   1992\u001b[0m     \u001b[0;32mdef\u001b[0m \u001b[0m__array__\u001b[0m\u001b[0;34m(\u001b[0m\u001b[0mself\u001b[0m\u001b[0;34m,\u001b[0m \u001b[0mdtype\u001b[0m\u001b[0;34m:\u001b[0m \u001b[0mNpDtype\u001b[0m \u001b[0;34m|\u001b[0m \u001b[0;32mNone\u001b[0m \u001b[0;34m=\u001b[0m \u001b[0;32mNone\u001b[0m\u001b[0;34m)\u001b[0m \u001b[0;34m->\u001b[0m \u001b[0mnp\u001b[0m\u001b[0;34m.\u001b[0m\u001b[0mndarray\u001b[0m\u001b[0;34m:\u001b[0m\u001b[0;34m\u001b[0m\u001b[0;34m\u001b[0m\u001b[0m\n\u001b[0;32m-> 1993\u001b[0;31m         \u001b[0;32mreturn\u001b[0m \u001b[0mnp\u001b[0m\u001b[0;34m.\u001b[0m\u001b[0masarray\u001b[0m\u001b[0;34m(\u001b[0m\u001b[0mself\u001b[0m\u001b[0;34m.\u001b[0m\u001b[0m_values\u001b[0m\u001b[0;34m,\u001b[0m \u001b[0mdtype\u001b[0m\u001b[0;34m=\u001b[0m\u001b[0mdtype\u001b[0m\u001b[0;34m)\u001b[0m\u001b[0;34m\u001b[0m\u001b[0;34m\u001b[0m\u001b[0m\n\u001b[0m\u001b[1;32m   1994\u001b[0m \u001b[0;34m\u001b[0m\u001b[0m\n\u001b[1;32m   1995\u001b[0m     def __array_wrap__(\n",
      "\u001b[0;32m~/opt/anaconda3/lib/python3.8/site-packages/numpy/core/_asarray.py\u001b[0m in \u001b[0;36masarray\u001b[0;34m(a, dtype, order, like)\u001b[0m\n\u001b[1;32m    100\u001b[0m         \u001b[0;32mreturn\u001b[0m \u001b[0m_asarray_with_like\u001b[0m\u001b[0;34m(\u001b[0m\u001b[0ma\u001b[0m\u001b[0;34m,\u001b[0m \u001b[0mdtype\u001b[0m\u001b[0;34m=\u001b[0m\u001b[0mdtype\u001b[0m\u001b[0;34m,\u001b[0m \u001b[0morder\u001b[0m\u001b[0;34m=\u001b[0m\u001b[0morder\u001b[0m\u001b[0;34m,\u001b[0m \u001b[0mlike\u001b[0m\u001b[0;34m=\u001b[0m\u001b[0mlike\u001b[0m\u001b[0;34m)\u001b[0m\u001b[0;34m\u001b[0m\u001b[0;34m\u001b[0m\u001b[0m\n\u001b[1;32m    101\u001b[0m \u001b[0;34m\u001b[0m\u001b[0m\n\u001b[0;32m--> 102\u001b[0;31m     \u001b[0;32mreturn\u001b[0m \u001b[0marray\u001b[0m\u001b[0;34m(\u001b[0m\u001b[0ma\u001b[0m\u001b[0;34m,\u001b[0m \u001b[0mdtype\u001b[0m\u001b[0;34m,\u001b[0m \u001b[0mcopy\u001b[0m\u001b[0;34m=\u001b[0m\u001b[0;32mFalse\u001b[0m\u001b[0;34m,\u001b[0m \u001b[0morder\u001b[0m\u001b[0;34m=\u001b[0m\u001b[0morder\u001b[0m\u001b[0;34m)\u001b[0m\u001b[0;34m\u001b[0m\u001b[0;34m\u001b[0m\u001b[0m\n\u001b[0m\u001b[1;32m    103\u001b[0m \u001b[0;34m\u001b[0m\u001b[0m\n\u001b[1;32m    104\u001b[0m \u001b[0;34m\u001b[0m\u001b[0m\n",
      "\u001b[0;31mValueError\u001b[0m: could not convert string to float: '2017-05-06'"
     ]
    }
   ],
   "source": [
    "clf = svm.OneClassSVM(nu=0.1, kernel=\"rbf\", gamma=0.1)\n",
    "#clf.fit(df)"
   ]
  },
  {
   "cell_type": "code",
   "execution_count": 5,
   "id": "9a761d5f-6a7e-45eb-b9c7-1921b50557be",
   "metadata": {},
   "outputs": [
    {
     "data": {
      "text/plain": [
       "Index(['period_end_date', 'compset_group',\n",
       "       'business_entity_doing_business_as_name', 'legal_entity_name',\n",
       "       'domicile_country_name', 'ultimate_parent_legal_entity_name',\n",
       "       'primary_exchange_name', 'followers', 'pictures', 'videos', 'comments',\n",
       "       'likes', 'compset', 'Year', 'Month', 'Day', 'Weekday',\n",
       "       'ultimate_parent_vs_legal_entity', 'ultimate_parent_vs_business_entity',\n",
       "       'legal_entity_vs_business_entity', 'same_ownership',\n",
       "       'total_involvement', 'total_company_activity', 'conversion_rate_total',\n",
       "       'return_on_activity', 'ratio_of_videos', 'ratio_of_pictures',\n",
       "       'likes_per_picture', 'likes_per_video', 'comments_per_picture',\n",
       "       'comments_per_video',\n",
       "       'business_entity_doing_business_as_name_cnt_industry',\n",
       "       'business_entity_doing_business_as_name_cnt_industry_country',\n",
       "       'followers_sum_industry', 'videos_sum_industry',\n",
       "       'pictures_sum_industry', 'likes_sum_industry', 'comments_sum_industry',\n",
       "       'followers_sum_industry_country', 'videos_sum_industry_country',\n",
       "       'pictures_sum_industry_country', 'likes_sum_industry_country',\n",
       "       'comments_sum_industry_country', 'fraction_followers_sum_industry',\n",
       "       'fraction_followers_sum_industry_country',\n",
       "       'fraction_videos_sum_industry', 'fraction_videos_sum_industry_country',\n",
       "       'fraction_pictures_sum_industry',\n",
       "       'fraction_pictures_sum_industry_country', 'fraction_likes_sum_industry',\n",
       "       'fraction_likes_sum_industry_country', 'fraction_comments_sum_industry',\n",
       "       'fraction_comments_sum_industry_country', 'lag_1_followers',\n",
       "       'lag_1_date', 'lag_1_company', 'timediff_1', 'diff_1_followers',\n",
       "       'lag_1_pictures', 'diff_1_pictures', 'lag_1_videos', 'diff_1_videos',\n",
       "       'lag_1_comments', 'diff_1_comments', 'Country Name', 'Gene Index'],\n",
       "      dtype='object')"
      ]
     },
     "execution_count": 5,
     "metadata": {},
     "output_type": "execute_result"
    }
   ],
   "source": [
    "df.columns"
   ]
  },
  {
   "cell_type": "code",
   "execution_count": 10,
   "id": "ccd3773f-292b-4d74-9c1d-b9ae00f7cfbb",
   "metadata": {},
   "outputs": [],
   "source": [
    "cols_to_ignore = ['compset', 'period_end_date', 'lag_1_date', 'lag_1_company']\n",
    "cols_of_interest = ['followers', 'pictures', 'videos', 'comments',\n",
    "       'likes', 'Year', 'Month', \n",
    "       'ultimate_parent_vs_legal_entity', 'ultimate_parent_vs_business_entity',\n",
    "       'legal_entity_vs_business_entity', 'same_ownership',\n",
    "       'total_involvement', 'total_company_activity', 'conversion_rate_total',\n",
    "       'return_on_activity', 'ratio_of_videos', 'ratio_of_pictures',\n",
    "       'likes_per_picture', 'likes_per_video', 'comments_per_picture',\n",
    "       'comments_per_video',\n",
    "       'business_entity_doing_business_as_name_cnt_industry',\n",
    "       'business_entity_doing_business_as_name_cnt_industry_country',\n",
    "       'followers_sum_industry', 'videos_sum_industry',\n",
    "       'pictures_sum_industry', 'likes_sum_industry', 'comments_sum_industry',\n",
    "       'followers_sum_industry_country', 'videos_sum_industry_country',\n",
    "       'pictures_sum_industry_country', 'likes_sum_industry_country',\n",
    "       'comments_sum_industry_country', 'fraction_followers_sum_industry',\n",
    "       'fraction_followers_sum_industry_country',\n",
    "       'fraction_videos_sum_industry', 'fraction_videos_sum_industry_country',\n",
    "       'fraction_pictures_sum_industry',\n",
    "       'fraction_pictures_sum_industry_country', 'fraction_likes_sum_industry',\n",
    "       'fraction_likes_sum_industry_country', 'fraction_comments_sum_industry',\n",
    "       'fraction_comments_sum_industry_country', 'lag_1_followers',\n",
    "        'timediff_1', 'diff_1_followers',\n",
    "       'lag_1_pictures', 'diff_1_pictures', 'lag_1_videos', 'diff_1_videos',\n",
    "       'lag_1_comments', 'diff_1_comments'] "
   ]
  },
  {
   "cell_type": "code",
   "execution_count": 14,
   "id": "eee59bab-2d45-4e42-99fc-12c19a439523",
   "metadata": {},
   "outputs": [
    {
     "name": "stdout",
     "output_type": "stream",
     "text": [
      "298040 vs 133998\n"
     ]
    }
   ],
   "source": [
    "df_analysis = df[cols_of_interest]\n",
    "no_nans = df_analysis[~df_analysis.isnull().any(axis=1)]\n",
    "print(f\"{len(df_analysis)} vs {len(no_nans)}\")"
   ]
  },
  {
   "cell_type": "markdown",
   "id": "ab904127-c2d9-447b-a1ff-ac80a3a8d363",
   "metadata": {},
   "source": [
    "https://scikit-learn.org/stable/auto_examples/svm/plot_oneclass.html#sphx-glr-auto-examples-svm-plot-oneclass-py"
   ]
  },
  {
   "cell_type": "code",
   "execution_count": null,
   "id": "2a64660c-d400-41db-93d9-e508e3b5cd52",
   "metadata": {},
   "outputs": [],
   "source": [
    "clf.fit(no_nans)"
   ]
  },
  {
   "cell_type": "code",
   "execution_count": null,
   "id": "7af41ea9-1e46-4eb4-ba46-12facf356fa2",
   "metadata": {},
   "outputs": [],
   "source": [
    "from sklearn.neighbors import LocalOutlierFactor"
   ]
  },
  {
   "cell_type": "code",
   "execution_count": null,
   "id": "58c6cc9f-2fb2-4997-8ceb-c9b69e0f2325",
   "metadata": {},
   "outputs": [],
   "source": [
    "clf_lof = LocalOutlierFactor(n_neighbors=20, novelty=True, contamination=0.1)\n",
    "clf_lof.fit(no_nans)"
   ]
  },
  {
   "cell_type": "code",
   "execution_count": null,
   "id": "14b71f4f-f630-498f-8500-726b4c98fb09",
   "metadata": {},
   "outputs": [],
   "source": []
  }
 ],
 "metadata": {
  "kernelspec": {
   "display_name": "Python 3 (ipykernel)",
   "language": "python",
   "name": "python3"
  },
  "language_info": {
   "codemirror_mode": {
    "name": "ipython",
    "version": 3
   },
   "file_extension": ".py",
   "mimetype": "text/x-python",
   "name": "python",
   "nbconvert_exporter": "python",
   "pygments_lexer": "ipython3",
   "version": "3.8.12"
  }
 },
 "nbformat": 4,
 "nbformat_minor": 5
}
