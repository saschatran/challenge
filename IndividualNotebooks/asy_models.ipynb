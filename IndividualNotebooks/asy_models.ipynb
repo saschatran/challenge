{
 "cells": [
  {
   "cell_type": "markdown",
   "id": "eb1fa13c-cf97-4961-b7b5-609ab9095cd5",
   "metadata": {},
   "source": [
    "# Anomaly Detection Models"
   ]
  },
  {
   "cell_type": "code",
   "execution_count": 1,
   "id": "be38da07-180e-4794-948e-97b25a47fc8e",
   "metadata": {},
   "outputs": [],
   "source": [
    "import pandas as pd\n",
    "import numpy as np\n",
    "import matplotlib.pylab as plt\n",
    "import seaborn as sns\n",
    "plt.style.use('ggplot')\n",
    "#pd.set_option('max_columns', 200)\n",
    "from sklearn.model_selection import train_test_split"
   ]
  },
  {
   "cell_type": "code",
   "execution_count": 2,
   "id": "9fb6da36-f7c4-48f0-8a76-7e90f9ed6a07",
   "metadata": {},
   "outputs": [],
   "source": [
    "path = '../data/data_preparation_output.csv'  # ASY local path\n",
    "# path = \"../data/skylab_instagram_datathon_dataset.csv\" # gen\n",
    "df = pd.read_csv(path) #sep='delimiter', header=None) # sep=\";\", "
   ]
  },
  {
   "cell_type": "code",
   "execution_count": 3,
   "id": "e9a2cf21-b035-42fa-9d06-036024decc1f",
   "metadata": {},
   "outputs": [
    {
     "data": {
      "text/html": [
       "<div>\n",
       "<style scoped>\n",
       "    .dataframe tbody tr th:only-of-type {\n",
       "        vertical-align: middle;\n",
       "    }\n",
       "\n",
       "    .dataframe tbody tr th {\n",
       "        vertical-align: top;\n",
       "    }\n",
       "\n",
       "    .dataframe thead th {\n",
       "        text-align: right;\n",
       "    }\n",
       "</style>\n",
       "<table border=\"1\" class=\"dataframe\">\n",
       "  <thead>\n",
       "    <tr style=\"text-align: right;\">\n",
       "      <th></th>\n",
       "      <th>period_end_date</th>\n",
       "      <th>compset_group</th>\n",
       "      <th>business_entity_doing_business_as_name</th>\n",
       "      <th>legal_entity_name</th>\n",
       "      <th>domicile_country_name</th>\n",
       "      <th>ultimate_parent_legal_entity_name</th>\n",
       "      <th>primary_exchange_name</th>\n",
       "      <th>followers</th>\n",
       "      <th>pictures</th>\n",
       "      <th>videos</th>\n",
       "      <th>...</th>\n",
       "      <th>timediff_1</th>\n",
       "      <th>diff_1_followers</th>\n",
       "      <th>lag_1_pictures</th>\n",
       "      <th>diff_1_pictures</th>\n",
       "      <th>lag_1_videos</th>\n",
       "      <th>diff_1_videos</th>\n",
       "      <th>lag_1_comments</th>\n",
       "      <th>diff_1_comments</th>\n",
       "      <th>Country Name</th>\n",
       "      <th>Gene Index</th>\n",
       "    </tr>\n",
       "  </thead>\n",
       "  <tbody>\n",
       "    <tr>\n",
       "      <th>0</th>\n",
       "      <td>2017-05-06</td>\n",
       "      <td>apparel retail</td>\n",
       "      <td>24s</td>\n",
       "      <td>lvmh moet hennessy louis vuitton se</td>\n",
       "      <td>france</td>\n",
       "      <td>lvmh moet hennessy louis vuitton se</td>\n",
       "      <td>euronext paris</td>\n",
       "      <td>NaN</td>\n",
       "      <td>NaN</td>\n",
       "      <td>NaN</td>\n",
       "      <td>...</td>\n",
       "      <td>NaN</td>\n",
       "      <td>NaN</td>\n",
       "      <td>0.0</td>\n",
       "      <td>NaN</td>\n",
       "      <td>0.0</td>\n",
       "      <td>NaN</td>\n",
       "      <td>0.0</td>\n",
       "      <td>NaN</td>\n",
       "      <td>NaN</td>\n",
       "      <td>NaN</td>\n",
       "    </tr>\n",
       "    <tr>\n",
       "      <th>1</th>\n",
       "      <td>2017-05-13</td>\n",
       "      <td>apparel retail</td>\n",
       "      <td>24s</td>\n",
       "      <td>lvmh moet hennessy louis vuitton se</td>\n",
       "      <td>france</td>\n",
       "      <td>lvmh moet hennessy louis vuitton se</td>\n",
       "      <td>euronext paris</td>\n",
       "      <td>NaN</td>\n",
       "      <td>6.0</td>\n",
       "      <td>3.0</td>\n",
       "      <td>...</td>\n",
       "      <td>1.0</td>\n",
       "      <td>NaN</td>\n",
       "      <td>NaN</td>\n",
       "      <td>NaN</td>\n",
       "      <td>NaN</td>\n",
       "      <td>NaN</td>\n",
       "      <td>NaN</td>\n",
       "      <td>NaN</td>\n",
       "      <td>NaN</td>\n",
       "      <td>NaN</td>\n",
       "    </tr>\n",
       "    <tr>\n",
       "      <th>2</th>\n",
       "      <td>2017-05-20</td>\n",
       "      <td>apparel retail</td>\n",
       "      <td>24s</td>\n",
       "      <td>lvmh moet hennessy louis vuitton se</td>\n",
       "      <td>france</td>\n",
       "      <td>lvmh moet hennessy louis vuitton se</td>\n",
       "      <td>euronext paris</td>\n",
       "      <td>NaN</td>\n",
       "      <td>6.0</td>\n",
       "      <td>3.0</td>\n",
       "      <td>...</td>\n",
       "      <td>1.0</td>\n",
       "      <td>NaN</td>\n",
       "      <td>6.0</td>\n",
       "      <td>0.0</td>\n",
       "      <td>3.0</td>\n",
       "      <td>0.0</td>\n",
       "      <td>57.0</td>\n",
       "      <td>0.0</td>\n",
       "      <td>NaN</td>\n",
       "      <td>NaN</td>\n",
       "    </tr>\n",
       "    <tr>\n",
       "      <th>3</th>\n",
       "      <td>2017-05-27</td>\n",
       "      <td>apparel retail</td>\n",
       "      <td>24s</td>\n",
       "      <td>lvmh moet hennessy louis vuitton se</td>\n",
       "      <td>france</td>\n",
       "      <td>lvmh moet hennessy louis vuitton se</td>\n",
       "      <td>euronext paris</td>\n",
       "      <td>NaN</td>\n",
       "      <td>6.0</td>\n",
       "      <td>3.0</td>\n",
       "      <td>...</td>\n",
       "      <td>1.0</td>\n",
       "      <td>NaN</td>\n",
       "      <td>6.0</td>\n",
       "      <td>0.0</td>\n",
       "      <td>3.0</td>\n",
       "      <td>0.0</td>\n",
       "      <td>57.0</td>\n",
       "      <td>0.0</td>\n",
       "      <td>NaN</td>\n",
       "      <td>NaN</td>\n",
       "    </tr>\n",
       "    <tr>\n",
       "      <th>4</th>\n",
       "      <td>2017-06-03</td>\n",
       "      <td>apparel retail</td>\n",
       "      <td>24s</td>\n",
       "      <td>lvmh moet hennessy louis vuitton se</td>\n",
       "      <td>france</td>\n",
       "      <td>lvmh moet hennessy louis vuitton se</td>\n",
       "      <td>euronext paris</td>\n",
       "      <td>NaN</td>\n",
       "      <td>24.0</td>\n",
       "      <td>3.0</td>\n",
       "      <td>...</td>\n",
       "      <td>1.0</td>\n",
       "      <td>NaN</td>\n",
       "      <td>6.0</td>\n",
       "      <td>18.0</td>\n",
       "      <td>3.0</td>\n",
       "      <td>0.0</td>\n",
       "      <td>57.0</td>\n",
       "      <td>52.0</td>\n",
       "      <td>NaN</td>\n",
       "      <td>NaN</td>\n",
       "    </tr>\n",
       "  </tbody>\n",
       "</table>\n",
       "<p>5 rows × 66 columns</p>\n",
       "</div>"
      ],
      "text/plain": [
       "  period_end_date   compset_group business_entity_doing_business_as_name  \\\n",
       "0      2017-05-06  apparel retail                                    24s   \n",
       "1      2017-05-13  apparel retail                                    24s   \n",
       "2      2017-05-20  apparel retail                                    24s   \n",
       "3      2017-05-27  apparel retail                                    24s   \n",
       "4      2017-06-03  apparel retail                                    24s   \n",
       "\n",
       "                     legal_entity_name domicile_country_name  \\\n",
       "0  lvmh moet hennessy louis vuitton se                france   \n",
       "1  lvmh moet hennessy louis vuitton se                france   \n",
       "2  lvmh moet hennessy louis vuitton se                france   \n",
       "3  lvmh moet hennessy louis vuitton se                france   \n",
       "4  lvmh moet hennessy louis vuitton se                france   \n",
       "\n",
       "     ultimate_parent_legal_entity_name primary_exchange_name  followers  \\\n",
       "0  lvmh moet hennessy louis vuitton se        euronext paris        NaN   \n",
       "1  lvmh moet hennessy louis vuitton se        euronext paris        NaN   \n",
       "2  lvmh moet hennessy louis vuitton se        euronext paris        NaN   \n",
       "3  lvmh moet hennessy louis vuitton se        euronext paris        NaN   \n",
       "4  lvmh moet hennessy louis vuitton se        euronext paris        NaN   \n",
       "\n",
       "   pictures  videos  ...  timediff_1  diff_1_followers lag_1_pictures  \\\n",
       "0       NaN     NaN  ...         NaN               NaN            0.0   \n",
       "1       6.0     3.0  ...         1.0               NaN            NaN   \n",
       "2       6.0     3.0  ...         1.0               NaN            6.0   \n",
       "3       6.0     3.0  ...         1.0               NaN            6.0   \n",
       "4      24.0     3.0  ...         1.0               NaN            6.0   \n",
       "\n",
       "   diff_1_pictures  lag_1_videos  diff_1_videos  lag_1_comments  \\\n",
       "0              NaN           0.0            NaN             0.0   \n",
       "1              NaN           NaN            NaN             NaN   \n",
       "2              0.0           3.0            0.0            57.0   \n",
       "3              0.0           3.0            0.0            57.0   \n",
       "4             18.0           3.0            0.0            57.0   \n",
       "\n",
       "   diff_1_comments  Country Name  Gene Index  \n",
       "0              NaN           NaN         NaN  \n",
       "1              NaN           NaN         NaN  \n",
       "2              0.0           NaN         NaN  \n",
       "3              0.0           NaN         NaN  \n",
       "4             52.0           NaN         NaN  \n",
       "\n",
       "[5 rows x 66 columns]"
      ]
     },
     "execution_count": 3,
     "metadata": {},
     "output_type": "execute_result"
    }
   ],
   "source": [
    "df.head()"
   ]
  },
  {
   "cell_type": "markdown",
   "id": "586ed01d-37a3-4898-a61b-6167a3fcff8d",
   "metadata": {},
   "source": [
    "## Approaches\n",
    "\n",
    "1. https://scikit-learn.org/stable/modules/outlier_detection.html#novelty-detection"
   ]
  },
  {
   "cell_type": "code",
   "execution_count": 5,
   "id": "9a761d5f-6a7e-45eb-b9c7-1921b50557be",
   "metadata": {},
   "outputs": [
    {
     "data": {
      "text/plain": [
       "Index(['period_end_date', 'compset_group',\n",
       "       'business_entity_doing_business_as_name', 'legal_entity_name',\n",
       "       'domicile_country_name', 'ultimate_parent_legal_entity_name',\n",
       "       'primary_exchange_name', 'followers', 'pictures', 'videos', 'comments',\n",
       "       'likes', 'compset', 'Year', 'Month', 'Day', 'Weekday',\n",
       "       'ultimate_parent_vs_legal_entity', 'ultimate_parent_vs_business_entity',\n",
       "       'legal_entity_vs_business_entity', 'same_ownership',\n",
       "       'total_involvement', 'total_company_activity', 'conversion_rate_total',\n",
       "       'return_on_activity', 'ratio_of_videos', 'ratio_of_pictures',\n",
       "       'likes_per_picture', 'likes_per_video', 'comments_per_picture',\n",
       "       'comments_per_video',\n",
       "       'business_entity_doing_business_as_name_cnt_industry',\n",
       "       'business_entity_doing_business_as_name_cnt_industry_country',\n",
       "       'followers_sum_industry', 'videos_sum_industry',\n",
       "       'pictures_sum_industry', 'likes_sum_industry', 'comments_sum_industry',\n",
       "       'followers_sum_industry_country', 'videos_sum_industry_country',\n",
       "       'pictures_sum_industry_country', 'likes_sum_industry_country',\n",
       "       'comments_sum_industry_country', 'fraction_followers_sum_industry',\n",
       "       'fraction_followers_sum_industry_country',\n",
       "       'fraction_videos_sum_industry', 'fraction_videos_sum_industry_country',\n",
       "       'fraction_pictures_sum_industry',\n",
       "       'fraction_pictures_sum_industry_country', 'fraction_likes_sum_industry',\n",
       "       'fraction_likes_sum_industry_country', 'fraction_comments_sum_industry',\n",
       "       'fraction_comments_sum_industry_country', 'lag_1_followers',\n",
       "       'lag_1_date', 'lag_1_company', 'timediff_1', 'diff_1_followers',\n",
       "       'lag_1_pictures', 'diff_1_pictures', 'lag_1_videos', 'diff_1_videos',\n",
       "       'lag_1_comments', 'diff_1_comments', 'Country Name', 'Gene Index'],\n",
       "      dtype='object')"
      ]
     },
     "execution_count": 5,
     "metadata": {},
     "output_type": "execute_result"
    }
   ],
   "source": [
    "df.columns"
   ]
  },
  {
   "cell_type": "code",
   "execution_count": 7,
   "id": "ccd3773f-292b-4d74-9c1d-b9ae00f7cfbb",
   "metadata": {},
   "outputs": [],
   "source": [
    "cols_to_ignore = ['compset', 'period_end_date', 'lag_1_date', 'lag_1_company']\n",
    "cols_of_interest = ['followers', 'pictures', 'videos', 'comments',\n",
    "       'likes', 'Year', 'Month', \n",
    "       'ultimate_parent_vs_legal_entity', 'ultimate_parent_vs_business_entity',\n",
    "       'legal_entity_vs_business_entity', 'same_ownership',\n",
    "       'total_involvement', 'total_company_activity', 'conversion_rate_total',\n",
    "       'return_on_activity', 'ratio_of_videos', 'ratio_of_pictures',\n",
    "       'likes_per_picture', 'likes_per_video', 'comments_per_picture',\n",
    "       'comments_per_video',\n",
    "       'business_entity_doing_business_as_name_cnt_industry',\n",
    "       'business_entity_doing_business_as_name_cnt_industry_country',\n",
    "       'followers_sum_industry', 'videos_sum_industry',\n",
    "       'pictures_sum_industry', 'likes_sum_industry', 'comments_sum_industry',\n",
    "       'followers_sum_industry_country', 'videos_sum_industry_country',\n",
    "       'pictures_sum_industry_country', 'likes_sum_industry_country',\n",
    "       'comments_sum_industry_country', 'fraction_followers_sum_industry',\n",
    "       'fraction_followers_sum_industry_country',\n",
    "       'fraction_videos_sum_industry', 'fraction_videos_sum_industry_country',\n",
    "       'fraction_pictures_sum_industry',\n",
    "       'fraction_pictures_sum_industry_country', 'fraction_likes_sum_industry',\n",
    "       'fraction_likes_sum_industry_country', 'fraction_comments_sum_industry',\n",
    "       'fraction_comments_sum_industry_country', 'lag_1_followers',\n",
    "        'timediff_1', 'diff_1_followers',\n",
    "       'lag_1_pictures', 'diff_1_pictures', 'lag_1_videos', 'diff_1_videos',\n",
    "       'lag_1_comments', 'diff_1_comments'] "
   ]
  },
  {
   "cell_type": "code",
   "execution_count": 8,
   "id": "eee59bab-2d45-4e42-99fc-12c19a439523",
   "metadata": {},
   "outputs": [
    {
     "name": "stdout",
     "output_type": "stream",
     "text": [
      "298040 vs 133998\n"
     ]
    }
   ],
   "source": [
    "df_analysis = df[cols_of_interest]\n",
    "no_nans = df_analysis[~df_analysis.isnull().any(axis=1)]\n",
    "print(f\"{len(df_analysis)} vs {len(no_nans)}\")"
   ]
  },
  {
   "cell_type": "code",
   "execution_count": 14,
   "id": "a6164201-f8b0-4829-ae0e-0ffa9b4b21a9",
   "metadata": {},
   "outputs": [],
   "source": [
    "import random\n",
    "sample_size = 10000\n",
    "rand_idx = random.sample(list(no_nans.index), sample_size)\n",
    "df_short = no_nans.loc[rand_idx]"
   ]
  },
  {
   "cell_type": "markdown",
   "id": "7214a004-047a-40d3-820e-537bd1505e7f",
   "metadata": {},
   "source": [
    "### SVM"
   ]
  },
  {
   "cell_type": "markdown",
   "id": "ab904127-c2d9-447b-a1ff-ac80a3a8d363",
   "metadata": {},
   "source": [
    "https://scikit-learn.org/stable/auto_examples/svm/plot_oneclass.html#sphx-glr-auto-examples-svm-plot-oneclass-py"
   ]
  },
  {
   "cell_type": "code",
   "execution_count": null,
   "id": "85dc8f18-e82a-4d4b-8855-66d9d9d18266",
   "metadata": {},
   "outputs": [],
   "source": [
    "from sklearn import svm\n",
    "\n",
    "clf_svm = svm.OneClassSVM(nu=0.1, kernel=\"rbf\", gamma=0.1)"
   ]
  },
  {
   "cell_type": "code",
   "execution_count": 15,
   "id": "2a64660c-d400-41db-93d9-e508e3b5cd52",
   "metadata": {},
   "outputs": [
    {
     "data": {
      "text/plain": [
       "OneClassSVM(gamma=0.1, nu=0.1)"
      ]
     },
     "execution_count": 15,
     "metadata": {},
     "output_type": "execute_result"
    }
   ],
   "source": [
    "clf_svm.fit(df_short)"
   ]
  },
  {
   "cell_type": "markdown",
   "id": "4cae509d-b00d-41c3-8e12-69d262326163",
   "metadata": {},
   "source": [
    "### LOF"
   ]
  },
  {
   "cell_type": "code",
   "execution_count": 16,
   "id": "7af41ea9-1e46-4eb4-ba46-12facf356fa2",
   "metadata": {},
   "outputs": [],
   "source": [
    "from sklearn.neighbors import LocalOutlierFactor"
   ]
  },
  {
   "cell_type": "markdown",
   "id": "e403c28e-5518-41de-9cfd-231dd244cb8a",
   "metadata": {},
   "source": [
    "1. DBScan\n",
    "2. Isolation Forest\n",
    "3. LOF"
   ]
  },
  {
   "cell_type": "code",
   "execution_count": 17,
   "id": "58c6cc9f-2fb2-4997-8ceb-c9b69e0f2325",
   "metadata": {},
   "outputs": [
    {
     "data": {
      "text/plain": [
       "LocalOutlierFactor(contamination=0.1, novelty=True)"
      ]
     },
     "execution_count": 17,
     "metadata": {},
     "output_type": "execute_result"
    }
   ],
   "source": [
    "clf_lof = LocalOutlierFactor(n_neighbors=20, novelty=True, contamination=0.1)\n",
    "clf_lof.fit(df_short)"
   ]
  },
  {
   "cell_type": "markdown",
   "id": "d34501a3-dae0-41af-a0de-5521020e40ea",
   "metadata": {},
   "source": [
    "### DBSCan"
   ]
  },
  {
   "cell_type": "code",
   "execution_count": 24,
   "id": "5810a1e2-3ef9-4f13-b186-6598662a31e6",
   "metadata": {},
   "outputs": [],
   "source": [
    "from sklearn import preprocessing\n",
    "\n",
    "d = preprocessing.normalize(df_short)\n",
    "scaled_df_short = pd.DataFrame(d, columns=df_short.columns)\n",
    "#scaled_df_short.head()"
   ]
  },
  {
   "cell_type": "code",
   "execution_count": 26,
   "id": "14b71f4f-f630-498f-8500-726b4c98fb09",
   "metadata": {},
   "outputs": [
    {
     "name": "stdout",
     "output_type": "stream",
     "text": [
      "Estimated number of clusters: 1\n",
      "Estimated number of noise points: 7\n"
     ]
    }
   ],
   "source": [
    "from sklearn import metrics\n",
    "from sklearn.cluster import DBSCAN\n",
    "\n",
    "db = DBSCAN(eps=0.3, min_samples=10).fit(scaled_df_short)\n",
    "labels = db.labels_\n",
    "\n",
    "# Number of clusters in labels, ignoring noise if present.\n",
    "n_clusters_ = len(set(labels)) - (1 if -1 in labels else 0)\n",
    "n_noise_ = list(labels).count(-1)\n",
    "\n",
    "print(\"Estimated number of clusters: %d\" % n_clusters_)\n",
    "print(\"Estimated number of noise points: %d\" % n_noise_)"
   ]
  },
  {
   "cell_type": "code",
   "execution_count": 30,
   "id": "1ae17d7f-e846-4107-98f2-78e37f025268",
   "metadata": {},
   "outputs": [
    {
     "name": "stdout",
     "output_type": "stream",
     "text": [
      "0.01\n",
      "Estimated number of clusters: 61\n",
      "Estimated number of noise points: 4365\n",
      "0.02\n",
      "Estimated number of clusters: 46\n",
      "Estimated number of noise points: 1961\n",
      "0.03\n",
      "Estimated number of clusters: 32\n",
      "Estimated number of noise points: 1113\n",
      "0.04\n",
      "Estimated number of clusters: 18\n",
      "Estimated number of noise points: 745\n",
      "0.05\n",
      "Estimated number of clusters: 13\n",
      "Estimated number of noise points: 526\n",
      "0.06\n",
      "Estimated number of clusters: 13\n",
      "Estimated number of noise points: 370\n",
      "0.1\n",
      "Estimated number of clusters: 6\n",
      "Estimated number of noise points: 126\n"
     ]
    }
   ],
   "source": [
    "#eps_set = [0.01, 0.1, 0.3, 0.5, 1]\n",
    "eps_set = [0.01, 0.02, 0.03, 0.04, 0.05, 0.06, 0.1]\n",
    "\n",
    "for eps in eps_set :\n",
    "    db = DBSCAN(eps=eps, min_samples=10).fit(scaled_df_short)\n",
    "    labels = db.labels_\n",
    "\n",
    "    # Number of clusters in labels, ignoring noise if present.\n",
    "    n_clusters_ = len(set(labels)) - (1 if -1 in labels else 0)\n",
    "    n_noise_ = list(labels).count(-1)\n",
    "    print(eps)\n",
    "    print(\"Estimated number of clusters: %d\" % n_clusters_)\n",
    "    print(\"Estimated number of noise points: %d\" % n_noise_)"
   ]
  },
  {
   "cell_type": "code",
   "execution_count": 29,
   "id": "6fd0be0f-f70c-4665-a7d9-4fbc5c0e76ad",
   "metadata": {},
   "outputs": [
    {
     "name": "stdout",
     "output_type": "stream",
     "text": [
      "5\n",
      "Estimated number of clusters: 10\n",
      "Estimated number of noise points: 54\n",
      "10\n",
      "Estimated number of clusters: 6\n",
      "Estimated number of noise points: 126\n",
      "15\n",
      "Estimated number of clusters: 3\n",
      "Estimated number of noise points: 185\n"
     ]
    }
   ],
   "source": [
    "min_samples_set=[5, 10, 15]\n",
    "\n",
    "for min_samples in min_samples_set:\n",
    "    for \n",
    "    db = DBSCAN(eps=0.1, min_samples=min_samples).fit(scaled_df_short)\n",
    "    labels = db.labels_\n",
    "\n",
    "    # Number of clusters in labels, ignoring noise if present.\n",
    "    n_clusters_ = len(set(labels)) - (1 if -1 in labels else 0)\n",
    "    n_noise_ = list(labels).count(-1)\n",
    "    print(min_samples)\n",
    "    print(\"Estimated number of clusters: %d\" % n_clusters_)\n",
    "    print(\"Estimated number of noise points: %d\" % n_noise_)"
   ]
  },
  {
   "cell_type": "markdown",
   "id": "9c381af0-9af5-409e-b69c-6fca70a4d864",
   "metadata": {},
   "source": [
    "### Isolated Forest\n",
    "\n"
   ]
  }
 ],
 "metadata": {
  "kernelspec": {
   "display_name": "Python 3 (ipykernel)",
   "language": "python",
   "name": "python3"
  },
  "language_info": {
   "codemirror_mode": {
    "name": "ipython",
    "version": 3
   },
   "file_extension": ".py",
   "mimetype": "text/x-python",
   "name": "python",
   "nbconvert_exporter": "python",
   "pygments_lexer": "ipython3",
   "version": "3.8.12"
  }
 },
 "nbformat": 4,
 "nbformat_minor": 5
}
