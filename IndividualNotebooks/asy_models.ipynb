{
 "cells": [
  {
   "cell_type": "markdown",
   "id": "eb1fa13c-cf97-4961-b7b5-609ab9095cd5",
   "metadata": {},
   "source": [
    "# Anomaly Detection Models"
   ]
  },
  {
   "cell_type": "code",
   "execution_count": 31,
   "id": "be38da07-180e-4794-948e-97b25a47fc8e",
   "metadata": {},
   "outputs": [],
   "source": [
    "import pandas as pd\n",
    "import numpy as np\n",
    "import matplotlib.pylab as plt\n",
    "import seaborn as sns\n",
    "plt.style.use('ggplot')\n",
    "#pd.set_option('max_columns', 200)\n",
    "from sklearn.model_selection import train_test_split"
   ]
  },
  {
   "cell_type": "code",
   "execution_count": 32,
   "id": "9fb6da36-f7c4-48f0-8a76-7e90f9ed6a07",
   "metadata": {},
   "outputs": [],
   "source": [
    "path = '../data/data_preparation_output.csv'  # ASY local path\n",
    "# path = \"../data/skylab_instagram_datathon_dataset.csv\" # gen\n",
    "df = pd.read_csv(path) #sep='delimiter', header=None) # sep=\";\", "
   ]
  },
  {
   "cell_type": "markdown",
   "id": "586ed01d-37a3-4898-a61b-6167a3fcff8d",
   "metadata": {},
   "source": [
    "## Data preparation for analysis\n",
    "\n",
    "**Problem:** too many values to train algorithm\n",
    "\n",
    "<div class=\"alert alert-block alert-danger\">\n",
    "<b>Assumption:</b> Different subsets of data (different industry, country) have the same distribution of the numberical variables => can take a random subset to train the algorithm\n",
    "</div>\n",
    "\n",
    "**Improvement potential**\n",
    "\n",
    "1. Add class weights to the sampling with replacement pocedure\n",
    "2. Impute missing value after exploring the structure of missingness (are they MCAR, MAR, or MNAR)\n",
    "3. Train for a longer time on the cluster to use up to 70% of the data as the Training Set\n",
    "4. Hyperparameter tuning on the CrossValidation set. \n",
    "\n",
    "**Steps**\n",
    "\n",
    "1. Select only numeric variables\n",
    "2. Select observations without missing values\n",
    "3. Normalize\n",
    "4. Select a random subset small enough to be able to train the selected algorithms"
   ]
  },
  {
   "cell_type": "code",
   "execution_count": 35,
   "id": "ccd3773f-292b-4d74-9c1d-b9ae00f7cfbb",
   "metadata": {},
   "outputs": [],
   "source": [
    "#df.columns\n",
    "cols_to_ignore = ['compset', 'period_end_date', 'lag_1_date', 'lag_1_company']\n",
    "cols_of_interest = ['followers', 'pictures', 'videos', 'comments',\n",
    "       'likes', 'Year', 'Month', \n",
    "       'ultimate_parent_vs_legal_entity', 'ultimate_parent_vs_business_entity',\n",
    "       'legal_entity_vs_business_entity', 'same_ownership',\n",
    "       'total_involvement', 'total_company_activity', 'conversion_rate_total',\n",
    "       'return_on_activity', 'ratio_of_videos', 'ratio_of_pictures',\n",
    "       'likes_per_picture', 'likes_per_video', 'comments_per_picture',\n",
    "       'comments_per_video',\n",
    "       'business_entity_doing_business_as_name_cnt_industry',\n",
    "       'business_entity_doing_business_as_name_cnt_industry_country',\n",
    "       'followers_sum_industry', 'videos_sum_industry',\n",
    "       'pictures_sum_industry', 'likes_sum_industry', 'comments_sum_industry',\n",
    "       'followers_sum_industry_country', 'videos_sum_industry_country',\n",
    "       'pictures_sum_industry_country', 'likes_sum_industry_country',\n",
    "       'comments_sum_industry_country', 'fraction_followers_sum_industry',\n",
    "       'fraction_followers_sum_industry_country',\n",
    "       'fraction_videos_sum_industry', 'fraction_videos_sum_industry_country',\n",
    "       'fraction_pictures_sum_industry',\n",
    "       'fraction_pictures_sum_industry_country', 'fraction_likes_sum_industry',\n",
    "       'fraction_likes_sum_industry_country', 'fraction_comments_sum_industry',\n",
    "       'fraction_comments_sum_industry_country', 'lag_1_followers',\n",
    "        'timediff_1', 'diff_1_followers',\n",
    "       'lag_1_pictures', 'diff_1_pictures', 'lag_1_videos', 'diff_1_videos',\n",
    "       'lag_1_comments', 'diff_1_comments'] "
   ]
  },
  {
   "cell_type": "code",
   "execution_count": 37,
   "id": "eee59bab-2d45-4e42-99fc-12c19a439523",
   "metadata": {},
   "outputs": [],
   "source": [
    "df_analysis = df[cols_of_interest]\n",
    "no_nans = df_analysis[~df_analysis.isnull().any(axis=1)]\n",
    "#print(f\"{len(df_analysis)} vs {len(no_nans)}\")"
   ]
  },
  {
   "cell_type": "code",
   "execution_count": 43,
   "id": "a6164201-f8b0-4829-ae0e-0ffa9b4b21a9",
   "metadata": {},
   "outputs": [
    {
     "name": "stdout",
     "output_type": "stream",
     "text": [
      "Training the data on the 0.109% of the original set\n"
     ]
    }
   ],
   "source": [
    "import random\n",
    "sample_size = 20000\n",
    "perc = round(sample_size/len(no_nans), 3)\n",
    "rand_idx = random.sample(list(no_nans.index), sample_size)\n",
    "df_short = no_nans.loc[rand_idx]\n",
    "print(f\"Training the data on the {perc}% of the original set\")"
   ]
  },
  {
   "cell_type": "markdown",
   "id": "7214a004-047a-40d3-820e-537bd1505e7f",
   "metadata": {},
   "source": [
    "### SVM"
   ]
  },
  {
   "cell_type": "markdown",
   "id": "ab904127-c2d9-447b-a1ff-ac80a3a8d363",
   "metadata": {},
   "source": [
    "https://scikit-learn.org/stable/auto_examples/svm/plot_oneclass.html#sphx-glr-auto-examples-svm-plot-oneclass-py"
   ]
  },
  {
   "cell_type": "code",
   "execution_count": 79,
   "id": "85dc8f18-e82a-4d4b-8855-66d9d9d18266",
   "metadata": {},
   "outputs": [
    {
     "data": {
      "text/plain": [
       "OneClassSVM(gamma=0.1, nu=0.1)    1\n",
       "dtype: int64"
      ]
     },
     "execution_count": 79,
     "metadata": {},
     "output_type": "execute_result"
    }
   ],
   "source": [
    "from sklearn import svm\n",
    "\n",
    "clf_svm = svm.OneClassSVM(nu=0.1, kernel=\"rbf\", gamma=0.1)\n",
    "df_svm_short_pred = clf_svm.fit(df_short)\n",
    "pd.Series(df_svm_short_pred).value_counts()"
   ]
  },
  {
   "cell_type": "code",
   "execution_count": 80,
   "id": "2a64660c-d400-41db-93d9-e508e3b5cd52",
   "metadata": {},
   "outputs": [
    {
     "data": {
      "text/plain": [
       "-1    12000\n",
       " 1     8000\n",
       "dtype: int64"
      ]
     },
     "execution_count": 80,
     "metadata": {},
     "output_type": "execute_result"
    }
   ],
   "source": [
    "df_svm_short_pred = clf_svm.predict(df_short)\n",
    "#y_pred_outliers = clf.predict(X_outliers)\n",
    "pd.Series(df_svm_short_pred).value_counts()"
   ]
  },
  {
   "cell_type": "markdown",
   "id": "4cae509d-b00d-41c3-8e12-69d262326163",
   "metadata": {},
   "source": [
    "### LOF"
   ]
  },
  {
   "cell_type": "code",
   "execution_count": 50,
   "id": "7af41ea9-1e46-4eb4-ba46-12facf356fa2",
   "metadata": {},
   "outputs": [],
   "source": [
    "from sklearn.neighbors import LocalOutlierFactor"
   ]
  },
  {
   "cell_type": "markdown",
   "id": "14255343-ecdd-4057-9cfb-c94947b14b6a",
   "metadata": {},
   "source": [
    "Train"
   ]
  },
  {
   "cell_type": "code",
   "execution_count": 51,
   "id": "58c6cc9f-2fb2-4997-8ceb-c9b69e0f2325",
   "metadata": {},
   "outputs": [
    {
     "data": {
      "text/plain": [
       "LocalOutlierFactor(contamination=0.1, novelty=True)"
      ]
     },
     "execution_count": 51,
     "metadata": {},
     "output_type": "execute_result"
    }
   ],
   "source": [
    "clf_lof = LocalOutlierFactor(n_neighbors=20, novelty=True, contamination=0.1)\n",
    "clf_lof.fit(df_short)"
   ]
  },
  {
   "cell_type": "markdown",
   "id": "4bacea6f-9d45-422b-b819-8dbe7c874dd4",
   "metadata": {},
   "source": [
    "Predict on the partial dataset"
   ]
  },
  {
   "cell_type": "code",
   "execution_count": 56,
   "id": "a747f495-2ef2-4a6e-9bbe-41d360e84e63",
   "metadata": {},
   "outputs": [
    {
     "name": "stderr",
     "output_type": "stream",
     "text": [
      "/Users/sychevaa/opt/anaconda3/lib/python3.8/site-packages/sklearn/base.py:445: UserWarning: X does not have valid feature names, but LocalOutlierFactor was fitted with feature names\n",
      "  warnings.warn(\n"
     ]
    }
   ],
   "source": [
    "df_lof_short_pred = clf_lof.predict(df_short)"
   ]
  },
  {
   "cell_type": "markdown",
   "id": "9ab1b397-f452-401d-ba79-e1ef555da2b5",
   "metadata": {},
   "source": [
    "Hypeparameter tuning: grid search\n",
    "\n",
    "<div class=\"alert alert-block alert-warning\">\n",
    " Normally is done in a designated CV set to avoid overfitting, but we are using a small subset anyway (and its 10:08)\n",
    "</div>"
   ]
  },
  {
   "cell_type": "code",
   "execution_count": 77,
   "id": "f1952bc4-a8bc-4088-b0c3-da3ebec6b18f",
   "metadata": {},
   "outputs": [
    {
     "name": "stdout",
     "output_type": "stream",
     "text": [
      "5 0.1\n"
     ]
    },
    {
     "name": "stderr",
     "output_type": "stream",
     "text": [
      "/Users/sychevaa/opt/anaconda3/lib/python3.8/site-packages/sklearn/base.py:445: UserWarning: X does not have valid feature names, but LocalOutlierFactor was fitted with feature names\n",
      "  warnings.warn(\n"
     ]
    },
    {
     "name": "stdout",
     "output_type": "stream",
     "text": [
      "5 0.5\n"
     ]
    },
    {
     "name": "stderr",
     "output_type": "stream",
     "text": [
      "/Users/sychevaa/opt/anaconda3/lib/python3.8/site-packages/sklearn/base.py:445: UserWarning: X does not have valid feature names, but LocalOutlierFactor was fitted with feature names\n",
      "  warnings.warn(\n"
     ]
    },
    {
     "name": "stdout",
     "output_type": "stream",
     "text": [
      "10 0.1\n"
     ]
    },
    {
     "name": "stderr",
     "output_type": "stream",
     "text": [
      "/Users/sychevaa/opt/anaconda3/lib/python3.8/site-packages/sklearn/base.py:445: UserWarning: X does not have valid feature names, but LocalOutlierFactor was fitted with feature names\n",
      "  warnings.warn(\n"
     ]
    },
    {
     "name": "stdout",
     "output_type": "stream",
     "text": [
      "10 0.5\n"
     ]
    },
    {
     "name": "stderr",
     "output_type": "stream",
     "text": [
      "/Users/sychevaa/opt/anaconda3/lib/python3.8/site-packages/sklearn/base.py:445: UserWarning: X does not have valid feature names, but LocalOutlierFactor was fitted with feature names\n",
      "  warnings.warn(\n"
     ]
    },
    {
     "name": "stdout",
     "output_type": "stream",
     "text": [
      "20 0.1\n"
     ]
    },
    {
     "name": "stderr",
     "output_type": "stream",
     "text": [
      "/Users/sychevaa/opt/anaconda3/lib/python3.8/site-packages/sklearn/base.py:445: UserWarning: X does not have valid feature names, but LocalOutlierFactor was fitted with feature names\n",
      "  warnings.warn(\n"
     ]
    },
    {
     "name": "stdout",
     "output_type": "stream",
     "text": [
      "20 0.5\n"
     ]
    },
    {
     "name": "stderr",
     "output_type": "stream",
     "text": [
      "/Users/sychevaa/opt/anaconda3/lib/python3.8/site-packages/sklearn/base.py:445: UserWarning: X does not have valid feature names, but LocalOutlierFactor was fitted with feature names\n",
      "  warnings.warn(\n"
     ]
    }
   ],
   "source": [
    "from itertools import product\n",
    "n_neighbors = [5, 10, 20]\n",
    "contamination = [0.1, 0.5]\n",
    "compare = []\n",
    "\n",
    "for neigh, cont in product(n_neighbors, contamination):\n",
    "    print(f\"{neigh} {cont}\")\n",
    "    clf_lof = LocalOutlierFactor(n_neighbors=neigh, novelty=True, contamination=cont)\n",
    "    clf_lof.fit(df_short)\n",
    "    df_lof_short_pred = clf_lof.predict(df_short)\n",
    "    out = pd.Series(df_short_pred).value_counts()\n",
    "    out[\"neigh\"] = neigh\n",
    "    out[\"cont\"] = cont\n",
    "    compare.append(out)\n",
    "    "
   ]
  },
  {
   "cell_type": "code",
   "execution_count": 76,
   "id": "09c157f6-326d-4069-ad3f-d12ddf76dcd9",
   "metadata": {},
   "outputs": [
    {
     "data": {
      "text/html": [
       "<div>\n",
       "<style scoped>\n",
       "    .dataframe tbody tr th:only-of-type {\n",
       "        vertical-align: middle;\n",
       "    }\n",
       "\n",
       "    .dataframe tbody tr th {\n",
       "        vertical-align: top;\n",
       "    }\n",
       "\n",
       "    .dataframe thead th {\n",
       "        text-align: right;\n",
       "    }\n",
       "</style>\n",
       "<table border=\"1\" class=\"dataframe\">\n",
       "  <thead>\n",
       "    <tr style=\"text-align: right;\">\n",
       "      <th></th>\n",
       "      <th>1</th>\n",
       "      <th>-1</th>\n",
       "      <th>neigh</th>\n",
       "      <th>cont</th>\n",
       "    </tr>\n",
       "  </thead>\n",
       "  <tbody>\n",
       "    <tr>\n",
       "      <th>0</th>\n",
       "      <td>18234.0</td>\n",
       "      <td>1766.0</td>\n",
       "      <td>5.0</td>\n",
       "      <td>0.1</td>\n",
       "    </tr>\n",
       "    <tr>\n",
       "      <th>1</th>\n",
       "      <td>18234.0</td>\n",
       "      <td>1766.0</td>\n",
       "      <td>5.0</td>\n",
       "      <td>0.5</td>\n",
       "    </tr>\n",
       "    <tr>\n",
       "      <th>2</th>\n",
       "      <td>18234.0</td>\n",
       "      <td>1766.0</td>\n",
       "      <td>10.0</td>\n",
       "      <td>0.1</td>\n",
       "    </tr>\n",
       "    <tr>\n",
       "      <th>3</th>\n",
       "      <td>18234.0</td>\n",
       "      <td>1766.0</td>\n",
       "      <td>10.0</td>\n",
       "      <td>0.5</td>\n",
       "    </tr>\n",
       "    <tr>\n",
       "      <th>4</th>\n",
       "      <td>18234.0</td>\n",
       "      <td>1766.0</td>\n",
       "      <td>20.0</td>\n",
       "      <td>0.1</td>\n",
       "    </tr>\n",
       "    <tr>\n",
       "      <th>5</th>\n",
       "      <td>18234.0</td>\n",
       "      <td>1766.0</td>\n",
       "      <td>20.0</td>\n",
       "      <td>0.5</td>\n",
       "    </tr>\n",
       "  </tbody>\n",
       "</table>\n",
       "</div>"
      ],
      "text/plain": [
       "         1      -1  neigh  cont\n",
       "0  18234.0  1766.0    5.0   0.1\n",
       "1  18234.0  1766.0    5.0   0.5\n",
       "2  18234.0  1766.0   10.0   0.1\n",
       "3  18234.0  1766.0   10.0   0.5\n",
       "4  18234.0  1766.0   20.0   0.1\n",
       "5  18234.0  1766.0   20.0   0.5"
      ]
     },
     "execution_count": 76,
     "metadata": {},
     "output_type": "execute_result"
    }
   ],
   "source": [
    "compare_lof_df = pd.DataFrame(compare)\n",
    "compare_lof_df"
   ]
  },
  {
   "cell_type": "markdown",
   "id": "b8ce746a-fb36-4dd6-802b-1245fe652e38",
   "metadata": {},
   "source": [
    "Predict on the full dataset: too long for now"
   ]
  },
  {
   "cell_type": "code",
   "execution_count": 57,
   "id": "6d351edf-e8c6-4920-9a72-5ec84c96e72f",
   "metadata": {},
   "outputs": [
    {
     "name": "stderr",
     "output_type": "stream",
     "text": [
      "/Users/sychevaa/opt/anaconda3/lib/python3.8/site-packages/sklearn/base.py:445: UserWarning: X does not have valid feature names, but LocalOutlierFactor was fitted with feature names\n",
      "  warnings.warn(\n"
     ]
    }
   ],
   "source": [
    "#df_lof_pred = clf_lof.predict(no_nans)"
   ]
  },
  {
   "cell_type": "markdown",
   "id": "d34501a3-dae0-41af-a0de-5521020e40ea",
   "metadata": {},
   "source": [
    "### DBSCan"
   ]
  },
  {
   "cell_type": "code",
   "execution_count": 70,
   "id": "5810a1e2-3ef9-4f13-b186-6598662a31e6",
   "metadata": {},
   "outputs": [],
   "source": [
    "from sklearn import preprocessing\n",
    "\n",
    "d = preprocessing.normalize(df_short)\n",
    "scaled_df_short = pd.DataFrame(d, columns=df_short.columns)\n",
    "#scaled_df_short.head()"
   ]
  },
  {
   "cell_type": "code",
   "execution_count": 26,
   "id": "14b71f4f-f630-498f-8500-726b4c98fb09",
   "metadata": {},
   "outputs": [
    {
     "name": "stdout",
     "output_type": "stream",
     "text": [
      "Estimated number of clusters: 1\n",
      "Estimated number of noise points: 7\n"
     ]
    }
   ],
   "source": [
    "from sklearn import metrics\n",
    "from sklearn.cluster import DBSCAN\n",
    "\n",
    "db = DBSCAN(eps=0.3, min_samples=10).fit(scaled_df_short)\n",
    "labels = db.labels_\n",
    "\n",
    "# Number of clusters in labels, ignoring noise if present.\n",
    "n_clusters_ = len(set(labels)) - (1 if -1 in labels else 0)\n",
    "n_noise_ = list(labels).count(-1)\n",
    "\n",
    "print(\"Estimated number of clusters: %d\" % n_clusters_)\n",
    "print(\"Estimated number of noise points: %d\" % n_noise_)"
   ]
  },
  {
   "cell_type": "code",
   "execution_count": 30,
   "id": "1ae17d7f-e846-4107-98f2-78e37f025268",
   "metadata": {},
   "outputs": [
    {
     "name": "stdout",
     "output_type": "stream",
     "text": [
      "0.01\n",
      "Estimated number of clusters: 61\n",
      "Estimated number of noise points: 4365\n",
      "0.02\n",
      "Estimated number of clusters: 46\n",
      "Estimated number of noise points: 1961\n",
      "0.03\n",
      "Estimated number of clusters: 32\n",
      "Estimated number of noise points: 1113\n",
      "0.04\n",
      "Estimated number of clusters: 18\n",
      "Estimated number of noise points: 745\n",
      "0.05\n",
      "Estimated number of clusters: 13\n",
      "Estimated number of noise points: 526\n",
      "0.06\n",
      "Estimated number of clusters: 13\n",
      "Estimated number of noise points: 370\n",
      "0.1\n",
      "Estimated number of clusters: 6\n",
      "Estimated number of noise points: 126\n"
     ]
    }
   ],
   "source": [
    "#eps_set = [0.01, 0.1, 0.3, 0.5, 1]\n",
    "eps_set = [0.01, 0.02, 0.03, 0.04, 0.05, 0.06, 0.1]\n",
    "\n",
    "for eps in eps_set :\n",
    "    db = DBSCAN(eps=eps, min_samples=10).fit(scaled_df_short)\n",
    "    labels = db.labels_\n",
    "\n",
    "    # Number of clusters in labels, ignoring noise if present.\n",
    "    n_clusters_ = len(set(labels)) - (1 if -1 in labels else 0)\n",
    "    n_noise_ = list(labels).count(-1)\n",
    "    print(eps)\n",
    "    print(\"Estimated number of clusters: %d\" % n_clusters_)\n",
    "    print(\"Estimated number of noise points: %d\" % n_noise_)"
   ]
  },
  {
   "cell_type": "code",
   "execution_count": 29,
   "id": "6fd0be0f-f70c-4665-a7d9-4fbc5c0e76ad",
   "metadata": {},
   "outputs": [
    {
     "name": "stdout",
     "output_type": "stream",
     "text": [
      "5\n",
      "Estimated number of clusters: 10\n",
      "Estimated number of noise points: 54\n",
      "10\n",
      "Estimated number of clusters: 6\n",
      "Estimated number of noise points: 126\n",
      "15\n",
      "Estimated number of clusters: 3\n",
      "Estimated number of noise points: 185\n"
     ]
    }
   ],
   "source": [
    "min_samples_set=[5, 10, 15]\n",
    "\n",
    "for min_samples in min_samples_set:\n",
    "    for \n",
    "    db = DBSCAN(eps=0.1, min_samples=min_samples).fit(scaled_df_short)\n",
    "    labels = db.labels_\n",
    "\n",
    "    # Number of clusters in labels, ignoring noise if present.\n",
    "    n_clusters_ = len(set(labels)) - (1 if -1 in labels else 0)\n",
    "    n_noise_ = list(labels).count(-1)\n",
    "    print(min_samples)\n",
    "    print(\"Estimated number of clusters: %d\" % n_clusters_)\n",
    "    print(\"Estimated number of noise points: %d\" % n_noise_)"
   ]
  },
  {
   "cell_type": "code",
   "execution_count": 71,
   "id": "d5dfaca7-3a9f-4625-a185-79b802df5d9b",
   "metadata": {},
   "outputs": [
    {
     "name": "stdout",
     "output_type": "stream",
     "text": [
      "0.01 5\n"
     ]
    },
    {
     "name": "stderr",
     "output_type": "stream",
     "text": [
      "/var/folders/xx/6tz780r13t57q640kxzkc46w0000gn/T/ipykernel_61384/2254326145.py:14: DeprecationWarning: The default dtype for empty Series will be 'object' instead of 'float64' in a future version. Specify a dtype explicitly to silence this warning.\n",
      "  out = pd.Series()\n"
     ]
    },
    {
     "name": "stdout",
     "output_type": "stream",
     "text": [
      "0.01 10\n"
     ]
    },
    {
     "name": "stderr",
     "output_type": "stream",
     "text": [
      "/var/folders/xx/6tz780r13t57q640kxzkc46w0000gn/T/ipykernel_61384/2254326145.py:14: DeprecationWarning: The default dtype for empty Series will be 'object' instead of 'float64' in a future version. Specify a dtype explicitly to silence this warning.\n",
      "  out = pd.Series()\n"
     ]
    },
    {
     "name": "stdout",
     "output_type": "stream",
     "text": [
      "0.01 15\n"
     ]
    },
    {
     "name": "stderr",
     "output_type": "stream",
     "text": [
      "/var/folders/xx/6tz780r13t57q640kxzkc46w0000gn/T/ipykernel_61384/2254326145.py:14: DeprecationWarning: The default dtype for empty Series will be 'object' instead of 'float64' in a future version. Specify a dtype explicitly to silence this warning.\n",
      "  out = pd.Series()\n"
     ]
    },
    {
     "name": "stdout",
     "output_type": "stream",
     "text": [
      "0.05 5\n"
     ]
    },
    {
     "name": "stderr",
     "output_type": "stream",
     "text": [
      "/var/folders/xx/6tz780r13t57q640kxzkc46w0000gn/T/ipykernel_61384/2254326145.py:14: DeprecationWarning: The default dtype for empty Series will be 'object' instead of 'float64' in a future version. Specify a dtype explicitly to silence this warning.\n",
      "  out = pd.Series()\n"
     ]
    },
    {
     "name": "stdout",
     "output_type": "stream",
     "text": [
      "0.05 10\n"
     ]
    },
    {
     "name": "stderr",
     "output_type": "stream",
     "text": [
      "/var/folders/xx/6tz780r13t57q640kxzkc46w0000gn/T/ipykernel_61384/2254326145.py:14: DeprecationWarning: The default dtype for empty Series will be 'object' instead of 'float64' in a future version. Specify a dtype explicitly to silence this warning.\n",
      "  out = pd.Series()\n"
     ]
    },
    {
     "name": "stdout",
     "output_type": "stream",
     "text": [
      "0.05 15\n"
     ]
    },
    {
     "name": "stderr",
     "output_type": "stream",
     "text": [
      "/var/folders/xx/6tz780r13t57q640kxzkc46w0000gn/T/ipykernel_61384/2254326145.py:14: DeprecationWarning: The default dtype for empty Series will be 'object' instead of 'float64' in a future version. Specify a dtype explicitly to silence this warning.\n",
      "  out = pd.Series()\n"
     ]
    },
    {
     "name": "stdout",
     "output_type": "stream",
     "text": [
      "0.1 5\n"
     ]
    },
    {
     "name": "stderr",
     "output_type": "stream",
     "text": [
      "/var/folders/xx/6tz780r13t57q640kxzkc46w0000gn/T/ipykernel_61384/2254326145.py:14: DeprecationWarning: The default dtype for empty Series will be 'object' instead of 'float64' in a future version. Specify a dtype explicitly to silence this warning.\n",
      "  out = pd.Series()\n"
     ]
    },
    {
     "name": "stdout",
     "output_type": "stream",
     "text": [
      "0.1 10\n"
     ]
    },
    {
     "name": "stderr",
     "output_type": "stream",
     "text": [
      "/var/folders/xx/6tz780r13t57q640kxzkc46w0000gn/T/ipykernel_61384/2254326145.py:14: DeprecationWarning: The default dtype for empty Series will be 'object' instead of 'float64' in a future version. Specify a dtype explicitly to silence this warning.\n",
      "  out = pd.Series()\n"
     ]
    },
    {
     "name": "stdout",
     "output_type": "stream",
     "text": [
      "0.1 15\n"
     ]
    },
    {
     "name": "stderr",
     "output_type": "stream",
     "text": [
      "/var/folders/xx/6tz780r13t57q640kxzkc46w0000gn/T/ipykernel_61384/2254326145.py:14: DeprecationWarning: The default dtype for empty Series will be 'object' instead of 'float64' in a future version. Specify a dtype explicitly to silence this warning.\n",
      "  out = pd.Series()\n"
     ]
    }
   ],
   "source": [
    "eps_set = [0.01, 0.05, 0.1]\n",
    "min_samples_set = [5, 10, 15]\n",
    "\n",
    "\n",
    "compare_dbscan = []\n",
    "\n",
    "for eps, min_sample in product(eps_set, min_samples_set):\n",
    "    print(f\"{eps} {min_sample}\")\n",
    "    db = DBSCAN(eps=eps, min_samples=min_sample).fit(scaled_df_short)\n",
    "    labels = db.labels_\n",
    "    # Number of clusters in labels, ignoring noise if present.\n",
    "    n_clusters_ = len(set(labels)) - (1 if -1 in labels else 0)\n",
    "    n_noise_ = list(labels).count(-1)\n",
    "    out = pd.Series()\n",
    "    out[\"eps\"] = eps\n",
    "    out[\"min_sample\"] = min_sample\n",
    "    out[\"pers_outl\"] = n_noise_ / len(scaled_df_short)\n",
    "    out[\"n_noise_\"] = n_noise_\n",
    "    compare_dbscan.append(out)\n",
    "    \n",
    "    "
   ]
  },
  {
   "cell_type": "code",
   "execution_count": 78,
   "id": "f37c61bb-4eb8-42cb-a445-568012265067",
   "metadata": {},
   "outputs": [
    {
     "data": {
      "text/html": [
       "<div>\n",
       "<style scoped>\n",
       "    .dataframe tbody tr th:only-of-type {\n",
       "        vertical-align: middle;\n",
       "    }\n",
       "\n",
       "    .dataframe tbody tr th {\n",
       "        vertical-align: top;\n",
       "    }\n",
       "\n",
       "    .dataframe thead th {\n",
       "        text-align: right;\n",
       "    }\n",
       "</style>\n",
       "<table border=\"1\" class=\"dataframe\">\n",
       "  <thead>\n",
       "    <tr style=\"text-align: right;\">\n",
       "      <th></th>\n",
       "      <th>eps</th>\n",
       "      <th>min_sample</th>\n",
       "      <th>pers_outl</th>\n",
       "      <th>n_noise_</th>\n",
       "    </tr>\n",
       "  </thead>\n",
       "  <tbody>\n",
       "    <tr>\n",
       "      <th>0</th>\n",
       "      <td>0.01</td>\n",
       "      <td>5.0</td>\n",
       "      <td>0.23745</td>\n",
       "      <td>4749.0</td>\n",
       "    </tr>\n",
       "    <tr>\n",
       "      <th>1</th>\n",
       "      <td>0.01</td>\n",
       "      <td>10.0</td>\n",
       "      <td>0.34395</td>\n",
       "      <td>6879.0</td>\n",
       "    </tr>\n",
       "    <tr>\n",
       "      <th>2</th>\n",
       "      <td>0.01</td>\n",
       "      <td>15.0</td>\n",
       "      <td>0.42750</td>\n",
       "      <td>8550.0</td>\n",
       "    </tr>\n",
       "    <tr>\n",
       "      <th>3</th>\n",
       "      <td>0.05</td>\n",
       "      <td>5.0</td>\n",
       "      <td>0.02180</td>\n",
       "      <td>436.0</td>\n",
       "    </tr>\n",
       "    <tr>\n",
       "      <th>4</th>\n",
       "      <td>0.05</td>\n",
       "      <td>10.0</td>\n",
       "      <td>0.03790</td>\n",
       "      <td>758.0</td>\n",
       "    </tr>\n",
       "    <tr>\n",
       "      <th>5</th>\n",
       "      <td>0.05</td>\n",
       "      <td>15.0</td>\n",
       "      <td>0.04770</td>\n",
       "      <td>954.0</td>\n",
       "    </tr>\n",
       "    <tr>\n",
       "      <th>6</th>\n",
       "      <td>0.10</td>\n",
       "      <td>5.0</td>\n",
       "      <td>0.00440</td>\n",
       "      <td>88.0</td>\n",
       "    </tr>\n",
       "    <tr>\n",
       "      <th>7</th>\n",
       "      <td>0.10</td>\n",
       "      <td>10.0</td>\n",
       "      <td>0.00775</td>\n",
       "      <td>155.0</td>\n",
       "    </tr>\n",
       "    <tr>\n",
       "      <th>8</th>\n",
       "      <td>0.10</td>\n",
       "      <td>15.0</td>\n",
       "      <td>0.01420</td>\n",
       "      <td>284.0</td>\n",
       "    </tr>\n",
       "  </tbody>\n",
       "</table>\n",
       "</div>"
      ],
      "text/plain": [
       "    eps  min_sample  pers_outl  n_noise_\n",
       "0  0.01         5.0    0.23745    4749.0\n",
       "1  0.01        10.0    0.34395    6879.0\n",
       "2  0.01        15.0    0.42750    8550.0\n",
       "3  0.05         5.0    0.02180     436.0\n",
       "4  0.05        10.0    0.03790     758.0\n",
       "5  0.05        15.0    0.04770     954.0\n",
       "6  0.10         5.0    0.00440      88.0\n",
       "7  0.10        10.0    0.00775     155.0\n",
       "8  0.10        15.0    0.01420     284.0"
      ]
     },
     "execution_count": 78,
     "metadata": {},
     "output_type": "execute_result"
    }
   ],
   "source": [
    "compare_dbscan_df = pd.DataFrame(compare_dbscan)\n",
    "compare_dbscan_df"
   ]
  }
 ],
 "metadata": {
  "kernelspec": {
   "display_name": "Python 3 (ipykernel)",
   "language": "python",
   "name": "python3"
  },
  "language_info": {
   "codemirror_mode": {
    "name": "ipython",
    "version": 3
   },
   "file_extension": ".py",
   "mimetype": "text/x-python",
   "name": "python",
   "nbconvert_exporter": "python",
   "pygments_lexer": "ipython3",
   "version": "3.8.12"
  }
 },
 "nbformat": 4,
 "nbformat_minor": 5
}
