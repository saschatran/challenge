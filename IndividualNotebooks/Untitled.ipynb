{
 "cells": [
  {
   "cell_type": "markdown",
   "id": "eb1fa13c-cf97-4961-b7b5-609ab9095cd5",
   "metadata": {},
   "source": [
    "# Anomaly Detection Models"
   ]
  },
  {
   "cell_type": "code",
   "execution_count": null,
   "id": "be38da07-180e-4794-948e-97b25a47fc8e",
   "metadata": {},
   "outputs": [],
   "source": []
  }
 ],
 "metadata": {
  "kernelspec": {
   "display_name": "Python 3 (ipykernel)",
   "language": "python",
   "name": "python3"
  },
  "language_info": {
   "codemirror_mode": {
    "name": "ipython",
    "version": 3
   },
   "file_extension": ".py",
   "mimetype": "text/x-python",
   "name": "python",
   "nbconvert_exporter": "python",
   "pygments_lexer": "ipython3",
   "version": "3.8.12"
  }
 },
 "nbformat": 4,
 "nbformat_minor": 5
}
